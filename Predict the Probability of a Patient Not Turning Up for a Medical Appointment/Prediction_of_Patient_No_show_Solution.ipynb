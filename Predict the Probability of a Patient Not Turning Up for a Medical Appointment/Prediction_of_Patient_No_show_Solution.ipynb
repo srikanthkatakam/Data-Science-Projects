{
 "cells": [
  {
   "cell_type": "code",
   "execution_count": 1,
   "metadata": {
    "colab": {
     "base_uri": "https://localhost:8080/"
    },
    "id": "gI0vyZlGvJwz",
    "outputId": "c5181da2-b158-4732-db7f-be929d76ee3a"
   },
   "outputs": [
    {
     "name": "stdout",
     "output_type": "stream",
     "text": [
      "Mounted at /content/drive/\n"
     ]
    }
   ],
   "source": [
    "from google.colab import drive\n",
    "\n",
    "drive.mount('/content/drive/') "
   ]
  },
  {
   "cell_type": "markdown",
   "metadata": {
    "id": "4A9nSxvzvHLO",
    "toc": true
   },
   "source": [
    "<h1>Table of Contents<span class=\"tocSkip\"></span></h1>\n",
    "<div class=\"toc\"><ul class=\"toc-item\"><li><span><a href=\"#Problem-statement\" data-toc-modified-id=\"Problem-statement-1\"><span class=\"toc-item-num\">1&nbsp;&nbsp;</span>Problem statement</a></span><ul class=\"toc-item\"><li><span><a href=\"#Data\" data-toc-modified-id=\"Data-1.1\"><span class=\"toc-item-num\">1.1&nbsp;&nbsp;</span>Data</a></span></li><li><span><a href=\"#Error-Metric-:-Recall\" data-toc-modified-id=\"Error-Metric-:-Recall-1.2\"><span class=\"toc-item-num\">1.2&nbsp;&nbsp;</span>Error Metric : Recall</a></span></li><li><span><a href=\"#Importing-the-required-libraries-and-packages\" data-toc-modified-id=\"Importing-the-required-libraries-and-packages-1.3\"><span class=\"toc-item-num\">1.3&nbsp;&nbsp;</span>Importing the required libraries and packages</a></span></li><li><span><a href=\"#Reading-the-data\" data-toc-modified-id=\"Reading-the-data-1.4\"><span class=\"toc-item-num\">1.4&nbsp;&nbsp;</span>Reading the data</a></span><ul class=\"toc-item\"><li><span><a href=\"#Renaming-all-columns-with-correct-spellings\" data-toc-modified-id=\"Renaming-all-columns-with-correct-spellings-1.4.1\"><span class=\"toc-item-num\">1.4.1&nbsp;&nbsp;</span>Renaming all columns with correct spellings</a></span></li></ul></li><li><span><a href=\"#Exploratory-Data-Analysis\" data-toc-modified-id=\"Exploratory-Data-Analysis-1.5\"><span class=\"toc-item-num\">1.5&nbsp;&nbsp;</span>Exploratory Data Analysis</a></span><ul class=\"toc-item\"><li><span><a href=\"#Summary-Stats\" data-toc-modified-id=\"Summary-Stats-1.5.1\"><span class=\"toc-item-num\">1.5.1&nbsp;&nbsp;</span>Summary Stats</a></span></li><li><span><a href=\"#Checking-Datatypes-&amp;-Typecasting-obvious-ones\" data-toc-modified-id=\"Checking-Datatypes-&amp;-Typecasting-obvious-ones-1.5.2\"><span class=\"toc-item-num\">1.5.2&nbsp;&nbsp;</span>Checking Datatypes &amp; Typecasting obvious ones</a></span></li><li><span><a href=\"#Analysis-on-Patient-ID-and-Appointment-ID\" data-toc-modified-id=\"Analysis-on-Patient-ID-and-Appointment-ID-1.5.3\"><span class=\"toc-item-num\">1.5.3&nbsp;&nbsp;</span>Analysis on Patient ID and Appointment ID</a></span><ul class=\"toc-item\"><li><span><a href=\"#Dropping-Zero-Variance-features-like-Appointment-ID\" data-toc-modified-id=\"Dropping-Zero-Variance-features-like-Appointment-ID-1.5.3.1\"><span class=\"toc-item-num\">1.5.3.1&nbsp;&nbsp;</span>Dropping Zero Variance features like Appointment ID</a></span></li></ul></li><li><span><a href=\"#Analysing-Numerical-features\" data-toc-modified-id=\"Analysing-Numerical-features-1.5.4\"><span class=\"toc-item-num\">1.5.4&nbsp;&nbsp;</span>Analysing Numerical features</a></span><ul class=\"toc-item\"><li><span><a href=\"#Handling-Age-Attribute\" data-toc-modified-id=\"Handling-Age-Attribute-1.5.4.1\"><span class=\"toc-item-num\">1.5.4.1&nbsp;&nbsp;</span>Handling Age Attribute</a></span></li><li><span><a href=\"#Effect-of-Age-on-No-show-attribute\" data-toc-modified-id=\"Effect-of-Age-on-No-show-attribute-1.5.4.2\"><span class=\"toc-item-num\">1.5.4.2&nbsp;&nbsp;</span>Effect of Age on No-show attribute</a></span></li></ul></li><li><span><a href=\"#Analysing-Categorical-Columns\" data-toc-modified-id=\"Analysing-Categorical-Columns-1.5.5\"><span class=\"toc-item-num\">1.5.5&nbsp;&nbsp;</span>Analysing Categorical Columns</a></span><ul class=\"toc-item\"><li><span><a href=\"#Univariate-Analysis-on-Categorical-Columns\" data-toc-modified-id=\"Univariate-Analysis-on-Categorical-Columns-1.5.5.1\"><span class=\"toc-item-num\">1.5.5.1&nbsp;&nbsp;</span>Univariate Analysis on Categorical Columns</a></span></li><li><span><a href=\"#Bining-of-Handicapped-attrribute\" data-toc-modified-id=\"Bining-of-Handicapped-attrribute-1.5.5.2\"><span class=\"toc-item-num\">1.5.5.2&nbsp;&nbsp;</span>Bining of Handicapped attrribute</a></span></li></ul></li><li><span><a href=\"#Chi-Square-test-of-independence\" data-toc-modified-id=\"Chi-Square-test-of-independence-1.5.6\"><span class=\"toc-item-num\">1.5.6&nbsp;&nbsp;</span>Chi-Square test of independence</a></span></li><li><span><a href=\"#Probabilistic-Analysis-of-Categorical-columns-on-No-show\" data-toc-modified-id=\"Probabilistic-Analysis-of-Categorical-columns-on-No-show-1.5.7\"><span class=\"toc-item-num\">1.5.7&nbsp;&nbsp;</span>Probabilistic Analysis of Categorical columns on No show</a></span></li><li><span><a href=\"#Dealing-High-Cardinal-Categorical-Attributes\" data-toc-modified-id=\"Dealing-High-Cardinal-Categorical-Attributes-1.5.8\"><span class=\"toc-item-num\">1.5.8&nbsp;&nbsp;</span>Dealing High Cardinal Categorical Attributes</a></span></li></ul></li><li><span><a href=\"#Feature-Engineering\" data-toc-modified-id=\"Feature-Engineering-1.6\"><span class=\"toc-item-num\">1.6&nbsp;&nbsp;</span>Feature Engineering</a></span><ul class=\"toc-item\"><li><span><a href=\"#Generating-new-features-from-scheduled-and-appointment-date-features\" data-toc-modified-id=\"Generating-new-features-from-scheduled-and-appointment-date-features-1.6.1\"><span class=\"toc-item-num\">1.6.1&nbsp;&nbsp;</span>Generating new features from scheduled and appointment date features</a></span></li><li><span><a href=\"#Creating-'number-of-days-to-appointment'\" data-toc-modified-id=\"Creating-'number-of-days-to-appointment'-1.6.2\"><span class=\"toc-item-num\">1.6.2&nbsp;&nbsp;</span>Creating 'number of days to appointment'</a></span></li><li><span><a href=\"#Typecasting-newly-created-features\" data-toc-modified-id=\"Typecasting-newly-created-features-1.6.3\"><span class=\"toc-item-num\">1.6.3&nbsp;&nbsp;</span>Typecasting newly created features</a></span></li><li><span><a href=\"#Effect-of-num_days-on-No-show-attribute\" data-toc-modified-id=\"Effect-of-num_days-on-No-show-attribute-1.6.4\"><span class=\"toc-item-num\">1.6.4&nbsp;&nbsp;</span>Effect of num_days on No-show attribute</a></span></li><li><span><a href=\"#Effect-of-Scheduled_hour-on-No-show-attribute\" data-toc-modified-id=\"Effect-of-Scheduled_hour-on-No-show-attribute-1.6.5\"><span class=\"toc-item-num\">1.6.5&nbsp;&nbsp;</span>Effect of Scheduled_hour on No-show attribute</a></span></li><li><span><a href=\"#Performing-Chisquare-test-of-independence-on-newly-added-categorical-columns\" data-toc-modified-id=\"Performing-Chisquare-test-of-independence-on-newly-added-categorical-columns-1.6.6\"><span class=\"toc-item-num\">1.6.6&nbsp;&nbsp;</span>Performing Chisquare test of independence on newly added categorical columns</a></span></li><li><span><a href=\"#Probabilistic-Analysis-of-newly-created-features\" data-toc-modified-id=\"Probabilistic-Analysis-of-newly-created-features-1.6.7\"><span class=\"toc-item-num\">1.6.7&nbsp;&nbsp;</span>Probabilistic Analysis of newly created features</a></span></li></ul></li><li><span><a href=\"#Checking--target-feature-distribution\" data-toc-modified-id=\"Checking--target-feature-distribution-1.7\"><span class=\"toc-item-num\">1.7&nbsp;&nbsp;</span>Checking  target feature distribution</a></span><ul class=\"toc-item\"><li><span><a href=\"#Replacing-Yes/No-in-the-target-column-with-1/0\" data-toc-modified-id=\"Replacing-Yes/No-in-the-target-column-with-1/0-1.7.1\"><span class=\"toc-item-num\">1.7.1&nbsp;&nbsp;</span>Replacing Yes/No in the target column with 1/0</a></span></li></ul></li></ul></li><li><span><a href=\"#Split-the-data-into-train-and-test\" data-toc-modified-id=\"Split-the-data-into-train-and-test-2\"><span class=\"toc-item-num\">2&nbsp;&nbsp;</span>Split the data into train and test</a></span><ul class=\"toc-item\"><li><span><a href=\"#Split-the-attributes-into-numerical-and-categorical-types\" data-toc-modified-id=\"Split-the-attributes-into-numerical-and-categorical-types-2.1\"><span class=\"toc-item-num\">2.1&nbsp;&nbsp;</span>Split the attributes into numerical and categorical types</a></span></li></ul></li><li><span><a href=\"#Preparation-for-Model-buillding\" data-toc-modified-id=\"Preparation-for-Model-buillding-3\"><span class=\"toc-item-num\">3&nbsp;&nbsp;</span>Preparation for Model buillding</a></span><ul class=\"toc-item\"><li><span><a href=\"#Imputing-missing-values-with-median\" data-toc-modified-id=\"Imputing-missing-values-with-median-3.1\"><span class=\"toc-item-num\">3.1&nbsp;&nbsp;</span>Imputing missing values with median</a></span><ul class=\"toc-item\"><li><span><a href=\"#Standardize-the-data\" data-toc-modified-id=\"Standardize-the-data-3.1.1\"><span class=\"toc-item-num\">3.1.1&nbsp;&nbsp;</span>Standardize the data</a></span><ul class=\"toc-item\"><li><span><a href=\"#One-Hot-Encoding-of-categorical-attributes\" data-toc-modified-id=\"One-Hot-Encoding-of-categorical-attributes-3.1.1.1\"><span class=\"toc-item-num\">3.1.1.1&nbsp;&nbsp;</span>One Hot Encoding of categorical attributes</a></span></li><li><span><a href=\"#Merging-of-Numerical-and-Categorical-Dataframes\" data-toc-modified-id=\"Merging-of-Numerical-and-Categorical-Dataframes-3.1.1.2\"><span class=\"toc-item-num\">3.1.1.2&nbsp;&nbsp;</span>Merging of Numerical and Categorical Dataframes</a></span></li></ul></li></ul></li></ul></li><li><span><a href=\"#MODEL-BUILDING\" data-toc-modified-id=\"MODEL-BUILDING-4\"><span class=\"toc-item-num\">4&nbsp;&nbsp;</span>MODEL BUILDING</a></span><ul class=\"toc-item\"><li><ul class=\"toc-item\"><li><ul class=\"toc-item\"><li><span><a href=\"#1.Logistic-Regression\" data-toc-modified-id=\"1.Logistic-Regression-4.0.0.1\"><span class=\"toc-item-num\">4.0.0.1&nbsp;&nbsp;</span>1.Logistic Regression</a></span></li><li><span><a href=\"#Calculate-Accuracy,-True-Positive-Rate-and-True-Negative-Rates\" data-toc-modified-id=\"Calculate-Accuracy,-True-Positive-Rate-and-True-Negative-Rates-4.0.0.2\"><span class=\"toc-item-num\">4.0.0.2&nbsp;&nbsp;</span>Calculate Accuracy, True Positive Rate and True Negative Rates</a></span></li><li><span><a href=\"#2.Handling-Class-Imbalance-using-Synthetic-Minority-Oversampling-Technique\" data-toc-modified-id=\"2.Handling-Class-Imbalance-using-Synthetic-Minority-Oversampling-Technique-4.0.0.3\"><span class=\"toc-item-num\">4.0.0.3&nbsp;&nbsp;</span>2.Handling Class Imbalance using Synthetic Minority Oversampling Technique</a></span></li><li><span><a href=\"#Calculate-Accuracy,-True-Positive-Rate-and-True-Negative-Rates\" data-toc-modified-id=\"Calculate-Accuracy,-True-Positive-Rate-and-True-Negative-Rates-4.0.0.4\"><span class=\"toc-item-num\">4.0.0.4&nbsp;&nbsp;</span>Calculate Accuracy, True Positive Rate and True Negative Rates</a></span></li><li><span><a href=\"#3.Decision-Tree-Classifier\" data-toc-modified-id=\"3.Decision-Tree-Classifier-4.0.0.5\"><span class=\"toc-item-num\">4.0.0.5&nbsp;&nbsp;</span>3.Decision Tree Classifier</a></span></li></ul></li><li><span><a href=\"#Add-SMOT-with-DT\" data-toc-modified-id=\"Add-SMOT-with-DT-4.0.1\"><span class=\"toc-item-num\">4.0.1&nbsp;&nbsp;</span>Add SMOT with DT</a></span><ul class=\"toc-item\"><li><span><a href=\"#Calculate-Accuracy,-True-Positive-Rate-and-True-Negative-Rates\" data-toc-modified-id=\"Calculate-Accuracy,-True-Positive-Rate-and-True-Negative-Rates-4.0.1.1\"><span class=\"toc-item-num\">4.0.1.1&nbsp;&nbsp;</span>Calculate Accuracy, True Positive Rate and True Negative Rates</a></span></li><li><span><a href=\"#Plotting-feature-importance-using-Decision-Tree\" data-toc-modified-id=\"Plotting-feature-importance-using-Decision-Tree-4.0.1.2\"><span class=\"toc-item-num\">4.0.1.2&nbsp;&nbsp;</span>Plotting feature importance using Decision Tree</a></span></li><li><span><a href=\"#Visualizing-the-tree\" data-toc-modified-id=\"Visualizing-the-tree-4.0.1.3\"><span class=\"toc-item-num\">4.0.1.3&nbsp;&nbsp;</span>Visualizing the tree</a></span></li><li><span><a href=\"#Building-Decision-Tree-Model-using-Feature-Importance\" data-toc-modified-id=\"Building-Decision-Tree-Model-using-Feature-Importance-4.0.1.4\"><span class=\"toc-item-num\">4.0.1.4&nbsp;&nbsp;</span>Building Decision Tree Model using Feature Importance</a></span></li><li><span><a href=\"#Using-only-top-10-features\" data-toc-modified-id=\"Using-only-top-10-features-4.0.1.5\"><span class=\"toc-item-num\">4.0.1.5&nbsp;&nbsp;</span>Using only top 10 features</a></span></li><li><span><a href=\"#Visualizing-Decision-trees\" data-toc-modified-id=\"Visualizing-Decision-trees-4.0.1.6\"><span class=\"toc-item-num\">4.0.1.6&nbsp;&nbsp;</span>Visualizing Decision trees</a></span></li><li><span><a href=\"#Hyper-parameter-Tuning\" data-toc-modified-id=\"Hyper-parameter-Tuning-4.0.1.7\"><span class=\"toc-item-num\">4.0.1.7&nbsp;&nbsp;</span>Hyper-parameter Tuning</a></span></li></ul></li><li><span><a href=\"#How-many-features-are-required-to-produce-the-same-results-for-the-best-estimators.\" data-toc-modified-id=\"How-many-features-are-required-to-produce-the-same-results-for-the-best-estimators.-4.0.2\"><span class=\"toc-item-num\">4.0.2&nbsp;&nbsp;</span>How many features are required to produce the same results for the best estimators.</a></span><ul class=\"toc-item\"><li><span><a href=\"#Random-Forest-Classifier\" data-toc-modified-id=\"Random-Forest-Classifier-4.0.2.1\"><span class=\"toc-item-num\">4.0.2.1&nbsp;&nbsp;</span>Random Forest Classifier</a></span></li><li><span><a href=\"#Adaboost-Classifier\" data-toc-modified-id=\"Adaboost-Classifier-4.0.2.2\"><span class=\"toc-item-num\">4.0.2.2&nbsp;&nbsp;</span>Adaboost Classifier</a></span></li><li><span><a href=\"#Adaboost-with-important-feautures-only\" data-toc-modified-id=\"Adaboost-with-important-feautures-only-4.0.2.3\"><span class=\"toc-item-num\">4.0.2.3&nbsp;&nbsp;</span>Adaboost with important feautures only</a></span></li><li><span><a href=\"#RESULTS\" data-toc-modified-id=\"RESULTS-4.0.2.4\"><span class=\"toc-item-num\">4.0.2.4&nbsp;&nbsp;</span>RESULTS</a></span></li></ul></li></ul></li></ul></li></ul></div>"
   ]
  },
  {
   "cell_type": "code",
   "execution_count": 2,
   "metadata": {
    "colab": {
     "base_uri": "https://localhost:8080/"
    },
    "id": "2rqQueyld5pf",
    "outputId": "3d87b9a9-2aed-4667-db77-e1dedd04fa43"
   },
   "outputs": [
    {
     "name": "stderr",
     "output_type": "stream",
     "text": [
      "/usr/local/lib/python3.6/dist-packages/sklearn/externals/six.py:31: FutureWarning: The module is deprecated in version 0.21 and will be removed in version 0.23 since we've dropped support for Python 2.7. Please rely on the official version of six (https://pypi.org/project/six/).\n",
      "  \"(https://pypi.org/project/six/).\", FutureWarning)\n",
      "/usr/local/lib/python3.6/dist-packages/sklearn/utils/deprecation.py:144: FutureWarning: The sklearn.neighbors.base module is  deprecated in version 0.22 and will be removed in version 0.24. The corresponding classes / functions should instead be imported from sklearn.neighbors. Anything that cannot be imported from sklearn.neighbors is now part of the private API.\n",
      "  warnings.warn(message, FutureWarning)\n"
     ]
    }
   ],
   "source": [
    "import numpy as np\n",
    "import pandas as pd\n",
    "\n",
    "import datetime\n",
    "\n",
    "from sklearn.model_selection import train_test_split\n",
    "from sklearn.impute import SimpleImputer\n",
    "from sklearn.preprocessing import StandardScaler, OneHotEncoder\n",
    "from sklearn.linear_model import LogisticRegression\n",
    "\n",
    "from sklearn.metrics import accuracy_score,recall_score,precision_score,f1_score \n",
    "from sklearn.metrics import classification_report, confusion_matrix\n",
    "from sklearn.ensemble import RandomForestClassifier,GradientBoostingClassifier\n",
    "from sklearn.feature_selection import SelectFromModel\n",
    "\n",
    "from sklearn.model_selection import GridSearchCV\n",
    "from sklearn.tree import DecisionTreeClassifier\n",
    "from sklearn import tree\n",
    "from sklearn.ensemble import AdaBoostClassifier\n",
    "from sklearn_pandas import DataFrameMapper\n",
    "from sklearn.model_selection import StratifiedShuffleSplit\n",
    "\n",
    "from xgboost import XGBClassifier\n",
    "\n",
    "# !pip install imblearn\n",
    "from imblearn.over_sampling import SMOTE\n",
    "\n",
    "from IPython.display import Image\n",
    "\n",
    "import matplotlib.pyplot as plt\n",
    "import seaborn as sns\n",
    "%matplotlib inline\n",
    "\n",
    "import warnings\n",
    "warnings.filterwarnings(\"ignore\")"
   ]
  },
  {
   "cell_type": "markdown",
   "metadata": {
    "id": "XwaPK6hed5pm"
   },
   "source": [
    "## Reading the data"
   ]
  },
  {
   "cell_type": "code",
   "execution_count": 3,
   "metadata": {
    "id": "JkxQjdAwd5po"
   },
   "outputs": [],
   "source": [
    "df=pd.read_csv('YOUR_PATH_HERE/Dataset.csv')"
   ]
  },
  {
   "cell_type": "code",
   "execution_count": 4,
   "metadata": {
    "colab": {
     "base_uri": "https://localhost:8080/",
     "height": 302
    },
    "id": "loelNyVpvHLQ",
    "outputId": "b9da7eb8-e1f3-4b28-e67f-213a7ab9f250",
    "scrolled": false
   },
   "outputs": [
    {
     "data": {
      "text/html": [
       "<div>\n",
       "<style scoped>\n",
       "    .dataframe tbody tr th:only-of-type {\n",
       "        vertical-align: middle;\n",
       "    }\n",
       "\n",
       "    .dataframe tbody tr th {\n",
       "        vertical-align: top;\n",
       "    }\n",
       "\n",
       "    .dataframe thead th {\n",
       "        text-align: right;\n",
       "    }\n",
       "</style>\n",
       "<table border=\"1\" class=\"dataframe\">\n",
       "  <thead>\n",
       "    <tr style=\"text-align: right;\">\n",
       "      <th></th>\n",
       "      <th>PatientId</th>\n",
       "      <th>AppointmentID</th>\n",
       "      <th>Gender</th>\n",
       "      <th>ScheduledDay</th>\n",
       "      <th>AppointmentDay</th>\n",
       "      <th>Age</th>\n",
       "      <th>Neighbourhood</th>\n",
       "      <th>Scholarship</th>\n",
       "      <th>Hipertension</th>\n",
       "      <th>Diabetes</th>\n",
       "      <th>Alcoholism</th>\n",
       "      <th>Handcap</th>\n",
       "      <th>SMS_received</th>\n",
       "      <th>No-show</th>\n",
       "    </tr>\n",
       "  </thead>\n",
       "  <tbody>\n",
       "    <tr>\n",
       "      <th>0</th>\n",
       "      <td>2.987250e+13</td>\n",
       "      <td>5642903</td>\n",
       "      <td>F</td>\n",
       "      <td>2016-04-29T18:38:08Z</td>\n",
       "      <td>2016-04-29T00:00:00Z</td>\n",
       "      <td>62</td>\n",
       "      <td>JARDIM DA PENHA</td>\n",
       "      <td>0</td>\n",
       "      <td>1</td>\n",
       "      <td>0</td>\n",
       "      <td>0</td>\n",
       "      <td>0</td>\n",
       "      <td>0</td>\n",
       "      <td>No</td>\n",
       "    </tr>\n",
       "    <tr>\n",
       "      <th>1</th>\n",
       "      <td>5.589978e+14</td>\n",
       "      <td>5642503</td>\n",
       "      <td>M</td>\n",
       "      <td>2016-04-29T16:08:27Z</td>\n",
       "      <td>2016-04-29T00:00:00Z</td>\n",
       "      <td>56</td>\n",
       "      <td>JARDIM DA PENHA</td>\n",
       "      <td>0</td>\n",
       "      <td>0</td>\n",
       "      <td>0</td>\n",
       "      <td>0</td>\n",
       "      <td>0</td>\n",
       "      <td>0</td>\n",
       "      <td>No</td>\n",
       "    </tr>\n",
       "    <tr>\n",
       "      <th>2</th>\n",
       "      <td>4.262962e+12</td>\n",
       "      <td>5642549</td>\n",
       "      <td>F</td>\n",
       "      <td>2016-04-29T16:19:04Z</td>\n",
       "      <td>2016-04-29T00:00:00Z</td>\n",
       "      <td>62</td>\n",
       "      <td>MATA DA PRAIA</td>\n",
       "      <td>0</td>\n",
       "      <td>0</td>\n",
       "      <td>0</td>\n",
       "      <td>0</td>\n",
       "      <td>0</td>\n",
       "      <td>0</td>\n",
       "      <td>No</td>\n",
       "    </tr>\n",
       "    <tr>\n",
       "      <th>3</th>\n",
       "      <td>8.679512e+11</td>\n",
       "      <td>5642828</td>\n",
       "      <td>F</td>\n",
       "      <td>2016-04-29T17:29:31Z</td>\n",
       "      <td>2016-04-29T00:00:00Z</td>\n",
       "      <td>8</td>\n",
       "      <td>PONTAL DE CAMBURI</td>\n",
       "      <td>0</td>\n",
       "      <td>0</td>\n",
       "      <td>0</td>\n",
       "      <td>0</td>\n",
       "      <td>0</td>\n",
       "      <td>0</td>\n",
       "      <td>No</td>\n",
       "    </tr>\n",
       "    <tr>\n",
       "      <th>4</th>\n",
       "      <td>8.841186e+12</td>\n",
       "      <td>5642494</td>\n",
       "      <td>F</td>\n",
       "      <td>2016-04-29T16:07:23Z</td>\n",
       "      <td>2016-04-29T00:00:00Z</td>\n",
       "      <td>56</td>\n",
       "      <td>JARDIM DA PENHA</td>\n",
       "      <td>0</td>\n",
       "      <td>1</td>\n",
       "      <td>1</td>\n",
       "      <td>0</td>\n",
       "      <td>0</td>\n",
       "      <td>0</td>\n",
       "      <td>No</td>\n",
       "    </tr>\n",
       "  </tbody>\n",
       "</table>\n",
       "</div>"
      ],
      "text/plain": [
       "      PatientId  AppointmentID Gender  ... Handcap SMS_received  No-show\n",
       "0  2.987250e+13        5642903      F  ...       0            0       No\n",
       "1  5.589978e+14        5642503      M  ...       0            0       No\n",
       "2  4.262962e+12        5642549      F  ...       0            0       No\n",
       "3  8.679512e+11        5642828      F  ...       0            0       No\n",
       "4  8.841186e+12        5642494      F  ...       0            0       No\n",
       "\n",
       "[5 rows x 14 columns]"
      ]
     },
     "execution_count": 4,
     "metadata": {
      "tags": []
     },
     "output_type": "execute_result"
    }
   ],
   "source": [
    "df.head()"
   ]
  },
  {
   "cell_type": "markdown",
   "metadata": {
    "id": "ch6U60apd5p2"
   },
   "source": [
    "### Renaming all columns with correct spellings"
   ]
  },
  {
   "cell_type": "code",
   "execution_count": 5,
   "metadata": {
    "id": "HRIq6HIzd5p3"
   },
   "outputs": [],
   "source": [
    "df.rename(columns={'Hipertension': 'Hypertension', 'Handcap': 'Handicapped' }, inplace=True)"
   ]
  },
  {
   "cell_type": "markdown",
   "metadata": {
    "id": "_RizbADhd5ps"
   },
   "source": [
    "## Exploratory Data Analysis"
   ]
  },
  {
   "cell_type": "code",
   "execution_count": 6,
   "metadata": {
    "colab": {
     "base_uri": "https://localhost:8080/"
    },
    "id": "8KPjjLppd5pt",
    "outputId": "ed1fbb86-d017-457c-e483-2b04472169ec"
   },
   "outputs": [
    {
     "data": {
      "text/plain": [
       "(110527, 14)"
      ]
     },
     "execution_count": 6,
     "metadata": {
      "tags": []
     },
     "output_type": "execute_result"
    }
   ],
   "source": [
    "df.shape"
   ]
  },
  {
   "cell_type": "code",
   "execution_count": 7,
   "metadata": {
    "colab": {
     "base_uri": "https://localhost:8080/",
     "height": 322
    },
    "id": "oVgxp8j_d5py",
    "outputId": "521e140b-adea-4b6b-ff83-71110a3e0d28"
   },
   "outputs": [
    {
     "data": {
      "text/html": [
       "<div>\n",
       "<style scoped>\n",
       "    .dataframe tbody tr th:only-of-type {\n",
       "        vertical-align: middle;\n",
       "    }\n",
       "\n",
       "    .dataframe tbody tr th {\n",
       "        vertical-align: top;\n",
       "    }\n",
       "\n",
       "    .dataframe thead th {\n",
       "        text-align: right;\n",
       "    }\n",
       "</style>\n",
       "<table border=\"1\" class=\"dataframe\">\n",
       "  <thead>\n",
       "    <tr style=\"text-align: right;\">\n",
       "      <th></th>\n",
       "      <th>PatientId</th>\n",
       "      <th>AppointmentID</th>\n",
       "      <th>Gender</th>\n",
       "      <th>ScheduledDay</th>\n",
       "      <th>AppointmentDay</th>\n",
       "      <th>Age</th>\n",
       "      <th>Neighbourhood</th>\n",
       "      <th>Scholarship</th>\n",
       "      <th>Hypertension</th>\n",
       "      <th>Diabetes</th>\n",
       "      <th>Alcoholism</th>\n",
       "      <th>Handicapped</th>\n",
       "      <th>SMS_received</th>\n",
       "      <th>No-show</th>\n",
       "    </tr>\n",
       "  </thead>\n",
       "  <tbody>\n",
       "    <tr>\n",
       "      <th>110522</th>\n",
       "      <td>2.572134e+12</td>\n",
       "      <td>5651768</td>\n",
       "      <td>F</td>\n",
       "      <td>2016-05-03T09:15:35Z</td>\n",
       "      <td>2016-06-07T00:00:00Z</td>\n",
       "      <td>56</td>\n",
       "      <td>MARIA ORTIZ</td>\n",
       "      <td>0</td>\n",
       "      <td>0</td>\n",
       "      <td>0</td>\n",
       "      <td>0</td>\n",
       "      <td>0</td>\n",
       "      <td>1</td>\n",
       "      <td>No</td>\n",
       "    </tr>\n",
       "    <tr>\n",
       "      <th>110523</th>\n",
       "      <td>3.596266e+12</td>\n",
       "      <td>5650093</td>\n",
       "      <td>F</td>\n",
       "      <td>2016-05-03T07:27:33Z</td>\n",
       "      <td>2016-06-07T00:00:00Z</td>\n",
       "      <td>51</td>\n",
       "      <td>MARIA ORTIZ</td>\n",
       "      <td>0</td>\n",
       "      <td>0</td>\n",
       "      <td>0</td>\n",
       "      <td>0</td>\n",
       "      <td>0</td>\n",
       "      <td>1</td>\n",
       "      <td>No</td>\n",
       "    </tr>\n",
       "    <tr>\n",
       "      <th>110524</th>\n",
       "      <td>1.557663e+13</td>\n",
       "      <td>5630692</td>\n",
       "      <td>F</td>\n",
       "      <td>2016-04-27T16:03:52Z</td>\n",
       "      <td>2016-06-07T00:00:00Z</td>\n",
       "      <td>21</td>\n",
       "      <td>MARIA ORTIZ</td>\n",
       "      <td>0</td>\n",
       "      <td>0</td>\n",
       "      <td>0</td>\n",
       "      <td>0</td>\n",
       "      <td>0</td>\n",
       "      <td>1</td>\n",
       "      <td>No</td>\n",
       "    </tr>\n",
       "    <tr>\n",
       "      <th>110525</th>\n",
       "      <td>9.213493e+13</td>\n",
       "      <td>5630323</td>\n",
       "      <td>F</td>\n",
       "      <td>2016-04-27T15:09:23Z</td>\n",
       "      <td>2016-06-07T00:00:00Z</td>\n",
       "      <td>38</td>\n",
       "      <td>MARIA ORTIZ</td>\n",
       "      <td>0</td>\n",
       "      <td>0</td>\n",
       "      <td>0</td>\n",
       "      <td>0</td>\n",
       "      <td>0</td>\n",
       "      <td>1</td>\n",
       "      <td>No</td>\n",
       "    </tr>\n",
       "    <tr>\n",
       "      <th>110526</th>\n",
       "      <td>3.775115e+14</td>\n",
       "      <td>5629448</td>\n",
       "      <td>F</td>\n",
       "      <td>2016-04-27T13:30:56Z</td>\n",
       "      <td>2016-06-07T00:00:00Z</td>\n",
       "      <td>54</td>\n",
       "      <td>MARIA ORTIZ</td>\n",
       "      <td>0</td>\n",
       "      <td>0</td>\n",
       "      <td>0</td>\n",
       "      <td>0</td>\n",
       "      <td>0</td>\n",
       "      <td>1</td>\n",
       "      <td>No</td>\n",
       "    </tr>\n",
       "  </tbody>\n",
       "</table>\n",
       "</div>"
      ],
      "text/plain": [
       "           PatientId  AppointmentID Gender  ... Handicapped SMS_received  No-show\n",
       "110522  2.572134e+12        5651768      F  ...           0            1       No\n",
       "110523  3.596266e+12        5650093      F  ...           0            1       No\n",
       "110524  1.557663e+13        5630692      F  ...           0            1       No\n",
       "110525  9.213493e+13        5630323      F  ...           0            1       No\n",
       "110526  3.775115e+14        5629448      F  ...           0            1       No\n",
       "\n",
       "[5 rows x 14 columns]"
      ]
     },
     "execution_count": 7,
     "metadata": {
      "tags": []
     },
     "output_type": "execute_result"
    }
   ],
   "source": [
    "df.tail()"
   ]
  },
  {
   "cell_type": "markdown",
   "metadata": {
    "id": "-gWtOAtmvHLU"
   },
   "source": [
    "### Summary Stats"
   ]
  },
  {
   "cell_type": "code",
   "execution_count": 8,
   "metadata": {
    "colab": {
     "base_uri": "https://localhost:8080/",
     "height": 436
    },
    "id": "jOZcxFeivHLU",
    "outputId": "994b6fa7-688f-4943-8fae-15c5a3962525",
    "scrolled": true
   },
   "outputs": [
    {
     "data": {
      "text/html": [
       "<div>\n",
       "<style scoped>\n",
       "    .dataframe tbody tr th:only-of-type {\n",
       "        vertical-align: middle;\n",
       "    }\n",
       "\n",
       "    .dataframe tbody tr th {\n",
       "        vertical-align: top;\n",
       "    }\n",
       "\n",
       "    .dataframe thead th {\n",
       "        text-align: right;\n",
       "    }\n",
       "</style>\n",
       "<table border=\"1\" class=\"dataframe\">\n",
       "  <thead>\n",
       "    <tr style=\"text-align: right;\">\n",
       "      <th></th>\n",
       "      <th>PatientId</th>\n",
       "      <th>AppointmentID</th>\n",
       "      <th>Gender</th>\n",
       "      <th>ScheduledDay</th>\n",
       "      <th>AppointmentDay</th>\n",
       "      <th>Age</th>\n",
       "      <th>Neighbourhood</th>\n",
       "      <th>Scholarship</th>\n",
       "      <th>Hypertension</th>\n",
       "      <th>Diabetes</th>\n",
       "      <th>Alcoholism</th>\n",
       "      <th>Handicapped</th>\n",
       "      <th>SMS_received</th>\n",
       "      <th>No-show</th>\n",
       "    </tr>\n",
       "  </thead>\n",
       "  <tbody>\n",
       "    <tr>\n",
       "      <th>count</th>\n",
       "      <td>1.105270e+05</td>\n",
       "      <td>1.105270e+05</td>\n",
       "      <td>110527</td>\n",
       "      <td>110527</td>\n",
       "      <td>110527</td>\n",
       "      <td>110527.000000</td>\n",
       "      <td>110527</td>\n",
       "      <td>110527.000000</td>\n",
       "      <td>110527.000000</td>\n",
       "      <td>110527.000000</td>\n",
       "      <td>110527.000000</td>\n",
       "      <td>110527.000000</td>\n",
       "      <td>110527.000000</td>\n",
       "      <td>110527</td>\n",
       "    </tr>\n",
       "    <tr>\n",
       "      <th>unique</th>\n",
       "      <td>NaN</td>\n",
       "      <td>NaN</td>\n",
       "      <td>2</td>\n",
       "      <td>103549</td>\n",
       "      <td>27</td>\n",
       "      <td>NaN</td>\n",
       "      <td>81</td>\n",
       "      <td>NaN</td>\n",
       "      <td>NaN</td>\n",
       "      <td>NaN</td>\n",
       "      <td>NaN</td>\n",
       "      <td>NaN</td>\n",
       "      <td>NaN</td>\n",
       "      <td>2</td>\n",
       "    </tr>\n",
       "    <tr>\n",
       "      <th>top</th>\n",
       "      <td>NaN</td>\n",
       "      <td>NaN</td>\n",
       "      <td>F</td>\n",
       "      <td>2016-05-06T07:09:54Z</td>\n",
       "      <td>2016-06-06T00:00:00Z</td>\n",
       "      <td>NaN</td>\n",
       "      <td>JARDIM CAMBURI</td>\n",
       "      <td>NaN</td>\n",
       "      <td>NaN</td>\n",
       "      <td>NaN</td>\n",
       "      <td>NaN</td>\n",
       "      <td>NaN</td>\n",
       "      <td>NaN</td>\n",
       "      <td>No</td>\n",
       "    </tr>\n",
       "    <tr>\n",
       "      <th>freq</th>\n",
       "      <td>NaN</td>\n",
       "      <td>NaN</td>\n",
       "      <td>71840</td>\n",
       "      <td>24</td>\n",
       "      <td>4692</td>\n",
       "      <td>NaN</td>\n",
       "      <td>7717</td>\n",
       "      <td>NaN</td>\n",
       "      <td>NaN</td>\n",
       "      <td>NaN</td>\n",
       "      <td>NaN</td>\n",
       "      <td>NaN</td>\n",
       "      <td>NaN</td>\n",
       "      <td>88208</td>\n",
       "    </tr>\n",
       "    <tr>\n",
       "      <th>mean</th>\n",
       "      <td>1.474963e+14</td>\n",
       "      <td>5.675305e+06</td>\n",
       "      <td>NaN</td>\n",
       "      <td>NaN</td>\n",
       "      <td>NaN</td>\n",
       "      <td>37.088874</td>\n",
       "      <td>NaN</td>\n",
       "      <td>0.098266</td>\n",
       "      <td>0.197246</td>\n",
       "      <td>0.071865</td>\n",
       "      <td>0.030400</td>\n",
       "      <td>0.022248</td>\n",
       "      <td>0.321026</td>\n",
       "      <td>NaN</td>\n",
       "    </tr>\n",
       "    <tr>\n",
       "      <th>std</th>\n",
       "      <td>2.560949e+14</td>\n",
       "      <td>7.129575e+04</td>\n",
       "      <td>NaN</td>\n",
       "      <td>NaN</td>\n",
       "      <td>NaN</td>\n",
       "      <td>23.110205</td>\n",
       "      <td>NaN</td>\n",
       "      <td>0.297675</td>\n",
       "      <td>0.397921</td>\n",
       "      <td>0.258265</td>\n",
       "      <td>0.171686</td>\n",
       "      <td>0.161543</td>\n",
       "      <td>0.466873</td>\n",
       "      <td>NaN</td>\n",
       "    </tr>\n",
       "    <tr>\n",
       "      <th>min</th>\n",
       "      <td>3.921784e+04</td>\n",
       "      <td>5.030230e+06</td>\n",
       "      <td>NaN</td>\n",
       "      <td>NaN</td>\n",
       "      <td>NaN</td>\n",
       "      <td>-1.000000</td>\n",
       "      <td>NaN</td>\n",
       "      <td>0.000000</td>\n",
       "      <td>0.000000</td>\n",
       "      <td>0.000000</td>\n",
       "      <td>0.000000</td>\n",
       "      <td>0.000000</td>\n",
       "      <td>0.000000</td>\n",
       "      <td>NaN</td>\n",
       "    </tr>\n",
       "    <tr>\n",
       "      <th>25%</th>\n",
       "      <td>4.172614e+12</td>\n",
       "      <td>5.640286e+06</td>\n",
       "      <td>NaN</td>\n",
       "      <td>NaN</td>\n",
       "      <td>NaN</td>\n",
       "      <td>18.000000</td>\n",
       "      <td>NaN</td>\n",
       "      <td>0.000000</td>\n",
       "      <td>0.000000</td>\n",
       "      <td>0.000000</td>\n",
       "      <td>0.000000</td>\n",
       "      <td>0.000000</td>\n",
       "      <td>0.000000</td>\n",
       "      <td>NaN</td>\n",
       "    </tr>\n",
       "    <tr>\n",
       "      <th>50%</th>\n",
       "      <td>3.173184e+13</td>\n",
       "      <td>5.680573e+06</td>\n",
       "      <td>NaN</td>\n",
       "      <td>NaN</td>\n",
       "      <td>NaN</td>\n",
       "      <td>37.000000</td>\n",
       "      <td>NaN</td>\n",
       "      <td>0.000000</td>\n",
       "      <td>0.000000</td>\n",
       "      <td>0.000000</td>\n",
       "      <td>0.000000</td>\n",
       "      <td>0.000000</td>\n",
       "      <td>0.000000</td>\n",
       "      <td>NaN</td>\n",
       "    </tr>\n",
       "    <tr>\n",
       "      <th>75%</th>\n",
       "      <td>9.439172e+13</td>\n",
       "      <td>5.725524e+06</td>\n",
       "      <td>NaN</td>\n",
       "      <td>NaN</td>\n",
       "      <td>NaN</td>\n",
       "      <td>55.000000</td>\n",
       "      <td>NaN</td>\n",
       "      <td>0.000000</td>\n",
       "      <td>0.000000</td>\n",
       "      <td>0.000000</td>\n",
       "      <td>0.000000</td>\n",
       "      <td>0.000000</td>\n",
       "      <td>1.000000</td>\n",
       "      <td>NaN</td>\n",
       "    </tr>\n",
       "    <tr>\n",
       "      <th>max</th>\n",
       "      <td>9.999816e+14</td>\n",
       "      <td>5.790484e+06</td>\n",
       "      <td>NaN</td>\n",
       "      <td>NaN</td>\n",
       "      <td>NaN</td>\n",
       "      <td>115.000000</td>\n",
       "      <td>NaN</td>\n",
       "      <td>1.000000</td>\n",
       "      <td>1.000000</td>\n",
       "      <td>1.000000</td>\n",
       "      <td>1.000000</td>\n",
       "      <td>4.000000</td>\n",
       "      <td>1.000000</td>\n",
       "      <td>NaN</td>\n",
       "    </tr>\n",
       "  </tbody>\n",
       "</table>\n",
       "</div>"
      ],
      "text/plain": [
       "           PatientId  AppointmentID  ...   SMS_received No-show\n",
       "count   1.105270e+05   1.105270e+05  ...  110527.000000  110527\n",
       "unique           NaN            NaN  ...            NaN       2\n",
       "top              NaN            NaN  ...            NaN      No\n",
       "freq             NaN            NaN  ...            NaN   88208\n",
       "mean    1.474963e+14   5.675305e+06  ...       0.321026     NaN\n",
       "std     2.560949e+14   7.129575e+04  ...       0.466873     NaN\n",
       "min     3.921784e+04   5.030230e+06  ...       0.000000     NaN\n",
       "25%     4.172614e+12   5.640286e+06  ...       0.000000     NaN\n",
       "50%     3.173184e+13   5.680573e+06  ...       0.000000     NaN\n",
       "75%     9.439172e+13   5.725524e+06  ...       1.000000     NaN\n",
       "max     9.999816e+14   5.790484e+06  ...       1.000000     NaN\n",
       "\n",
       "[11 rows x 14 columns]"
      ]
     },
     "execution_count": 8,
     "metadata": {
      "tags": []
     },
     "output_type": "execute_result"
    }
   ],
   "source": [
    "df.describe(include='all')"
   ]
  },
  {
   "cell_type": "markdown",
   "metadata": {
    "id": "9ntQQxvKvHLU"
   },
   "source": [
    "### Checking Datatypes & Typecasting obvious ones"
   ]
  },
  {
   "cell_type": "code",
   "execution_count": 9,
   "metadata": {
    "colab": {
     "base_uri": "https://localhost:8080/"
    },
    "id": "RTzhGG1dsdst",
    "outputId": "fd721c8b-a30d-4ef0-8ac7-2523276e2b8c"
   },
   "outputs": [
    {
     "data": {
      "text/plain": [
       "PatientId         float64\n",
       "AppointmentID       int64\n",
       "Gender             object\n",
       "ScheduledDay       object\n",
       "AppointmentDay     object\n",
       "Age                 int64\n",
       "Neighbourhood      object\n",
       "Scholarship         int64\n",
       "Hypertension        int64\n",
       "Diabetes            int64\n",
       "Alcoholism          int64\n",
       "Handicapped         int64\n",
       "SMS_received        int64\n",
       "No-show            object\n",
       "dtype: object"
      ]
     },
     "execution_count": 9,
     "metadata": {
      "tags": []
     },
     "output_type": "execute_result"
    }
   ],
   "source": [
    "df.dtypes"
   ]
  },
  {
   "cell_type": "code",
   "execution_count": 10,
   "metadata": {
    "id": "ZuvRlTapd5qN"
   },
   "outputs": [],
   "source": [
    "col_names=['PatientId','AppointmentID', 'Gender','Neighbourhood','Scholarship', 'Hypertension','Diabetes','Alcoholism','Handicapped', 'SMS_received', 'No-show']\n",
    "df[col_names] = df[col_names].astype('category')"
   ]
  },
  {
   "cell_type": "code",
   "execution_count": 11,
   "metadata": {
    "colab": {
     "base_uri": "https://localhost:8080/"
    },
    "id": "qUz3S517vHLV",
    "outputId": "f2cf2b44-784c-4c16-b48d-41b6fa45fe80"
   },
   "outputs": [
    {
     "data": {
      "text/plain": [
       "PatientId         category\n",
       "AppointmentID     category\n",
       "Gender            category\n",
       "ScheduledDay        object\n",
       "AppointmentDay      object\n",
       "Age                  int64\n",
       "Neighbourhood     category\n",
       "Scholarship       category\n",
       "Hypertension      category\n",
       "Diabetes          category\n",
       "Alcoholism        category\n",
       "Handicapped       category\n",
       "SMS_received      category\n",
       "No-show           category\n",
       "dtype: object"
      ]
     },
     "execution_count": 11,
     "metadata": {
      "tags": []
     },
     "output_type": "execute_result"
    }
   ],
   "source": [
    "df.dtypes"
   ]
  },
  {
   "cell_type": "markdown",
   "metadata": {
    "id": "jPgPRG71vHLV"
   },
   "source": [
    "### Analysis on Patient ID and Appointment ID"
   ]
  },
  {
   "cell_type": "code",
   "execution_count": 12,
   "metadata": {
    "colab": {
     "base_uri": "https://localhost:8080/"
    },
    "id": "wglTkP-8sGU-",
    "outputId": "da06bf95-6faf-46dd-8633-8ec4d2e19a49"
   },
   "outputs": [
    {
     "name": "stdout",
     "output_type": "stream",
     "text": [
      "The number of unique Patient ID's in the  data set\n",
      "62299\n",
      "The number of unique Appointment ID's in the  data set\n",
      "110527\n"
     ]
    }
   ],
   "source": [
    "#Number of unique patientID's\n",
    "print(\"The number of unique Patient ID's in the  data set\")\n",
    "print(df['PatientId'].nunique())\n",
    "\n",
    "#Number of unique AppointmentID's\n",
    "print(\"The number of unique Appointment ID's in the  data set\")\n",
    "print(df['AppointmentID'].nunique())"
   ]
  },
  {
   "cell_type": "markdown",
   "metadata": {
    "id": "IwpPn5ynvHLW"
   },
   "source": [
    "__Observation:__ \n",
    "- Clearly Appointment ID is unique for each row and offers zero variance. Hence it can be deleted. \n",
    "\n",
    "- Patient ID is not unique and hence it cannot be deleted. Will address this attribute later with other categorical columns"
   ]
  },
  {
   "cell_type": "markdown",
   "metadata": {
    "id": "bmHAkt6Od5p7"
   },
   "source": [
    "#### Dropping Zero Variance features like Appointment ID"
   ]
  },
  {
   "cell_type": "code",
   "execution_count": 13,
   "metadata": {
    "id": "vg5pE9U5vHLW"
   },
   "outputs": [],
   "source": [
    "df=df.drop(['AppointmentID'], axis=1)"
   ]
  },
  {
   "cell_type": "markdown",
   "metadata": {
    "id": "nUJ_qq8pd5qX"
   },
   "source": [
    "### Analysing Numerical features"
   ]
  },
  {
   "cell_type": "code",
   "execution_count": 14,
   "metadata": {
    "colab": {
     "base_uri": "https://localhost:8080/"
    },
    "id": "xWHmqasfvHLW",
    "outputId": "382485d2-6b8d-4480-8d54-0c4beea9a9fe"
   },
   "outputs": [
    {
     "data": {
      "text/plain": [
       "PatientId         category\n",
       "Gender            category\n",
       "ScheduledDay        object\n",
       "AppointmentDay      object\n",
       "Age                  int64\n",
       "Neighbourhood     category\n",
       "Scholarship       category\n",
       "Hypertension      category\n",
       "Diabetes          category\n",
       "Alcoholism        category\n",
       "Handicapped       category\n",
       "SMS_received      category\n",
       "No-show           category\n",
       "dtype: object"
      ]
     },
     "execution_count": 14,
     "metadata": {
      "tags": []
     },
     "output_type": "execute_result"
    }
   ],
   "source": [
    "df.dtypes"
   ]
  },
  {
   "cell_type": "markdown",
   "metadata": {
    "id": "tBTm0NdPvHLW"
   },
   "source": [
    "#### Handling Age Attribute"
   ]
  },
  {
   "cell_type": "code",
   "execution_count": 15,
   "metadata": {
    "colab": {
     "base_uri": "https://localhost:8080/"
    },
    "id": "h6KkBsVGvHLW",
    "outputId": "a08dbd20-a0f9-4571-b44e-dc4657f588f1"
   },
   "outputs": [
    {
     "data": {
      "text/plain": [
       "-1         1\n",
       " 99        1\n",
       " 102       2\n",
       " 100       4\n",
       " 115       5\n",
       "        ... \n",
       " 53     1651\n",
       " 49     1652\n",
       " 52     1746\n",
       " 1      2273\n",
       " 0      3539\n",
       "Name: Age, Length: 104, dtype: int64"
      ]
     },
     "execution_count": 15,
     "metadata": {
      "tags": []
     },
     "output_type": "execute_result"
    }
   ],
   "source": [
    "df.Age.value_counts(sort=True, ascending=True)"
   ]
  },
  {
   "cell_type": "markdown",
   "metadata": {
    "id": "LphRu2bwd5qc"
   },
   "source": [
    "__Observation__: Age cannot have negative values, but very high chance that it can 0 or 1 and as both levels have equal distribution adding it to either will not make difference"
   ]
  },
  {
   "cell_type": "code",
   "execution_count": 16,
   "metadata": {
    "id": "d4QP9yVCd5ql"
   },
   "outputs": [],
   "source": [
    "df.loc[df.Age < 0, ['Age']] = 0"
   ]
  },
  {
   "cell_type": "code",
   "execution_count": 17,
   "metadata": {
    "colab": {
     "base_uri": "https://localhost:8080/"
    },
    "id": "YjCM-U1md5qo",
    "outputId": "d0c8ecc6-3423-4979-b3c8-00adac58c0c0"
   },
   "outputs": [
    {
     "data": {
      "text/plain": [
       "count    110527.000000\n",
       "mean         37.088883\n",
       "std          23.110190\n",
       "min           0.000000\n",
       "25%          18.000000\n",
       "50%          37.000000\n",
       "75%          55.000000\n",
       "max         115.000000\n",
       "Name: Age, dtype: float64"
      ]
     },
     "execution_count": 17,
     "metadata": {
      "tags": []
     },
     "output_type": "execute_result"
    }
   ],
   "source": [
    "df['Age'].describe()"
   ]
  },
  {
   "cell_type": "markdown",
   "metadata": {
    "id": "Asy3TTcpvHLX"
   },
   "source": [
    "#### Effect of Age on No-show attribute"
   ]
  },
  {
   "cell_type": "code",
   "execution_count": 18,
   "metadata": {
    "colab": {
     "base_uri": "https://localhost:8080/",
     "height": 320
    },
    "id": "6MJ1ndDrsyMX",
    "outputId": "c12d40ab-3b1d-4e07-8981-365709f8a021",
    "scrolled": true
   },
   "outputs": [
    {
     "data": {
      "image/png": "[encoded data removed]",
      "text/plain": [
       "<Figure size 720x360 with 1 Axes>"
      ]
     },
     "metadata": {
      "needs_background": "light",
      "tags": []
     },
     "output_type": "display_data"
    }
   ],
   "source": [
    "df['Age'].hist(figsize=(10, 5));"
   ]
  },
  {
   "cell_type": "markdown",
   "metadata": {
    "id": "J5n6vpOivHLY"
   },
   "source": [
    "__Observation:__ Age is clearly a right skewed one. Applying transforms? Log ?"
   ]
  },
  {
   "cell_type": "code",
   "execution_count": 19,
   "metadata": {
    "id": "Bps1nQhtvHLY"
   },
   "outputs": [],
   "source": [
    "def getProbOfNoShow(col, target, df, forGraph=True):\n",
    "    crosstab = pd.crosstab(index = df[col], columns = df[target])\n",
    "    crosstab.columns = pd.Index(list(crosstab.columns))\n",
    "    crosstab = crosstab.reset_index() \n",
    "    crosstab['TotalCount'] = crosstab['Yes'] + crosstab['No']\n",
    "    crosstab['probNoShowUp'] = crosstab['Yes'] / crosstab['TotalCount']\n",
    "    \n",
    "    print(crosstab.head())\n",
    "    if forGraph:\n",
    "        return crosstab[[col, 'probNoShowUp']]\n",
    "    else:\n",
    "        return crosstab[[col, 'TotalCount', 'probNoShowUp']]"
   ]
  },
  {
   "cell_type": "code",
   "execution_count": 20,
   "metadata": {
    "colab": {
     "base_uri": "https://localhost:8080/"
    },
    "id": "qvWc-AaXvHLY",
    "outputId": "8130febc-9b76-4a01-bc60-7d16dc55811a",
    "scrolled": true
   },
   "outputs": [
    {
     "name": "stdout",
     "output_type": "stream",
     "text": [
      "   Age    No  Yes  TotalCount  probNoShowUp\n",
      "0    0  2901  639        3540      0.180508\n",
      "1    1  1858  415        2273      0.182578\n",
      "2    2  1366  252        1618      0.155748\n",
      "3    3  1236  277        1513      0.183080\n",
      "4    4  1017  282        1299      0.217090\n"
     ]
    }
   ],
   "source": [
    "data = getProbOfNoShow('Age', 'No-show', df)"
   ]
  },
  {
   "cell_type": "code",
   "execution_count": 21,
   "metadata": {
    "colab": {
     "base_uri": "https://localhost:8080/",
     "height": 399
    },
    "id": "OWwCip7-vHLY",
    "outputId": "60350ece-d067-466e-ad99-9d0a0f385ebe"
   },
   "outputs": [
    {
     "data": {
      "image/png": "[encoded data removed]",
      "text/plain": [
       "<Figure size 360x360 with 1 Axes>"
      ]
     },
     "metadata": {
      "needs_background": "light",
      "tags": []
     },
     "output_type": "display_data"
    }
   ],
   "source": [
    "sns.lmplot(data = data, x = 'Age', y = 'probNoShowUp', fit_reg = True)\n",
    "plt.xticks(np.arange(np.min(df['Age']), np.max(df['Age']), 10))\n",
    "plt.title('Probability of Not Showing up with respect to Age')\n",
    "plt.show()"
   ]
  },
  {
   "cell_type": "code",
   "execution_count": 22,
   "metadata": {
    "colab": {
     "base_uri": "https://localhost:8080/"
    },
    "id": "aWvaNDA8vHLY",
    "outputId": "6f93b2a6-56d4-46ac-d8b0-8f37c64dca58"
   },
   "outputs": [
    {
     "name": "stdout",
     "output_type": "stream",
     "text": [
      "[0, 20, 40, 60, 80, 100, 120]\n"
     ]
    }
   ],
   "source": [
    "### Bining the age column based on above plot\n",
    "\n",
    "bins = list(np.arange(np.min(df['Age']), np.max(df['Age'])+20, 20))\n",
    "print(bins)"
   ]
  },
  {
   "cell_type": "code",
   "execution_count": 23,
   "metadata": {
    "colab": {
     "base_uri": "https://localhost:8080/"
    },
    "id": "yyTbe6TSvHLY",
    "outputId": "cdd24ab4-86e5-4ea5-e3b1-480fd660a64d"
   },
   "outputs": [
    {
     "name": "stdout",
     "output_type": "stream",
     "text": [
      "[0, 20, 40, 60, 80, 100]\n"
     ]
    }
   ],
   "source": [
    "labels = bins[:-1]\n",
    "print(labels)\n",
    "df['Age_binned'] = pd.cut(df['Age'], bins=bins, labels=labels, include_lowest=True)"
   ]
  },
  {
   "cell_type": "code",
   "execution_count": 24,
   "metadata": {
    "colab": {
     "base_uri": "https://localhost:8080/",
     "height": 261
    },
    "id": "qU9rMKY-vHLZ",
    "outputId": "049812a3-e489-4199-bd56-32ee3e8cd8b5"
   },
   "outputs": [
    {
     "data": {
      "text/html": [
       "<div>\n",
       "<style scoped>\n",
       "    .dataframe tbody tr th:only-of-type {\n",
       "        vertical-align: middle;\n",
       "    }\n",
       "\n",
       "    .dataframe tbody tr th {\n",
       "        vertical-align: top;\n",
       "    }\n",
       "\n",
       "    .dataframe thead th {\n",
       "        text-align: right;\n",
       "    }\n",
       "</style>\n",
       "<table border=\"1\" class=\"dataframe\">\n",
       "  <thead>\n",
       "    <tr style=\"text-align: right;\">\n",
       "      <th></th>\n",
       "      <th>Age</th>\n",
       "      <th>Age_binned</th>\n",
       "    </tr>\n",
       "  </thead>\n",
       "  <tbody>\n",
       "    <tr>\n",
       "      <th>58014</th>\n",
       "      <td>102</td>\n",
       "      <td>100</td>\n",
       "    </tr>\n",
       "    <tr>\n",
       "      <th>63912</th>\n",
       "      <td>115</td>\n",
       "      <td>100</td>\n",
       "    </tr>\n",
       "    <tr>\n",
       "      <th>63915</th>\n",
       "      <td>115</td>\n",
       "      <td>100</td>\n",
       "    </tr>\n",
       "    <tr>\n",
       "      <th>68127</th>\n",
       "      <td>115</td>\n",
       "      <td>100</td>\n",
       "    </tr>\n",
       "    <tr>\n",
       "      <th>76284</th>\n",
       "      <td>115</td>\n",
       "      <td>100</td>\n",
       "    </tr>\n",
       "    <tr>\n",
       "      <th>90372</th>\n",
       "      <td>102</td>\n",
       "      <td>100</td>\n",
       "    </tr>\n",
       "    <tr>\n",
       "      <th>97666</th>\n",
       "      <td>115</td>\n",
       "      <td>100</td>\n",
       "    </tr>\n",
       "  </tbody>\n",
       "</table>\n",
       "</div>"
      ],
      "text/plain": [
       "       Age Age_binned\n",
       "58014  102        100\n",
       "63912  115        100\n",
       "63915  115        100\n",
       "68127  115        100\n",
       "76284  115        100\n",
       "90372  102        100\n",
       "97666  115        100"
      ]
     },
     "execution_count": 24,
     "metadata": {
      "tags": []
     },
     "output_type": "execute_result"
    }
   ],
   "source": [
    "df.loc[df.Age > 100, ['Age','Age_binned']]"
   ]
  },
  {
   "cell_type": "code",
   "execution_count": 25,
   "metadata": {
    "id": "89WeJrXFvHLZ"
   },
   "outputs": [],
   "source": [
    "df = df.drop(['Age'], axis=1)"
   ]
  },
  {
   "cell_type": "markdown",
   "metadata": {
    "id": "9JKliQt4ukB0"
   },
   "source": [
    "### Analysing Categorical Columns"
   ]
  },
  {
   "cell_type": "code",
   "execution_count": 26,
   "metadata": {
    "colab": {
     "base_uri": "https://localhost:8080/",
     "height": 170
    },
    "id": "8qSHUtuc0qDH",
    "outputId": "f2bb8991-7671-4655-b01a-5825a342d8be",
    "scrolled": true
   },
   "outputs": [
    {
     "data": {
      "text/html": [
       "<div>\n",
       "<style scoped>\n",
       "    .dataframe tbody tr th:only-of-type {\n",
       "        vertical-align: middle;\n",
       "    }\n",
       "\n",
       "    .dataframe tbody tr th {\n",
       "        vertical-align: top;\n",
       "    }\n",
       "\n",
       "    .dataframe thead th {\n",
       "        text-align: right;\n",
       "    }\n",
       "</style>\n",
       "<table border=\"1\" class=\"dataframe\">\n",
       "  <thead>\n",
       "    <tr style=\"text-align: right;\">\n",
       "      <th></th>\n",
       "      <th>PatientId</th>\n",
       "      <th>Gender</th>\n",
       "      <th>Neighbourhood</th>\n",
       "      <th>Scholarship</th>\n",
       "      <th>Hypertension</th>\n",
       "      <th>Diabetes</th>\n",
       "      <th>Alcoholism</th>\n",
       "      <th>Handicapped</th>\n",
       "      <th>SMS_received</th>\n",
       "      <th>No-show</th>\n",
       "      <th>Age_binned</th>\n",
       "    </tr>\n",
       "  </thead>\n",
       "  <tbody>\n",
       "    <tr>\n",
       "      <th>count</th>\n",
       "      <td>1.105270e+05</td>\n",
       "      <td>110527</td>\n",
       "      <td>110527</td>\n",
       "      <td>110527</td>\n",
       "      <td>110527</td>\n",
       "      <td>110527</td>\n",
       "      <td>110527</td>\n",
       "      <td>110527</td>\n",
       "      <td>110527</td>\n",
       "      <td>110527</td>\n",
       "      <td>110527</td>\n",
       "    </tr>\n",
       "    <tr>\n",
       "      <th>unique</th>\n",
       "      <td>6.229900e+04</td>\n",
       "      <td>2</td>\n",
       "      <td>81</td>\n",
       "      <td>2</td>\n",
       "      <td>2</td>\n",
       "      <td>2</td>\n",
       "      <td>2</td>\n",
       "      <td>5</td>\n",
       "      <td>2</td>\n",
       "      <td>2</td>\n",
       "      <td>6</td>\n",
       "    </tr>\n",
       "    <tr>\n",
       "      <th>top</th>\n",
       "      <td>8.221459e+14</td>\n",
       "      <td>F</td>\n",
       "      <td>JARDIM CAMBURI</td>\n",
       "      <td>0</td>\n",
       "      <td>0</td>\n",
       "      <td>0</td>\n",
       "      <td>0</td>\n",
       "      <td>0</td>\n",
       "      <td>0</td>\n",
       "      <td>No</td>\n",
       "      <td>0</td>\n",
       "    </tr>\n",
       "    <tr>\n",
       "      <th>freq</th>\n",
       "      <td>8.800000e+01</td>\n",
       "      <td>71840</td>\n",
       "      <td>7717</td>\n",
       "      <td>99666</td>\n",
       "      <td>88726</td>\n",
       "      <td>102584</td>\n",
       "      <td>107167</td>\n",
       "      <td>108286</td>\n",
       "      <td>75045</td>\n",
       "      <td>88208</td>\n",
       "      <td>31849</td>\n",
       "    </tr>\n",
       "  </tbody>\n",
       "</table>\n",
       "</div>"
      ],
      "text/plain": [
       "           PatientId  Gender   Neighbourhood  ...  SMS_received  No-show  Age_binned\n",
       "count   1.105270e+05  110527          110527  ...        110527   110527      110527\n",
       "unique  6.229900e+04       2              81  ...             2        2           6\n",
       "top     8.221459e+14       F  JARDIM CAMBURI  ...             0       No           0\n",
       "freq    8.800000e+01   71840            7717  ...         75045    88208       31849\n",
       "\n",
       "[4 rows x 11 columns]"
      ]
     },
     "execution_count": 26,
     "metadata": {
      "tags": []
     },
     "output_type": "execute_result"
    }
   ],
   "source": [
    "df.describe(include='category')"
   ]
  },
  {
   "cell_type": "code",
   "execution_count": 27,
   "metadata": {
    "id": "KDjMwLu_wbnI"
   },
   "outputs": [],
   "source": [
    "## Custom Function for Bar Plots\n",
    "\n",
    "def barplot(column,df):\n",
    "    bar_plot1 = sns.countplot(x=column, data=df)\n",
    "    \n",
    "    total = len(df[column])\n",
    "    for p in bar_plot1.patches:\n",
    "        percentage = '{:.2f}%'.format(100 * p.get_height()/total)\n",
    "        height = p.get_height()\n",
    "        bar_plot1.text(p.get_x()+ p.get_width()/2, height + 400, percentage, ha=\"center\")"
   ]
  },
  {
   "cell_type": "markdown",
   "metadata": {
    "id": "d0Yw-xR2vHLa"
   },
   "source": [
    "#### Univariate Analysis on Categorical Columns"
   ]
  },
  {
   "cell_type": "code",
   "execution_count": 28,
   "metadata": {
    "colab": {
     "base_uri": "https://localhost:8080/",
     "height": 280
    },
    "id": "aZA979F71FNl",
    "outputId": "2feb85ff-5ec2-4225-c548-c655b4db91a9"
   },
   "outputs": [
    {
     "data": {
      "image/png": "[encoded data removed]",
      "text/plain": [
       "<Figure size 432x288 with 1 Axes>"
      ]
     },
     "metadata": {
      "needs_background": "light",
      "tags": []
     },
     "output_type": "display_data"
    }
   ],
   "source": [
    "barplot(\"Age_binned\",df)"
   ]
  },
  {
   "cell_type": "code",
   "execution_count": 29,
   "metadata": {
    "colab": {
     "base_uri": "https://localhost:8080/",
     "height": 279
    },
    "id": "13aLN97LvHLa",
    "outputId": "5c2e858a-5069-4c70-c04f-4aeb1cd32cb9"
   },
   "outputs": [
    {
     "data": {
      "image/png": "[encoded data removed]",
      "text/plain": [
       "<Figure size 432x288 with 1 Axes>"
      ]
     },
     "metadata": {
      "needs_background": "light",
      "tags": []
     },
     "output_type": "display_data"
    }
   ],
   "source": [
    "barplot(\"Scholarship\",df)"
   ]
  },
  {
   "cell_type": "code",
   "execution_count": 30,
   "metadata": {
    "colab": {
     "base_uri": "https://localhost:8080/",
     "height": 279
    },
    "id": "y0mOa7IovHLa",
    "outputId": "d9646405-70c8-4069-e3c9-656cce65bf15"
   },
   "outputs": [
    {
     "data": {
      "image/png": "[encoded data removed]",
      "text/plain": [
       "<Figure size 432x288 with 1 Axes>"
      ]
     },
     "metadata": {
      "needs_background": "light",
      "tags": []
     },
     "output_type": "display_data"
    }
   ],
   "source": [
    "barplot(\"Hypertension\",df)"
   ]
  },
  {
   "cell_type": "code",
   "execution_count": 31,
   "metadata": {
    "colab": {
     "base_uri": "https://localhost:8080/",
     "height": 279
    },
    "id": "1hrqjvTJvHLa",
    "outputId": "1d15c967-a823-41a6-b707-42397a7997c3"
   },
   "outputs": [
    {
     "data": {
      "image/png": "[encoded data removed]",
      "text/plain": [
       "<Figure size 432x288 with 1 Axes>"
      ]
     },
     "metadata": {
      "needs_background": "light",
      "tags": []
     },
     "output_type": "display_data"
    }
   ],
   "source": [
    "barplot(\"Diabetes\",df)"
   ]
  },
  {
   "cell_type": "code",
   "execution_count": 32,
   "metadata": {
    "colab": {
     "base_uri": "https://localhost:8080/",
     "height": 279
    },
    "id": "uCf69MrbvHLa",
    "outputId": "eeb136b9-283f-4660-cfe7-d2c854d99b63"
   },
   "outputs": [
    {
     "data": {
      "image/png": "[encoded data removed]",
      "text/plain": [
       "<Figure size 432x288 with 1 Axes>"
      ]
     },
     "metadata": {
      "needs_background": "light",
      "tags": []
     },
     "output_type": "display_data"
    }
   ],
   "source": [
    "barplot(\"Handicapped\",df)"
   ]
  },
  {
   "cell_type": "code",
   "execution_count": 33,
   "metadata": {
    "colab": {
     "base_uri": "https://localhost:8080/",
     "height": 279
    },
    "id": "vvqtRQrAvHLb",
    "outputId": "a0c5006f-ae17-4b7b-d75b-84f5c0b1ae32"
   },
   "outputs": [
    {
     "data": {
      "image/png": "[encoded data removed]",
      "text/plain": [
       "<Figure size 432x288 with 1 Axes>"
      ]
     },
     "metadata": {
      "needs_background": "light",
      "tags": []
     },
     "output_type": "display_data"
    }
   ],
   "source": [
    "barplot(\"Alcoholism\",df)"
   ]
  },
  {
   "cell_type": "code",
   "execution_count": 34,
   "metadata": {
    "colab": {
     "base_uri": "https://localhost:8080/",
     "height": 279
    },
    "id": "dKiT_zOCvHLb",
    "outputId": "5bd882af-31b0-44d3-ff2c-021364e285ba"
   },
   "outputs": [
    {
     "data": {
      "image/png": "[encoded data removed]",
      "text/plain": [
       "<Figure size 432x288 with 1 Axes>"
      ]
     },
     "metadata": {
      "needs_background": "light",
      "tags": []
     },
     "output_type": "display_data"
    }
   ],
   "source": [
    "barplot(\"Gender\",df)"
   ]
  },
  {
   "cell_type": "code",
   "execution_count": 35,
   "metadata": {
    "colab": {
     "base_uri": "https://localhost:8080/",
     "height": 280
    },
    "id": "iBO_GoCZvHLb",
    "outputId": "81844ed8-a7d0-4703-e6d9-549b3e8702cf"
   },
   "outputs": [
    {
     "data": {
      "image/png": "[encoded data removed]",
      "text/plain": [
       "<Figure size 432x288 with 1 Axes>"
      ]
     },
     "metadata": {
      "needs_background": "light",
      "tags": []
     },
     "output_type": "display_data"
    }
   ],
   "source": [
    "barplot(\"SMS_received\",df)"
   ]
  },
  {
   "cell_type": "markdown",
   "metadata": {
    "id": "-ZPyi1bbvHLc"
   },
   "source": [
    "__Observation__: Using Univariate plots on categorical columns, it is very difficult to find out which attribute is related to the target or not. \n",
    "\n",
    "From the above plots, few things can be inferred though\n",
    "- Handicapped attribute can be merged to binary as other levels have less representation and also no proper information shared by the client on other levels.\n",
    "\n",
    "- Chi-square test of independence and Bivariate plots can be meaningful "
   ]
  },
  {
   "cell_type": "markdown",
   "metadata": {
    "id": "hJJGmKw3vHLc"
   },
   "source": [
    "#### Binning of Handicapped attrribute"
   ]
  },
  {
   "cell_type": "code",
   "execution_count": 36,
   "metadata": {
    "id": "VJ_Ahp-QvHLc"
   },
   "outputs": [],
   "source": [
    "df['Handicapped']=df['Handicapped'].astype('int')\n",
    "df.loc[df.Handicapped > 1, 'Handicapped'] = 1\n",
    "df['Handicapped']=df['Handicapped'].astype('category')"
   ]
  },
  {
   "cell_type": "code",
   "execution_count": 37,
   "metadata": {
    "colab": {
     "base_uri": "https://localhost:8080/"
    },
    "id": "PHLM89lZvHLc",
    "outputId": "fcaa6d3a-1e3c-4fcd-ab4b-1ce25e2f93ba"
   },
   "outputs": [
    {
     "data": {
      "text/plain": [
       "0    108286\n",
       "1      2241\n",
       "Name: Handicapped, dtype: int64"
      ]
     },
     "execution_count": 37,
     "metadata": {
      "tags": []
     },
     "output_type": "execute_result"
    }
   ],
   "source": [
    "df['Handicapped'].value_counts()"
   ]
  },
  {
   "cell_type": "markdown",
   "metadata": {
    "id": "pu3_nDjZvHLc"
   },
   "source": [
    "### Chi-Square test of independence\n",
    "\n",
    "The Pearson’s Chi-Square statistical hypothesis is a test for independence between categorical variables.\n",
    "\n",
    "We will perform the test using a mathematical approach and then using Python’s SciPy module.\n",
    "\n",
    "\n",
    "- We start by defining the null hypothesis (H0) which states that there is no relation between the variables. \n",
    "- An alternate hypothesis(H1) would state that there is a significant relation between the two.\n",
    "\n",
    "- Using p-value:\n",
    "    * We define a significance factor to determine whether the relation between the variables is of considerable significance. \n",
    "    * Generally a significance factor or alpha value of 0.05 is chosen. This alpha value denotes the probability of erroneously rejecting H0 when it is true.\n",
    "\n",
    "    * If the p-value for the test comes out to be strictly greater than the alpha value, then H0 holds true.\n",
    "    \n",
    "The chi2_contingency() function of scipy.stats module takes, \n",
    "- Input as the contingency table in 2d array format. \n",
    "- Returns a tuple containing test statistics, the p-value, degrees of freedom and expected table(the one we created from the calculated values) in that order. \n",
    "\n",
    "Hence, we need to compare the obtained p-value with alpha value of 0.05 (default)."
   ]
  },
  {
   "cell_type": "code",
   "execution_count": 38,
   "metadata": {
    "id": "_CaBAxslvHLf"
   },
   "outputs": [],
   "source": [
    "from scipy.stats import chi2_contingency\n",
    "from scipy.stats import chi2\n",
    "\n",
    "## conda install -c anaconda statsmodels\n",
    "import statsmodels.api as sm"
   ]
  },
  {
   "cell_type": "code",
   "execution_count": 39,
   "metadata": {
    "colab": {
     "base_uri": "https://localhost:8080/"
    },
    "id": "JuRAVQ6lvHLg",
    "outputId": "4a173311-cf03-452f-fc77-93d699d1fdc1"
   },
   "outputs": [
    {
     "data": {
      "text/plain": [
       "Index(['PatientId', 'Gender', 'Neighbourhood', 'Scholarship', 'Hypertension',\n",
       "       'Diabetes', 'Alcoholism', 'Handicapped', 'SMS_received', 'No-show',\n",
       "       'Age_binned'],\n",
       "      dtype='object')"
      ]
     },
     "execution_count": 39,
     "metadata": {
      "tags": []
     },
     "output_type": "execute_result"
    }
   ],
   "source": [
    "cat_cols = df.select_dtypes('category').columns\n",
    "cat_cols"
   ]
  },
  {
   "cell_type": "code",
   "execution_count": 40,
   "metadata": {
    "id": "F-11dL7pvHLg"
   },
   "outputs": [],
   "source": [
    "# Add formula for chi-square"
   ]
  },
  {
   "cell_type": "code",
   "execution_count": 41,
   "metadata": {
    "id": "J7-IqTu9vHLg"
   },
   "outputs": [],
   "source": [
    "def find_chi2_independence(cat_col, target, df, alpha=0.05):\n",
    "    data = df[[target, cat_col]]\n",
    "    tab = sm.stats.Table.from_data(data)\n",
    "    tab = tab.table_orig.to_numpy()\n",
    "    print(f\"---------------{target} Vs {cat_col} Chi Square Test of Independence -------------------\")\n",
    "    print(f\"\\n Contingency table :\\n\")\n",
    "    print(tab)\n",
    "    \n",
    "    stat, p, dof, expected = chi2_contingency(tab)\n",
    "    print(f\"\\n Expected table :\\n\")\n",
    "    print(expected)\n",
    "    \n",
    "    print(f\"The p value returned = {p} and degrees of freedom returned = {dof}\")\n",
    "    \n",
    "    # interpret p-value\n",
    "    print('significance(alpha) = %.3f' % (alpha))\n",
    "\n",
    "    if p <= alpha:\n",
    "        print('Dependent (reject H0)')\n",
    "    else:\n",
    "        print('Independent (fail to reject H0)') "
   ]
  },
  {
   "cell_type": "code",
   "execution_count": 42,
   "metadata": {
    "colab": {
     "base_uri": "https://localhost:8080/"
    },
    "id": "kQNtczMZvHLg",
    "outputId": "4b8a417a-313c-49f2-b2ee-c7d253be5611"
   },
   "outputs": [
    {
     "name": "stdout",
     "output_type": "stream",
     "text": [
      "---------------No-show Vs PatientId Chi Square Test of Independence -------------------\n",
      "\n",
      " Contingency table :\n",
      "\n",
      "[[1 1 1 ... 1 1 1]\n",
      " [0 0 0 ... 0 0 0]]\n",
      "\n",
      " Expected table :\n",
      "\n",
      "[[0.79806744 0.79806744 0.79806744 ... 0.79806744 0.79806744 0.79806744]\n",
      " [0.20193256 0.20193256 0.20193256 ... 0.20193256 0.20193256 0.20193256]]\n",
      "The p value returned = 4.498875155354318e-49 and degrees of freedom returned = 62298\n",
      "significance(alpha) = 0.050\n",
      "Dependent (reject H0)\n",
      "---------------No-show Vs Gender Chi Square Test of Independence -------------------\n",
      "\n",
      " Contingency table :\n",
      "\n",
      "[[57246 30962]\n",
      " [14594  7725]]\n",
      "\n",
      " Expected table :\n",
      "\n",
      "[[57333.16492803 30874.83507197]\n",
      " [14506.83507197  7812.16492803]]\n",
      "The p value returned = 0.17338418189785987 and degrees of freedom returned = 1\n",
      "significance(alpha) = 0.050\n",
      "Independent (fail to reject H0)\n",
      "---------------No-show Vs Neighbourhood Chi Square Test of Independence -------------------\n",
      "\n",
      " Contingency table :\n",
      "\n",
      "[[   7 1741  221  220  332 1523  665  254 2223 1974 2631  254  689 1139\n",
      "  1094 1788  258  472  321  709  183  432  533 1543  210  563  854 1562\n",
      "   133  836 1524   32    8 1734    0  855 2591 2058 6252 3246 2157 1169\n",
      "   561 4586 1478  534  658   80  317  106 1862    1  623  364   57  845\n",
      "   994 1278  692 3525 1741  325  372  141  351  352 2635 1060 2063 2262\n",
      "   907  435  117  400 1152 1473 1549 1933 2559  120  710]\n",
      " [   1  521   50   62   91  384  193   58  550  591  703   56  160  237\n",
      "   304  429   47   88   92  140   52  106  149  346   48  137  217  456\n",
      "    42  235  361    3    2  532    2  202  923  451 1465  631  696  258\n",
      "   133 1219  424  110  166   16   54   29  402    0  179   88   12  190\n",
      "   294  275  143  906  474  123  134   37   77   86  496  272  508  484\n",
      "   369  112   28   69  287  363  428  515  573   32  141]]\n",
      "\n",
      " Expected table :\n",
      "\n",
      "[[6.38453952e+00 1.80522855e+03 2.16276276e+02 2.25055018e+02\n",
      "  3.37582527e+02 1.52191461e+03 6.84741864e+02 2.48997041e+02\n",
      "  2.21304101e+03 2.04704298e+03 2.66075685e+03 2.47400907e+02\n",
      "  6.77559257e+02 1.09814080e+03 1.11569828e+03 1.76931552e+03\n",
      "  2.43410569e+02 4.46917767e+02 3.29601853e+02 6.77559257e+02\n",
      "  1.87545849e+02 4.29360283e+02 5.44281994e+02 1.50754940e+03\n",
      "  2.05901400e+02 5.58647208e+02 8.54730229e+02 1.61050009e+03\n",
      "  1.39661802e+02 8.54730229e+02 1.50435713e+03 2.79323604e+01\n",
      "  7.98067441e+00 1.80842082e+03 1.59613488e+00 8.43557285e+02\n",
      "  2.80440899e+03 2.00235121e+03 6.15868644e+03 3.09410747e+03\n",
      "  2.27688641e+03 1.13884224e+03 5.53858804e+02 4.63278149e+03\n",
      "  1.51792427e+03 5.13955432e+02 6.57607571e+02 7.66144743e+01\n",
      "  2.96083020e+02 1.07739104e+02 1.80682469e+03 7.98067441e-01\n",
      "  6.40050087e+02 3.60726483e+02 5.50666534e+01 8.25999801e+02\n",
      "  1.02791086e+03 1.23939874e+03 6.66386313e+02 3.53623683e+03\n",
      "  1.76771938e+03 3.57534213e+02 4.03822125e+02 1.42056004e+02\n",
      "  3.41572865e+02 3.49553539e+02 2.49874916e+03 1.06302583e+03\n",
      "  2.05183139e+03 2.19149319e+03 1.01833405e+03 4.36542890e+02\n",
      "  1.15719779e+02 3.74293630e+02 1.14841905e+03 1.46525182e+03\n",
      "  1.57777933e+03 1.95366909e+03 2.49954722e+03 1.21306251e+02\n",
      "  6.79155392e+02]\n",
      " [1.61546048e+00 4.56771450e+02 5.47237236e+01 5.69449818e+01\n",
      "  8.54174727e+01 3.85085391e+02 1.73258136e+02 6.30029586e+01\n",
      "  5.59958987e+02 5.17957015e+02 6.73243153e+02 6.25990934e+01\n",
      "  1.71440743e+02 2.77859202e+02 2.82301718e+02 4.47684484e+02\n",
      "  6.15894306e+01 1.13082233e+02 8.33981471e+01 1.71440743e+02\n",
      "  4.74541515e+01 1.08639717e+02 1.37718006e+02 3.81450605e+02\n",
      "  5.20986003e+01 1.41352792e+02 2.16269771e+02 4.07499905e+02\n",
      "  3.53381979e+01 2.16269771e+02 3.80642875e+02 7.06763958e+00\n",
      "  2.01932559e+00 4.57579180e+02 4.03865119e-01 2.13442715e+02\n",
      "  7.09591014e+02 5.06648792e+02 1.55831356e+03 7.82892533e+02\n",
      "  5.76113592e+02 2.88157762e+02 1.40141196e+02 1.17221851e+03\n",
      "  3.84075728e+02 1.30044568e+02 1.66392429e+02 1.93855257e+01\n",
      "  7.49169796e+01 2.72608955e+01 4.57175315e+02 2.01932559e-01\n",
      "  1.61949913e+02 9.12735169e+01 1.39333466e+01 2.09000199e+02\n",
      "  2.60089137e+02 3.13601265e+02 1.68613687e+02 8.94763171e+02\n",
      "  4.47280619e+02 9.04657866e+01 1.02177875e+02 3.59439956e+01\n",
      "  8.64271355e+01 8.84464610e+01 6.32250844e+02 2.68974169e+02\n",
      "  5.19168610e+02 5.54506808e+02 2.57665946e+02 1.10457110e+02\n",
      "  2.92802211e+01 9.47063704e+01 2.90580953e+02 3.70748179e+02\n",
      "  3.99220670e+02 4.94330906e+02 6.32452776e+02 3.06937490e+01\n",
      "  1.71844608e+02]]\n",
      "The p value returned = 1.5424359262217237e-60 and degrees of freedom returned = 80\n",
      "significance(alpha) = 0.050\n",
      "Dependent (reject H0)\n",
      "---------------No-show Vs Scholarship Chi Square Test of Independence -------------------\n",
      "\n",
      " Contingency table :\n",
      "\n",
      "[[79925  8283]\n",
      " [19741  2578]]\n",
      "\n",
      " Expected table :\n",
      "\n",
      "[[79540.18952835  8667.81047165]\n",
      " [20125.81047165  2193.18952835]]\n",
      "The p value returned = 3.906624913845394e-22 and degrees of freedom returned = 1\n",
      "significance(alpha) = 0.050\n",
      "Dependent (reject H0)\n",
      "---------------No-show Vs Hypertension Chi Square Test of Independence -------------------\n",
      "\n",
      " Contingency table :\n",
      "\n",
      "[[70179 18029]\n",
      " [18547  3772]]\n",
      "\n",
      " Expected table :\n",
      "\n",
      "[[70809.3317289 17398.6682711]\n",
      " [17916.6682711  4402.3317289]]\n",
      "The p value returned = 1.9176109238263203e-32 and degrees of freedom returned = 1\n",
      "significance(alpha) = 0.050\n",
      "Dependent (reject H0)\n",
      "---------------No-show Vs Diabetes Chi Square Test of Independence -------------------\n",
      "\n",
      " Contingency table :\n",
      "\n",
      "[[81695  6513]\n",
      " [20889  1430]]\n",
      "\n",
      " Expected table :\n",
      "\n",
      "[[81868.95031983  6339.04968017]\n",
      " [20715.04968017  1603.95031983]]\n",
      "The p value returned = 4.849904575233736e-07 and degrees of freedom returned = 1\n",
      "significance(alpha) = 0.050\n",
      "Dependent (reject H0)\n",
      "---------------No-show Vs Alcoholism Chi Square Test of Independence -------------------\n",
      "\n",
      " Contingency table :\n",
      "\n",
      "[[85525  2683]\n",
      " [21642   677]]\n",
      "\n",
      " Expected table :\n",
      "\n",
      "[[85526.4933998  2681.5066002]\n",
      " [21640.5066002   678.4933998]]\n",
      "The p value returned = 0.9654188731603915 and degrees of freedom returned = 1\n",
      "significance(alpha) = 0.050\n",
      "Independent (fail to reject H0)\n",
      "---------------No-show Vs Handicapped Chi Square Test of Independence -------------------\n",
      "\n",
      " Contingency table :\n",
      "\n",
      "[[86374  1834]\n",
      " [21912   407]]\n",
      "\n",
      " Expected table :\n",
      "\n",
      "[[86419.53086576  1788.46913424]\n",
      " [21866.46913424   452.53086576]]\n",
      "The p value returned = 0.01666818189588988 and degrees of freedom returned = 1\n",
      "significance(alpha) = 0.050\n",
      "Dependent (reject H0)\n",
      "---------------No-show Vs SMS_received Chi Square Test of Independence -------------------\n",
      "\n",
      " Contingency table :\n",
      "\n",
      "[[62510 25698]\n",
      " [12535  9784]]\n",
      "\n",
      " Expected table :\n",
      "\n",
      "[[59890.97107494 28317.02892506]\n",
      " [15154.02892506  7164.97107494]]\n",
      "The p value returned = 0.0 and degrees of freedom returned = 1\n",
      "significance(alpha) = 0.050\n",
      "Dependent (reject H0)\n",
      "---------------No-show Vs No-show Chi Square Test of Independence -------------------\n",
      "\n",
      " Contingency table :\n",
      "\n",
      "[[88208     0]\n",
      " [    0 22319]]\n",
      "\n",
      " Expected table :\n",
      "\n",
      "[[70395.9327947 17812.0672053]\n",
      " [17812.0672053  4506.9327947]]\n",
      "The p value returned = 0.0 and degrees of freedom returned = 1\n",
      "significance(alpha) = 0.050\n",
      "Dependent (reject H0)\n",
      "---------------No-show Vs Age_binned Chi Square Test of Independence -------------------\n",
      "\n",
      " Contingency table :\n",
      "\n",
      "[[24753 22209 24490 14373  2379     4]\n",
      " [ 7096  6626  5591  2537   466     3]]\n",
      "\n",
      " Expected table :\n",
      "\n",
      "[[2.54176499e+04 2.30122746e+04 2.40066667e+04 1.34953204e+04\n",
      "  2.27050187e+03 5.58647208e+00]\n",
      " [6.43135009e+03 5.82272535e+03 6.07433332e+03 3.41467958e+03\n",
      "  5.74498132e+02 1.41352792e+00]]\n",
      "The p value returned = 6.7494943599125046e-124 and degrees of freedom returned = 5\n",
      "significance(alpha) = 0.050\n",
      "Dependent (reject H0)\n"
     ]
    }
   ],
   "source": [
    "for col in cat_cols:\n",
    "    find_chi2_independence(col, 'No-show', df)"
   ]
  },
  {
   "cell_type": "markdown",
   "metadata": {
    "id": "V5GaQui5vHLi"
   },
   "source": [
    "__Observation__: \n",
    "- PatientId, Neighbourhood, Scholarship, Hypertension, Diabetes, SMS_received, Age_binned attributes tend to influence the target\n",
    "\n",
    "- Gender & Alcoholism doesn't have any dependency with target\n",
    "\n",
    "Let us also run probabilistic approach for categorical columns"
   ]
  },
  {
   "cell_type": "markdown",
   "metadata": {
    "id": "hd0JyxPkvHLi"
   },
   "source": [
    "### Probabilistic Analysis of Categorical columns on No show"
   ]
  },
  {
   "cell_type": "code",
   "execution_count": 43,
   "metadata": {
    "id": "qWwQot5jvHLi"
   },
   "outputs": [],
   "source": [
    "def probStatusCategorical(col_list):\n",
    "    rows = []\n",
    "    for item in col_list:\n",
    "        for level in df[item].unique():\n",
    "            row = {'Condition': item}\n",
    "            ## Finding count of rows with that level in categorical column\n",
    "            total = len(df[df[item] == level])\n",
    "            ## Finding count of rows where level and Yes in No-show match\n",
    "            n = len(df[(df[item] == level) & (df['No-show'] == 'Yes')])\n",
    "            row.update({'Level': level, 'Probability': n / total})\n",
    "            rows.append(row)\n",
    "    return pd.DataFrame(rows)"
   ]
  },
  {
   "cell_type": "code",
   "execution_count": 44,
   "metadata": {
    "colab": {
     "base_uri": "https://localhost:8080/",
     "height": 622
    },
    "id": "J2aHW71-vHLi",
    "outputId": "e391ccc7-27bc-4ccd-8e5a-5e913516b10b",
    "scrolled": true
   },
   "outputs": [
    {
     "data": {
      "image/png": "[encoded data removed]",
      "text/plain": [
       "<Figure size 720x720 with 1 Axes>"
      ]
     },
     "metadata": {
      "needs_background": "light",
      "tags": []
     },
     "output_type": "display_data"
    }
   ],
   "source": [
    "plt.figure(figsize=(10,10))\n",
    "sns.barplot(data = probStatusCategorical(['Diabetes', 'Alcoholism', 'Handicapped', \n",
    "                                          'SMS_received', 'Gender', 'Hypertension','Scholarship']),\n",
    "            x = 'Condition', y = 'Probability', hue = 'Level', palette = 'Set2')\n",
    "plt.title('Probability of not showing up')\n",
    "plt.ylabel('Probability')\n",
    "plt.show()"
   ]
  },
  {
   "cell_type": "markdown",
   "metadata": {
    "id": "iSvRCo_bvHLi"
   },
   "source": [
    "__Observation:__ \n",
    "- 1) Clearly SMS received status and Scholarship Status drive no-show up's\n",
    "- 2) Gender and Alcoholism are not contributing to the target (No-show class)"
   ]
  },
  {
   "cell_type": "markdown",
   "metadata": {
    "id": "mHMnzQtwvHLi"
   },
   "source": [
    "### Dealing High Cardinal Categorical Attributes\n",
    "\n",
    "- We have two attributes namely PatientID and Neighbourhood that have high cardinality. Also Chi-square test of independence shows that these two columns influence target variable.\n",
    "\n",
    "- But given some limitations with known techniques under ML till date, we would like to handle these variables using Categorical Embeddings which will be taught in Deep Learning Module. Hence proceeding further we will not be using these variables in our analysis\n",
    "\n",
    "- Before we step in to DL module, we can still use pandas techniques like crosstab to find the probabilistic nature of these variables on No-show attribute"
   ]
  },
  {
   "cell_type": "code",
   "execution_count": 45,
   "metadata": {
    "colab": {
     "base_uri": "https://localhost:8080/"
    },
    "id": "LCj6RnxSvHLi",
    "outputId": "cda3e4e9-6264-4c9d-af02-026717f18c63"
   },
   "outputs": [
    {
     "name": "stdout",
     "output_type": "stream",
     "text": [
      "      PatientId  No  Yes  TotalCount  probNoShowUp\n",
      "0   39217.84439   1    0           1           0.0\n",
      "1   43741.75652   1    0           1           0.0\n",
      "2   93779.52927   1    0           1           0.0\n",
      "3  141724.16655   1    0           1           0.0\n",
      "4  537615.28476   1    0           1           0.0\n"
     ]
    }
   ],
   "source": [
    "patient_df = getProbOfNoShow('PatientId', 'No-show', df, forGraph=False)\n",
    "patient_df.to_csv('patientID_VS_NoShow.csv', index=False)"
   ]
  },
  {
   "cell_type": "code",
   "execution_count": 46,
   "metadata": {
    "colab": {
     "base_uri": "https://localhost:8080/"
    },
    "id": "91GQGRHsvHLi",
    "outputId": "4a5bc34e-2136-4e52-9e85-439074eb2ade"
   },
   "outputs": [
    {
     "name": "stdout",
     "output_type": "stream",
     "text": [
      "         Neighbourhood    No  Yes  TotalCount  probNoShowUp\n",
      "0            AEROPORTO     7    1           8      0.125000\n",
      "1           ANDORINHAS  1741  521        2262      0.230327\n",
      "2      ANTÔNIO HONÓRIO   221   50         271      0.184502\n",
      "3  ARIOVALDO FAVALESSA   220   62         282      0.219858\n",
      "4       BARRO VERMELHO   332   91         423      0.215130\n"
     ]
    }
   ],
   "source": [
    "neigh_df = getProbOfNoShow('Neighbourhood', 'No-show', df, forGraph=False)\n",
    "neigh_df.to_csv('Neighbourhood_VS_NoShow.csv', index=False)"
   ]
  },
  {
   "cell_type": "code",
   "execution_count": 47,
   "metadata": {
    "id": "yPlHRhWCvHLj"
   },
   "outputs": [],
   "source": [
    "### Dropping off the above columns\n",
    "df = df.drop(['Neighbourhood','PatientId','Gender','Alcoholism'], axis=1)"
   ]
  },
  {
   "cell_type": "code",
   "execution_count": 48,
   "metadata": {
    "colab": {
     "base_uri": "https://localhost:8080/"
    },
    "id": "NIibcDR3vHLj",
    "outputId": "ee4932b2-6247-4312-da28-9e007051bc77"
   },
   "outputs": [
    {
     "data": {
      "text/plain": [
       "Index(['ScheduledDay', 'AppointmentDay', 'Scholarship', 'Hypertension',\n",
       "       'Diabetes', 'Handicapped', 'SMS_received', 'No-show', 'Age_binned'],\n",
       "      dtype='object')"
      ]
     },
     "execution_count": 48,
     "metadata": {
      "tags": []
     },
     "output_type": "execute_result"
    }
   ],
   "source": [
    "df.columns"
   ]
  },
  {
   "cell_type": "markdown",
   "metadata": {
    "id": "mFrmfKPad5qt"
   },
   "source": [
    "## Feature Engineering"
   ]
  },
  {
   "cell_type": "markdown",
   "metadata": {
    "id": "5MPYEfJWd5qu"
   },
   "source": [
    "### Generating new features from scheduled and appointment date features"
   ]
  },
  {
   "cell_type": "code",
   "execution_count": 49,
   "metadata": {
    "id": "iRuXxZ8Qd5qv"
   },
   "outputs": [],
   "source": [
    "df['Scheduled_DateTime'] = pd.to_datetime(df['ScheduledDay'])\n",
    "df['Scheduled_date'] = df['Scheduled_DateTime'].dt.date\n",
    "df['Scheduled_month']=df['Scheduled_DateTime'].dt.month\n",
    "df['Scheduled_hour'] = df['Scheduled_DateTime'].dt.hour\n",
    "df['Scheduled_weekday']=df['Scheduled_DateTime'].dt.weekday\n"
   ]
  },
  {
   "cell_type": "code",
   "execution_count": 50,
   "metadata": {
    "id": "KmJvY-qEd5qz"
   },
   "outputs": [],
   "source": [
    "df['Appointment_DateTime'] = pd.to_datetime(df['AppointmentDay'])\n",
    "df['Appointment_date'] = df['Appointment_DateTime'].dt.date\n",
    "df['Appointment_month']=df['Appointment_DateTime'].dt.month\n",
    "df['Appointment_hour'] = df['Appointment_DateTime'].dt.hour\n",
    "df['Appointment_weekday']=df['Appointment_DateTime'].dt.weekday"
   ]
  },
  {
   "cell_type": "code",
   "execution_count": 51,
   "metadata": {
    "colab": {
     "base_uri": "https://localhost:8080/"
    },
    "id": "YF7mKBNRljfb",
    "outputId": "af076300-560f-4815-f81d-3d84a0a8ca2d"
   },
   "outputs": [
    {
     "data": {
      "text/plain": [
       "datetime.date(2015, 11, 10)"
      ]
     },
     "execution_count": 51,
     "metadata": {
      "tags": []
     },
     "output_type": "execute_result"
    }
   ],
   "source": [
    "np.min(df['Scheduled_date'])"
   ]
  },
  {
   "cell_type": "code",
   "execution_count": 52,
   "metadata": {
    "colab": {
     "base_uri": "https://localhost:8080/"
    },
    "id": "rH7t6ogFlji0",
    "outputId": "2f9043b7-4cb7-4844-955f-4729f760f1e4"
   },
   "outputs": [
    {
     "data": {
      "text/plain": [
       "datetime.date(2016, 6, 8)"
      ]
     },
     "execution_count": 52,
     "metadata": {
      "tags": []
     },
     "output_type": "execute_result"
    }
   ],
   "source": [
    "np.max(df['Scheduled_date'])"
   ]
  },
  {
   "cell_type": "code",
   "execution_count": 53,
   "metadata": {
    "colab": {
     "base_uri": "https://localhost:8080/",
     "height": 411
    },
    "id": "CCn3ijyTvHLl",
    "outputId": "b47007e1-28f6-4aca-c51d-3f06fd26f324"
   },
   "outputs": [
    {
     "data": {
      "text/html": [
       "<div>\n",
       "<style scoped>\n",
       "    .dataframe tbody tr th:only-of-type {\n",
       "        vertical-align: middle;\n",
       "    }\n",
       "\n",
       "    .dataframe tbody tr th {\n",
       "        vertical-align: top;\n",
       "    }\n",
       "\n",
       "    .dataframe thead th {\n",
       "        text-align: right;\n",
       "    }\n",
       "</style>\n",
       "<table border=\"1\" class=\"dataframe\">\n",
       "  <thead>\n",
       "    <tr style=\"text-align: right;\">\n",
       "      <th></th>\n",
       "      <th>Appointment_DateTime</th>\n",
       "      <th>Appointment_date</th>\n",
       "      <th>Appointment_month</th>\n",
       "      <th>Appointment_hour</th>\n",
       "      <th>Appointment_weekday</th>\n",
       "    </tr>\n",
       "  </thead>\n",
       "  <tbody>\n",
       "    <tr>\n",
       "      <th>0</th>\n",
       "      <td>2016-04-29 00:00:00+00:00</td>\n",
       "      <td>2016-04-29</td>\n",
       "      <td>4</td>\n",
       "      <td>0</td>\n",
       "      <td>4</td>\n",
       "    </tr>\n",
       "    <tr>\n",
       "      <th>1</th>\n",
       "      <td>2016-04-29 00:00:00+00:00</td>\n",
       "      <td>2016-04-29</td>\n",
       "      <td>4</td>\n",
       "      <td>0</td>\n",
       "      <td>4</td>\n",
       "    </tr>\n",
       "    <tr>\n",
       "      <th>2</th>\n",
       "      <td>2016-04-29 00:00:00+00:00</td>\n",
       "      <td>2016-04-29</td>\n",
       "      <td>4</td>\n",
       "      <td>0</td>\n",
       "      <td>4</td>\n",
       "    </tr>\n",
       "    <tr>\n",
       "      <th>3</th>\n",
       "      <td>2016-04-29 00:00:00+00:00</td>\n",
       "      <td>2016-04-29</td>\n",
       "      <td>4</td>\n",
       "      <td>0</td>\n",
       "      <td>4</td>\n",
       "    </tr>\n",
       "    <tr>\n",
       "      <th>4</th>\n",
       "      <td>2016-04-29 00:00:00+00:00</td>\n",
       "      <td>2016-04-29</td>\n",
       "      <td>4</td>\n",
       "      <td>0</td>\n",
       "      <td>4</td>\n",
       "    </tr>\n",
       "    <tr>\n",
       "      <th>...</th>\n",
       "      <td>...</td>\n",
       "      <td>...</td>\n",
       "      <td>...</td>\n",
       "      <td>...</td>\n",
       "      <td>...</td>\n",
       "    </tr>\n",
       "    <tr>\n",
       "      <th>110522</th>\n",
       "      <td>2016-06-07 00:00:00+00:00</td>\n",
       "      <td>2016-06-07</td>\n",
       "      <td>6</td>\n",
       "      <td>0</td>\n",
       "      <td>1</td>\n",
       "    </tr>\n",
       "    <tr>\n",
       "      <th>110523</th>\n",
       "      <td>2016-06-07 00:00:00+00:00</td>\n",
       "      <td>2016-06-07</td>\n",
       "      <td>6</td>\n",
       "      <td>0</td>\n",
       "      <td>1</td>\n",
       "    </tr>\n",
       "    <tr>\n",
       "      <th>110524</th>\n",
       "      <td>2016-06-07 00:00:00+00:00</td>\n",
       "      <td>2016-06-07</td>\n",
       "      <td>6</td>\n",
       "      <td>0</td>\n",
       "      <td>1</td>\n",
       "    </tr>\n",
       "    <tr>\n",
       "      <th>110525</th>\n",
       "      <td>2016-06-07 00:00:00+00:00</td>\n",
       "      <td>2016-06-07</td>\n",
       "      <td>6</td>\n",
       "      <td>0</td>\n",
       "      <td>1</td>\n",
       "    </tr>\n",
       "    <tr>\n",
       "      <th>110526</th>\n",
       "      <td>2016-06-07 00:00:00+00:00</td>\n",
       "      <td>2016-06-07</td>\n",
       "      <td>6</td>\n",
       "      <td>0</td>\n",
       "      <td>1</td>\n",
       "    </tr>\n",
       "  </tbody>\n",
       "</table>\n",
       "<p>110527 rows × 5 columns</p>\n",
       "</div>"
      ],
      "text/plain": [
       "            Appointment_DateTime  ... Appointment_weekday\n",
       "0      2016-04-29 00:00:00+00:00  ...                   4\n",
       "1      2016-04-29 00:00:00+00:00  ...                   4\n",
       "2      2016-04-29 00:00:00+00:00  ...                   4\n",
       "3      2016-04-29 00:00:00+00:00  ...                   4\n",
       "4      2016-04-29 00:00:00+00:00  ...                   4\n",
       "...                          ...  ...                 ...\n",
       "110522 2016-06-07 00:00:00+00:00  ...                   1\n",
       "110523 2016-06-07 00:00:00+00:00  ...                   1\n",
       "110524 2016-06-07 00:00:00+00:00  ...                   1\n",
       "110525 2016-06-07 00:00:00+00:00  ...                   1\n",
       "110526 2016-06-07 00:00:00+00:00  ...                   1\n",
       "\n",
       "[110527 rows x 5 columns]"
      ]
     },
     "execution_count": 53,
     "metadata": {
      "tags": []
     },
     "output_type": "execute_result"
    }
   ],
   "source": [
    "df[['Appointment_DateTime', 'Appointment_date', 'Appointment_month', 'Appointment_hour', 'Appointment_weekday']]"
   ]
  },
  {
   "cell_type": "markdown",
   "metadata": {
    "id": "55j60oyfd5rR"
   },
   "source": [
    "### Creating 'number of days to appointment' \n",
    "\n",
    "This feature may have an impact on our target feature as we tend to forget,hence retrieving new feature from scheduled date and appointment date"
   ]
  },
  {
   "cell_type": "code",
   "execution_count": 54,
   "metadata": {
    "id": "OQ9IENKrd5rS"
   },
   "outputs": [],
   "source": [
    "fn = lambda row: (row.Appointment_date - row.Scheduled_date).days\n",
    "df['num_of_days'] = df.apply (fn, axis=1)"
   ]
  },
  {
   "cell_type": "code",
   "execution_count": 55,
   "metadata": {
    "colab": {
     "base_uri": "https://localhost:8080/"
    },
    "id": "Fa209PH1d5ra",
    "outputId": "798e4689-2a7d-444d-8c3e-bb69e67b6f27"
   },
   "outputs": [
    {
     "data": {
      "text/plain": [
       "count    110527.000000\n",
       "mean         10.183702\n",
       "std          15.254996\n",
       "min          -6.000000\n",
       "25%           0.000000\n",
       "50%           4.000000\n",
       "75%          15.000000\n",
       "max         179.000000\n",
       "Name: num_of_days, dtype: float64"
      ]
     },
     "execution_count": 55,
     "metadata": {
      "tags": []
     },
     "output_type": "execute_result"
    }
   ],
   "source": [
    "df.num_of_days.describe()"
   ]
  },
  {
   "cell_type": "markdown",
   "metadata": {
    "id": "zTRzMFOHd5re"
   },
   "source": [
    "__Observation__: We can see some negative values indicating there might be some outliers in the data as appointment date cannot happen before the scheduled date"
   ]
  },
  {
   "cell_type": "code",
   "execution_count": 56,
   "metadata": {
    "id": "8wZ7xTbVvHLm"
   },
   "outputs": [],
   "source": [
    "df.loc[df.num_of_days < 0, ['num_of_days']] = 0"
   ]
  },
  {
   "cell_type": "code",
   "execution_count": 57,
   "metadata": {
    "id": "CipDrGPud5q6"
   },
   "outputs": [],
   "source": [
    "df = df.drop(['ScheduledDay','Scheduled_DateTime','Scheduled_date'], axis=1)\n",
    "df = df.drop(['AppointmentDay','Appointment_DateTime','Appointment_date'], axis=1)"
   ]
  },
  {
   "cell_type": "code",
   "execution_count": 58,
   "metadata": {
    "colab": {
     "base_uri": "https://localhost:8080/",
     "height": 281
    },
    "id": "F1IC4UlDd5rM",
    "outputId": "44f39605-4880-43a3-9163-87bf5378d9a1"
   },
   "outputs": [
    {
     "data": {
      "image/png": "[encoded data removed]",
      "text/plain": [
       "<Figure size 432x288 with 1 Axes>"
      ]
     },
     "metadata": {
      "needs_background": "light",
      "tags": []
     },
     "output_type": "display_data"
    }
   ],
   "source": [
    "#0:MONDAY 1:TUESDAY 2:WEDNESDAY 3:THURSDAY 4:FRIDAY 5:SATURDAY\n",
    "barplot(\"Appointment_weekday\",df)"
   ]
  },
  {
   "cell_type": "code",
   "execution_count": 59,
   "metadata": {
    "colab": {
     "base_uri": "https://localhost:8080/",
     "height": 280
    },
    "id": "wDxi_Ih4vHLm",
    "outputId": "8f7da104-5190-4b5b-bfbb-543cf32396d4"
   },
   "outputs": [
    {
     "data": {
      "image/png": "[encoded data removed]",
      "text/plain": [
       "<Figure size 432x288 with 1 Axes>"
      ]
     },
     "metadata": {
      "needs_background": "light",
      "tags": []
     },
     "output_type": "display_data"
    }
   ],
   "source": [
    "barplot(\"Appointment_hour\",df)"
   ]
  },
  {
   "cell_type": "code",
   "execution_count": 60,
   "metadata": {
    "colab": {
     "base_uri": "https://localhost:8080/",
     "height": 282
    },
    "id": "OBucyrj0vHLq",
    "outputId": "963b3126-12b4-4370-b6cb-bc7010c90ddb"
   },
   "outputs": [
    {
     "data": {
      "image/png": "[encoded data removed]",
      "text/plain": [
       "<Figure size 432x288 with 1 Axes>"
      ]
     },
     "metadata": {
      "needs_background": "light",
      "tags": []
     },
     "output_type": "display_data"
    }
   ],
   "source": [
    "barplot(\"Scheduled_hour\",df)"
   ]
  },
  {
   "cell_type": "code",
   "execution_count": 61,
   "metadata": {
    "colab": {
     "base_uri": "https://localhost:8080/",
     "height": 280
    },
    "id": "Rfx34ywbvHLq",
    "outputId": "445ac0b9-83fb-49b8-b7b3-eb46b0468d9f"
   },
   "outputs": [
    {
     "data": {
      "image/png": "[encoded data removed]",
      "text/plain": [
       "<Figure size 432x288 with 1 Axes>"
      ]
     },
     "metadata": {
      "needs_background": "light",
      "tags": []
     },
     "output_type": "display_data"
    }
   ],
   "source": [
    "barplot(\"Appointment_month\",df)"
   ]
  },
  {
   "cell_type": "code",
   "execution_count": 62,
   "metadata": {
    "colab": {
     "base_uri": "https://localhost:8080/",
     "height": 282
    },
    "id": "Tm2pnemSvHLr",
    "outputId": "b748e366-379a-4f54-b6de-81f9ac9630bc"
   },
   "outputs": [
    {
     "data": {
      "image/png": "[encoded data removed]",
      "text/plain": [
       "<Figure size 432x288 with 1 Axes>"
      ]
     },
     "metadata": {
      "needs_background": "light",
      "tags": []
     },
     "output_type": "display_data"
    }
   ],
   "source": [
    "barplot(\"Scheduled_month\",df)"
   ]
  },
  {
   "cell_type": "markdown",
   "metadata": {
    "id": "ZqbrLwyrvHLv"
   },
   "source": [
    "__Observation:__ appointment hour has zero variance. So can be deleted"
   ]
  },
  {
   "cell_type": "code",
   "execution_count": 63,
   "metadata": {
    "id": "DgNDwqNSvHLv"
   },
   "outputs": [],
   "source": [
    "df = df.drop(['Appointment_hour'], axis=1)"
   ]
  },
  {
   "cell_type": "markdown",
   "metadata": {
    "id": "NVpmiE8OvHLv"
   },
   "source": [
    "### Typecasting newly created features"
   ]
  },
  {
   "cell_type": "code",
   "execution_count": 64,
   "metadata": {
    "colab": {
     "base_uri": "https://localhost:8080/"
    },
    "id": "TCxP4XXdvHLv",
    "outputId": "79d1ed7b-362e-42d9-fde3-ef7998b3e514"
   },
   "outputs": [
    {
     "data": {
      "text/plain": [
       "Scholarship            category\n",
       "Hypertension           category\n",
       "Diabetes               category\n",
       "Handicapped            category\n",
       "SMS_received           category\n",
       "No-show                category\n",
       "Age_binned             category\n",
       "Scheduled_month           int64\n",
       "Scheduled_hour            int64\n",
       "Scheduled_weekday         int64\n",
       "Appointment_month         int64\n",
       "Appointment_weekday       int64\n",
       "num_of_days               int64\n",
       "dtype: object"
      ]
     },
     "execution_count": 64,
     "metadata": {
      "tags": []
     },
     "output_type": "execute_result"
    }
   ],
   "source": [
    "df.dtypes"
   ]
  },
  {
   "cell_type": "code",
   "execution_count": 65,
   "metadata": {
    "id": "HMe0YC3NvHLv"
   },
   "outputs": [],
   "source": [
    "for col in ['Scheduled_month', 'Scheduled_weekday', 'Appointment_month', 'Appointment_weekday']:\n",
    "    df[col] = df[col].astype('category')"
   ]
  },
  {
   "cell_type": "code",
   "execution_count": 66,
   "metadata": {
    "colab": {
     "base_uri": "https://localhost:8080/"
    },
    "id": "eTjlXfmtvHLv",
    "outputId": "fcb1e467-52a0-4c95-8687-3c9b15639fe7"
   },
   "outputs": [
    {
     "data": {
      "text/plain": [
       "Scholarship            category\n",
       "Hypertension           category\n",
       "Diabetes               category\n",
       "Handicapped            category\n",
       "SMS_received           category\n",
       "No-show                category\n",
       "Age_binned             category\n",
       "Scheduled_month        category\n",
       "Scheduled_hour            int64\n",
       "Scheduled_weekday      category\n",
       "Appointment_month      category\n",
       "Appointment_weekday    category\n",
       "num_of_days               int64\n",
       "dtype: object"
      ]
     },
     "execution_count": 66,
     "metadata": {
      "tags": []
     },
     "output_type": "execute_result"
    }
   ],
   "source": [
    "df.dtypes"
   ]
  },
  {
   "cell_type": "markdown",
   "metadata": {
    "id": "y2Uqja2TvHLv"
   },
   "source": [
    "### Effect of num_days on No-show attribute"
   ]
  },
  {
   "cell_type": "code",
   "execution_count": 67,
   "metadata": {
    "colab": {
     "base_uri": "https://localhost:8080/"
    },
    "id": "MHMPsxyFvHL1",
    "outputId": "20def028-ba87-4b24-9beb-665bc585a0d3",
    "scrolled": true
   },
   "outputs": [
    {
     "name": "stdout",
     "output_type": "stream",
     "text": [
      "   num_of_days     No   Yes  TotalCount  probNoShowUp\n",
      "0            0  36771  1797       38568      0.046593\n",
      "1            1   4100  1113        5213      0.213505\n",
      "2            2   5123  1602        6725      0.238216\n",
      "3            3   2093   644        2737      0.235294\n",
      "4            4   4059  1231        5290      0.232703\n"
     ]
    }
   ],
   "source": [
    "data = getProbOfNoShow('num_of_days', 'No-show', df)"
   ]
  },
  {
   "cell_type": "code",
   "execution_count": 68,
   "metadata": {
    "colab": {
     "base_uri": "https://localhost:8080/",
     "height": 400
    },
    "id": "MRmSjQsvvHL2",
    "outputId": "87c74e58-3693-48d6-9a1a-d33394f7f2a8"
   },
   "outputs": [
    {
     "data": {
      "image/png": "[encoded data removed]",
      "text/plain": [
       "<Figure size 360x360 with 1 Axes>"
      ]
     },
     "metadata": {
      "needs_background": "light",
      "tags": []
     },
     "output_type": "display_data"
    }
   ],
   "source": [
    "sns.lmplot(data = data, x = 'num_of_days', y = 'probNoShowUp', fit_reg = True)\n",
    "# plt.xticks(np.arange(np.min(df['num_days']), np.max(df['num_days']), 10))\n",
    "plt.title('Probability of Not Showing up with respect to Num of Days to appointment')\n",
    "plt.show()"
   ]
  },
  {
   "cell_type": "markdown",
   "metadata": {
    "id": "z0mEZrQ4vHL2"
   },
   "source": [
    "__Observation:__ Num of days prior to appointment has no clear pattern in it."
   ]
  },
  {
   "cell_type": "markdown",
   "metadata": {
    "id": "GNbJ4QN0vHL2"
   },
   "source": [
    "### Effect of Scheduled_hour on No-show attribute"
   ]
  },
  {
   "cell_type": "code",
   "execution_count": 69,
   "metadata": {
    "colab": {
     "base_uri": "https://localhost:8080/"
    },
    "id": "TpkPMZzSvHL2",
    "outputId": "e46eb284-0c95-476d-bc53-6b10b53521c3",
    "scrolled": true
   },
   "outputs": [
    {
     "name": "stdout",
     "output_type": "stream",
     "text": [
      "   Scheduled_hour     No   Yes  TotalCount  probNoShowUp\n",
      "0               6   1275   303        1578      0.192015\n",
      "1               7  16302  2911       19213      0.151512\n",
      "2               8  12545  2804       15349      0.182683\n",
      "3               9  10297  2526       12823      0.196990\n",
      "4              10   8616  2440       11056      0.220695\n"
     ]
    }
   ],
   "source": [
    "data = getProbOfNoShow('Scheduled_hour', 'No-show', df)"
   ]
  },
  {
   "cell_type": "code",
   "execution_count": 70,
   "metadata": {
    "colab": {
     "base_uri": "https://localhost:8080/",
     "height": 400
    },
    "id": "XS9g_U2AvHL3",
    "outputId": "91a5629e-61d6-470f-8c3a-12089beaed89"
   },
   "outputs": [
    {
     "data": {
      "image/png": "[encoded data removed]",
      "text/plain": [
       "<Figure size 360x360 with 1 Axes>"
      ]
     },
     "metadata": {
      "needs_background": "light",
      "tags": []
     },
     "output_type": "display_data"
    }
   ],
   "source": [
    "sns.lmplot(data = data, x = 'Scheduled_hour', y = 'probNoShowUp', fit_reg = True)\n",
    "# plt.xticks(np.arange(np.min(df['num_days']), np.max(df['num_days']), 10))\n",
    "plt.title('Probability of Not Showing up wrt Hour the appointment is booked')\n",
    "plt.show()"
   ]
  },
  {
   "cell_type": "markdown",
   "metadata": {
    "id": "hLOUJcFAvHL3"
   },
   "source": [
    "__Observation__: There is clear trend in above graph, showcasing the effect of scheduled hour on no-show up. We can bin Scheduled hour with bin size of 2 hours"
   ]
  },
  {
   "cell_type": "code",
   "execution_count": 71,
   "metadata": {
    "id": "y5ty54wzd5r-"
   },
   "outputs": [],
   "source": [
    "#Binning of Scheduled_time\n",
    "def get_session_of_day(x):\n",
    "    if x < 8:\n",
    "        return 'EarlyMorning'\n",
    "    elif (x >= 8) and (x < 12 ):\n",
    "        return 'Morning'\n",
    "    elif (x >= 12) and (x < 16):\n",
    "        return'Noon'\n",
    "    elif (x >= 16) and (x < 20) :\n",
    "        return 'Eve'\n",
    "    elif (x >= 20) and (x < 24):\n",
    "        return'Night'"
   ]
  },
  {
   "cell_type": "code",
   "execution_count": 72,
   "metadata": {
    "id": "WJc4z6ACd5sB"
   },
   "outputs": [],
   "source": [
    "df['Scheduled_session_of_day'] = df['Scheduled_hour'].apply(get_session_of_day)"
   ]
  },
  {
   "cell_type": "code",
   "execution_count": 73,
   "metadata": {
    "id": "TYrDYp4hd5sF"
   },
   "outputs": [],
   "source": [
    "df=df.drop('Scheduled_hour',axis=1)"
   ]
  },
  {
   "cell_type": "code",
   "execution_count": 74,
   "metadata": {
    "colab": {
     "base_uri": "https://localhost:8080/"
    },
    "id": "tQPpHLIvd5sI",
    "outputId": "732c0a68-01f1-4f9e-da9d-93fb398c8e1d"
   },
   "outputs": [
    {
     "data": {
      "text/plain": [
       "Scholarship                 category\n",
       "Hypertension                category\n",
       "Diabetes                    category\n",
       "Handicapped                 category\n",
       "SMS_received                category\n",
       "No-show                     category\n",
       "Age_binned                  category\n",
       "Scheduled_month             category\n",
       "Scheduled_weekday           category\n",
       "Appointment_month           category\n",
       "Appointment_weekday         category\n",
       "num_of_days                    int64\n",
       "Scheduled_session_of_day    category\n",
       "dtype: object"
      ]
     },
     "execution_count": 74,
     "metadata": {
      "tags": []
     },
     "output_type": "execute_result"
    }
   ],
   "source": [
    "df['Scheduled_session_of_day']=df['Scheduled_session_of_day'].astype('category')\n",
    "df.dtypes"
   ]
  },
  {
   "cell_type": "markdown",
   "metadata": {
    "id": "BTrXDPWkvHL5"
   },
   "source": [
    "### Performing Chisquare test of independence on newly added categorical columns"
   ]
  },
  {
   "cell_type": "code",
   "execution_count": 75,
   "metadata": {
    "colab": {
     "base_uri": "https://localhost:8080/"
    },
    "id": "_7Sd-cl7vHL5",
    "outputId": "8492b642-e18b-4a05-e243-f557b07958c3"
   },
   "outputs": [
    {
     "name": "stdout",
     "output_type": "stream",
     "text": [
      "---------------No-show Vs Scheduled_month Chi Square Test of Independence -------------------\n",
      "\n",
      " Contingency table :\n",
      "\n",
      "[[   42   199  2418 17490 55652 12364     1    42]\n",
      " [   18    82  1196  7849 11769  1386     0    19]]\n",
      "\n",
      " Expected table :\n",
      "\n",
      "[[4.78840464e+01 2.24256951e+02 2.88421573e+03 2.02222309e+04\n",
      "  5.38065049e+04 1.09734273e+04 7.98067441e-01 4.86821139e+01]\n",
      " [1.21159536e+01 5.67430492e+01 7.29784270e+02 5.11676912e+03\n",
      "  1.36144951e+04 2.77657269e+03 2.01932559e-01 1.23178861e+01]]\n",
      "The p value returned = 0.0 and degrees of freedom returned = 7\n",
      "significance(alpha) = 0.050\n",
      "Dependent (reject H0)\n",
      "---------------No-show Vs Scheduled_weekday Chi Square Test of Independence -------------------\n",
      "\n",
      " Contingency table :\n",
      "\n",
      "[[18524 20877 19383 14373 15028    23]\n",
      " [ 4561  5291  4879  3700  3887     1]]\n",
      "\n",
      " Expected table :\n",
      "\n",
      "[[1.84233869e+04 2.08838288e+04 1.93627122e+04 1.44234729e+04\n",
      "  1.50954456e+04 1.91536186e+01]\n",
      " [4.66161314e+03 5.28417122e+03 4.89928776e+03 3.64952715e+03\n",
      "  3.81955436e+03 4.84638143e+00]]\n",
      "The p value returned = 0.10789498364057512 and degrees of freedom returned = 5\n",
      "significance(alpha) = 0.050\n",
      "Independent (fail to reject H0)\n",
      "---------------No-show Vs Appointment_month Chi Square Test of Independence -------------------\n",
      "\n",
      " Contingency table :\n",
      "\n",
      "[[ 2602 64037 21569]\n",
      " [  633 16804  4882]]\n",
      "\n",
      " Expected table :\n",
      "\n",
      "[[ 2581.74817013 64516.56996028 21109.68186959]\n",
      " [  653.25182987 16324.43003972  5341.31813041]]\n",
      "The p value returned = 1.7727517737147313e-15 and degrees of freedom returned = 2\n",
      "significance(alpha) = 0.050\n",
      "Dependent (reject H0)\n",
      "---------------No-show Vs Appointment_weekday Chi Square Test of Independence -------------------\n",
      "\n",
      " Contingency table :\n",
      "\n",
      "[[18025 20488 20774 13909 14982    30]\n",
      " [ 4690  5152  5093  3338  4037     9]]\n",
      "\n",
      " Expected table :\n",
      "\n",
      "[[1.81281019e+04 2.04624492e+04 2.06436105e+04 1.37642691e+04\n",
      "  1.51784447e+04 3.11246302e+01]\n",
      " [4.58689809e+03 5.17755082e+03 5.22338952e+03 3.48273085e+03\n",
      "  3.84055535e+03 7.87536982e+00]]\n",
      "The p value returned = 4.622523600571694e-05 and degrees of freedom returned = 5\n",
      "significance(alpha) = 0.050\n",
      "Dependent (reject H0)\n",
      "---------------No-show Vs Scheduled_session_of_day Chi Square Test of Independence -------------------\n",
      "\n",
      " Contingency table :\n",
      "\n",
      "[[17577  7841 37992    72 24726]\n",
      " [ 3214  2438  9698    31  6938]]\n",
      "\n",
      " Expected table :\n",
      "\n",
      "[[1.65926202e+04 8.20333522e+03 3.80598362e+04 8.22009464e+01\n",
      "  2.52700074e+04]\n",
      " [4.19837984e+03 2.07566478e+03 9.63016376e+03 2.07990536e+01\n",
      "  6.39399256e+03]]\n",
      "The p value returned = 1.750111429867729e-92 and degrees of freedom returned = 4\n",
      "significance(alpha) = 0.050\n",
      "Dependent (reject H0)\n"
     ]
    }
   ],
   "source": [
    "for col in ['Scheduled_month', 'Scheduled_weekday', 'Appointment_month', 'Appointment_weekday', 'Scheduled_session_of_day']:\n",
    "    find_chi2_independence(col, 'No-show', df)"
   ]
  },
  {
   "cell_type": "markdown",
   "metadata": {
    "id": "gtzmAOgkvHL6"
   },
   "source": [
    "__Observation:__ We see most of the newly engineered features show some relation w.r.t to target"
   ]
  },
  {
   "cell_type": "code",
   "execution_count": 76,
   "metadata": {
    "id": "WsOAKvSaCmzk"
   },
   "outputs": [],
   "source": [
    "### Probabilistic Analysis of newly created features\n",
    "\n",
    "##### Scheduled Month and Appointment Month"
   ]
  },
  {
   "cell_type": "code",
   "execution_count": 77,
   "metadata": {
    "colab": {
     "base_uri": "https://localhost:8080/",
     "height": 622
    },
    "id": "8ACRAC2vvHL7",
    "outputId": "56df5da4-4430-4ff8-eb05-58487f6f0168"
   },
   "outputs": [
    {
     "data": {
      "image/png": "[encoded data removed]",
      "text/plain": [
       "<Figure size 720x720 with 1 Axes>"
      ]
     },
     "metadata": {
      "needs_background": "light",
      "tags": []
     },
     "output_type": "display_data"
    }
   ],
   "source": [
    "plt.figure(figsize=(10,10))\n",
    "sns.barplot(data = probStatusCategorical(['Scheduled_month', 'Appointment_month']),\n",
    "            x = 'Condition', y = 'Probability', hue = 'Level', palette = 'Set2')\n",
    "plt.title('Probability of not showing up')\n",
    "plt.ylabel('Probability')\n",
    "plt.show()"
   ]
  },
  {
   "cell_type": "markdown",
   "metadata": {
    "id": "FoShc7-MvHL7"
   },
   "source": [
    "__Observation__: Suprised to see that appointments are allowed/booked for only three months"
   ]
  },
  {
   "cell_type": "markdown",
   "metadata": {
    "id": "TPnQ3bBqvHL7"
   },
   "source": [
    "##### Scheduled Weekday and Appointment Weekday"
   ]
  },
  {
   "cell_type": "code",
   "execution_count": 78,
   "metadata": {
    "colab": {
     "base_uri": "https://localhost:8080/",
     "height": 622
    },
    "id": "Eh7JH-i9YWuB",
    "outputId": "8a392f02-2694-4e2c-9a08-082c0888085c",
    "scrolled": true
   },
   "outputs": [
    {
     "data": {
      "image/png": "[encoded data removed]",
      "text/plain": [
       "<Figure size 720x720 with 1 Axes>"
      ]
     },
     "metadata": {
      "needs_background": "light",
      "tags": []
     },
     "output_type": "display_data"
    }
   ],
   "source": [
    "plt.figure(figsize=(10,10))\n",
    "sns.barplot(data = probStatusCategorical(['Scheduled_weekday', 'Appointment_weekday']),\n",
    "            x = 'Condition', y = 'Probability', hue = 'Level', palette = 'Set2')\n",
    "plt.title('Probability of not showing up')\n",
    "plt.ylabel('Probability')\n",
    "plt.show()"
   ]
  },
  {
   "cell_type": "markdown",
   "metadata": {
    "id": "4Wc6u09HvqD5"
   },
   "source": [
    "__Observation__: Weekday seems to have similar/equal pattern on no show ups. \n",
    "\n",
    "Some interesting insights are\n",
    "- Significantly less people called/scheduled for an appointment on Saturday. \n",
    "- More people tend to not show up on Saturday"
   ]
  },
  {
   "cell_type": "markdown",
   "metadata": {
    "id": "bwqlMd6Xd5sc"
   },
   "source": [
    "## Checking  target feature distribution"
   ]
  },
  {
   "cell_type": "code",
   "execution_count": 80,
   "metadata": {
    "colab": {
     "base_uri": "https://localhost:8080/",
     "height": 279
    },
    "id": "zzMKi_Upd5sc",
    "outputId": "3c32567d-a10b-4223-aef5-12bc87e8c520"
   },
   "outputs": [
    {
     "data": {
      "image/png": "[encoded data removed]",
      "text/plain": [
       "<Figure size 432x288 with 1 Axes>"
      ]
     },
     "metadata": {
      "needs_background": "light",
      "tags": []
     },
     "output_type": "display_data"
    }
   ],
   "source": [
    "barplot(\"No-show\",df)"
   ]
  },
  {
   "cell_type": "code",
   "execution_count": 81,
   "metadata": {
    "colab": {
     "base_uri": "https://localhost:8080/"
    },
    "id": "EfLDFq-Ud5sg",
    "outputId": "64d3723b-51ac-48bc-8b51-b1daced095df"
   },
   "outputs": [
    {
     "name": "stdout",
     "output_type": "stream",
     "text": [
      "The count distribution target classes is as below:\n"
     ]
    },
    {
     "data": {
      "text/plain": [
       "No     88208\n",
       "Yes    22319\n",
       "Name: No-show, dtype: int64"
      ]
     },
     "execution_count": 81,
     "metadata": {
      "tags": []
     },
     "output_type": "execute_result"
    }
   ],
   "source": [
    "print(\"The count distribution target classes is as below:\")\n",
    "\n",
    "df['No-show'].value_counts()"
   ]
  },
  {
   "cell_type": "code",
   "execution_count": 82,
   "metadata": {
    "colab": {
     "base_uri": "https://localhost:8080/"
    },
    "id": "iriVBDOdd5sm",
    "outputId": "185355ae-74e6-4a19-fa06-2b84a73962fb"
   },
   "outputs": [
    {
     "name": "stdout",
     "output_type": "stream",
     "text": [
      "The percentage distribution target classes is as below:\n"
     ]
    },
    {
     "data": {
      "text/plain": [
       "No     0.798067\n",
       "Yes    0.201933\n",
       "Name: No-show, dtype: float64"
      ]
     },
     "execution_count": 82,
     "metadata": {
      "tags": []
     },
     "output_type": "execute_result"
    }
   ],
   "source": [
    "print(\"The percentage distribution target classes is as below:\")\n",
    "\n",
    "df['No-show'].value_counts('Yes')"
   ]
  },
  {
   "cell_type": "markdown",
   "metadata": {
    "id": "qfZqh2TVKMlR"
   },
   "source": [
    "### Replacing Yes/No in the target column with 1/0"
   ]
  },
  {
   "cell_type": "code",
   "execution_count": 83,
   "metadata": {
    "colab": {
     "base_uri": "https://localhost:8080/"
    },
    "id": "yVeCsPgqJwCI",
    "outputId": "a3b13cf8-1657-4f84-f89b-ed5c95c53685"
   },
   "outputs": [
    {
     "data": {
      "text/plain": [
       "No     88208\n",
       "Yes    22319\n",
       "Name: No-show, dtype: int64"
      ]
     },
     "execution_count": 83,
     "metadata": {
      "tags": []
     },
     "output_type": "execute_result"
    }
   ],
   "source": [
    "df['No-show'].value_counts()"
   ]
  },
  {
   "cell_type": "code",
   "execution_count": 84,
   "metadata": {
    "colab": {
     "base_uri": "https://localhost:8080/"
    },
    "id": "41tjLHDUJm5n",
    "outputId": "7dc90d98-713e-4693-faa8-6ad532dce3cf"
   },
   "outputs": [
    {
     "data": {
      "text/plain": [
       "0    88208\n",
       "1    22319\n",
       "Name: No-show, dtype: int64"
      ]
     },
     "execution_count": 84,
     "metadata": {
      "tags": []
     },
     "output_type": "execute_result"
    }
   ],
   "source": [
    "df['No-show'] = df['No-show'].replace(to_replace=['No', 'Yes'], value=[0, 1])\n",
    "df['No-show'].value_counts()"
   ]
  },
  {
   "cell_type": "markdown",
   "metadata": {
    "id": "X0o4R4QSYxvB"
   },
   "source": [
    "# Split the data into train and test"
   ]
  },
  {
   "cell_type": "code",
   "execution_count": 85,
   "metadata": {
    "id": "nu40qDCMYhJz"
   },
   "outputs": [],
   "source": [
    "y=df[\"No-show\"]\n",
    "X=df.drop('No-show', axis=1)\n",
    "X_train, X_val, y_train, y_val = train_test_split(X, y, test_size=0.20,random_state=123, stratify=y)"
   ]
  },
  {
   "cell_type": "code",
   "execution_count": 86,
   "metadata": {
    "colab": {
     "base_uri": "https://localhost:8080/"
    },
    "id": "rNkF067nZC_K",
    "outputId": "10a06d49-b9bd-4f64-8894-f86e05eeb30c"
   },
   "outputs": [
    {
     "name": "stdout",
     "output_type": "stream",
     "text": [
      "(88421, 12)\n",
      "(22106, 12)\n",
      "(88421,)\n",
      "(22106,)\n"
     ]
    }
   ],
   "source": [
    "print(X_train.shape)\n",
    "print(X_val.shape)\n",
    "print(y_train.shape)\n",
    "print(y_val.shape)"
   ]
  },
  {
   "cell_type": "markdown",
   "metadata": {
    "id": "mhXLf6cyZJ9t"
   },
   "source": [
    "## Split the attributes into numerical and categorical types"
   ]
  },
  {
   "cell_type": "code",
   "execution_count": 87,
   "metadata": {
    "colab": {
     "base_uri": "https://localhost:8080/"
    },
    "id": "lyFFCBJ-ZMtL",
    "outputId": "563388c9-9910-47ce-9b69-197c87d20f02"
   },
   "outputs": [
    {
     "data": {
      "text/plain": [
       "Index(['num_of_days'], dtype='object')"
      ]
     },
     "execution_count": 87,
     "metadata": {
      "tags": []
     },
     "output_type": "execute_result"
    }
   ],
   "source": [
    "num_attr=X_train.select_dtypes(['int64']).columns\n",
    "num_attr"
   ]
  },
  {
   "cell_type": "code",
   "execution_count": 88,
   "metadata": {
    "colab": {
     "base_uri": "https://localhost:8080/"
    },
    "id": "v77MaP0MZMw1",
    "outputId": "a294acac-b0c0-4b3b-db8f-1ff6114cf1fa"
   },
   "outputs": [
    {
     "data": {
      "text/plain": [
       "Index(['Scholarship', 'Hypertension', 'Diabetes', 'Handicapped',\n",
       "       'SMS_received', 'Age_binned', 'Scheduled_month', 'Scheduled_weekday',\n",
       "       'Appointment_month', 'Appointment_weekday', 'Scheduled_session_of_day'],\n",
       "      dtype='object')"
      ]
     },
     "execution_count": 88,
     "metadata": {
      "tags": []
     },
     "output_type": "execute_result"
    }
   ],
   "source": [
    "cat_attr = X_train.select_dtypes('category').columns\n",
    "cat_attr"
   ]
  },
  {
   "cell_type": "markdown",
   "metadata": {
    "id": "78FZr8TCEtJP"
   },
   "source": [
    "# Preparation for Model buillding\n",
    "\n",
    "## Imputing missing values with median for numerical attributes"
   ]
  },
  {
   "cell_type": "code",
   "execution_count": 89,
   "metadata": {
    "id": "MElasrMwaRX-"
   },
   "outputs": [],
   "source": [
    "imputer = SimpleImputer(strategy='median')\n",
    "\n",
    "imputer = imputer.fit(X_train[num_attr])\n",
    "\n",
    "X_train[num_attr] = imputer.transform(X_train[num_attr])\n",
    "X_val[num_attr] = imputer.transform(X_val[num_attr])"
   ]
  },
  {
   "cell_type": "code",
   "execution_count": 90,
   "metadata": {
    "colab": {
     "base_uri": "https://localhost:8080/"
    },
    "id": "FQVc5HtDFSsz",
    "outputId": "3786728a-44df-417d-ac8d-2444d5b22f47"
   },
   "outputs": [
    {
     "name": "stdout",
     "output_type": "stream",
     "text": [
      "Scholarship                 0\n",
      "Hypertension                0\n",
      "Diabetes                    0\n",
      "Handicapped                 0\n",
      "SMS_received                0\n",
      "Age_binned                  0\n",
      "Scheduled_month             0\n",
      "Scheduled_weekday           0\n",
      "Appointment_month           0\n",
      "Appointment_weekday         0\n",
      "num_of_days                 0\n",
      "Scheduled_session_of_day    0\n",
      "dtype: int64\n",
      "Scholarship                 0\n",
      "Hypertension                0\n",
      "Diabetes                    0\n",
      "Handicapped                 0\n",
      "SMS_received                0\n",
      "Age_binned                  0\n",
      "Scheduled_month             0\n",
      "Scheduled_weekday           0\n",
      "Appointment_month           0\n",
      "Appointment_weekday         0\n",
      "num_of_days                 0\n",
      "Scheduled_session_of_day    0\n",
      "dtype: int64\n"
     ]
    }
   ],
   "source": [
    "print(X_train.isnull().sum())\n",
    "print(X_val.isnull().sum())"
   ]
  },
  {
   "cell_type": "markdown",
   "metadata": {
    "id": "Ky3BrF7EvHL_"
   },
   "source": [
    "## Imputing missing values with mode for categorical attributes"
   ]
  },
  {
   "cell_type": "code",
   "execution_count": 91,
   "metadata": {
    "id": "M8qkcZOodt4S"
   },
   "outputs": [],
   "source": [
    "imputer = SimpleImputer(strategy='most_frequent')\n",
    "\n",
    "imputer = imputer.fit(X_train[cat_attr])\n",
    "\n",
    "X_train[cat_attr] = imputer.transform(X_train[cat_attr])\n",
    "X_val[cat_attr] = imputer.transform(X_val[cat_attr])"
   ]
  },
  {
   "cell_type": "markdown",
   "metadata": {
    "id": "HC6ewXEwFoqn"
   },
   "source": [
    "### Standardizing the numerical attributes and One-hot encoding categorical attributes "
   ]
  },
  {
   "cell_type": "code",
   "execution_count": 92,
   "metadata": {
    "id": "NiQgi1C9vHL_"
   },
   "outputs": [],
   "source": [
    "# DataFrameMapper, a class for mapping pandas data frame columns to different sklearn transformations\n",
    "mapper = DataFrameMapper(\n",
    "  [([continuous_col], StandardScaler()) for continuous_col in num_attr] +\n",
    "  [([categorical_col], OneHotEncoder(handle_unknown='error')) for categorical_col in cat_attr]\n",
    ", df_out=True)"
   ]
  },
  {
   "cell_type": "code",
   "execution_count": 93,
   "metadata": {
    "colab": {
     "base_uri": "https://localhost:8080/"
    },
    "id": "nVtxCj78vHL_",
    "outputId": "9a644f93-e573-4ed6-ac6b-123d5a6f3ba6"
   },
   "outputs": [
    {
     "name": "stdout",
     "output_type": "stream",
     "text": [
      "<class 'sklearn_pandas.dataframe_mapper.DataFrameMapper'>\n"
     ]
    }
   ],
   "source": [
    "print(type(mapper))"
   ]
  },
  {
   "cell_type": "code",
   "execution_count": 94,
   "metadata": {
    "id": "IloEE7ZivHL_"
   },
   "outputs": [],
   "source": [
    "mapper.fit(X_train)\n",
    "\n",
    "X_train_final = mapper.transform(X_train)\n",
    "X_val_final = mapper.transform(X_val)"
   ]
  },
  {
   "cell_type": "code",
   "execution_count": 95,
   "metadata": {
    "colab": {
     "base_uri": "https://localhost:8080/"
    },
    "id": "XAWKDUw6vHL_",
    "outputId": "8df342df-f242-477c-a1d9-1b0019d17699"
   },
   "outputs": [
    {
     "data": {
      "text/plain": [
       "Index(['num_of_days', 'Scholarship_x0_0', 'Scholarship_x0_1',\n",
       "       'Hypertension_x0_0', 'Hypertension_x0_1', 'Diabetes_x0_0',\n",
       "       'Diabetes_x0_1', 'Handicapped_x0_0', 'Handicapped_x0_1',\n",
       "       'SMS_received_x0_0', 'SMS_received_x0_1', 'Age_binned_x0_0',\n",
       "       'Age_binned_x0_20', 'Age_binned_x0_40', 'Age_binned_x0_60',\n",
       "       'Age_binned_x0_80', 'Age_binned_x0_100', 'Scheduled_month_x0_1',\n",
       "       'Scheduled_month_x0_2', 'Scheduled_month_x0_3', 'Scheduled_month_x0_4',\n",
       "       'Scheduled_month_x0_5', 'Scheduled_month_x0_6', 'Scheduled_month_x0_11',\n",
       "       'Scheduled_month_x0_12', 'Scheduled_weekday_x0_0',\n",
       "       'Scheduled_weekday_x0_1', 'Scheduled_weekday_x0_2',\n",
       "       'Scheduled_weekday_x0_3', 'Scheduled_weekday_x0_4',\n",
       "       'Scheduled_weekday_x0_5', 'Appointment_month_x0_4',\n",
       "       'Appointment_month_x0_5', 'Appointment_month_x0_6',\n",
       "       'Appointment_weekday_x0_0', 'Appointment_weekday_x0_1',\n",
       "       'Appointment_weekday_x0_2', 'Appointment_weekday_x0_3',\n",
       "       'Appointment_weekday_x0_4', 'Appointment_weekday_x0_5',\n",
       "       'Scheduled_session_of_day_x0_EarlyMorning',\n",
       "       'Scheduled_session_of_day_x0_Eve',\n",
       "       'Scheduled_session_of_day_x0_Morning',\n",
       "       'Scheduled_session_of_day_x0_Night',\n",
       "       'Scheduled_session_of_day_x0_Noon'],\n",
       "      dtype='object')"
      ]
     },
     "execution_count": 95,
     "metadata": {
      "tags": []
     },
     "output_type": "execute_result"
    }
   ],
   "source": [
    "X_train_final.columns"
   ]
  },
  {
   "cell_type": "code",
   "execution_count": 96,
   "metadata": {
    "colab": {
     "base_uri": "https://localhost:8080/",
     "height": 220
    },
    "id": "IVX2e3TDvHMA",
    "outputId": "90d19873-124c-4866-c951-0910416a6ce3"
   },
   "outputs": [
    {
     "data": {
      "text/html": [
       "<div>\n",
       "<style scoped>\n",
       "    .dataframe tbody tr th:only-of-type {\n",
       "        vertical-align: middle;\n",
       "    }\n",
       "\n",
       "    .dataframe tbody tr th {\n",
       "        vertical-align: top;\n",
       "    }\n",
       "\n",
       "    .dataframe thead th {\n",
       "        text-align: right;\n",
       "    }\n",
       "</style>\n",
       "<table border=\"1\" class=\"dataframe\">\n",
       "  <thead>\n",
       "    <tr style=\"text-align: right;\">\n",
       "      <th></th>\n",
       "      <th>num_of_days</th>\n",
       "      <th>Scholarship_x0_0</th>\n",
       "      <th>Scholarship_x0_1</th>\n",
       "      <th>Hypertension_x0_0</th>\n",
       "      <th>Hypertension_x0_1</th>\n",
       "      <th>Diabetes_x0_0</th>\n",
       "      <th>Diabetes_x0_1</th>\n",
       "      <th>Handicapped_x0_0</th>\n",
       "      <th>Handicapped_x0_1</th>\n",
       "      <th>SMS_received_x0_0</th>\n",
       "      <th>SMS_received_x0_1</th>\n",
       "      <th>Age_binned_x0_0</th>\n",
       "      <th>Age_binned_x0_20</th>\n",
       "      <th>Age_binned_x0_40</th>\n",
       "      <th>Age_binned_x0_60</th>\n",
       "      <th>Age_binned_x0_80</th>\n",
       "      <th>Age_binned_x0_100</th>\n",
       "      <th>Scheduled_month_x0_1</th>\n",
       "      <th>Scheduled_month_x0_2</th>\n",
       "      <th>Scheduled_month_x0_3</th>\n",
       "      <th>Scheduled_month_x0_4</th>\n",
       "      <th>Scheduled_month_x0_5</th>\n",
       "      <th>Scheduled_month_x0_6</th>\n",
       "      <th>Scheduled_month_x0_11</th>\n",
       "      <th>Scheduled_month_x0_12</th>\n",
       "      <th>Scheduled_weekday_x0_0</th>\n",
       "      <th>Scheduled_weekday_x0_1</th>\n",
       "      <th>Scheduled_weekday_x0_2</th>\n",
       "      <th>Scheduled_weekday_x0_3</th>\n",
       "      <th>Scheduled_weekday_x0_4</th>\n",
       "      <th>Scheduled_weekday_x0_5</th>\n",
       "      <th>Appointment_month_x0_4</th>\n",
       "      <th>Appointment_month_x0_5</th>\n",
       "      <th>Appointment_month_x0_6</th>\n",
       "      <th>Appointment_weekday_x0_0</th>\n",
       "      <th>Appointment_weekday_x0_1</th>\n",
       "      <th>Appointment_weekday_x0_2</th>\n",
       "      <th>Appointment_weekday_x0_3</th>\n",
       "      <th>Appointment_weekday_x0_4</th>\n",
       "      <th>Appointment_weekday_x0_5</th>\n",
       "      <th>Scheduled_session_of_day_x0_EarlyMorning</th>\n",
       "      <th>Scheduled_session_of_day_x0_Eve</th>\n",
       "      <th>Scheduled_session_of_day_x0_Morning</th>\n",
       "      <th>Scheduled_session_of_day_x0_Night</th>\n",
       "      <th>Scheduled_session_of_day_x0_Noon</th>\n",
       "    </tr>\n",
       "  </thead>\n",
       "  <tbody>\n",
       "    <tr>\n",
       "      <th>29694</th>\n",
       "      <td>-0.207606</td>\n",
       "      <td>1.0</td>\n",
       "      <td>0.0</td>\n",
       "      <td>1.0</td>\n",
       "      <td>0.0</td>\n",
       "      <td>1.0</td>\n",
       "      <td>0.0</td>\n",
       "      <td>1.0</td>\n",
       "      <td>0.0</td>\n",
       "      <td>1.0</td>\n",
       "      <td>0.0</td>\n",
       "      <td>1.0</td>\n",
       "      <td>0.0</td>\n",
       "      <td>0.0</td>\n",
       "      <td>0.0</td>\n",
       "      <td>0.0</td>\n",
       "      <td>0.0</td>\n",
       "      <td>0.0</td>\n",
       "      <td>0.0</td>\n",
       "      <td>0.0</td>\n",
       "      <td>0.0</td>\n",
       "      <td>1.0</td>\n",
       "      <td>0.0</td>\n",
       "      <td>0.0</td>\n",
       "      <td>0.0</td>\n",
       "      <td>1.0</td>\n",
       "      <td>0.0</td>\n",
       "      <td>0.0</td>\n",
       "      <td>0.0</td>\n",
       "      <td>0.0</td>\n",
       "      <td>0.0</td>\n",
       "      <td>0.0</td>\n",
       "      <td>1.0</td>\n",
       "      <td>0.0</td>\n",
       "      <td>1.0</td>\n",
       "      <td>0.0</td>\n",
       "      <td>0.0</td>\n",
       "      <td>0.0</td>\n",
       "      <td>0.0</td>\n",
       "      <td>0.0</td>\n",
       "      <td>0.0</td>\n",
       "      <td>1.0</td>\n",
       "      <td>0.0</td>\n",
       "      <td>0.0</td>\n",
       "      <td>0.0</td>\n",
       "    </tr>\n",
       "    <tr>\n",
       "      <th>43957</th>\n",
       "      <td>-0.142118</td>\n",
       "      <td>1.0</td>\n",
       "      <td>0.0</td>\n",
       "      <td>1.0</td>\n",
       "      <td>0.0</td>\n",
       "      <td>1.0</td>\n",
       "      <td>0.0</td>\n",
       "      <td>1.0</td>\n",
       "      <td>0.0</td>\n",
       "      <td>0.0</td>\n",
       "      <td>1.0</td>\n",
       "      <td>0.0</td>\n",
       "      <td>1.0</td>\n",
       "      <td>0.0</td>\n",
       "      <td>0.0</td>\n",
       "      <td>0.0</td>\n",
       "      <td>0.0</td>\n",
       "      <td>0.0</td>\n",
       "      <td>0.0</td>\n",
       "      <td>0.0</td>\n",
       "      <td>1.0</td>\n",
       "      <td>0.0</td>\n",
       "      <td>0.0</td>\n",
       "      <td>0.0</td>\n",
       "      <td>0.0</td>\n",
       "      <td>0.0</td>\n",
       "      <td>0.0</td>\n",
       "      <td>0.0</td>\n",
       "      <td>1.0</td>\n",
       "      <td>0.0</td>\n",
       "      <td>0.0</td>\n",
       "      <td>0.0</td>\n",
       "      <td>1.0</td>\n",
       "      <td>0.0</td>\n",
       "      <td>0.0</td>\n",
       "      <td>0.0</td>\n",
       "      <td>0.0</td>\n",
       "      <td>0.0</td>\n",
       "      <td>1.0</td>\n",
       "      <td>0.0</td>\n",
       "      <td>1.0</td>\n",
       "      <td>0.0</td>\n",
       "      <td>0.0</td>\n",
       "      <td>0.0</td>\n",
       "      <td>0.0</td>\n",
       "    </tr>\n",
       "    <tr>\n",
       "      <th>83223</th>\n",
       "      <td>-0.207606</td>\n",
       "      <td>1.0</td>\n",
       "      <td>0.0</td>\n",
       "      <td>1.0</td>\n",
       "      <td>0.0</td>\n",
       "      <td>1.0</td>\n",
       "      <td>0.0</td>\n",
       "      <td>1.0</td>\n",
       "      <td>0.0</td>\n",
       "      <td>0.0</td>\n",
       "      <td>1.0</td>\n",
       "      <td>0.0</td>\n",
       "      <td>1.0</td>\n",
       "      <td>0.0</td>\n",
       "      <td>0.0</td>\n",
       "      <td>0.0</td>\n",
       "      <td>0.0</td>\n",
       "      <td>0.0</td>\n",
       "      <td>0.0</td>\n",
       "      <td>0.0</td>\n",
       "      <td>0.0</td>\n",
       "      <td>1.0</td>\n",
       "      <td>0.0</td>\n",
       "      <td>0.0</td>\n",
       "      <td>0.0</td>\n",
       "      <td>0.0</td>\n",
       "      <td>1.0</td>\n",
       "      <td>0.0</td>\n",
       "      <td>0.0</td>\n",
       "      <td>0.0</td>\n",
       "      <td>0.0</td>\n",
       "      <td>0.0</td>\n",
       "      <td>1.0</td>\n",
       "      <td>0.0</td>\n",
       "      <td>0.0</td>\n",
       "      <td>1.0</td>\n",
       "      <td>0.0</td>\n",
       "      <td>0.0</td>\n",
       "      <td>0.0</td>\n",
       "      <td>0.0</td>\n",
       "      <td>1.0</td>\n",
       "      <td>0.0</td>\n",
       "      <td>0.0</td>\n",
       "      <td>0.0</td>\n",
       "      <td>0.0</td>\n",
       "    </tr>\n",
       "    <tr>\n",
       "      <th>66767</th>\n",
       "      <td>-0.666023</td>\n",
       "      <td>1.0</td>\n",
       "      <td>0.0</td>\n",
       "      <td>1.0</td>\n",
       "      <td>0.0</td>\n",
       "      <td>1.0</td>\n",
       "      <td>0.0</td>\n",
       "      <td>1.0</td>\n",
       "      <td>0.0</td>\n",
       "      <td>1.0</td>\n",
       "      <td>0.0</td>\n",
       "      <td>0.0</td>\n",
       "      <td>0.0</td>\n",
       "      <td>1.0</td>\n",
       "      <td>0.0</td>\n",
       "      <td>0.0</td>\n",
       "      <td>0.0</td>\n",
       "      <td>0.0</td>\n",
       "      <td>0.0</td>\n",
       "      <td>0.0</td>\n",
       "      <td>0.0</td>\n",
       "      <td>1.0</td>\n",
       "      <td>0.0</td>\n",
       "      <td>0.0</td>\n",
       "      <td>0.0</td>\n",
       "      <td>0.0</td>\n",
       "      <td>0.0</td>\n",
       "      <td>0.0</td>\n",
       "      <td>1.0</td>\n",
       "      <td>0.0</td>\n",
       "      <td>0.0</td>\n",
       "      <td>0.0</td>\n",
       "      <td>1.0</td>\n",
       "      <td>0.0</td>\n",
       "      <td>0.0</td>\n",
       "      <td>0.0</td>\n",
       "      <td>0.0</td>\n",
       "      <td>1.0</td>\n",
       "      <td>0.0</td>\n",
       "      <td>0.0</td>\n",
       "      <td>0.0</td>\n",
       "      <td>1.0</td>\n",
       "      <td>0.0</td>\n",
       "      <td>0.0</td>\n",
       "      <td>0.0</td>\n",
       "    </tr>\n",
       "    <tr>\n",
       "      <th>32398</th>\n",
       "      <td>0.447275</td>\n",
       "      <td>1.0</td>\n",
       "      <td>0.0</td>\n",
       "      <td>0.0</td>\n",
       "      <td>1.0</td>\n",
       "      <td>0.0</td>\n",
       "      <td>1.0</td>\n",
       "      <td>1.0</td>\n",
       "      <td>0.0</td>\n",
       "      <td>1.0</td>\n",
       "      <td>0.0</td>\n",
       "      <td>0.0</td>\n",
       "      <td>0.0</td>\n",
       "      <td>0.0</td>\n",
       "      <td>1.0</td>\n",
       "      <td>0.0</td>\n",
       "      <td>0.0</td>\n",
       "      <td>0.0</td>\n",
       "      <td>0.0</td>\n",
       "      <td>0.0</td>\n",
       "      <td>0.0</td>\n",
       "      <td>1.0</td>\n",
       "      <td>0.0</td>\n",
       "      <td>0.0</td>\n",
       "      <td>0.0</td>\n",
       "      <td>1.0</td>\n",
       "      <td>0.0</td>\n",
       "      <td>0.0</td>\n",
       "      <td>0.0</td>\n",
       "      <td>0.0</td>\n",
       "      <td>0.0</td>\n",
       "      <td>0.0</td>\n",
       "      <td>1.0</td>\n",
       "      <td>0.0</td>\n",
       "      <td>0.0</td>\n",
       "      <td>0.0</td>\n",
       "      <td>0.0</td>\n",
       "      <td>1.0</td>\n",
       "      <td>0.0</td>\n",
       "      <td>0.0</td>\n",
       "      <td>0.0</td>\n",
       "      <td>0.0</td>\n",
       "      <td>1.0</td>\n",
       "      <td>0.0</td>\n",
       "      <td>0.0</td>\n",
       "    </tr>\n",
       "  </tbody>\n",
       "</table>\n",
       "</div>"
      ],
      "text/plain": [
       "       num_of_days  ...  Scheduled_session_of_day_x0_Noon\n",
       "29694    -0.207606  ...                               0.0\n",
       "43957    -0.142118  ...                               0.0\n",
       "83223    -0.207606  ...                               0.0\n",
       "66767    -0.666023  ...                               0.0\n",
       "32398     0.447275  ...                               0.0\n",
       "\n",
       "[5 rows x 45 columns]"
      ]
     },
     "execution_count": 96,
     "metadata": {
      "tags": []
     },
     "output_type": "execute_result"
    }
   ],
   "source": [
    "X_train_final.head()"
   ]
  },
  {
   "cell_type": "code",
   "execution_count": 97,
   "metadata": {
    "colab": {
     "base_uri": "https://localhost:8080/",
     "height": 220
    },
    "id": "mURAOhqGvHMB",
    "outputId": "1b8c7b09-c3ad-4074-d0cc-4195bb6529f1"
   },
   "outputs": [
    {
     "data": {
      "text/html": [
       "<div>\n",
       "<style scoped>\n",
       "    .dataframe tbody tr th:only-of-type {\n",
       "        vertical-align: middle;\n",
       "    }\n",
       "\n",
       "    .dataframe tbody tr th {\n",
       "        vertical-align: top;\n",
       "    }\n",
       "\n",
       "    .dataframe thead th {\n",
       "        text-align: right;\n",
       "    }\n",
       "</style>\n",
       "<table border=\"1\" class=\"dataframe\">\n",
       "  <thead>\n",
       "    <tr style=\"text-align: right;\">\n",
       "      <th></th>\n",
       "      <th>num_of_days</th>\n",
       "      <th>Scholarship_x0_0</th>\n",
       "      <th>Scholarship_x0_1</th>\n",
       "      <th>Hypertension_x0_0</th>\n",
       "      <th>Hypertension_x0_1</th>\n",
       "      <th>Diabetes_x0_0</th>\n",
       "      <th>Diabetes_x0_1</th>\n",
       "      <th>Handicapped_x0_0</th>\n",
       "      <th>Handicapped_x0_1</th>\n",
       "      <th>SMS_received_x0_0</th>\n",
       "      <th>SMS_received_x0_1</th>\n",
       "      <th>Age_binned_x0_0</th>\n",
       "      <th>Age_binned_x0_20</th>\n",
       "      <th>Age_binned_x0_40</th>\n",
       "      <th>Age_binned_x0_60</th>\n",
       "      <th>Age_binned_x0_80</th>\n",
       "      <th>Age_binned_x0_100</th>\n",
       "      <th>Scheduled_month_x0_1</th>\n",
       "      <th>Scheduled_month_x0_2</th>\n",
       "      <th>Scheduled_month_x0_3</th>\n",
       "      <th>Scheduled_month_x0_4</th>\n",
       "      <th>Scheduled_month_x0_5</th>\n",
       "      <th>Scheduled_month_x0_6</th>\n",
       "      <th>Scheduled_month_x0_11</th>\n",
       "      <th>Scheduled_month_x0_12</th>\n",
       "      <th>Scheduled_weekday_x0_0</th>\n",
       "      <th>Scheduled_weekday_x0_1</th>\n",
       "      <th>Scheduled_weekday_x0_2</th>\n",
       "      <th>Scheduled_weekday_x0_3</th>\n",
       "      <th>Scheduled_weekday_x0_4</th>\n",
       "      <th>Scheduled_weekday_x0_5</th>\n",
       "      <th>Appointment_month_x0_4</th>\n",
       "      <th>Appointment_month_x0_5</th>\n",
       "      <th>Appointment_month_x0_6</th>\n",
       "      <th>Appointment_weekday_x0_0</th>\n",
       "      <th>Appointment_weekday_x0_1</th>\n",
       "      <th>Appointment_weekday_x0_2</th>\n",
       "      <th>Appointment_weekday_x0_3</th>\n",
       "      <th>Appointment_weekday_x0_4</th>\n",
       "      <th>Appointment_weekday_x0_5</th>\n",
       "      <th>Scheduled_session_of_day_x0_EarlyMorning</th>\n",
       "      <th>Scheduled_session_of_day_x0_Eve</th>\n",
       "      <th>Scheduled_session_of_day_x0_Morning</th>\n",
       "      <th>Scheduled_session_of_day_x0_Night</th>\n",
       "      <th>Scheduled_session_of_day_x0_Noon</th>\n",
       "    </tr>\n",
       "  </thead>\n",
       "  <tbody>\n",
       "    <tr>\n",
       "      <th>98633</th>\n",
       "      <td>0.840204</td>\n",
       "      <td>1.0</td>\n",
       "      <td>0.0</td>\n",
       "      <td>1.0</td>\n",
       "      <td>0.0</td>\n",
       "      <td>1.0</td>\n",
       "      <td>0.0</td>\n",
       "      <td>1.0</td>\n",
       "      <td>0.0</td>\n",
       "      <td>0.0</td>\n",
       "      <td>1.0</td>\n",
       "      <td>0.0</td>\n",
       "      <td>0.0</td>\n",
       "      <td>1.0</td>\n",
       "      <td>0.0</td>\n",
       "      <td>0.0</td>\n",
       "      <td>0.0</td>\n",
       "      <td>0.0</td>\n",
       "      <td>0.0</td>\n",
       "      <td>0.0</td>\n",
       "      <td>0.0</td>\n",
       "      <td>1.0</td>\n",
       "      <td>0.0</td>\n",
       "      <td>0.0</td>\n",
       "      <td>0.0</td>\n",
       "      <td>1.0</td>\n",
       "      <td>0.0</td>\n",
       "      <td>0.0</td>\n",
       "      <td>0.0</td>\n",
       "      <td>0.0</td>\n",
       "      <td>0.0</td>\n",
       "      <td>0.0</td>\n",
       "      <td>0.0</td>\n",
       "      <td>1.0</td>\n",
       "      <td>0.0</td>\n",
       "      <td>0.0</td>\n",
       "      <td>1.0</td>\n",
       "      <td>0.0</td>\n",
       "      <td>0.0</td>\n",
       "      <td>0.0</td>\n",
       "      <td>0.0</td>\n",
       "      <td>0.0</td>\n",
       "      <td>1.0</td>\n",
       "      <td>0.0</td>\n",
       "      <td>0.0</td>\n",
       "    </tr>\n",
       "    <tr>\n",
       "      <th>56036</th>\n",
       "      <td>-0.404070</td>\n",
       "      <td>1.0</td>\n",
       "      <td>0.0</td>\n",
       "      <td>1.0</td>\n",
       "      <td>0.0</td>\n",
       "      <td>1.0</td>\n",
       "      <td>0.0</td>\n",
       "      <td>1.0</td>\n",
       "      <td>0.0</td>\n",
       "      <td>0.0</td>\n",
       "      <td>1.0</td>\n",
       "      <td>0.0</td>\n",
       "      <td>0.0</td>\n",
       "      <td>1.0</td>\n",
       "      <td>0.0</td>\n",
       "      <td>0.0</td>\n",
       "      <td>0.0</td>\n",
       "      <td>0.0</td>\n",
       "      <td>0.0</td>\n",
       "      <td>0.0</td>\n",
       "      <td>1.0</td>\n",
       "      <td>0.0</td>\n",
       "      <td>0.0</td>\n",
       "      <td>0.0</td>\n",
       "      <td>0.0</td>\n",
       "      <td>0.0</td>\n",
       "      <td>0.0</td>\n",
       "      <td>0.0</td>\n",
       "      <td>0.0</td>\n",
       "      <td>1.0</td>\n",
       "      <td>0.0</td>\n",
       "      <td>0.0</td>\n",
       "      <td>1.0</td>\n",
       "      <td>0.0</td>\n",
       "      <td>0.0</td>\n",
       "      <td>1.0</td>\n",
       "      <td>0.0</td>\n",
       "      <td>0.0</td>\n",
       "      <td>0.0</td>\n",
       "      <td>0.0</td>\n",
       "      <td>0.0</td>\n",
       "      <td>0.0</td>\n",
       "      <td>1.0</td>\n",
       "      <td>0.0</td>\n",
       "      <td>0.0</td>\n",
       "    </tr>\n",
       "    <tr>\n",
       "      <th>267</th>\n",
       "      <td>-0.666023</td>\n",
       "      <td>1.0</td>\n",
       "      <td>0.0</td>\n",
       "      <td>1.0</td>\n",
       "      <td>0.0</td>\n",
       "      <td>1.0</td>\n",
       "      <td>0.0</td>\n",
       "      <td>1.0</td>\n",
       "      <td>0.0</td>\n",
       "      <td>1.0</td>\n",
       "      <td>0.0</td>\n",
       "      <td>1.0</td>\n",
       "      <td>0.0</td>\n",
       "      <td>0.0</td>\n",
       "      <td>0.0</td>\n",
       "      <td>0.0</td>\n",
       "      <td>0.0</td>\n",
       "      <td>0.0</td>\n",
       "      <td>0.0</td>\n",
       "      <td>0.0</td>\n",
       "      <td>1.0</td>\n",
       "      <td>0.0</td>\n",
       "      <td>0.0</td>\n",
       "      <td>0.0</td>\n",
       "      <td>0.0</td>\n",
       "      <td>0.0</td>\n",
       "      <td>0.0</td>\n",
       "      <td>0.0</td>\n",
       "      <td>0.0</td>\n",
       "      <td>1.0</td>\n",
       "      <td>0.0</td>\n",
       "      <td>1.0</td>\n",
       "      <td>0.0</td>\n",
       "      <td>0.0</td>\n",
       "      <td>0.0</td>\n",
       "      <td>0.0</td>\n",
       "      <td>0.0</td>\n",
       "      <td>0.0</td>\n",
       "      <td>1.0</td>\n",
       "      <td>0.0</td>\n",
       "      <td>0.0</td>\n",
       "      <td>0.0</td>\n",
       "      <td>1.0</td>\n",
       "      <td>0.0</td>\n",
       "      <td>0.0</td>\n",
       "    </tr>\n",
       "    <tr>\n",
       "      <th>82513</th>\n",
       "      <td>0.709228</td>\n",
       "      <td>1.0</td>\n",
       "      <td>0.0</td>\n",
       "      <td>1.0</td>\n",
       "      <td>0.0</td>\n",
       "      <td>1.0</td>\n",
       "      <td>0.0</td>\n",
       "      <td>1.0</td>\n",
       "      <td>0.0</td>\n",
       "      <td>0.0</td>\n",
       "      <td>1.0</td>\n",
       "      <td>0.0</td>\n",
       "      <td>1.0</td>\n",
       "      <td>0.0</td>\n",
       "      <td>0.0</td>\n",
       "      <td>0.0</td>\n",
       "      <td>0.0</td>\n",
       "      <td>0.0</td>\n",
       "      <td>0.0</td>\n",
       "      <td>0.0</td>\n",
       "      <td>0.0</td>\n",
       "      <td>1.0</td>\n",
       "      <td>0.0</td>\n",
       "      <td>0.0</td>\n",
       "      <td>0.0</td>\n",
       "      <td>0.0</td>\n",
       "      <td>0.0</td>\n",
       "      <td>1.0</td>\n",
       "      <td>0.0</td>\n",
       "      <td>0.0</td>\n",
       "      <td>0.0</td>\n",
       "      <td>0.0</td>\n",
       "      <td>1.0</td>\n",
       "      <td>0.0</td>\n",
       "      <td>0.0</td>\n",
       "      <td>0.0</td>\n",
       "      <td>1.0</td>\n",
       "      <td>0.0</td>\n",
       "      <td>0.0</td>\n",
       "      <td>0.0</td>\n",
       "      <td>0.0</td>\n",
       "      <td>0.0</td>\n",
       "      <td>1.0</td>\n",
       "      <td>0.0</td>\n",
       "      <td>0.0</td>\n",
       "    </tr>\n",
       "    <tr>\n",
       "      <th>20923</th>\n",
       "      <td>-0.600534</td>\n",
       "      <td>1.0</td>\n",
       "      <td>0.0</td>\n",
       "      <td>1.0</td>\n",
       "      <td>0.0</td>\n",
       "      <td>1.0</td>\n",
       "      <td>0.0</td>\n",
       "      <td>1.0</td>\n",
       "      <td>0.0</td>\n",
       "      <td>1.0</td>\n",
       "      <td>0.0</td>\n",
       "      <td>1.0</td>\n",
       "      <td>0.0</td>\n",
       "      <td>0.0</td>\n",
       "      <td>0.0</td>\n",
       "      <td>0.0</td>\n",
       "      <td>0.0</td>\n",
       "      <td>0.0</td>\n",
       "      <td>0.0</td>\n",
       "      <td>0.0</td>\n",
       "      <td>0.0</td>\n",
       "      <td>1.0</td>\n",
       "      <td>0.0</td>\n",
       "      <td>0.0</td>\n",
       "      <td>0.0</td>\n",
       "      <td>1.0</td>\n",
       "      <td>0.0</td>\n",
       "      <td>0.0</td>\n",
       "      <td>0.0</td>\n",
       "      <td>0.0</td>\n",
       "      <td>0.0</td>\n",
       "      <td>0.0</td>\n",
       "      <td>1.0</td>\n",
       "      <td>0.0</td>\n",
       "      <td>0.0</td>\n",
       "      <td>1.0</td>\n",
       "      <td>0.0</td>\n",
       "      <td>0.0</td>\n",
       "      <td>0.0</td>\n",
       "      <td>0.0</td>\n",
       "      <td>1.0</td>\n",
       "      <td>0.0</td>\n",
       "      <td>0.0</td>\n",
       "      <td>0.0</td>\n",
       "      <td>0.0</td>\n",
       "    </tr>\n",
       "  </tbody>\n",
       "</table>\n",
       "</div>"
      ],
      "text/plain": [
       "       num_of_days  ...  Scheduled_session_of_day_x0_Noon\n",
       "98633     0.840204  ...                               0.0\n",
       "56036    -0.404070  ...                               0.0\n",
       "267      -0.666023  ...                               0.0\n",
       "82513     0.709228  ...                               0.0\n",
       "20923    -0.600534  ...                               0.0\n",
       "\n",
       "[5 rows x 45 columns]"
      ]
     },
     "execution_count": 97,
     "metadata": {
      "tags": []
     },
     "output_type": "execute_result"
    }
   ],
   "source": [
    "X_val_final.head()"
   ]
  },
  {
   "cell_type": "markdown",
   "metadata": {
    "id": "LaCrCouj867P"
   },
   "source": [
    "### Defining Error Metrics"
   ]
  },
  {
   "cell_type": "code",
   "execution_count": 98,
   "metadata": {
    "id": "LK9TYuMevHMB"
   },
   "outputs": [],
   "source": [
    "def get_CR_CM(train_actual,train_predicted,test_actual,test_predicted):\n",
    "    print('''\n",
    "         ========================================\n",
    "           CLASSIFICATION REPORT FOR TRAIN DATA\n",
    "         ========================================\n",
    "        ''')\n",
    "    print(classification_report(train_actual, train_predicted, digits=4))\n",
    "\n",
    "    print('''\n",
    "             =============================================\n",
    "               CLASSIFICATION REPORT FOR VALIDATION DATA\n",
    "             =============================================\n",
    "            ''')\n",
    "    print(classification_report(test_actual, test_predicted, digits=4))\n",
    "\n",
    "    print('''\n",
    "             ========================================\n",
    "               Confusion Matrix FOR TRAIN DATA\n",
    "             ========================================\n",
    "            ''')\n",
    "    print(confusion_matrix(train_actual, train_predicted))\n",
    "\n",
    "    print('''\n",
    "             =============================================\n",
    "               Confusion matrix FOR VALIDATION DATA\n",
    "             =============================================\n",
    "            ''')\n",
    "    print(confusion_matrix(test_actual, test_predicted))\n",
    "    "
   ]
  },
  {
   "cell_type": "code",
   "execution_count": 99,
   "metadata": {
    "ExecuteTime": {
     "end_time": "2020-03-06T10:32:34.925827Z",
     "start_time": "2020-03-06T10:32:34.910844Z"
    },
    "id": "JYJp3Qo5viNe"
   },
   "outputs": [],
   "source": [
    "scores = pd.DataFrame(columns=['Model','Train_Accuracy','Train_Recall','Train_Precision','Train_F1_Score','Test_Accuracy','Test_Recall','Test_Precision','Test_F1_Score'])\n",
    "\n",
    "def get_metrics(train_actual,train_predicted,test_actual,test_predicted,model_description,dataframe):\n",
    "    get_CR_CM(train_actual,train_predicted,test_actual,test_predicted)\n",
    "    train_accuracy = accuracy_score(train_actual,train_predicted)\n",
    "    train_recall   = recall_score(train_actual,train_predicted)\n",
    "    train_precision= precision_score(train_actual,train_predicted)\n",
    "    train_f1score  = f1_score(train_actual,train_predicted)\n",
    "    test_accuracy = accuracy_score(test_actual,test_predicted)\n",
    "    test_recall   = recall_score(test_actual,test_predicted)\n",
    "    test_precision= precision_score(test_actual,test_predicted)\n",
    "    test_f1score  = f1_score(test_actual,test_predicted)\n",
    "    dataframe = dataframe.append(pd.Series([model_description, train_accuracy,train_recall,train_precision,train_f1score,\n",
    "                                            test_accuracy,test_recall,test_precision,test_f1score],\n",
    "                                           index=scores.columns ), ignore_index=True)\n",
    "    return(dataframe)"
   ]
  },
  {
   "cell_type": "markdown",
   "metadata": {
    "id": "2_QDNJJObgfI"
   },
   "source": [
    "# MODEL BUILDING"
   ]
  },
  {
   "cell_type": "markdown",
   "metadata": {
    "id": "-hNOw6tMd5vZ"
   },
   "source": [
    "### 1. Logistic Regression"
   ]
  },
  {
   "cell_type": "code",
   "execution_count": 100,
   "metadata": {
    "id": "kU2kFgufd5vZ"
   },
   "outputs": [],
   "source": [
    "log_mod = LogisticRegression(random_state=123)"
   ]
  },
  {
   "cell_type": "code",
   "execution_count": 101,
   "metadata": {
    "colab": {
     "base_uri": "https://localhost:8080/"
    },
    "id": "_7G00N2kd5ve",
    "outputId": "a99deddd-8cff-4dd4-8882-438efc60dc50"
   },
   "outputs": [
    {
     "data": {
      "text/plain": [
       "LogisticRegression(C=1.0, class_weight=None, dual=False, fit_intercept=True,\n",
       "                   intercept_scaling=1, l1_ratio=None, max_iter=100,\n",
       "                   multi_class='auto', n_jobs=None, penalty='l2',\n",
       "                   random_state=123, solver='lbfgs', tol=0.0001, verbose=0,\n",
       "                   warm_start=False)"
      ]
     },
     "execution_count": 101,
     "metadata": {
      "tags": []
     },
     "output_type": "execute_result"
    }
   ],
   "source": [
    "log_mod.fit(X_train_final, y_train)"
   ]
  },
  {
   "cell_type": "code",
   "execution_count": 102,
   "metadata": {
    "id": "677azofTd5vi"
   },
   "outputs": [],
   "source": [
    "y_pred_train = log_mod.predict(X_train_final)\n",
    "y_pred_val = log_mod.predict(X_val_final)"
   ]
  },
  {
   "cell_type": "markdown",
   "metadata": {
    "id": "XbZMZ6ied5vl"
   },
   "source": [
    "##### Evaluating the model performance"
   ]
  },
  {
   "cell_type": "code",
   "execution_count": 103,
   "metadata": {
    "colab": {
     "base_uri": "https://localhost:8080/",
     "height": 825
    },
    "id": "D1vjTAV7vHMC",
    "outputId": "1033d718-5a1f-4063-a352-3f04cbb1277d"
   },
   "outputs": [
    {
     "name": "stdout",
     "output_type": "stream",
     "text": [
      "\n",
      "         ========================================\n",
      "           CLASSIFICATION REPORT FOR TRAIN DATA\n",
      "         ========================================\n",
      "        \n",
      "              precision    recall  f1-score   support\n",
      "\n",
      "           0     0.7995    0.9925    0.8856     70566\n",
      "           1     0.3580    0.0165    0.0316     17855\n",
      "\n",
      "    accuracy                         0.7954     88421\n",
      "   macro avg     0.5788    0.5045    0.4586     88421\n",
      "weighted avg     0.7104    0.7954    0.7132     88421\n",
      "\n",
      "\n",
      "             =============================================\n",
      "               CLASSIFICATION REPORT FOR VALIDATION DATA\n",
      "             =============================================\n",
      "            \n",
      "              precision    recall  f1-score   support\n",
      "\n",
      "           0     0.7991    0.9917    0.8850     17642\n",
      "           1     0.3048    0.0143    0.0274      4464\n",
      "\n",
      "    accuracy                         0.7944     22106\n",
      "   macro avg     0.5519    0.5030    0.4562     22106\n",
      "weighted avg     0.6992    0.7944    0.7118     22106\n",
      "\n",
      "\n",
      "             ========================================\n",
      "               Confusion Matrix FOR TRAIN DATA\n",
      "             ========================================\n",
      "            \n",
      "[[70037   529]\n",
      " [17560   295]]\n",
      "\n",
      "             =============================================\n",
      "               Confusion matrix FOR VALIDATION DATA\n",
      "             =============================================\n",
      "            \n",
      "[[17496   146]\n",
      " [ 4400    64]]\n"
     ]
    },
    {
     "data": {
      "text/html": [
       "<div>\n",
       "<style scoped>\n",
       "    .dataframe tbody tr th:only-of-type {\n",
       "        vertical-align: middle;\n",
       "    }\n",
       "\n",
       "    .dataframe tbody tr th {\n",
       "        vertical-align: top;\n",
       "    }\n",
       "\n",
       "    .dataframe thead th {\n",
       "        text-align: right;\n",
       "    }\n",
       "</style>\n",
       "<table border=\"1\" class=\"dataframe\">\n",
       "  <thead>\n",
       "    <tr style=\"text-align: right;\">\n",
       "      <th></th>\n",
       "      <th>Model</th>\n",
       "      <th>Train_Accuracy</th>\n",
       "      <th>Train_Recall</th>\n",
       "      <th>Train_Precision</th>\n",
       "      <th>Train_F1_Score</th>\n",
       "      <th>Test_Accuracy</th>\n",
       "      <th>Test_Recall</th>\n",
       "      <th>Test_Precision</th>\n",
       "      <th>Test_F1_Score</th>\n",
       "    </tr>\n",
       "  </thead>\n",
       "  <tbody>\n",
       "    <tr>\n",
       "      <th>0</th>\n",
       "      <td>LogisticRegression</td>\n",
       "      <td>0.795422</td>\n",
       "      <td>0.016522</td>\n",
       "      <td>0.35801</td>\n",
       "      <td>0.031586</td>\n",
       "      <td>0.794354</td>\n",
       "      <td>0.014337</td>\n",
       "      <td>0.304762</td>\n",
       "      <td>0.027386</td>\n",
       "    </tr>\n",
       "  </tbody>\n",
       "</table>\n",
       "</div>"
      ],
      "text/plain": [
       "                Model  Train_Accuracy  ...  Test_Precision  Test_F1_Score\n",
       "0  LogisticRegression        0.795422  ...        0.304762       0.027386\n",
       "\n",
       "[1 rows x 9 columns]"
      ]
     },
     "execution_count": 103,
     "metadata": {
      "tags": []
     },
     "output_type": "execute_result"
    }
   ],
   "source": [
    "scores = get_metrics(y_train,y_pred_train,y_val,y_pred_val,\"LogisticRegression\",scores)\n",
    "scores"
   ]
  },
  {
   "cell_type": "markdown",
   "metadata": {
    "id": "Sgu4A5pkvHMD"
   },
   "source": [
    "## _Handling Imbalanced Data_\n",
    "\n",
    "### Class Weights of loss function\n",
    "\n",
    "The “balanced” mode uses the values of y to automatically adjust weights inversely proportional to class frequencies in the input data as n_samples / (n_classes * np.bincount(y))\n",
    "\n",
    "https://scikit-learn.org/stable/modules/generated/sklearn.linear_model.LogisticRegression.html"
   ]
  },
  {
   "cell_type": "markdown",
   "metadata": {
    "id": "axkrk4nkvHMD"
   },
   "source": [
    "### 2. Logistic Regression with class_weight='balanced'"
   ]
  },
  {
   "cell_type": "code",
   "execution_count": 104,
   "metadata": {
    "id": "9NfpWyNrvHMD"
   },
   "outputs": [],
   "source": [
    "log_mod = LogisticRegression(class_weight='balanced', random_state=123)"
   ]
  },
  {
   "cell_type": "code",
   "execution_count": 105,
   "metadata": {
    "colab": {
     "base_uri": "https://localhost:8080/"
    },
    "id": "-jLddSrDvHMD",
    "outputId": "f0000e7c-b652-464d-c22e-dbfdaef0e55f"
   },
   "outputs": [
    {
     "data": {
      "text/plain": [
       "LogisticRegression(C=1.0, class_weight='balanced', dual=False,\n",
       "                   fit_intercept=True, intercept_scaling=1, l1_ratio=None,\n",
       "                   max_iter=100, multi_class='auto', n_jobs=None, penalty='l2',\n",
       "                   random_state=123, solver='lbfgs', tol=0.0001, verbose=0,\n",
       "                   warm_start=False)"
      ]
     },
     "execution_count": 105,
     "metadata": {
      "tags": []
     },
     "output_type": "execute_result"
    }
   ],
   "source": [
    "log_mod.fit(X_train_final, y_train)"
   ]
  },
  {
   "cell_type": "code",
   "execution_count": 106,
   "metadata": {
    "id": "18vb5rynvHME"
   },
   "outputs": [],
   "source": [
    "y_pred_train = log_mod.predict(X_train_final)\n",
    "y_pred_val = log_mod.predict(X_val_final)"
   ]
  },
  {
   "cell_type": "markdown",
   "metadata": {
    "id": "jn1jx67WvHME"
   },
   "source": [
    "##### Evaluating the model performance"
   ]
  },
  {
   "cell_type": "code",
   "execution_count": 107,
   "metadata": {
    "colab": {
     "base_uri": "https://localhost:8080/",
     "height": 855
    },
    "id": "u9hLRmlZd5vm",
    "outputId": "a2f2edfc-edc8-4bc3-fbf7-3a852626d99e"
   },
   "outputs": [
    {
     "name": "stdout",
     "output_type": "stream",
     "text": [
      "\n",
      "         ========================================\n",
      "           CLASSIFICATION REPORT FOR TRAIN DATA\n",
      "         ========================================\n",
      "        \n",
      "              precision    recall  f1-score   support\n",
      "\n",
      "           0     0.8698    0.6809    0.7638     70566\n",
      "           1     0.3213    0.5971    0.4178     17855\n",
      "\n",
      "    accuracy                         0.6640     88421\n",
      "   macro avg     0.5956    0.6390    0.5908     88421\n",
      "weighted avg     0.7590    0.6640    0.6940     88421\n",
      "\n",
      "\n",
      "             =============================================\n",
      "               CLASSIFICATION REPORT FOR VALIDATION DATA\n",
      "             =============================================\n",
      "            \n",
      "              precision    recall  f1-score   support\n",
      "\n",
      "           0     0.8708    0.6734    0.7595     17642\n",
      "           1     0.3192    0.6053    0.4180      4464\n",
      "\n",
      "    accuracy                         0.6596     22106\n",
      "   macro avg     0.5950    0.6393    0.5888     22106\n",
      "weighted avg     0.7595    0.6596    0.6905     22106\n",
      "\n",
      "\n",
      "             ========================================\n",
      "               Confusion Matrix FOR TRAIN DATA\n",
      "             ========================================\n",
      "            \n",
      "[[48047 22519]\n",
      " [ 7193 10662]]\n",
      "\n",
      "             =============================================\n",
      "               Confusion matrix FOR VALIDATION DATA\n",
      "             =============================================\n",
      "            \n",
      "[[11880  5762]\n",
      " [ 1762  2702]]\n"
     ]
    },
    {
     "data": {
      "text/html": [
       "<div>\n",
       "<style scoped>\n",
       "    .dataframe tbody tr th:only-of-type {\n",
       "        vertical-align: middle;\n",
       "    }\n",
       "\n",
       "    .dataframe tbody tr th {\n",
       "        vertical-align: top;\n",
       "    }\n",
       "\n",
       "    .dataframe thead th {\n",
       "        text-align: right;\n",
       "    }\n",
       "</style>\n",
       "<table border=\"1\" class=\"dataframe\">\n",
       "  <thead>\n",
       "    <tr style=\"text-align: right;\">\n",
       "      <th></th>\n",
       "      <th>Model</th>\n",
       "      <th>Train_Accuracy</th>\n",
       "      <th>Train_Recall</th>\n",
       "      <th>Train_Precision</th>\n",
       "      <th>Train_F1_Score</th>\n",
       "      <th>Test_Accuracy</th>\n",
       "      <th>Test_Recall</th>\n",
       "      <th>Test_Precision</th>\n",
       "      <th>Test_F1_Score</th>\n",
       "    </tr>\n",
       "  </thead>\n",
       "  <tbody>\n",
       "    <tr>\n",
       "      <th>0</th>\n",
       "      <td>LogisticRegression</td>\n",
       "      <td>0.795422</td>\n",
       "      <td>0.016522</td>\n",
       "      <td>0.358010</td>\n",
       "      <td>0.031586</td>\n",
       "      <td>0.794354</td>\n",
       "      <td>0.014337</td>\n",
       "      <td>0.304762</td>\n",
       "      <td>0.027386</td>\n",
       "    </tr>\n",
       "    <tr>\n",
       "      <th>1</th>\n",
       "      <td>LogisticRegression_Balanced</td>\n",
       "      <td>0.663971</td>\n",
       "      <td>0.597144</td>\n",
       "      <td>0.321328</td>\n",
       "      <td>0.417823</td>\n",
       "      <td>0.659640</td>\n",
       "      <td>0.605287</td>\n",
       "      <td>0.319234</td>\n",
       "      <td>0.418007</td>\n",
       "    </tr>\n",
       "  </tbody>\n",
       "</table>\n",
       "</div>"
      ],
      "text/plain": [
       "                         Model  Train_Accuracy  ...  Test_Precision  Test_F1_Score\n",
       "0           LogisticRegression        0.795422  ...        0.304762       0.027386\n",
       "1  LogisticRegression_Balanced        0.663971  ...        0.319234       0.418007\n",
       "\n",
       "[2 rows x 9 columns]"
      ]
     },
     "execution_count": 107,
     "metadata": {
      "tags": []
     },
     "output_type": "execute_result"
    }
   ],
   "source": [
    "scores = get_metrics(y_train,y_pred_train,y_val,y_pred_val,\"LogisticRegression_Balanced\",scores)\n",
    "scores"
   ]
  },
  {
   "cell_type": "markdown",
   "metadata": {
    "id": "WW1d5_zzd5wT"
   },
   "source": [
    "### 3. Decision Tree Classifier"
   ]
  },
  {
   "cell_type": "code",
   "execution_count": 108,
   "metadata": {
    "colab": {
     "base_uri": "https://localhost:8080/"
    },
    "id": "42_Uze_ud5wV",
    "outputId": "8ec12192-656c-4de7-d779-ddc0fed4cd01"
   },
   "outputs": [
    {
     "data": {
      "text/plain": [
       "DecisionTreeClassifier(ccp_alpha=0.0, class_weight=None, criterion='gini',\n",
       "                       max_depth=None, max_features=None, max_leaf_nodes=None,\n",
       "                       min_impurity_decrease=0.0, min_impurity_split=None,\n",
       "                       min_samples_leaf=1, min_samples_split=2,\n",
       "                       min_weight_fraction_leaf=0.0, presort='deprecated',\n",
       "                       random_state=123, splitter='best')"
      ]
     },
     "execution_count": 108,
     "metadata": {
      "tags": []
     },
     "output_type": "execute_result"
    }
   ],
   "source": [
    "# Create Decision Tree classifer object\n",
    "clf_dt = DecisionTreeClassifier(random_state=123)\n",
    "\n",
    "# Train Decision Tree Classifer\n",
    "clf_dt.fit(X_train_final,y_train)"
   ]
  },
  {
   "cell_type": "code",
   "execution_count": 109,
   "metadata": {
    "id": "gnZ-6AoDd5wZ"
   },
   "outputs": [],
   "source": [
    "y_pred_train = clf_dt.predict(X_train_final)\n",
    "y_pred_val = clf_dt.predict(X_val_final)"
   ]
  },
  {
   "cell_type": "markdown",
   "metadata": {
    "id": "_FC9zvT6d5wc"
   },
   "source": [
    "##### Evaluating the model performance"
   ]
  },
  {
   "cell_type": "code",
   "execution_count": 110,
   "metadata": {
    "colab": {
     "base_uri": "https://localhost:8080/",
     "height": 886
    },
    "id": "eKaY_FKbd5wd",
    "outputId": "85c941c3-d385-44ef-93cc-088c0a86495a"
   },
   "outputs": [
    {
     "name": "stdout",
     "output_type": "stream",
     "text": [
      "\n",
      "         ========================================\n",
      "           CLASSIFICATION REPORT FOR TRAIN DATA\n",
      "         ========================================\n",
      "        \n",
      "              precision    recall  f1-score   support\n",
      "\n",
      "           0     0.8597    0.9819    0.9168     70566\n",
      "           1     0.8367    0.3670    0.5102     17855\n",
      "\n",
      "    accuracy                         0.8577     88421\n",
      "   macro avg     0.8482    0.6744    0.7135     88421\n",
      "weighted avg     0.8551    0.8577    0.8347     88421\n",
      "\n",
      "\n",
      "             =============================================\n",
      "               CLASSIFICATION REPORT FOR VALIDATION DATA\n",
      "             =============================================\n",
      "            \n",
      "              precision    recall  f1-score   support\n",
      "\n",
      "           0     0.8175    0.9197    0.8656     17642\n",
      "           1     0.3726    0.1884    0.2503      4464\n",
      "\n",
      "    accuracy                         0.7721     22106\n",
      "   macro avg     0.5950    0.5541    0.5579     22106\n",
      "weighted avg     0.7276    0.7721    0.7413     22106\n",
      "\n",
      "\n",
      "             ========================================\n",
      "               Confusion Matrix FOR TRAIN DATA\n",
      "             ========================================\n",
      "            \n",
      "[[69287  1279]\n",
      " [11303  6552]]\n",
      "\n",
      "             =============================================\n",
      "               Confusion matrix FOR VALIDATION DATA\n",
      "             =============================================\n",
      "            \n",
      "[[16226  1416]\n",
      " [ 3623   841]]\n"
     ]
    },
    {
     "data": {
      "text/html": [
       "<div>\n",
       "<style scoped>\n",
       "    .dataframe tbody tr th:only-of-type {\n",
       "        vertical-align: middle;\n",
       "    }\n",
       "\n",
       "    .dataframe tbody tr th {\n",
       "        vertical-align: top;\n",
       "    }\n",
       "\n",
       "    .dataframe thead th {\n",
       "        text-align: right;\n",
       "    }\n",
       "</style>\n",
       "<table border=\"1\" class=\"dataframe\">\n",
       "  <thead>\n",
       "    <tr style=\"text-align: right;\">\n",
       "      <th></th>\n",
       "      <th>Model</th>\n",
       "      <th>Train_Accuracy</th>\n",
       "      <th>Train_Recall</th>\n",
       "      <th>Train_Precision</th>\n",
       "      <th>Train_F1_Score</th>\n",
       "      <th>Test_Accuracy</th>\n",
       "      <th>Test_Recall</th>\n",
       "      <th>Test_Precision</th>\n",
       "      <th>Test_F1_Score</th>\n",
       "    </tr>\n",
       "  </thead>\n",
       "  <tbody>\n",
       "    <tr>\n",
       "      <th>0</th>\n",
       "      <td>LogisticRegression</td>\n",
       "      <td>0.795422</td>\n",
       "      <td>0.016522</td>\n",
       "      <td>0.358010</td>\n",
       "      <td>0.031586</td>\n",
       "      <td>0.794354</td>\n",
       "      <td>0.014337</td>\n",
       "      <td>0.304762</td>\n",
       "      <td>0.027386</td>\n",
       "    </tr>\n",
       "    <tr>\n",
       "      <th>1</th>\n",
       "      <td>LogisticRegression_Balanced</td>\n",
       "      <td>0.663971</td>\n",
       "      <td>0.597144</td>\n",
       "      <td>0.321328</td>\n",
       "      <td>0.417823</td>\n",
       "      <td>0.659640</td>\n",
       "      <td>0.605287</td>\n",
       "      <td>0.319234</td>\n",
       "      <td>0.418007</td>\n",
       "    </tr>\n",
       "    <tr>\n",
       "      <th>2</th>\n",
       "      <td>DecisionTree</td>\n",
       "      <td>0.857703</td>\n",
       "      <td>0.366956</td>\n",
       "      <td>0.836675</td>\n",
       "      <td>0.510161</td>\n",
       "      <td>0.772053</td>\n",
       "      <td>0.188396</td>\n",
       "      <td>0.372619</td>\n",
       "      <td>0.250260</td>\n",
       "    </tr>\n",
       "  </tbody>\n",
       "</table>\n",
       "</div>"
      ],
      "text/plain": [
       "                         Model  Train_Accuracy  ...  Test_Precision  Test_F1_Score\n",
       "0           LogisticRegression        0.795422  ...        0.304762       0.027386\n",
       "1  LogisticRegression_Balanced        0.663971  ...        0.319234       0.418007\n",
       "2                 DecisionTree        0.857703  ...        0.372619       0.250260\n",
       "\n",
       "[3 rows x 9 columns]"
      ]
     },
     "execution_count": 110,
     "metadata": {
      "tags": []
     },
     "output_type": "execute_result"
    }
   ],
   "source": [
    "scores = get_metrics(y_train,y_pred_train,y_val,y_pred_val,\"DecisionTree\",scores)\n",
    "scores"
   ]
  },
  {
   "cell_type": "markdown",
   "metadata": {
    "id": "U4nOsqeQd5xt"
   },
   "source": [
    "### 4. Decision Tree with Grid-Search CV - Hyper-parameter Tuning"
   ]
  },
  {
   "cell_type": "code",
   "execution_count": 111,
   "metadata": {
    "id": "7Db_siKVd5xu"
   },
   "outputs": [],
   "source": [
    "# set of parameters to test\n",
    "param_grid = {\"class_weight\":['balanced', None],\n",
    "              \"criterion\": [\"gini\", \"entropy\"],\n",
    "              \"max_depth\": [3, 5, 6],\n",
    "              \"min_samples_leaf\": [2, 5, 10],\n",
    "               \"max_leaf_nodes\": [None, 5, 10, 20]\n",
    "              }"
   ]
  },
  {
   "cell_type": "code",
   "execution_count": 112,
   "metadata": {
    "colab": {
     "base_uri": "https://localhost:8080/"
    },
    "id": "-5ypa6OPvHMF",
    "outputId": "e59bf7dc-deeb-4c09-db18-86a00a69702c"
   },
   "outputs": [
    {
     "data": {
      "text/plain": [
       "GridSearchCV(cv=5, error_score=nan,\n",
       "             estimator=DecisionTreeClassifier(ccp_alpha=0.0, class_weight=None,\n",
       "                                              criterion='gini', max_depth=None,\n",
       "                                              max_features=None,\n",
       "                                              max_leaf_nodes=None,\n",
       "                                              min_impurity_decrease=0.0,\n",
       "                                              min_impurity_split=None,\n",
       "                                              min_samples_leaf=1,\n",
       "                                              min_samples_split=2,\n",
       "                                              min_weight_fraction_leaf=0.0,\n",
       "                                              presort='deprecated',\n",
       "                                              random_state=123,\n",
       "                                              splitter='best'),\n",
       "             iid='deprecated', n_jobs=None,\n",
       "             param_grid={'class_weight': ['balanced', None],\n",
       "                         'criterion': ['gini', 'entropy'],\n",
       "                         'max_depth': [3, 5, 6],\n",
       "                         'max_leaf_nodes': [None, 5, 10, 20],\n",
       "                         'min_samples_leaf': [2, 5, 10]},\n",
       "             pre_dispatch='2*n_jobs', refit=True, return_train_score=False,\n",
       "             scoring='recall', verbose=0)"
      ]
     },
     "execution_count": 112,
     "metadata": {
      "tags": []
     },
     "output_type": "execute_result"
    }
   ],
   "source": [
    "dt = tree.DecisionTreeClassifier(random_state=123)\n",
    "clf_dt_grid = GridSearchCV(dt, param_grid,cv=5,scoring='recall')\n",
    "clf_dt_grid.fit(X_train_final, y_train)"
   ]
  },
  {
   "cell_type": "code",
   "execution_count": 113,
   "metadata": {
    "colab": {
     "base_uri": "https://localhost:8080/"
    },
    "id": "aeaYPcF-d5x3",
    "outputId": "3b3d322c-cf81-4ead-a233-558c7d59c6e2"
   },
   "outputs": [
    {
     "data": {
      "text/plain": [
       "{'class_weight': 'balanced',\n",
       " 'criterion': 'entropy',\n",
       " 'max_depth': 3,\n",
       " 'max_leaf_nodes': 5,\n",
       " 'min_samples_leaf': 2}"
      ]
     },
     "execution_count": 113,
     "metadata": {
      "tags": []
     },
     "output_type": "execute_result"
    }
   ],
   "source": [
    "clf_dt_grid.best_params_"
   ]
  },
  {
   "cell_type": "code",
   "execution_count": 114,
   "metadata": {
    "id": "0BFwnRpxd5x6"
   },
   "outputs": [],
   "source": [
    "y_pred_train = clf_dt_grid.predict(X_train_final)\n",
    "y_pred_val = clf_dt_grid.predict(X_val_final)"
   ]
  },
  {
   "cell_type": "code",
   "execution_count": 115,
   "metadata": {
    "colab": {
     "base_uri": "https://localhost:8080/",
     "height": 916
    },
    "id": "ZrPvmltvd5x-",
    "outputId": "f3590e83-028d-4a85-c10a-a23a6568feda"
   },
   "outputs": [
    {
     "name": "stdout",
     "output_type": "stream",
     "text": [
      "\n",
      "         ========================================\n",
      "           CLASSIFICATION REPORT FOR TRAIN DATA\n",
      "         ========================================\n",
      "        \n",
      "              precision    recall  f1-score   support\n",
      "\n",
      "           0     0.9535    0.4181    0.5813     70566\n",
      "           1     0.2856    0.9194    0.4358     17855\n",
      "\n",
      "    accuracy                         0.5193     88421\n",
      "   macro avg     0.6196    0.6688    0.5086     88421\n",
      "weighted avg     0.8186    0.5193    0.5519     88421\n",
      "\n",
      "\n",
      "             =============================================\n",
      "               CLASSIFICATION REPORT FOR VALIDATION DATA\n",
      "             =============================================\n",
      "            \n",
      "              precision    recall  f1-score   support\n",
      "\n",
      "           0     0.9530    0.4119    0.5752     17642\n",
      "           1     0.2835    0.9198    0.4334      4464\n",
      "\n",
      "    accuracy                         0.5144     22106\n",
      "   macro avg     0.6183    0.6658    0.5043     22106\n",
      "weighted avg     0.8178    0.5144    0.5465     22106\n",
      "\n",
      "\n",
      "             ========================================\n",
      "               Confusion Matrix FOR TRAIN DATA\n",
      "             ========================================\n",
      "            \n",
      "[[29505 41061]\n",
      " [ 1439 16416]]\n",
      "\n",
      "             =============================================\n",
      "               Confusion matrix FOR VALIDATION DATA\n",
      "             =============================================\n",
      "            \n",
      "[[ 7266 10376]\n",
      " [  358  4106]]\n"
     ]
    },
    {
     "data": {
      "text/html": [
       "<div>\n",
       "<style scoped>\n",
       "    .dataframe tbody tr th:only-of-type {\n",
       "        vertical-align: middle;\n",
       "    }\n",
       "\n",
       "    .dataframe tbody tr th {\n",
       "        vertical-align: top;\n",
       "    }\n",
       "\n",
       "    .dataframe thead th {\n",
       "        text-align: right;\n",
       "    }\n",
       "</style>\n",
       "<table border=\"1\" class=\"dataframe\">\n",
       "  <thead>\n",
       "    <tr style=\"text-align: right;\">\n",
       "      <th></th>\n",
       "      <th>Model</th>\n",
       "      <th>Train_Accuracy</th>\n",
       "      <th>Train_Recall</th>\n",
       "      <th>Train_Precision</th>\n",
       "      <th>Train_F1_Score</th>\n",
       "      <th>Test_Accuracy</th>\n",
       "      <th>Test_Recall</th>\n",
       "      <th>Test_Precision</th>\n",
       "      <th>Test_F1_Score</th>\n",
       "    </tr>\n",
       "  </thead>\n",
       "  <tbody>\n",
       "    <tr>\n",
       "      <th>0</th>\n",
       "      <td>LogisticRegression</td>\n",
       "      <td>0.795422</td>\n",
       "      <td>0.016522</td>\n",
       "      <td>0.358010</td>\n",
       "      <td>0.031586</td>\n",
       "      <td>0.794354</td>\n",
       "      <td>0.014337</td>\n",
       "      <td>0.304762</td>\n",
       "      <td>0.027386</td>\n",
       "    </tr>\n",
       "    <tr>\n",
       "      <th>1</th>\n",
       "      <td>LogisticRegression_Balanced</td>\n",
       "      <td>0.663971</td>\n",
       "      <td>0.597144</td>\n",
       "      <td>0.321328</td>\n",
       "      <td>0.417823</td>\n",
       "      <td>0.659640</td>\n",
       "      <td>0.605287</td>\n",
       "      <td>0.319234</td>\n",
       "      <td>0.418007</td>\n",
       "    </tr>\n",
       "    <tr>\n",
       "      <th>2</th>\n",
       "      <td>DecisionTree</td>\n",
       "      <td>0.857703</td>\n",
       "      <td>0.366956</td>\n",
       "      <td>0.836675</td>\n",
       "      <td>0.510161</td>\n",
       "      <td>0.772053</td>\n",
       "      <td>0.188396</td>\n",
       "      <td>0.372619</td>\n",
       "      <td>0.250260</td>\n",
       "    </tr>\n",
       "    <tr>\n",
       "      <th>3</th>\n",
       "      <td>DecisionTree_BestParameters</td>\n",
       "      <td>0.519345</td>\n",
       "      <td>0.919406</td>\n",
       "      <td>0.285610</td>\n",
       "      <td>0.435831</td>\n",
       "      <td>0.514430</td>\n",
       "      <td>0.919803</td>\n",
       "      <td>0.283524</td>\n",
       "      <td>0.433442</td>\n",
       "    </tr>\n",
       "  </tbody>\n",
       "</table>\n",
       "</div>"
      ],
      "text/plain": [
       "                         Model  Train_Accuracy  ...  Test_Precision  Test_F1_Score\n",
       "0           LogisticRegression        0.795422  ...        0.304762       0.027386\n",
       "1  LogisticRegression_Balanced        0.663971  ...        0.319234       0.418007\n",
       "2                 DecisionTree        0.857703  ...        0.372619       0.250260\n",
       "3  DecisionTree_BestParameters        0.519345  ...        0.283524       0.433442\n",
       "\n",
       "[4 rows x 9 columns]"
      ]
     },
     "execution_count": 115,
     "metadata": {
      "tags": []
     },
     "output_type": "execute_result"
    }
   ],
   "source": [
    "scores = get_metrics(y_train,y_pred_train,y_val,y_pred_val,\"DecisionTree_BestParameters\",scores)\n",
    "scores"
   ]
  },
  {
   "cell_type": "markdown",
   "metadata": {
    "id": "xbYg_r5bvHMH"
   },
   "source": [
    "### 5. Decision Tree with RandomizedSearchCV - Hyper-parameter Tuning"
   ]
  },
  {
   "cell_type": "code",
   "execution_count": 116,
   "metadata": {
    "id": "3T167gH_vHMH"
   },
   "outputs": [],
   "source": [
    "from sklearn.model_selection import RandomizedSearchCV\n",
    "from scipy.stats import uniform, truncnorm, randint\n",
    "\n",
    "clf3_dt = DecisionTreeClassifier(random_state=123, class_weight='balanced') "
   ]
  },
  {
   "cell_type": "code",
   "execution_count": 117,
   "metadata": {
    "colab": {
     "base_uri": "https://localhost:8080/"
    },
    "id": "MoFSPVMzvHMH",
    "outputId": "17321f22-eda6-4042-8880-53447b24ed26"
   },
   "outputs": [
    {
     "name": "stdout",
     "output_type": "stream",
     "text": [
      "[5 5 3 5 3]\n",
      "[3 3 3 3]\n",
      "[3 4 4 5 4]\n"
     ]
    }
   ],
   "source": [
    "max_leaf_nodes = np.random.normal(loc=5, scale=1, size=5).astype(int)\n",
    "max_leaf_nodes[max_leaf_nodes <1] = 1\n",
    "print(max_leaf_nodes)\n",
    "max_depth = np.random.uniform(2,5,4).astype(int)\n",
    "print(max_depth)\n",
    "min_samples_split = np.random.uniform(2, 6, 5).astype(int)\n",
    "print(min_samples_split)"
   ]
  },
  {
   "cell_type": "code",
   "execution_count": 118,
   "metadata": {
    "id": "I6RU1AsZvHMH"
   },
   "outputs": [],
   "source": [
    "## Set Up Hyperparameter Distributions\n",
    "\n",
    "# normally distributed max_leaf_nodes, with mean 5 stddev 1\n",
    "max_leaf_nodes = np.random.normal(loc=5, scale=1, size=5).astype(int)\n",
    "\n",
    "# uniform distribution from 2 to 5 \n",
    "max_depth = np.random.uniform(2,5,4).astype(int)\n",
    "\n",
    "# uniform distribution from 2 to 6\n",
    "min_samples_split = np.random.uniform(2, 6, 5).astype(int)\n",
    "\n",
    "model_params = {\n",
    "    'max_depth': list(max_depth),\n",
    "    'max_leaf_nodes': list(max_leaf_nodes),\n",
    "    'min_samples_split': list(min_samples_split)\n",
    "}"
   ]
  },
  {
   "cell_type": "code",
   "execution_count": 119,
   "metadata": {
    "colab": {
     "base_uri": "https://localhost:8080/"
    },
    "id": "yTFqnVyfvHMH",
    "outputId": "37ff0906-e459-4007-de08-6656a967c4c6",
    "scrolled": true
   },
   "outputs": [
    {
     "data": {
      "text/plain": [
       "RandomizedSearchCV(cv=5, error_score=nan,\n",
       "                   estimator=DecisionTreeClassifier(ccp_alpha=0.0,\n",
       "                                                    class_weight='balanced',\n",
       "                                                    criterion='gini',\n",
       "                                                    max_depth=None,\n",
       "                                                    max_features=None,\n",
       "                                                    max_leaf_nodes=None,\n",
       "                                                    min_impurity_decrease=0.0,\n",
       "                                                    min_impurity_split=None,\n",
       "                                                    min_samples_leaf=1,\n",
       "                                                    min_samples_split=2,\n",
       "                                                    min_weight_fraction_leaf=0.0,\n",
       "                                                    presort='deprecated',\n",
       "                                                    random_state=123,\n",
       "                                                    splitter='best'),\n",
       "                   iid='deprecated', n_iter=600, n_jobs=-1,\n",
       "                   param_distributions={'max_depth': [3, 2, 2, 4],\n",
       "                                        'max_leaf_nodes': [3, 5, 3, 4, 4],\n",
       "                                        'min_samples_split': [4, 2, 5, 3, 2]},\n",
       "                   pre_dispatch='2*n_jobs', random_state=None, refit=True,\n",
       "                   return_train_score=False, scoring='recall', verbose=0)"
      ]
     },
     "execution_count": 119,
     "metadata": {
      "tags": []
     },
     "output_type": "execute_result"
    }
   ],
   "source": [
    "clf_random = RandomizedSearchCV(estimator=clf3_dt, param_distributions=model_params, n_iter=600, cv=5, scoring='recall', n_jobs=-1)\n",
    "clf_random.fit(X_train_final, y_train)"
   ]
  },
  {
   "cell_type": "code",
   "execution_count": 120,
   "metadata": {
    "colab": {
     "base_uri": "https://localhost:8080/"
    },
    "id": "yMAan4w-vHMH",
    "outputId": "36db75bb-8ce3-4150-9b62-f35f24de793e"
   },
   "outputs": [
    {
     "name": "stdout",
     "output_type": "stream",
     "text": [
      "0.8983478017362083 {'min_samples_split': 4, 'max_leaf_nodes': 3, 'max_depth': 3}\n"
     ]
    }
   ],
   "source": [
    "print(clf_random.best_score_, clf_random.best_params_)"
   ]
  },
  {
   "cell_type": "code",
   "execution_count": 121,
   "metadata": {
    "colab": {
     "base_uri": "https://localhost:8080/"
    },
    "id": "fxEpCUQXvHMH",
    "outputId": "19c0970d-bcea-4732-86f6-0fa03d0a6f3c"
   },
   "outputs": [
    {
     "name": "stdout",
     "output_type": "stream",
     "text": [
      "DecisionTreeClassifier(ccp_alpha=0.0, class_weight='balanced', criterion='gini',\n",
      "                       max_depth=3, max_features=None, max_leaf_nodes=3,\n",
      "                       min_impurity_decrease=0.0, min_impurity_split=None,\n",
      "                       min_samples_leaf=1, min_samples_split=4,\n",
      "                       min_weight_fraction_leaf=0.0, presort='deprecated',\n",
      "                       random_state=123, splitter='best')\n"
     ]
    }
   ],
   "source": [
    "clf_dt_random = clf_random.best_estimator_\n",
    "print(clf_dt_random)"
   ]
  },
  {
   "cell_type": "code",
   "execution_count": 122,
   "metadata": {
    "id": "XQ3b60TsvHMH"
   },
   "outputs": [],
   "source": [
    "y_pred_train = clf_dt_random.predict(X_train_final)\n",
    "y_pred_val = clf_dt_random.predict(X_val_final)"
   ]
  },
  {
   "cell_type": "code",
   "execution_count": 123,
   "metadata": {
    "colab": {
     "base_uri": "https://localhost:8080/",
     "height": 947
    },
    "id": "-3fjezpFvHMH",
    "outputId": "02a84401-589b-454b-a19c-3f53b12704e5"
   },
   "outputs": [
    {
     "name": "stdout",
     "output_type": "stream",
     "text": [
      "\n",
      "         ========================================\n",
      "           CLASSIFICATION REPORT FOR TRAIN DATA\n",
      "         ========================================\n",
      "        \n",
      "              precision    recall  f1-score   support\n",
      "\n",
      "           0     0.9535    0.4181    0.5813     70566\n",
      "           1     0.2856    0.9194    0.4358     17855\n",
      "\n",
      "    accuracy                         0.5193     88421\n",
      "   macro avg     0.6196    0.6688    0.5086     88421\n",
      "weighted avg     0.8186    0.5193    0.5519     88421\n",
      "\n",
      "\n",
      "             =============================================\n",
      "               CLASSIFICATION REPORT FOR VALIDATION DATA\n",
      "             =============================================\n",
      "            \n",
      "              precision    recall  f1-score   support\n",
      "\n",
      "           0     0.9530    0.4119    0.5752     17642\n",
      "           1     0.2835    0.9198    0.4334      4464\n",
      "\n",
      "    accuracy                         0.5144     22106\n",
      "   macro avg     0.6183    0.6658    0.5043     22106\n",
      "weighted avg     0.8178    0.5144    0.5465     22106\n",
      "\n",
      "\n",
      "             ========================================\n",
      "               Confusion Matrix FOR TRAIN DATA\n",
      "             ========================================\n",
      "            \n",
      "[[29505 41061]\n",
      " [ 1439 16416]]\n",
      "\n",
      "             =============================================\n",
      "               Confusion matrix FOR VALIDATION DATA\n",
      "             =============================================\n",
      "            \n",
      "[[ 7266 10376]\n",
      " [  358  4106]]\n"
     ]
    },
    {
     "data": {
      "text/html": [
       "<div>\n",
       "<style scoped>\n",
       "    .dataframe tbody tr th:only-of-type {\n",
       "        vertical-align: middle;\n",
       "    }\n",
       "\n",
       "    .dataframe tbody tr th {\n",
       "        vertical-align: top;\n",
       "    }\n",
       "\n",
       "    .dataframe thead th {\n",
       "        text-align: right;\n",
       "    }\n",
       "</style>\n",
       "<table border=\"1\" class=\"dataframe\">\n",
       "  <thead>\n",
       "    <tr style=\"text-align: right;\">\n",
       "      <th></th>\n",
       "      <th>Model</th>\n",
       "      <th>Train_Accuracy</th>\n",
       "      <th>Train_Recall</th>\n",
       "      <th>Train_Precision</th>\n",
       "      <th>Train_F1_Score</th>\n",
       "      <th>Test_Accuracy</th>\n",
       "      <th>Test_Recall</th>\n",
       "      <th>Test_Precision</th>\n",
       "      <th>Test_F1_Score</th>\n",
       "    </tr>\n",
       "  </thead>\n",
       "  <tbody>\n",
       "    <tr>\n",
       "      <th>0</th>\n",
       "      <td>LogisticRegression</td>\n",
       "      <td>0.795422</td>\n",
       "      <td>0.016522</td>\n",
       "      <td>0.358010</td>\n",
       "      <td>0.031586</td>\n",
       "      <td>0.794354</td>\n",
       "      <td>0.014337</td>\n",
       "      <td>0.304762</td>\n",
       "      <td>0.027386</td>\n",
       "    </tr>\n",
       "    <tr>\n",
       "      <th>1</th>\n",
       "      <td>LogisticRegression_Balanced</td>\n",
       "      <td>0.663971</td>\n",
       "      <td>0.597144</td>\n",
       "      <td>0.321328</td>\n",
       "      <td>0.417823</td>\n",
       "      <td>0.659640</td>\n",
       "      <td>0.605287</td>\n",
       "      <td>0.319234</td>\n",
       "      <td>0.418007</td>\n",
       "    </tr>\n",
       "    <tr>\n",
       "      <th>2</th>\n",
       "      <td>DecisionTree</td>\n",
       "      <td>0.857703</td>\n",
       "      <td>0.366956</td>\n",
       "      <td>0.836675</td>\n",
       "      <td>0.510161</td>\n",
       "      <td>0.772053</td>\n",
       "      <td>0.188396</td>\n",
       "      <td>0.372619</td>\n",
       "      <td>0.250260</td>\n",
       "    </tr>\n",
       "    <tr>\n",
       "      <th>3</th>\n",
       "      <td>DecisionTree_BestParameters</td>\n",
       "      <td>0.519345</td>\n",
       "      <td>0.919406</td>\n",
       "      <td>0.285610</td>\n",
       "      <td>0.435831</td>\n",
       "      <td>0.514430</td>\n",
       "      <td>0.919803</td>\n",
       "      <td>0.283524</td>\n",
       "      <td>0.433442</td>\n",
       "    </tr>\n",
       "    <tr>\n",
       "      <th>4</th>\n",
       "      <td>DecisionTree_RandomizedSearch</td>\n",
       "      <td>0.519345</td>\n",
       "      <td>0.919406</td>\n",
       "      <td>0.285610</td>\n",
       "      <td>0.435831</td>\n",
       "      <td>0.514430</td>\n",
       "      <td>0.919803</td>\n",
       "      <td>0.283524</td>\n",
       "      <td>0.433442</td>\n",
       "    </tr>\n",
       "  </tbody>\n",
       "</table>\n",
       "</div>"
      ],
      "text/plain": [
       "                           Model  Train_Accuracy  ...  Test_Precision  Test_F1_Score\n",
       "0             LogisticRegression        0.795422  ...        0.304762       0.027386\n",
       "1    LogisticRegression_Balanced        0.663971  ...        0.319234       0.418007\n",
       "2                   DecisionTree        0.857703  ...        0.372619       0.250260\n",
       "3    DecisionTree_BestParameters        0.519345  ...        0.283524       0.433442\n",
       "4  DecisionTree_RandomizedSearch        0.519345  ...        0.283524       0.433442\n",
       "\n",
       "[5 rows x 9 columns]"
      ]
     },
     "execution_count": 123,
     "metadata": {
      "tags": []
     },
     "output_type": "execute_result"
    }
   ],
   "source": [
    "scores = get_metrics(y_train,y_pred_train,y_val,y_pred_val,\"DecisionTree_RandomizedSearch\",scores)\n",
    "scores"
   ]
  },
  {
   "cell_type": "markdown",
   "metadata": {
    "id": "BJPF5VqGd5yQ"
   },
   "source": [
    "### 6. Adaboost Classifier\n",
    "\n",
    "The most important parameters are base_estimator, n_estimators, and learning_rate.\n",
    "-  **base_estimator** is the learning algorithm to use to train the weak models. This will almost always not needed to be changed because by far the most common learner to use with AdaBoost is a decision tree – this parameter’s default argument.\n",
    "-  **n_estimators** is the number of models to iteratively train.\n",
    "-  **learning_rate** is the contribution of each model to the weights and defaults to 1. Reducing the learning rate will mean the weights will be increased or decreased to a small degree, forcing the model train slower (but sometimes resulting in better performance scores).\n",
    "-  **loss** is exclusive to AdaBoostRegressor and sets the loss function to use when updating weights. This defaults to a linear loss function however can be changed to square or exponential."
   ]
  },
  {
   "cell_type": "code",
   "execution_count": 124,
   "metadata": {
    "colab": {
     "base_uri": "https://localhost:8080/"
    },
    "id": "VmBV0srQd5yw",
    "outputId": "ba4a8120-d4aa-4293-fb9e-bad15cd69d0a"
   },
   "outputs": [
    {
     "data": {
      "text/plain": [
       "AdaBoostClassifier(algorithm='SAMME.R',\n",
       "                   base_estimator=DecisionTreeClassifier(ccp_alpha=0.0,\n",
       "                                                         class_weight='balanced',\n",
       "                                                         criterion='gini',\n",
       "                                                         max_depth=None,\n",
       "                                                         max_features=None,\n",
       "                                                         max_leaf_nodes=None,\n",
       "                                                         min_impurity_decrease=0.0,\n",
       "                                                         min_impurity_split=None,\n",
       "                                                         min_samples_leaf=1,\n",
       "                                                         min_samples_split=2,\n",
       "                                                         min_weight_fraction_leaf=0.0,\n",
       "                                                         presort='deprecated',\n",
       "                                                         random_state=None,\n",
       "                                                         splitter='best'),\n",
       "                   learning_rate=0.4, n_estimators=100, random_state=123)"
      ]
     },
     "execution_count": 124,
     "metadata": {
      "tags": []
     },
     "output_type": "execute_result"
    }
   ],
   "source": [
    "clf_ada = AdaBoostClassifier(DecisionTreeClassifier(criterion=\"gini\",class_weight='balanced'),n_estimators=100,learning_rate = 0.4,random_state=123)\n",
    "clf_ada.fit(X_train_final, y_train)"
   ]
  },
  {
   "cell_type": "code",
   "execution_count": 125,
   "metadata": {
    "id": "pqDZPxeqd5y1"
   },
   "outputs": [],
   "source": [
    "y_pred_train = clf_ada.predict(X_train_final)\n",
    "y_pred_val = clf_ada.predict(X_val_final)"
   ]
  },
  {
   "cell_type": "code",
   "execution_count": 126,
   "metadata": {
    "colab": {
     "base_uri": "https://localhost:8080/",
     "height": 977
    },
    "id": "Ul8YcvTRvHMK",
    "outputId": "e631af63-0a58-476b-c294-e898455b5947"
   },
   "outputs": [
    {
     "name": "stdout",
     "output_type": "stream",
     "text": [
      "\n",
      "         ========================================\n",
      "           CLASSIFICATION REPORT FOR TRAIN DATA\n",
      "         ========================================\n",
      "        \n",
      "              precision    recall  f1-score   support\n",
      "\n",
      "           0     0.9501    0.7550    0.8414     70566\n",
      "           1     0.4654    0.8432    0.5998     17855\n",
      "\n",
      "    accuracy                         0.7728     88421\n",
      "   macro avg     0.7078    0.7991    0.7206     88421\n",
      "weighted avg     0.8522    0.7728    0.7926     88421\n",
      "\n",
      "\n",
      "             =============================================\n",
      "               CLASSIFICATION REPORT FOR VALIDATION DATA\n",
      "             =============================================\n",
      "            \n",
      "              precision    recall  f1-score   support\n",
      "\n",
      "           0     0.8536    0.7107    0.7756     17642\n",
      "           1     0.3119    0.5184    0.3895      4464\n",
      "\n",
      "    accuracy                         0.6719     22106\n",
      "   macro avg     0.5828    0.6145    0.5826     22106\n",
      "weighted avg     0.7442    0.6719    0.6977     22106\n",
      "\n",
      "\n",
      "             ========================================\n",
      "               Confusion Matrix FOR TRAIN DATA\n",
      "             ========================================\n",
      "            \n",
      "[[53275 17291]\n",
      " [ 2800 15055]]\n",
      "\n",
      "             =============================================\n",
      "               Confusion matrix FOR VALIDATION DATA\n",
      "             =============================================\n",
      "            \n",
      "[[12538  5104]\n",
      " [ 2150  2314]]\n"
     ]
    },
    {
     "data": {
      "text/html": [
       "<div>\n",
       "<style scoped>\n",
       "    .dataframe tbody tr th:only-of-type {\n",
       "        vertical-align: middle;\n",
       "    }\n",
       "\n",
       "    .dataframe tbody tr th {\n",
       "        vertical-align: top;\n",
       "    }\n",
       "\n",
       "    .dataframe thead th {\n",
       "        text-align: right;\n",
       "    }\n",
       "</style>\n",
       "<table border=\"1\" class=\"dataframe\">\n",
       "  <thead>\n",
       "    <tr style=\"text-align: right;\">\n",
       "      <th></th>\n",
       "      <th>Model</th>\n",
       "      <th>Train_Accuracy</th>\n",
       "      <th>Train_Recall</th>\n",
       "      <th>Train_Precision</th>\n",
       "      <th>Train_F1_Score</th>\n",
       "      <th>Test_Accuracy</th>\n",
       "      <th>Test_Recall</th>\n",
       "      <th>Test_Precision</th>\n",
       "      <th>Test_F1_Score</th>\n",
       "    </tr>\n",
       "  </thead>\n",
       "  <tbody>\n",
       "    <tr>\n",
       "      <th>0</th>\n",
       "      <td>LogisticRegression</td>\n",
       "      <td>0.795422</td>\n",
       "      <td>0.016522</td>\n",
       "      <td>0.358010</td>\n",
       "      <td>0.031586</td>\n",
       "      <td>0.794354</td>\n",
       "      <td>0.014337</td>\n",
       "      <td>0.304762</td>\n",
       "      <td>0.027386</td>\n",
       "    </tr>\n",
       "    <tr>\n",
       "      <th>1</th>\n",
       "      <td>LogisticRegression_Balanced</td>\n",
       "      <td>0.663971</td>\n",
       "      <td>0.597144</td>\n",
       "      <td>0.321328</td>\n",
       "      <td>0.417823</td>\n",
       "      <td>0.659640</td>\n",
       "      <td>0.605287</td>\n",
       "      <td>0.319234</td>\n",
       "      <td>0.418007</td>\n",
       "    </tr>\n",
       "    <tr>\n",
       "      <th>2</th>\n",
       "      <td>DecisionTree</td>\n",
       "      <td>0.857703</td>\n",
       "      <td>0.366956</td>\n",
       "      <td>0.836675</td>\n",
       "      <td>0.510161</td>\n",
       "      <td>0.772053</td>\n",
       "      <td>0.188396</td>\n",
       "      <td>0.372619</td>\n",
       "      <td>0.250260</td>\n",
       "    </tr>\n",
       "    <tr>\n",
       "      <th>3</th>\n",
       "      <td>DecisionTree_BestParameters</td>\n",
       "      <td>0.519345</td>\n",
       "      <td>0.919406</td>\n",
       "      <td>0.285610</td>\n",
       "      <td>0.435831</td>\n",
       "      <td>0.514430</td>\n",
       "      <td>0.919803</td>\n",
       "      <td>0.283524</td>\n",
       "      <td>0.433442</td>\n",
       "    </tr>\n",
       "    <tr>\n",
       "      <th>4</th>\n",
       "      <td>DecisionTree_RandomizedSearch</td>\n",
       "      <td>0.519345</td>\n",
       "      <td>0.919406</td>\n",
       "      <td>0.285610</td>\n",
       "      <td>0.435831</td>\n",
       "      <td>0.514430</td>\n",
       "      <td>0.919803</td>\n",
       "      <td>0.283524</td>\n",
       "      <td>0.433442</td>\n",
       "    </tr>\n",
       "    <tr>\n",
       "      <th>5</th>\n",
       "      <td>Adaboost</td>\n",
       "      <td>0.772780</td>\n",
       "      <td>0.843181</td>\n",
       "      <td>0.465436</td>\n",
       "      <td>0.599789</td>\n",
       "      <td>0.671854</td>\n",
       "      <td>0.518369</td>\n",
       "      <td>0.311944</td>\n",
       "      <td>0.389497</td>\n",
       "    </tr>\n",
       "  </tbody>\n",
       "</table>\n",
       "</div>"
      ],
      "text/plain": [
       "                           Model  Train_Accuracy  ...  Test_Precision  Test_F1_Score\n",
       "0             LogisticRegression        0.795422  ...        0.304762       0.027386\n",
       "1    LogisticRegression_Balanced        0.663971  ...        0.319234       0.418007\n",
       "2                   DecisionTree        0.857703  ...        0.372619       0.250260\n",
       "3    DecisionTree_BestParameters        0.519345  ...        0.283524       0.433442\n",
       "4  DecisionTree_RandomizedSearch        0.519345  ...        0.283524       0.433442\n",
       "5                       Adaboost        0.772780  ...        0.311944       0.389497\n",
       "\n",
       "[6 rows x 9 columns]"
      ]
     },
     "execution_count": 126,
     "metadata": {
      "tags": []
     },
     "output_type": "execute_result"
    }
   ],
   "source": [
    "scores = get_metrics(y_train,y_pred_train,y_val,y_pred_val,\"Adaboost\",scores)\n",
    "scores"
   ]
  },
  {
   "cell_type": "markdown",
   "metadata": {
    "id": "V1seW4fwvHMK"
   },
   "source": [
    "### 7. Adaboost Classifier with Grid Search CV"
   ]
  },
  {
   "cell_type": "code",
   "execution_count": 127,
   "metadata": {
    "id": "U-atmQyPvHMK",
    "scrolled": true
   },
   "outputs": [],
   "source": [
    "# GridSearchCV\n",
    "param_grid = {'n_estimators' : [100, 200, 300],\n",
    "              'learning_rate' : [0.2, 0.3, 0.4]}\n",
    "\n",
    "clf_grid_ada = GridSearchCV(AdaBoostClassifier(DecisionTreeClassifier()), param_grid, scoring='recall',n_jobs=-1)\n"
   ]
  },
  {
   "cell_type": "code",
   "execution_count": 128,
   "metadata": {
    "colab": {
     "base_uri": "https://localhost:8080/"
    },
    "id": "PNLdjniwvHML",
    "outputId": "0615c89e-567e-4a0d-885a-244eb0c5b6df"
   },
   "outputs": [
    {
     "data": {
      "text/plain": [
       "GridSearchCV(cv=None, error_score=nan,\n",
       "             estimator=AdaBoostClassifier(algorithm='SAMME.R',\n",
       "                                          base_estimator=DecisionTreeClassifier(ccp_alpha=0.0,\n",
       "                                                                                class_weight=None,\n",
       "                                                                                criterion='gini',\n",
       "                                                                                max_depth=None,\n",
       "                                                                                max_features=None,\n",
       "                                                                                max_leaf_nodes=None,\n",
       "                                                                                min_impurity_decrease=0.0,\n",
       "                                                                                min_impurity_split=None,\n",
       "                                                                                min_samples_leaf=1,\n",
       "                                                                                min_samples_split=2,\n",
       "                                                                                min_weight_fraction_leaf=0.0,\n",
       "                                                                                presort='deprecated',\n",
       "                                                                                random_state=None,\n",
       "                                                                                splitter='best'),\n",
       "                                          learning_rate=1.0, n_estimators=50,\n",
       "                                          random_state=None),\n",
       "             iid='deprecated', n_jobs=-1,\n",
       "             param_grid={'learning_rate': [0.2, 0.3, 0.4],\n",
       "                         'n_estimators': [100, 200, 300]},\n",
       "             pre_dispatch='2*n_jobs', refit=True, return_train_score=False,\n",
       "             scoring='recall', verbose=0)"
      ]
     },
     "execution_count": 128,
     "metadata": {
      "tags": []
     },
     "output_type": "execute_result"
    }
   ],
   "source": [
    "clf_grid_ada.fit(X_train_final, y_train)"
   ]
  },
  {
   "cell_type": "code",
   "execution_count": 129,
   "metadata": {
    "colab": {
     "base_uri": "https://localhost:8080/"
    },
    "id": "pAjd_QJAvHML",
    "outputId": "f0e7c2e0-32ac-496a-b2d9-17601c06ffb3"
   },
   "outputs": [
    {
     "name": "stdout",
     "output_type": "stream",
     "text": [
      "AdaBoostClassifier(algorithm='SAMME.R',\n",
      "                   base_estimator=DecisionTreeClassifier(ccp_alpha=0.0,\n",
      "                                                         class_weight=None,\n",
      "                                                         criterion='gini',\n",
      "                                                         max_depth=None,\n",
      "                                                         max_features=None,\n",
      "                                                         max_leaf_nodes=None,\n",
      "                                                         min_impurity_decrease=0.0,\n",
      "                                                         min_impurity_split=None,\n",
      "                                                         min_samples_leaf=1,\n",
      "                                                         min_samples_split=2,\n",
      "                                                         min_weight_fraction_leaf=0.0,\n",
      "                                                         presort='deprecated',\n",
      "                                                         random_state=None,\n",
      "                                                         splitter='best'),\n",
      "                   learning_rate=0.4, n_estimators=300, random_state=None)\n",
      "0.1864463735648278 {'learning_rate': 0.4, 'n_estimators': 300}\n"
     ]
    }
   ],
   "source": [
    "best_ada_model = clf_grid_ada.best_estimator_\n",
    "print(best_ada_model)\n",
    "print (clf_grid_ada.best_score_, clf_grid_ada.best_params_) "
   ]
  },
  {
   "cell_type": "code",
   "execution_count": 130,
   "metadata": {
    "id": "af9quFpevHML"
   },
   "outputs": [],
   "source": [
    "y_pred_train = best_ada_model.predict(X_train_final)\n",
    "y_pred_val = best_ada_model.predict(X_val_final)"
   ]
  },
  {
   "cell_type": "code",
   "execution_count": 131,
   "metadata": {
    "colab": {
     "base_uri": "https://localhost:8080/",
     "height": 1000
    },
    "id": "tz6S2Ot1vHML",
    "outputId": "8febb768-90bc-4b46-9bff-d4859160f70f"
   },
   "outputs": [
    {
     "name": "stdout",
     "output_type": "stream",
     "text": [
      "\n",
      "         ========================================\n",
      "           CLASSIFICATION REPORT FOR TRAIN DATA\n",
      "         ========================================\n",
      "        \n",
      "              precision    recall  f1-score   support\n",
      "\n",
      "           0     0.8622    0.9780    0.9165     70566\n",
      "           1     0.8150    0.3821    0.5202     17855\n",
      "\n",
      "    accuracy                         0.8577     88421\n",
      "   macro avg     0.8386    0.6801    0.7184     88421\n",
      "weighted avg     0.8526    0.8577    0.8365     88421\n",
      "\n",
      "\n",
      "             =============================================\n",
      "               CLASSIFICATION REPORT FOR VALIDATION DATA\n",
      "             =============================================\n",
      "            \n",
      "              precision    recall  f1-score   support\n",
      "\n",
      "           0     0.8167    0.9263    0.8680     17642\n",
      "           1     0.3796    0.1783    0.2426      4464\n",
      "\n",
      "    accuracy                         0.7752     22106\n",
      "   macro avg     0.5981    0.5523    0.5553     22106\n",
      "weighted avg     0.7284    0.7752    0.7417     22106\n",
      "\n",
      "\n",
      "             ========================================\n",
      "               Confusion Matrix FOR TRAIN DATA\n",
      "             ========================================\n",
      "            \n",
      "[[69017  1549]\n",
      " [11033  6822]]\n",
      "\n",
      "             =============================================\n",
      "               Confusion matrix FOR VALIDATION DATA\n",
      "             =============================================\n",
      "            \n",
      "[[16341  1301]\n",
      " [ 3668   796]]\n"
     ]
    },
    {
     "data": {
      "text/html": [
       "<div>\n",
       "<style scoped>\n",
       "    .dataframe tbody tr th:only-of-type {\n",
       "        vertical-align: middle;\n",
       "    }\n",
       "\n",
       "    .dataframe tbody tr th {\n",
       "        vertical-align: top;\n",
       "    }\n",
       "\n",
       "    .dataframe thead th {\n",
       "        text-align: right;\n",
       "    }\n",
       "</style>\n",
       "<table border=\"1\" class=\"dataframe\">\n",
       "  <thead>\n",
       "    <tr style=\"text-align: right;\">\n",
       "      <th></th>\n",
       "      <th>Model</th>\n",
       "      <th>Train_Accuracy</th>\n",
       "      <th>Train_Recall</th>\n",
       "      <th>Train_Precision</th>\n",
       "      <th>Train_F1_Score</th>\n",
       "      <th>Test_Accuracy</th>\n",
       "      <th>Test_Recall</th>\n",
       "      <th>Test_Precision</th>\n",
       "      <th>Test_F1_Score</th>\n",
       "    </tr>\n",
       "  </thead>\n",
       "  <tbody>\n",
       "    <tr>\n",
       "      <th>0</th>\n",
       "      <td>LogisticRegression</td>\n",
       "      <td>0.795422</td>\n",
       "      <td>0.016522</td>\n",
       "      <td>0.358010</td>\n",
       "      <td>0.031586</td>\n",
       "      <td>0.794354</td>\n",
       "      <td>0.014337</td>\n",
       "      <td>0.304762</td>\n",
       "      <td>0.027386</td>\n",
       "    </tr>\n",
       "    <tr>\n",
       "      <th>1</th>\n",
       "      <td>LogisticRegression_Balanced</td>\n",
       "      <td>0.663971</td>\n",
       "      <td>0.597144</td>\n",
       "      <td>0.321328</td>\n",
       "      <td>0.417823</td>\n",
       "      <td>0.659640</td>\n",
       "      <td>0.605287</td>\n",
       "      <td>0.319234</td>\n",
       "      <td>0.418007</td>\n",
       "    </tr>\n",
       "    <tr>\n",
       "      <th>2</th>\n",
       "      <td>DecisionTree</td>\n",
       "      <td>0.857703</td>\n",
       "      <td>0.366956</td>\n",
       "      <td>0.836675</td>\n",
       "      <td>0.510161</td>\n",
       "      <td>0.772053</td>\n",
       "      <td>0.188396</td>\n",
       "      <td>0.372619</td>\n",
       "      <td>0.250260</td>\n",
       "    </tr>\n",
       "    <tr>\n",
       "      <th>3</th>\n",
       "      <td>DecisionTree_BestParameters</td>\n",
       "      <td>0.519345</td>\n",
       "      <td>0.919406</td>\n",
       "      <td>0.285610</td>\n",
       "      <td>0.435831</td>\n",
       "      <td>0.514430</td>\n",
       "      <td>0.919803</td>\n",
       "      <td>0.283524</td>\n",
       "      <td>0.433442</td>\n",
       "    </tr>\n",
       "    <tr>\n",
       "      <th>4</th>\n",
       "      <td>DecisionTree_RandomizedSearch</td>\n",
       "      <td>0.519345</td>\n",
       "      <td>0.919406</td>\n",
       "      <td>0.285610</td>\n",
       "      <td>0.435831</td>\n",
       "      <td>0.514430</td>\n",
       "      <td>0.919803</td>\n",
       "      <td>0.283524</td>\n",
       "      <td>0.433442</td>\n",
       "    </tr>\n",
       "    <tr>\n",
       "      <th>5</th>\n",
       "      <td>Adaboost</td>\n",
       "      <td>0.772780</td>\n",
       "      <td>0.843181</td>\n",
       "      <td>0.465436</td>\n",
       "      <td>0.599789</td>\n",
       "      <td>0.671854</td>\n",
       "      <td>0.518369</td>\n",
       "      <td>0.311944</td>\n",
       "      <td>0.389497</td>\n",
       "    </tr>\n",
       "    <tr>\n",
       "      <th>6</th>\n",
       "      <td>Adaboost_BestParameters</td>\n",
       "      <td>0.857703</td>\n",
       "      <td>0.382078</td>\n",
       "      <td>0.814956</td>\n",
       "      <td>0.520247</td>\n",
       "      <td>0.775219</td>\n",
       "      <td>0.178315</td>\n",
       "      <td>0.379590</td>\n",
       "      <td>0.242646</td>\n",
       "    </tr>\n",
       "  </tbody>\n",
       "</table>\n",
       "</div>"
      ],
      "text/plain": [
       "                           Model  Train_Accuracy  ...  Test_Precision  Test_F1_Score\n",
       "0             LogisticRegression        0.795422  ...        0.304762       0.027386\n",
       "1    LogisticRegression_Balanced        0.663971  ...        0.319234       0.418007\n",
       "2                   DecisionTree        0.857703  ...        0.372619       0.250260\n",
       "3    DecisionTree_BestParameters        0.519345  ...        0.283524       0.433442\n",
       "4  DecisionTree_RandomizedSearch        0.519345  ...        0.283524       0.433442\n",
       "5                       Adaboost        0.772780  ...        0.311944       0.389497\n",
       "6        Adaboost_BestParameters        0.857703  ...        0.379590       0.242646\n",
       "\n",
       "[7 rows x 9 columns]"
      ]
     },
     "execution_count": 131,
     "metadata": {
      "tags": []
     },
     "output_type": "execute_result"
    }
   ],
   "source": [
    "scores = get_metrics(y_train,y_pred_train,y_val,y_pred_val,\"Adaboost_BestParameters\",scores)\n",
    "scores"
   ]
  },
  {
   "cell_type": "markdown",
   "metadata": {
    "id": "bLR0XluuvHMM"
   },
   "source": [
    "### 8. Gradient Boosting Classifier"
   ]
  },
  {
   "cell_type": "markdown",
   "metadata": {
    "id": "Yf25x0L-vHMM"
   },
   "source": [
    "The most important parameters are learning_rate, n_estimators and subsample\n",
    "- **learning_rate**\n",
    "    -  This determines the impact of each tree on the final outcome (step 2.4). GBM works by starting with an initial estimate which is updated using the output of each tree. The learning parameter controls the magnitude of this change in the estimates.\n",
    "    -  Lower values are generally preferred as they make the model robust to the specific characteristics of tree and thus allowing it to generalize well.\n",
    "    -  Lower values would require higher number of trees to model all the relations and will be computationally expensive.\n",
    "- **n_estimators**\n",
    "    -  The number of sequential trees to be modeled (step 2)\n",
    "    -  Though GBM is fairly robust at higher number of trees but it can still overfit at a point. Hence, this should be tuned using CV for a particular learning rate.\n",
    "- **subsample**\n",
    "    -  The fraction of observations to be selected for each tree. Selection is done by random sampling.\n",
    "    -  Values slightly less than 1 make the model robust by reducing the variance.\n",
    "    -  Typical values ~0.8 generally work fine but can be fine-tuned further."
   ]
  },
  {
   "cell_type": "code",
   "execution_count": 132,
   "metadata": {
    "id": "lO5tRmLxvHMM"
   },
   "outputs": [],
   "source": [
    "clf_GBM = GradientBoostingClassifier(n_estimators=50,\n",
    "                                       learning_rate=0.3,\n",
    "                                       subsample=0.8)"
   ]
  },
  {
   "cell_type": "code",
   "execution_count": 133,
   "metadata": {
    "colab": {
     "base_uri": "https://localhost:8080/"
    },
    "id": "6yRlngpTvHMM",
    "outputId": "fe7302ca-bc13-4c1d-ca5a-ca0359d1509c"
   },
   "outputs": [
    {
     "data": {
      "text/plain": [
       "GradientBoostingClassifier(ccp_alpha=0.0, criterion='friedman_mse', init=None,\n",
       "                           learning_rate=0.3, loss='deviance', max_depth=3,\n",
       "                           max_features=None, max_leaf_nodes=None,\n",
       "                           min_impurity_decrease=0.0, min_impurity_split=None,\n",
       "                           min_samples_leaf=1, min_samples_split=2,\n",
       "                           min_weight_fraction_leaf=0.0, n_estimators=50,\n",
       "                           n_iter_no_change=None, presort='deprecated',\n",
       "                           random_state=None, subsample=0.8, tol=0.0001,\n",
       "                           validation_fraction=0.1, verbose=0,\n",
       "                           warm_start=False)"
      ]
     },
     "execution_count": 133,
     "metadata": {
      "tags": []
     },
     "output_type": "execute_result"
    }
   ],
   "source": [
    "clf_GBM.fit(X=X_train_final, y=y_train)"
   ]
  },
  {
   "cell_type": "code",
   "execution_count": 134,
   "metadata": {
    "id": "y9k2M66kvHMM"
   },
   "outputs": [],
   "source": [
    "y_pred_train = clf_GBM.predict(X_train_final)\n",
    "y_pred_val = clf_GBM.predict(X_val_final)"
   ]
  },
  {
   "cell_type": "code",
   "execution_count": 135,
   "metadata": {
    "colab": {
     "base_uri": "https://localhost:8080/",
     "height": 1000
    },
    "id": "v-8hsi17vHMM",
    "outputId": "87827350-c895-4e77-ce71-d74a4f6b97c5"
   },
   "outputs": [
    {
     "name": "stdout",
     "output_type": "stream",
     "text": [
      "\n",
      "         ========================================\n",
      "           CLASSIFICATION REPORT FOR TRAIN DATA\n",
      "         ========================================\n",
      "        \n",
      "              precision    recall  f1-score   support\n",
      "\n",
      "           0     0.7997    0.9980    0.8879     70566\n",
      "           1     0.6117    0.0123    0.0240     17855\n",
      "\n",
      "    accuracy                         0.7990     88421\n",
      "   macro avg     0.7057    0.5051    0.4560     88421\n",
      "weighted avg     0.7618    0.7990    0.7135     88421\n",
      "\n",
      "\n",
      "             =============================================\n",
      "               CLASSIFICATION REPORT FOR VALIDATION DATA\n",
      "             =============================================\n",
      "            \n",
      "              precision    recall  f1-score   support\n",
      "\n",
      "           0     0.7991    0.9976    0.8874     17642\n",
      "           1     0.4756    0.0087    0.0172      4464\n",
      "\n",
      "    accuracy                         0.7979     22106\n",
      "   macro avg     0.6373    0.5031    0.4523     22106\n",
      "weighted avg     0.7338    0.7979    0.7116     22106\n",
      "\n",
      "\n",
      "             ========================================\n",
      "               Confusion Matrix FOR TRAIN DATA\n",
      "             ========================================\n",
      "            \n",
      "[[70427   139]\n",
      " [17636   219]]\n",
      "\n",
      "             =============================================\n",
      "               Confusion matrix FOR VALIDATION DATA\n",
      "             =============================================\n",
      "            \n",
      "[[17599    43]\n",
      " [ 4425    39]]\n"
     ]
    },
    {
     "data": {
      "text/html": [
       "<div>\n",
       "<style scoped>\n",
       "    .dataframe tbody tr th:only-of-type {\n",
       "        vertical-align: middle;\n",
       "    }\n",
       "\n",
       "    .dataframe tbody tr th {\n",
       "        vertical-align: top;\n",
       "    }\n",
       "\n",
       "    .dataframe thead th {\n",
       "        text-align: right;\n",
       "    }\n",
       "</style>\n",
       "<table border=\"1\" class=\"dataframe\">\n",
       "  <thead>\n",
       "    <tr style=\"text-align: right;\">\n",
       "      <th></th>\n",
       "      <th>Model</th>\n",
       "      <th>Train_Accuracy</th>\n",
       "      <th>Train_Recall</th>\n",
       "      <th>Train_Precision</th>\n",
       "      <th>Train_F1_Score</th>\n",
       "      <th>Test_Accuracy</th>\n",
       "      <th>Test_Recall</th>\n",
       "      <th>Test_Precision</th>\n",
       "      <th>Test_F1_Score</th>\n",
       "    </tr>\n",
       "  </thead>\n",
       "  <tbody>\n",
       "    <tr>\n",
       "      <th>0</th>\n",
       "      <td>LogisticRegression</td>\n",
       "      <td>0.795422</td>\n",
       "      <td>0.016522</td>\n",
       "      <td>0.358010</td>\n",
       "      <td>0.031586</td>\n",
       "      <td>0.794354</td>\n",
       "      <td>0.014337</td>\n",
       "      <td>0.304762</td>\n",
       "      <td>0.027386</td>\n",
       "    </tr>\n",
       "    <tr>\n",
       "      <th>1</th>\n",
       "      <td>LogisticRegression_Balanced</td>\n",
       "      <td>0.663971</td>\n",
       "      <td>0.597144</td>\n",
       "      <td>0.321328</td>\n",
       "      <td>0.417823</td>\n",
       "      <td>0.659640</td>\n",
       "      <td>0.605287</td>\n",
       "      <td>0.319234</td>\n",
       "      <td>0.418007</td>\n",
       "    </tr>\n",
       "    <tr>\n",
       "      <th>2</th>\n",
       "      <td>DecisionTree</td>\n",
       "      <td>0.857703</td>\n",
       "      <td>0.366956</td>\n",
       "      <td>0.836675</td>\n",
       "      <td>0.510161</td>\n",
       "      <td>0.772053</td>\n",
       "      <td>0.188396</td>\n",
       "      <td>0.372619</td>\n",
       "      <td>0.250260</td>\n",
       "    </tr>\n",
       "    <tr>\n",
       "      <th>3</th>\n",
       "      <td>DecisionTree_BestParameters</td>\n",
       "      <td>0.519345</td>\n",
       "      <td>0.919406</td>\n",
       "      <td>0.285610</td>\n",
       "      <td>0.435831</td>\n",
       "      <td>0.514430</td>\n",
       "      <td>0.919803</td>\n",
       "      <td>0.283524</td>\n",
       "      <td>0.433442</td>\n",
       "    </tr>\n",
       "    <tr>\n",
       "      <th>4</th>\n",
       "      <td>DecisionTree_RandomizedSearch</td>\n",
       "      <td>0.519345</td>\n",
       "      <td>0.919406</td>\n",
       "      <td>0.285610</td>\n",
       "      <td>0.435831</td>\n",
       "      <td>0.514430</td>\n",
       "      <td>0.919803</td>\n",
       "      <td>0.283524</td>\n",
       "      <td>0.433442</td>\n",
       "    </tr>\n",
       "    <tr>\n",
       "      <th>5</th>\n",
       "      <td>Adaboost</td>\n",
       "      <td>0.772780</td>\n",
       "      <td>0.843181</td>\n",
       "      <td>0.465436</td>\n",
       "      <td>0.599789</td>\n",
       "      <td>0.671854</td>\n",
       "      <td>0.518369</td>\n",
       "      <td>0.311944</td>\n",
       "      <td>0.389497</td>\n",
       "    </tr>\n",
       "    <tr>\n",
       "      <th>6</th>\n",
       "      <td>Adaboost_BestParameters</td>\n",
       "      <td>0.857703</td>\n",
       "      <td>0.382078</td>\n",
       "      <td>0.814956</td>\n",
       "      <td>0.520247</td>\n",
       "      <td>0.775219</td>\n",
       "      <td>0.178315</td>\n",
       "      <td>0.379590</td>\n",
       "      <td>0.242646</td>\n",
       "    </tr>\n",
       "    <tr>\n",
       "      <th>7</th>\n",
       "      <td>GBM</td>\n",
       "      <td>0.798973</td>\n",
       "      <td>0.012265</td>\n",
       "      <td>0.611732</td>\n",
       "      <td>0.024049</td>\n",
       "      <td>0.797883</td>\n",
       "      <td>0.008737</td>\n",
       "      <td>0.475610</td>\n",
       "      <td>0.017158</td>\n",
       "    </tr>\n",
       "  </tbody>\n",
       "</table>\n",
       "</div>"
      ],
      "text/plain": [
       "                           Model  Train_Accuracy  ...  Test_Precision  Test_F1_Score\n",
       "0             LogisticRegression        0.795422  ...        0.304762       0.027386\n",
       "1    LogisticRegression_Balanced        0.663971  ...        0.319234       0.418007\n",
       "2                   DecisionTree        0.857703  ...        0.372619       0.250260\n",
       "3    DecisionTree_BestParameters        0.519345  ...        0.283524       0.433442\n",
       "4  DecisionTree_RandomizedSearch        0.519345  ...        0.283524       0.433442\n",
       "5                       Adaboost        0.772780  ...        0.311944       0.389497\n",
       "6        Adaboost_BestParameters        0.857703  ...        0.379590       0.242646\n",
       "7                            GBM        0.798973  ...        0.475610       0.017158\n",
       "\n",
       "[8 rows x 9 columns]"
      ]
     },
     "execution_count": 135,
     "metadata": {
      "tags": []
     },
     "output_type": "execute_result"
    }
   ],
   "source": [
    "scores = get_metrics(y_train,y_pred_train,y_val,y_pred_val,\"GBM\",scores)\n",
    "scores"
   ]
  },
  {
   "cell_type": "markdown",
   "metadata": {
    "id": "k-HtjPC1vHMM"
   },
   "source": [
    "### Handling Class Imbalance using Synthetic Minority Oversampling Technique\n",
    "#### Oversample Using SMOTE"
   ]
  },
  {
   "cell_type": "code",
   "execution_count": 136,
   "metadata": {
    "colab": {
     "base_uri": "https://localhost:8080/",
     "height": 536
    },
    "id": "A5Ffg8xPvHMM",
    "outputId": "c0c3a450-7b69-4572-d815-3173d2b70dc0"
   },
   "outputs": [
    {
     "data": {
      "image/jpeg": "[encoded data removed]",
      "text/plain": [
       "<IPython.core.display.Image object>"
      ]
     },
     "execution_count": 136,
     "metadata": {
      "tags": []
     },
     "output_type": "execute_result"
    }
   ],
   "source": [
    "from IPython.display import Image\n",
    "Image(filename=r'YOUR_PATH_HERE/img/SMOTE.jpg') "
   ]
  },
  {
   "cell_type": "code",
   "execution_count": 174,
   "metadata": {
    "id": "GS2gnzI1d5v1"
   },
   "outputs": [],
   "source": [
    "smote = SMOTE(random_state=123)\n",
    "os_train_X, os_train_y = smote.fit_sample(X_train_final, y_train)"
   ]
  },
  {
   "cell_type": "code",
   "execution_count": 175,
   "metadata": {
    "colab": {
     "base_uri": "https://localhost:8080/",
     "height": 262
    },
    "id": "UMskhdRcNBtf",
    "outputId": "820dce6e-f4be-4e13-c22c-4af793d8c16b"
   },
   "outputs": [
    {
     "data": {
      "image/png": "[encoded data removed]",
      "text/plain": [
       "<Figure size 432x288 with 1 Axes>"
      ]
     },
     "metadata": {
      "needs_background": "light",
      "tags": []
     },
     "output_type": "display_data"
    }
   ],
   "source": [
    "# observe that data has been balanced\n",
    "pd.Series(os_train_y).value_counts().plot.bar()\n",
    "plt.show()"
   ]
  },
  {
   "cell_type": "code",
   "execution_count": 176,
   "metadata": {
    "colab": {
     "base_uri": "https://localhost:8080/"
    },
    "id": "egiKrRxo6tmw",
    "outputId": "9b188cec-e345-47d3-e5cd-3fc295a9f40c"
   },
   "outputs": [
    {
     "data": {
      "text/plain": [
       "array([0, 1, 0, ..., 1, 1, 1])"
      ]
     },
     "execution_count": 176,
     "metadata": {
      "tags": []
     },
     "output_type": "execute_result"
    }
   ],
   "source": [
    "os_train_y"
   ]
  },
  {
   "cell_type": "code",
   "execution_count": 177,
   "metadata": {
    "id": "bWvmhDtIvHMN"
   },
   "outputs": [],
   "source": [
    "os_train_X = pd.DataFrame(data=os_train_X, columns = X_train_final.columns)\n",
    "os_train_y= pd.DataFrame(data=os_train_y)"
   ]
  },
  {
   "cell_type": "code",
   "execution_count": 178,
   "metadata": {
    "colab": {
     "base_uri": "https://localhost:8080/"
    },
    "id": "KuIk1V_zvHMN",
    "outputId": "b279cae5-cf37-46a3-cb5c-16211c0b0ad3"
   },
   "outputs": [
    {
     "name": "stdout",
     "output_type": "stream",
     "text": [
      "(141132, 1)\n",
      "(141132, 45)\n"
     ]
    }
   ],
   "source": [
    "print(os_train_y.shape)\n",
    "print(os_train_X.shape)"
   ]
  },
  {
   "cell_type": "code",
   "execution_count": 179,
   "metadata": {
    "colab": {
     "base_uri": "https://localhost:8080/",
     "height": 220
    },
    "id": "uEsKHYwc7Imh",
    "outputId": "18568615-9bc2-439f-dde6-44b58ee890ff"
   },
   "outputs": [
    {
     "data": {
      "text/html": [
       "<div>\n",
       "<style scoped>\n",
       "    .dataframe tbody tr th:only-of-type {\n",
       "        vertical-align: middle;\n",
       "    }\n",
       "\n",
       "    .dataframe tbody tr th {\n",
       "        vertical-align: top;\n",
       "    }\n",
       "\n",
       "    .dataframe thead th {\n",
       "        text-align: right;\n",
       "    }\n",
       "</style>\n",
       "<table border=\"1\" class=\"dataframe\">\n",
       "  <thead>\n",
       "    <tr style=\"text-align: right;\">\n",
       "      <th></th>\n",
       "      <th>num_of_days</th>\n",
       "      <th>Scholarship_x0_0</th>\n",
       "      <th>Scholarship_x0_1</th>\n",
       "      <th>Hypertension_x0_0</th>\n",
       "      <th>Hypertension_x0_1</th>\n",
       "      <th>Diabetes_x0_0</th>\n",
       "      <th>Diabetes_x0_1</th>\n",
       "      <th>Handicapped_x0_0</th>\n",
       "      <th>Handicapped_x0_1</th>\n",
       "      <th>SMS_received_x0_0</th>\n",
       "      <th>SMS_received_x0_1</th>\n",
       "      <th>Age_binned_x0_0</th>\n",
       "      <th>Age_binned_x0_20</th>\n",
       "      <th>Age_binned_x0_40</th>\n",
       "      <th>Age_binned_x0_60</th>\n",
       "      <th>Age_binned_x0_80</th>\n",
       "      <th>Age_binned_x0_100</th>\n",
       "      <th>Scheduled_month_x0_1</th>\n",
       "      <th>Scheduled_month_x0_2</th>\n",
       "      <th>Scheduled_month_x0_3</th>\n",
       "      <th>Scheduled_month_x0_4</th>\n",
       "      <th>Scheduled_month_x0_5</th>\n",
       "      <th>Scheduled_month_x0_6</th>\n",
       "      <th>Scheduled_month_x0_11</th>\n",
       "      <th>Scheduled_month_x0_12</th>\n",
       "      <th>Scheduled_weekday_x0_0</th>\n",
       "      <th>Scheduled_weekday_x0_1</th>\n",
       "      <th>Scheduled_weekday_x0_2</th>\n",
       "      <th>Scheduled_weekday_x0_3</th>\n",
       "      <th>Scheduled_weekday_x0_4</th>\n",
       "      <th>Scheduled_weekday_x0_5</th>\n",
       "      <th>Appointment_month_x0_4</th>\n",
       "      <th>Appointment_month_x0_5</th>\n",
       "      <th>Appointment_month_x0_6</th>\n",
       "      <th>Appointment_weekday_x0_0</th>\n",
       "      <th>Appointment_weekday_x0_1</th>\n",
       "      <th>Appointment_weekday_x0_2</th>\n",
       "      <th>Appointment_weekday_x0_3</th>\n",
       "      <th>Appointment_weekday_x0_4</th>\n",
       "      <th>Appointment_weekday_x0_5</th>\n",
       "      <th>Scheduled_session_of_day_x0_EarlyMorning</th>\n",
       "      <th>Scheduled_session_of_day_x0_Eve</th>\n",
       "      <th>Scheduled_session_of_day_x0_Morning</th>\n",
       "      <th>Scheduled_session_of_day_x0_Night</th>\n",
       "      <th>Scheduled_session_of_day_x0_Noon</th>\n",
       "    </tr>\n",
       "  </thead>\n",
       "  <tbody>\n",
       "    <tr>\n",
       "      <th>0</th>\n",
       "      <td>-0.207606</td>\n",
       "      <td>1.0</td>\n",
       "      <td>0.0</td>\n",
       "      <td>1.0</td>\n",
       "      <td>0.0</td>\n",
       "      <td>1.0</td>\n",
       "      <td>0.0</td>\n",
       "      <td>1.0</td>\n",
       "      <td>0.0</td>\n",
       "      <td>1.0</td>\n",
       "      <td>0.0</td>\n",
       "      <td>1.0</td>\n",
       "      <td>0.0</td>\n",
       "      <td>0.0</td>\n",
       "      <td>0.0</td>\n",
       "      <td>0.0</td>\n",
       "      <td>0.0</td>\n",
       "      <td>0.0</td>\n",
       "      <td>0.0</td>\n",
       "      <td>0.0</td>\n",
       "      <td>0.0</td>\n",
       "      <td>1.0</td>\n",
       "      <td>0.0</td>\n",
       "      <td>0.0</td>\n",
       "      <td>0.0</td>\n",
       "      <td>1.0</td>\n",
       "      <td>0.0</td>\n",
       "      <td>0.0</td>\n",
       "      <td>0.0</td>\n",
       "      <td>0.0</td>\n",
       "      <td>0.0</td>\n",
       "      <td>0.0</td>\n",
       "      <td>1.0</td>\n",
       "      <td>0.0</td>\n",
       "      <td>1.0</td>\n",
       "      <td>0.0</td>\n",
       "      <td>0.0</td>\n",
       "      <td>0.0</td>\n",
       "      <td>0.0</td>\n",
       "      <td>0.0</td>\n",
       "      <td>0.0</td>\n",
       "      <td>1.0</td>\n",
       "      <td>0.0</td>\n",
       "      <td>0.0</td>\n",
       "      <td>0.0</td>\n",
       "    </tr>\n",
       "    <tr>\n",
       "      <th>1</th>\n",
       "      <td>-0.142118</td>\n",
       "      <td>1.0</td>\n",
       "      <td>0.0</td>\n",
       "      <td>1.0</td>\n",
       "      <td>0.0</td>\n",
       "      <td>1.0</td>\n",
       "      <td>0.0</td>\n",
       "      <td>1.0</td>\n",
       "      <td>0.0</td>\n",
       "      <td>0.0</td>\n",
       "      <td>1.0</td>\n",
       "      <td>0.0</td>\n",
       "      <td>1.0</td>\n",
       "      <td>0.0</td>\n",
       "      <td>0.0</td>\n",
       "      <td>0.0</td>\n",
       "      <td>0.0</td>\n",
       "      <td>0.0</td>\n",
       "      <td>0.0</td>\n",
       "      <td>0.0</td>\n",
       "      <td>1.0</td>\n",
       "      <td>0.0</td>\n",
       "      <td>0.0</td>\n",
       "      <td>0.0</td>\n",
       "      <td>0.0</td>\n",
       "      <td>0.0</td>\n",
       "      <td>0.0</td>\n",
       "      <td>0.0</td>\n",
       "      <td>1.0</td>\n",
       "      <td>0.0</td>\n",
       "      <td>0.0</td>\n",
       "      <td>0.0</td>\n",
       "      <td>1.0</td>\n",
       "      <td>0.0</td>\n",
       "      <td>0.0</td>\n",
       "      <td>0.0</td>\n",
       "      <td>0.0</td>\n",
       "      <td>0.0</td>\n",
       "      <td>1.0</td>\n",
       "      <td>0.0</td>\n",
       "      <td>1.0</td>\n",
       "      <td>0.0</td>\n",
       "      <td>0.0</td>\n",
       "      <td>0.0</td>\n",
       "      <td>0.0</td>\n",
       "    </tr>\n",
       "    <tr>\n",
       "      <th>2</th>\n",
       "      <td>-0.207606</td>\n",
       "      <td>1.0</td>\n",
       "      <td>0.0</td>\n",
       "      <td>1.0</td>\n",
       "      <td>0.0</td>\n",
       "      <td>1.0</td>\n",
       "      <td>0.0</td>\n",
       "      <td>1.0</td>\n",
       "      <td>0.0</td>\n",
       "      <td>0.0</td>\n",
       "      <td>1.0</td>\n",
       "      <td>0.0</td>\n",
       "      <td>1.0</td>\n",
       "      <td>0.0</td>\n",
       "      <td>0.0</td>\n",
       "      <td>0.0</td>\n",
       "      <td>0.0</td>\n",
       "      <td>0.0</td>\n",
       "      <td>0.0</td>\n",
       "      <td>0.0</td>\n",
       "      <td>0.0</td>\n",
       "      <td>1.0</td>\n",
       "      <td>0.0</td>\n",
       "      <td>0.0</td>\n",
       "      <td>0.0</td>\n",
       "      <td>0.0</td>\n",
       "      <td>1.0</td>\n",
       "      <td>0.0</td>\n",
       "      <td>0.0</td>\n",
       "      <td>0.0</td>\n",
       "      <td>0.0</td>\n",
       "      <td>0.0</td>\n",
       "      <td>1.0</td>\n",
       "      <td>0.0</td>\n",
       "      <td>0.0</td>\n",
       "      <td>1.0</td>\n",
       "      <td>0.0</td>\n",
       "      <td>0.0</td>\n",
       "      <td>0.0</td>\n",
       "      <td>0.0</td>\n",
       "      <td>1.0</td>\n",
       "      <td>0.0</td>\n",
       "      <td>0.0</td>\n",
       "      <td>0.0</td>\n",
       "      <td>0.0</td>\n",
       "    </tr>\n",
       "    <tr>\n",
       "      <th>3</th>\n",
       "      <td>-0.666023</td>\n",
       "      <td>1.0</td>\n",
       "      <td>0.0</td>\n",
       "      <td>1.0</td>\n",
       "      <td>0.0</td>\n",
       "      <td>1.0</td>\n",
       "      <td>0.0</td>\n",
       "      <td>1.0</td>\n",
       "      <td>0.0</td>\n",
       "      <td>1.0</td>\n",
       "      <td>0.0</td>\n",
       "      <td>0.0</td>\n",
       "      <td>0.0</td>\n",
       "      <td>1.0</td>\n",
       "      <td>0.0</td>\n",
       "      <td>0.0</td>\n",
       "      <td>0.0</td>\n",
       "      <td>0.0</td>\n",
       "      <td>0.0</td>\n",
       "      <td>0.0</td>\n",
       "      <td>0.0</td>\n",
       "      <td>1.0</td>\n",
       "      <td>0.0</td>\n",
       "      <td>0.0</td>\n",
       "      <td>0.0</td>\n",
       "      <td>0.0</td>\n",
       "      <td>0.0</td>\n",
       "      <td>0.0</td>\n",
       "      <td>1.0</td>\n",
       "      <td>0.0</td>\n",
       "      <td>0.0</td>\n",
       "      <td>0.0</td>\n",
       "      <td>1.0</td>\n",
       "      <td>0.0</td>\n",
       "      <td>0.0</td>\n",
       "      <td>0.0</td>\n",
       "      <td>0.0</td>\n",
       "      <td>1.0</td>\n",
       "      <td>0.0</td>\n",
       "      <td>0.0</td>\n",
       "      <td>0.0</td>\n",
       "      <td>1.0</td>\n",
       "      <td>0.0</td>\n",
       "      <td>0.0</td>\n",
       "      <td>0.0</td>\n",
       "    </tr>\n",
       "    <tr>\n",
       "      <th>4</th>\n",
       "      <td>0.447275</td>\n",
       "      <td>1.0</td>\n",
       "      <td>0.0</td>\n",
       "      <td>0.0</td>\n",
       "      <td>1.0</td>\n",
       "      <td>0.0</td>\n",
       "      <td>1.0</td>\n",
       "      <td>1.0</td>\n",
       "      <td>0.0</td>\n",
       "      <td>1.0</td>\n",
       "      <td>0.0</td>\n",
       "      <td>0.0</td>\n",
       "      <td>0.0</td>\n",
       "      <td>0.0</td>\n",
       "      <td>1.0</td>\n",
       "      <td>0.0</td>\n",
       "      <td>0.0</td>\n",
       "      <td>0.0</td>\n",
       "      <td>0.0</td>\n",
       "      <td>0.0</td>\n",
       "      <td>0.0</td>\n",
       "      <td>1.0</td>\n",
       "      <td>0.0</td>\n",
       "      <td>0.0</td>\n",
       "      <td>0.0</td>\n",
       "      <td>1.0</td>\n",
       "      <td>0.0</td>\n",
       "      <td>0.0</td>\n",
       "      <td>0.0</td>\n",
       "      <td>0.0</td>\n",
       "      <td>0.0</td>\n",
       "      <td>0.0</td>\n",
       "      <td>1.0</td>\n",
       "      <td>0.0</td>\n",
       "      <td>0.0</td>\n",
       "      <td>0.0</td>\n",
       "      <td>0.0</td>\n",
       "      <td>1.0</td>\n",
       "      <td>0.0</td>\n",
       "      <td>0.0</td>\n",
       "      <td>0.0</td>\n",
       "      <td>0.0</td>\n",
       "      <td>1.0</td>\n",
       "      <td>0.0</td>\n",
       "      <td>0.0</td>\n",
       "    </tr>\n",
       "  </tbody>\n",
       "</table>\n",
       "</div>"
      ],
      "text/plain": [
       "   num_of_days  ...  Scheduled_session_of_day_x0_Noon\n",
       "0    -0.207606  ...                               0.0\n",
       "1    -0.142118  ...                               0.0\n",
       "2    -0.207606  ...                               0.0\n",
       "3    -0.666023  ...                               0.0\n",
       "4     0.447275  ...                               0.0\n",
       "\n",
       "[5 rows x 45 columns]"
      ]
     },
     "execution_count": 179,
     "metadata": {
      "tags": []
     },
     "output_type": "execute_result"
    }
   ],
   "source": [
    "os_train_X.head()"
   ]
  },
  {
   "cell_type": "code",
   "execution_count": 180,
   "metadata": {
    "colab": {
     "base_uri": "https://localhost:8080/"
    },
    "id": "wj-63alGvHMN",
    "outputId": "d4a55091-3789-4692-b2ff-1a184d081f6d"
   },
   "outputs": [
    {
     "data": {
      "text/plain": [
       "RangeIndex(start=0, stop=1, step=1)"
      ]
     },
     "execution_count": 180,
     "metadata": {
      "tags": []
     },
     "output_type": "execute_result"
    }
   ],
   "source": [
    "os_train_y.columns"
   ]
  },
  {
   "cell_type": "markdown",
   "metadata": {
    "id": "aumIBMKjvHMN"
   },
   "source": [
    "### 9. GBM with SMOTe"
   ]
  },
  {
   "cell_type": "code",
   "execution_count": 143,
   "metadata": {
    "colab": {
     "base_uri": "https://localhost:8080/"
    },
    "id": "inX3Rx-Kd5v4",
    "outputId": "b35c776f-47e7-4ff7-fac6-9340e0596ecd"
   },
   "outputs": [
    {
     "name": "stdout",
     "output_type": "stream",
     "text": [
      "CPU times: user 38 µs, sys: 0 ns, total: 38 µs\n",
      "Wall time: 41.2 µs\n"
     ]
    }
   ],
   "source": [
    "%%time\n",
    "clf_GBM_smot = GradientBoostingClassifier(n_estimators=100,\n",
    "                                       learning_rate=0.01,\n",
    "                                       subsample=0.8, random_state=123)"
   ]
  },
  {
   "cell_type": "code",
   "execution_count": 144,
   "metadata": {
    "colab": {
     "base_uri": "https://localhost:8080/"
    },
    "id": "fM8luwkHd5v6",
    "outputId": "7e907b9d-253a-4dbe-b2b9-81f6b0adc1cf"
   },
   "outputs": [
    {
     "name": "stdout",
     "output_type": "stream",
     "text": [
      "CPU times: user 19.6 s, sys: 24.3 ms, total: 19.7 s\n",
      "Wall time: 19.7 s\n"
     ]
    },
    {
     "data": {
      "text/plain": [
       "GradientBoostingClassifier(ccp_alpha=0.0, criterion='friedman_mse', init=None,\n",
       "                           learning_rate=0.01, loss='deviance', max_depth=3,\n",
       "                           max_features=None, max_leaf_nodes=None,\n",
       "                           min_impurity_decrease=0.0, min_impurity_split=None,\n",
       "                           min_samples_leaf=1, min_samples_split=2,\n",
       "                           min_weight_fraction_leaf=0.0, n_estimators=100,\n",
       "                           n_iter_no_change=None, presort='deprecated',\n",
       "                           random_state=123, subsample=0.8, tol=0.0001,\n",
       "                           validation_fraction=0.1, verbose=0,\n",
       "                           warm_start=False)"
      ]
     },
     "execution_count": 144,
     "metadata": {
      "tags": []
     },
     "output_type": "execute_result"
    }
   ],
   "source": [
    "%%time\n",
    "clf_GBM_smot.fit(os_train_X, os_train_y)"
   ]
  },
  {
   "cell_type": "code",
   "execution_count": 146,
   "metadata": {
    "id": "pg7r-yoPd5v-"
   },
   "outputs": [],
   "source": [
    "y_pred_train = clf_GBM_smot.predict(os_train_X)\n",
    "y_pred_val = clf_GBM_smot.predict(X_val_final)"
   ]
  },
  {
   "cell_type": "markdown",
   "metadata": {
    "id": "Pj2wz7c1d5wC"
   },
   "source": [
    "##### Evaluating the model performance"
   ]
  },
  {
   "cell_type": "code",
   "execution_count": 147,
   "metadata": {
    "colab": {
     "base_uri": "https://localhost:8080/",
     "height": 1000
    },
    "id": "FIIRNJuPd5wD",
    "outputId": "ddbdc422-a0ef-45e0-f457-cbb264c54e6a"
   },
   "outputs": [
    {
     "name": "stdout",
     "output_type": "stream",
     "text": [
      "\n",
      "         ========================================\n",
      "           CLASSIFICATION REPORT FOR TRAIN DATA\n",
      "         ========================================\n",
      "        \n",
      "              precision    recall  f1-score   support\n",
      "\n",
      "           0     0.8064    0.4840    0.6050     70566\n",
      "           1     0.6314    0.8838    0.7366     70566\n",
      "\n",
      "    accuracy                         0.6839    141132\n",
      "   macro avg     0.7189    0.6839    0.6708    141132\n",
      "weighted avg     0.7189    0.6839    0.6708    141132\n",
      "\n",
      "\n",
      "             =============================================\n",
      "               CLASSIFICATION REPORT FOR VALIDATION DATA\n",
      "             =============================================\n",
      "            \n",
      "              precision    recall  f1-score   support\n",
      "\n",
      "           0     0.9306    0.4779    0.6315     17642\n",
      "           1     0.2940    0.8591    0.4380      4464\n",
      "\n",
      "    accuracy                         0.5549     22106\n",
      "   macro avg     0.6123    0.6685    0.5348     22106\n",
      "weighted avg     0.8020    0.5549    0.5924     22106\n",
      "\n",
      "\n",
      "             ========================================\n",
      "               Confusion Matrix FOR TRAIN DATA\n",
      "             ========================================\n",
      "            \n",
      "[[34157 36409]\n",
      " [ 8199 62367]]\n",
      "\n",
      "             =============================================\n",
      "               Confusion matrix FOR VALIDATION DATA\n",
      "             =============================================\n",
      "            \n",
      "[[8431 9211]\n",
      " [ 629 3835]]\n"
     ]
    },
    {
     "data": {
      "text/html": [
       "<div>\n",
       "<style scoped>\n",
       "    .dataframe tbody tr th:only-of-type {\n",
       "        vertical-align: middle;\n",
       "    }\n",
       "\n",
       "    .dataframe tbody tr th {\n",
       "        vertical-align: top;\n",
       "    }\n",
       "\n",
       "    .dataframe thead th {\n",
       "        text-align: right;\n",
       "    }\n",
       "</style>\n",
       "<table border=\"1\" class=\"dataframe\">\n",
       "  <thead>\n",
       "    <tr style=\"text-align: right;\">\n",
       "      <th></th>\n",
       "      <th>Model</th>\n",
       "      <th>Train_Accuracy</th>\n",
       "      <th>Train_Recall</th>\n",
       "      <th>Train_Precision</th>\n",
       "      <th>Train_F1_Score</th>\n",
       "      <th>Test_Accuracy</th>\n",
       "      <th>Test_Recall</th>\n",
       "      <th>Test_Precision</th>\n",
       "      <th>Test_F1_Score</th>\n",
       "    </tr>\n",
       "  </thead>\n",
       "  <tbody>\n",
       "    <tr>\n",
       "      <th>0</th>\n",
       "      <td>LogisticRegression</td>\n",
       "      <td>0.795422</td>\n",
       "      <td>0.016522</td>\n",
       "      <td>0.358010</td>\n",
       "      <td>0.031586</td>\n",
       "      <td>0.794354</td>\n",
       "      <td>0.014337</td>\n",
       "      <td>0.304762</td>\n",
       "      <td>0.027386</td>\n",
       "    </tr>\n",
       "    <tr>\n",
       "      <th>1</th>\n",
       "      <td>LogisticRegression_Balanced</td>\n",
       "      <td>0.663971</td>\n",
       "      <td>0.597144</td>\n",
       "      <td>0.321328</td>\n",
       "      <td>0.417823</td>\n",
       "      <td>0.659640</td>\n",
       "      <td>0.605287</td>\n",
       "      <td>0.319234</td>\n",
       "      <td>0.418007</td>\n",
       "    </tr>\n",
       "    <tr>\n",
       "      <th>2</th>\n",
       "      <td>DecisionTree</td>\n",
       "      <td>0.857703</td>\n",
       "      <td>0.366956</td>\n",
       "      <td>0.836675</td>\n",
       "      <td>0.510161</td>\n",
       "      <td>0.772053</td>\n",
       "      <td>0.188396</td>\n",
       "      <td>0.372619</td>\n",
       "      <td>0.250260</td>\n",
       "    </tr>\n",
       "    <tr>\n",
       "      <th>3</th>\n",
       "      <td>DecisionTree_BestParameters</td>\n",
       "      <td>0.519345</td>\n",
       "      <td>0.919406</td>\n",
       "      <td>0.285610</td>\n",
       "      <td>0.435831</td>\n",
       "      <td>0.514430</td>\n",
       "      <td>0.919803</td>\n",
       "      <td>0.283524</td>\n",
       "      <td>0.433442</td>\n",
       "    </tr>\n",
       "    <tr>\n",
       "      <th>4</th>\n",
       "      <td>DecisionTree_RandomizedSearch</td>\n",
       "      <td>0.519345</td>\n",
       "      <td>0.919406</td>\n",
       "      <td>0.285610</td>\n",
       "      <td>0.435831</td>\n",
       "      <td>0.514430</td>\n",
       "      <td>0.919803</td>\n",
       "      <td>0.283524</td>\n",
       "      <td>0.433442</td>\n",
       "    </tr>\n",
       "    <tr>\n",
       "      <th>5</th>\n",
       "      <td>Adaboost</td>\n",
       "      <td>0.772780</td>\n",
       "      <td>0.843181</td>\n",
       "      <td>0.465436</td>\n",
       "      <td>0.599789</td>\n",
       "      <td>0.671854</td>\n",
       "      <td>0.518369</td>\n",
       "      <td>0.311944</td>\n",
       "      <td>0.389497</td>\n",
       "    </tr>\n",
       "    <tr>\n",
       "      <th>6</th>\n",
       "      <td>Adaboost_BestParameters</td>\n",
       "      <td>0.857703</td>\n",
       "      <td>0.382078</td>\n",
       "      <td>0.814956</td>\n",
       "      <td>0.520247</td>\n",
       "      <td>0.775219</td>\n",
       "      <td>0.178315</td>\n",
       "      <td>0.379590</td>\n",
       "      <td>0.242646</td>\n",
       "    </tr>\n",
       "    <tr>\n",
       "      <th>7</th>\n",
       "      <td>GBM</td>\n",
       "      <td>0.798973</td>\n",
       "      <td>0.012265</td>\n",
       "      <td>0.611732</td>\n",
       "      <td>0.024049</td>\n",
       "      <td>0.797883</td>\n",
       "      <td>0.008737</td>\n",
       "      <td>0.475610</td>\n",
       "      <td>0.017158</td>\n",
       "    </tr>\n",
       "    <tr>\n",
       "      <th>8</th>\n",
       "      <td>GBM_SMOTe</td>\n",
       "      <td>0.683927</td>\n",
       "      <td>0.883811</td>\n",
       "      <td>0.631398</td>\n",
       "      <td>0.736580</td>\n",
       "      <td>0.554872</td>\n",
       "      <td>0.859095</td>\n",
       "      <td>0.293960</td>\n",
       "      <td>0.438035</td>\n",
       "    </tr>\n",
       "  </tbody>\n",
       "</table>\n",
       "</div>"
      ],
      "text/plain": [
       "                           Model  Train_Accuracy  ...  Test_Precision  Test_F1_Score\n",
       "0             LogisticRegression        0.795422  ...        0.304762       0.027386\n",
       "1    LogisticRegression_Balanced        0.663971  ...        0.319234       0.418007\n",
       "2                   DecisionTree        0.857703  ...        0.372619       0.250260\n",
       "3    DecisionTree_BestParameters        0.519345  ...        0.283524       0.433442\n",
       "4  DecisionTree_RandomizedSearch        0.519345  ...        0.283524       0.433442\n",
       "5                       Adaboost        0.772780  ...        0.311944       0.389497\n",
       "6        Adaboost_BestParameters        0.857703  ...        0.379590       0.242646\n",
       "7                            GBM        0.798973  ...        0.475610       0.017158\n",
       "8                      GBM_SMOTe        0.683927  ...        0.293960       0.438035\n",
       "\n",
       "[9 rows x 9 columns]"
      ]
     },
     "execution_count": 147,
     "metadata": {
      "tags": []
     },
     "output_type": "execute_result"
    }
   ],
   "source": [
    "scores = get_metrics(os_train_y,y_pred_train,y_val,y_pred_val,\"GBM_SMOTe\",scores)\n",
    "scores"
   ]
  },
  {
   "cell_type": "markdown",
   "metadata": {
    "id": "jtTWZZ7VvHMO"
   },
   "source": [
    "### 10. XGBoost Classifier\n",
    "XGBoost (eXtreme Gradient Boosting) is an advanced implementation of gradient boosting algorithm."
   ]
  },
  {
   "cell_type": "code",
   "execution_count": 148,
   "metadata": {
    "id": "tCF39-ctvHMO"
   },
   "outputs": [],
   "source": [
    "from xgboost import XGBClassifier"
   ]
  },
  {
   "cell_type": "markdown",
   "metadata": {
    "id": "ZukKda8FvHMO"
   },
   "source": [
    "### Hyperparameters:\n",
    "#### Create XGBoost Classifier\n",
    "\n",
    "There are different hyperparameters that we can tune and the parametres are different from baselearner to baselearner. \n",
    "<br>In tree based learners, which are the most common ones in xgboost applications, the following are the most commonly tuned hyperparameters:\n",
    "\n",
    "-  **learning rate/eta:** governs how quickly the model fits the residual error using additional base learners. If it is a smaller learning rate, it will need more boosting rounds, hence more time, to achieve the same reduction in residual error as one with larger learning rate. Typically, it lies between 0.01 – 0.3\n",
    "-  **max_depth:** max depth per tree. This controls how deep our tree can grow. The Larger the depth, more complex the model will be and higher chances of overfitting. Larger data sets require deep trees to learn the rules from data. Default = 6.\n",
    "-  **subsample:** % samples used per tree. This is the fraction of the total training set that can be used in any boosting round. Low value may lead to underfitting issues. A very high value can cause over-fitting problems.\n",
    "-  **colsample_bytree:** % features used per tree. This is the fraction of the number of columns that we can use in any boosting round. A smaller value is an additional regularization and a larger value may be cause overfitting issues.\n",
    "-  **n_estimators:** number of estimators (base learners). This is the number of boosting rounds.\n",
    "- **scale_pos_weight:** [default=1]\n",
    "\n",
    "    - Control the balance of positive and negative weights, useful for unbalanced classes. \n",
    "    - A typical value to consider: sum(negative instances) / sum(positive instances)\n",
    "\n",
    "- The XGBoost documentation suggests a fast way to estimate this value using the training dataset as the total number of examples in the majority class divided by the total number of examples in the minority class.\n",
    "\n",
    "    - scale_pos_weight = total_negative_examples / total_positive_examples\n",
    "\n",
    "The three hyperparameters below are regularization hyperparameters.\n",
    "\n",
    "-  **gamma:** min loss reduction to create new tree split. default = 0 means no regularization.\n",
    "-  **lambda:** L2 reg on leaf weights. Equivalent to Ridge regression.\n",
    "-  **alpha:** L1 reg on leaf weights. Equivalent to Lasso regression.\n",
    "\n",
    "\n",
    "Refer: https://xgboost.readthedocs.io/en/latest/python/python_api.html"
   ]
  },
  {
   "cell_type": "code",
   "execution_count": 149,
   "metadata": {
    "colab": {
     "base_uri": "https://localhost:8080/"
    },
    "id": "W-vp7n5ZvHMO",
    "outputId": "9d83b38b-b1eb-4d8c-eb59-ef0ae4dcc467"
   },
   "outputs": [
    {
     "name": "stdout",
     "output_type": "stream",
     "text": [
      "CPU times: user 52.7 s, sys: 256 ms, total: 52.9 s\n",
      "Wall time: 27.7 s\n"
     ]
    }
   ],
   "source": [
    "%%time\n",
    "clf_XGB = XGBClassifier(n_estimators=400, gamma=0.5,learning_rate=0.1,n_jobs=-1)\n",
    "clf_XGB.fit(X_train_final, y_train)"
   ]
  },
  {
   "cell_type": "code",
   "execution_count": 150,
   "metadata": {
    "id": "zMlU7LWzvHMO"
   },
   "outputs": [],
   "source": [
    "y_pred_train = clf_XGB.predict(X_train_final)\n",
    "y_pred_val = clf_XGB.predict(X_val_final)"
   ]
  },
  {
   "cell_type": "code",
   "execution_count": 151,
   "metadata": {
    "colab": {
     "base_uri": "https://localhost:8080/",
     "height": 1000
    },
    "id": "eethSsmKvHMO",
    "outputId": "e14e4aec-f90b-48f2-a39c-c359bc1b5172"
   },
   "outputs": [
    {
     "name": "stdout",
     "output_type": "stream",
     "text": [
      "\n",
      "         ========================================\n",
      "           CLASSIFICATION REPORT FOR TRAIN DATA\n",
      "         ========================================\n",
      "        \n",
      "              precision    recall  f1-score   support\n",
      "\n",
      "           0     0.7994    0.9989    0.8881     70566\n",
      "           1     0.6749    0.0092    0.0181     17855\n",
      "\n",
      "    accuracy                         0.7990     88421\n",
      "   macro avg     0.7371    0.5040    0.4531     88421\n",
      "weighted avg     0.7742    0.7990    0.7124     88421\n",
      "\n",
      "\n",
      "             =============================================\n",
      "               CLASSIFICATION REPORT FOR VALIDATION DATA\n",
      "             =============================================\n",
      "            \n",
      "              precision    recall  f1-score   support\n",
      "\n",
      "           0     0.7986    0.9982    0.8873     17642\n",
      "           1     0.4074    0.0049    0.0097      4464\n",
      "\n",
      "    accuracy                         0.7976     22106\n",
      "   macro avg     0.6030    0.5016    0.4485     22106\n",
      "weighted avg     0.7196    0.7976    0.7101     22106\n",
      "\n",
      "\n",
      "             ========================================\n",
      "               Confusion Matrix FOR TRAIN DATA\n",
      "             ========================================\n",
      "            \n",
      "[[70487    79]\n",
      " [17691   164]]\n",
      "\n",
      "             =============================================\n",
      "               Confusion matrix FOR VALIDATION DATA\n",
      "             =============================================\n",
      "            \n",
      "[[17610    32]\n",
      " [ 4442    22]]\n"
     ]
    },
    {
     "data": {
      "text/html": [
       "<div>\n",
       "<style scoped>\n",
       "    .dataframe tbody tr th:only-of-type {\n",
       "        vertical-align: middle;\n",
       "    }\n",
       "\n",
       "    .dataframe tbody tr th {\n",
       "        vertical-align: top;\n",
       "    }\n",
       "\n",
       "    .dataframe thead th {\n",
       "        text-align: right;\n",
       "    }\n",
       "</style>\n",
       "<table border=\"1\" class=\"dataframe\">\n",
       "  <thead>\n",
       "    <tr style=\"text-align: right;\">\n",
       "      <th></th>\n",
       "      <th>Model</th>\n",
       "      <th>Train_Accuracy</th>\n",
       "      <th>Train_Recall</th>\n",
       "      <th>Train_Precision</th>\n",
       "      <th>Train_F1_Score</th>\n",
       "      <th>Test_Accuracy</th>\n",
       "      <th>Test_Recall</th>\n",
       "      <th>Test_Precision</th>\n",
       "      <th>Test_F1_Score</th>\n",
       "    </tr>\n",
       "  </thead>\n",
       "  <tbody>\n",
       "    <tr>\n",
       "      <th>0</th>\n",
       "      <td>LogisticRegression</td>\n",
       "      <td>0.795422</td>\n",
       "      <td>0.016522</td>\n",
       "      <td>0.358010</td>\n",
       "      <td>0.031586</td>\n",
       "      <td>0.794354</td>\n",
       "      <td>0.014337</td>\n",
       "      <td>0.304762</td>\n",
       "      <td>0.027386</td>\n",
       "    </tr>\n",
       "    <tr>\n",
       "      <th>1</th>\n",
       "      <td>LogisticRegression_Balanced</td>\n",
       "      <td>0.663971</td>\n",
       "      <td>0.597144</td>\n",
       "      <td>0.321328</td>\n",
       "      <td>0.417823</td>\n",
       "      <td>0.659640</td>\n",
       "      <td>0.605287</td>\n",
       "      <td>0.319234</td>\n",
       "      <td>0.418007</td>\n",
       "    </tr>\n",
       "    <tr>\n",
       "      <th>2</th>\n",
       "      <td>DecisionTree</td>\n",
       "      <td>0.857703</td>\n",
       "      <td>0.366956</td>\n",
       "      <td>0.836675</td>\n",
       "      <td>0.510161</td>\n",
       "      <td>0.772053</td>\n",
       "      <td>0.188396</td>\n",
       "      <td>0.372619</td>\n",
       "      <td>0.250260</td>\n",
       "    </tr>\n",
       "    <tr>\n",
       "      <th>3</th>\n",
       "      <td>DecisionTree_BestParameters</td>\n",
       "      <td>0.519345</td>\n",
       "      <td>0.919406</td>\n",
       "      <td>0.285610</td>\n",
       "      <td>0.435831</td>\n",
       "      <td>0.514430</td>\n",
       "      <td>0.919803</td>\n",
       "      <td>0.283524</td>\n",
       "      <td>0.433442</td>\n",
       "    </tr>\n",
       "    <tr>\n",
       "      <th>4</th>\n",
       "      <td>DecisionTree_RandomizedSearch</td>\n",
       "      <td>0.519345</td>\n",
       "      <td>0.919406</td>\n",
       "      <td>0.285610</td>\n",
       "      <td>0.435831</td>\n",
       "      <td>0.514430</td>\n",
       "      <td>0.919803</td>\n",
       "      <td>0.283524</td>\n",
       "      <td>0.433442</td>\n",
       "    </tr>\n",
       "    <tr>\n",
       "      <th>5</th>\n",
       "      <td>Adaboost</td>\n",
       "      <td>0.772780</td>\n",
       "      <td>0.843181</td>\n",
       "      <td>0.465436</td>\n",
       "      <td>0.599789</td>\n",
       "      <td>0.671854</td>\n",
       "      <td>0.518369</td>\n",
       "      <td>0.311944</td>\n",
       "      <td>0.389497</td>\n",
       "    </tr>\n",
       "    <tr>\n",
       "      <th>6</th>\n",
       "      <td>Adaboost_BestParameters</td>\n",
       "      <td>0.857703</td>\n",
       "      <td>0.382078</td>\n",
       "      <td>0.814956</td>\n",
       "      <td>0.520247</td>\n",
       "      <td>0.775219</td>\n",
       "      <td>0.178315</td>\n",
       "      <td>0.379590</td>\n",
       "      <td>0.242646</td>\n",
       "    </tr>\n",
       "    <tr>\n",
       "      <th>7</th>\n",
       "      <td>GBM</td>\n",
       "      <td>0.798973</td>\n",
       "      <td>0.012265</td>\n",
       "      <td>0.611732</td>\n",
       "      <td>0.024049</td>\n",
       "      <td>0.797883</td>\n",
       "      <td>0.008737</td>\n",
       "      <td>0.475610</td>\n",
       "      <td>0.017158</td>\n",
       "    </tr>\n",
       "    <tr>\n",
       "      <th>8</th>\n",
       "      <td>GBM_SMOTe</td>\n",
       "      <td>0.683927</td>\n",
       "      <td>0.883811</td>\n",
       "      <td>0.631398</td>\n",
       "      <td>0.736580</td>\n",
       "      <td>0.554872</td>\n",
       "      <td>0.859095</td>\n",
       "      <td>0.293960</td>\n",
       "      <td>0.438035</td>\n",
       "    </tr>\n",
       "    <tr>\n",
       "      <th>9</th>\n",
       "      <td>XGBoost</td>\n",
       "      <td>0.799030</td>\n",
       "      <td>0.009185</td>\n",
       "      <td>0.674897</td>\n",
       "      <td>0.018124</td>\n",
       "      <td>0.797612</td>\n",
       "      <td>0.004928</td>\n",
       "      <td>0.407407</td>\n",
       "      <td>0.009739</td>\n",
       "    </tr>\n",
       "  </tbody>\n",
       "</table>\n",
       "</div>"
      ],
      "text/plain": [
       "                           Model  Train_Accuracy  ...  Test_Precision  Test_F1_Score\n",
       "0             LogisticRegression        0.795422  ...        0.304762       0.027386\n",
       "1    LogisticRegression_Balanced        0.663971  ...        0.319234       0.418007\n",
       "2                   DecisionTree        0.857703  ...        0.372619       0.250260\n",
       "3    DecisionTree_BestParameters        0.519345  ...        0.283524       0.433442\n",
       "4  DecisionTree_RandomizedSearch        0.519345  ...        0.283524       0.433442\n",
       "5                       Adaboost        0.772780  ...        0.311944       0.389497\n",
       "6        Adaboost_BestParameters        0.857703  ...        0.379590       0.242646\n",
       "7                            GBM        0.798973  ...        0.475610       0.017158\n",
       "8                      GBM_SMOTe        0.683927  ...        0.293960       0.438035\n",
       "9                        XGBoost        0.799030  ...        0.407407       0.009739\n",
       "\n",
       "[10 rows x 9 columns]"
      ]
     },
     "execution_count": 151,
     "metadata": {
      "tags": []
     },
     "output_type": "execute_result"
    }
   ],
   "source": [
    "scores = get_metrics(y_train,y_pred_train,y_val,y_pred_val,\"XGBoost\",scores)\n",
    "scores"
   ]
  },
  {
   "cell_type": "markdown",
   "metadata": {
    "id": "ASvWnEy5vHMO"
   },
   "source": [
    "#### Weighted XGBoost for Class Imbalance -\n",
    "\n",
    "Although the XGBoost algorithm performs well for a wide range of challenging problems, it offers a large number of hyperparameters, many of which require tuning in order to get the most out of the algorithm on a given dataset.\n",
    "\n",
    "The implementation provides a hyperparameter designed to tune the behavior of the algorithm for imbalanced classification problems; this is the __scale_pos_weight__ hyperparameter.\n",
    "\n",
    "By default, the scale_pos_weight hyperparameter is set to the value of 1.0 and has the effect of weighing the balance of positive examples, relative to negative examples when boosting decision trees. For an imbalanced binary classification dataset, the negative class refers to the majority class (class 0) and the positive class refers to the minority class (class 1).\n",
    "\n",
    "XGBoost is trained to minimize a loss function and the “gradient” in gradient boosting refers to the steepness of this loss function, e.g. the amount of error. A small gradient means a small error and, in turn, a small change to the model to correct the error. A large error gradient during training in turn results in a large correction.\n",
    "\n",
    "* Small Gradient: Small error or correction to the model.\n",
    "* Large Gradient: Large error or correction to the model.\n",
    "\n",
    "Gradients are used as the basis for fitting subsequent trees added to boost or correct errors made by the existing state of the ensemble of decision trees.\n",
    "\n",
    "The scale_pos_weight value is used to scale the gradient for the positive class.\n",
    "\n",
    "This has the effect of scaling errors made by the model during training on the positive class and encourages the model to over-correct them. In turn, this can help the model achieve better performance when making predictions on the positive class. Pushed too far, it may result in the model overfitting the positive class at the cost of worse performance on the negative class or both classes.\n",
    "\n",
    "As such, the scale_pos_weight can be used to train a class-weighted or cost-sensitive version of XGBoost for imbalanced classification.\n",
    "\n",
    "##### https://xgboost.readthedocs.io/en/latest/tutorials/param_tuning.html\n",
    "##### https://stats.stackexchange.com/questions/243207/what-is-the-proper-usage-of-scale-pos-weight-in-xgboost-for-imbalanced-datasets"
   ]
  },
  {
   "cell_type": "code",
   "execution_count": null,
   "metadata": {
    "id": "2LpsqUSnvHMO"
   },
   "outputs": [],
   "source": [
    "# count examples in each class\n",
    "from collections import Counter\n",
    "counter = Counter(y_train)\n",
    "# estimate scale_pos_weight value\n",
    "estimate = counter[0] / counter[1]\n",
    "print('Estimate:', estimate)"
   ]
  },
  {
   "cell_type": "code",
   "execution_count": 153,
   "metadata": {
    "colab": {
     "base_uri": "https://localhost:8080/"
    },
    "id": "FWKEqCHbvHMO",
    "outputId": "20e8b685-acbe-46f6-8a88-97bc7d83b2c9"
   },
   "outputs": [
    {
     "data": {
      "text/plain": [
       "0    0.798068\n",
       "1    0.201932\n",
       "Name: No-show, dtype: float64"
      ]
     },
     "execution_count": 153,
     "metadata": {
      "tags": []
     },
     "output_type": "execute_result"
    }
   ],
   "source": [
    "y_train.value_counts(normalize=True)"
   ]
  },
  {
   "cell_type": "markdown",
   "metadata": {
    "id": "dG1dpEXxvHMO"
   },
   "source": [
    "### 11. XGBoost with Grid Search CV"
   ]
  },
  {
   "cell_type": "code",
   "execution_count": 154,
   "metadata": {
    "id": "vDGkzthIvHMO"
   },
   "outputs": [],
   "source": [
    "clf_XGB_grid = XGBClassifier()\n",
    " \n",
    "# Use a grid over parameters of interest\n",
    "param_grid = {\n",
    "     'colsample_bytree': np.linspace(0.6, 0.8, 2),\n",
    "     'n_estimators':[100, 200],\n",
    "     'max_depth': [3, 4],\n",
    "     'gamma': [0.2,0.3,0.4],\n",
    "     'learning_rate': [0.001, 0.01, 0.1, 1, 10],\n",
    "     'scale_pos_weight':[4]\n",
    "}"
   ]
  },
  {
   "cell_type": "code",
   "execution_count": 155,
   "metadata": {
    "id": "VWT8b5tFvHMO"
   },
   "outputs": [],
   "source": [
    "# from sklearn.model_selection import RepeatedStratifiedKFold\n",
    "# cv = RepeatedStratifiedKFold(n_splits=10, n_repeats=3, random_state=1)\n",
    "\n",
    "CV_XGB = GridSearchCV(estimator=clf_XGB_grid, param_grid=param_grid, n_jobs=-1, scoring='roc_auc')"
   ]
  },
  {
   "cell_type": "code",
   "execution_count": 193,
   "metadata": {
    "colab": {
     "base_uri": "https://localhost:8080/"
    },
    "id": "94kTFh1NvHMP",
    "outputId": "d5126615-5471-480f-b029-5ed10d9c45dc"
   },
   "outputs": [
    {
     "name": "stdout",
     "output_type": "stream",
     "text": [
      "CPU times: user 24.2 s, sys: 1.37 s, total: 25.5 s\n",
      "Wall time: 1h 4min 15s\n"
     ]
    },
    {
     "data": {
      "text/plain": [
       "GridSearchCV(cv=None, error_score=nan,\n",
       "             estimator=XGBClassifier(base_score=0.5, booster='gbtree',\n",
       "                                     colsample_bylevel=1, colsample_bynode=1,\n",
       "                                     colsample_bytree=1, gamma=0,\n",
       "                                     learning_rate=0.1, max_delta_step=0,\n",
       "                                     max_depth=3, min_child_weight=1,\n",
       "                                     missing=None, n_estimators=100, n_jobs=1,\n",
       "                                     nthread=None, objective='binary:logistic',\n",
       "                                     random_state=0, reg_alpha=0, reg_lambda=1,\n",
       "                                     scale_pos_weight=1, seed=None, silent=None,\n",
       "                                     subsample=1, verbosity=1),\n",
       "             iid='deprecated', n_jobs=-1,\n",
       "             param_grid={'colsample_bytree': array([0.6, 0.8]),\n",
       "                         'gamma': [0.2, 0.3, 0.4],\n",
       "                         'learning_rate': [0.001, 0.01, 0.1, 1, 10],\n",
       "                         'max_depth': [3, 4], 'n_estimators': [100, 200],\n",
       "                         'scale_pos_weight': [4]},\n",
       "             pre_dispatch='2*n_jobs', refit=True, return_train_score=False,\n",
       "             scoring='roc_auc', verbose=0)"
      ]
     },
     "execution_count": 193,
     "metadata": {
      "tags": []
     },
     "output_type": "execute_result"
    }
   ],
   "source": [
    "%time CV_XGB.fit(X = X_train_final, y=y_train)"
   ]
  },
  {
   "cell_type": "code",
   "execution_count": 194,
   "metadata": {
    "colab": {
     "base_uri": "https://localhost:8080/"
    },
    "id": "b4twUA_8vHMP",
    "outputId": "c20fdf19-7a27-4fe9-fb47-4e5e12c25038"
   },
   "outputs": [
    {
     "name": "stdout",
     "output_type": "stream",
     "text": [
      "0.7310260613408339 {'colsample_bytree': 0.6, 'gamma': 0.3, 'learning_rate': 0.1, 'max_depth': 4, 'n_estimators': 200, 'scale_pos_weight': 4}\n"
     ]
    }
   ],
   "source": [
    "# Find best model\n",
    "best_xgb_model = CV_XGB.best_estimator_\n",
    "print (CV_XGB.best_score_, CV_XGB.best_params_)"
   ]
  },
  {
   "cell_type": "code",
   "execution_count": 195,
   "metadata": {
    "colab": {
     "base_uri": "https://localhost:8080/"
    },
    "id": "xKt6JBZkvHMP",
    "outputId": "2946a1b3-8e9e-4357-f1b5-828f21b4a51c"
   },
   "outputs": [
    {
     "data": {
      "text/plain": [
       "XGBClassifier(base_score=0.5, booster='gbtree', colsample_bylevel=1,\n",
       "              colsample_bynode=1, colsample_bytree=0.6, gamma=0.3,\n",
       "              learning_rate=0.1, max_delta_step=0, max_depth=4,\n",
       "              min_child_weight=1, missing=None, n_estimators=200, n_jobs=1,\n",
       "              nthread=None, objective='binary:logistic', random_state=0,\n",
       "              reg_alpha=0, reg_lambda=1, scale_pos_weight=4, seed=None,\n",
       "              silent=None, subsample=1, verbosity=1)"
      ]
     },
     "execution_count": 195,
     "metadata": {
      "tags": []
     },
     "output_type": "execute_result"
    }
   ],
   "source": [
    "best_xgb_model"
   ]
  },
  {
   "cell_type": "code",
   "execution_count": 196,
   "metadata": {
    "id": "VmCnI6J7vHMP"
   },
   "outputs": [],
   "source": [
    "y_pred_train=best_xgb_model.predict(X_train_final)\n",
    "y_pred_val=best_xgb_model.predict(X_val_final)"
   ]
  },
  {
   "cell_type": "code",
   "execution_count": 197,
   "metadata": {
    "colab": {
     "base_uri": "https://localhost:8080/",
     "height": 1000
    },
    "id": "MlrWZhp-vHMP",
    "outputId": "026dee1b-304a-4d52-ca88-61f4a88a8bc4"
   },
   "outputs": [
    {
     "name": "stdout",
     "output_type": "stream",
     "text": [
      "\n",
      "         ========================================\n",
      "           CLASSIFICATION REPORT FOR TRAIN DATA\n",
      "         ========================================\n",
      "        \n",
      "              precision    recall  f1-score   support\n",
      "\n",
      "           0     0.9298    0.5265    0.6723     70566\n",
      "           1     0.3106    0.8428    0.4539     17855\n",
      "\n",
      "    accuracy                         0.5904     88421\n",
      "   macro avg     0.6202    0.6847    0.5631     88421\n",
      "weighted avg     0.8047    0.5904    0.6282     88421\n",
      "\n",
      "\n",
      "             =============================================\n",
      "               CLASSIFICATION REPORT FOR VALIDATION DATA\n",
      "             =============================================\n",
      "            \n",
      "              precision    recall  f1-score   support\n",
      "\n",
      "           0     0.9239    0.5197    0.6652     17642\n",
      "           1     0.3044    0.8309    0.4456      4464\n",
      "\n",
      "    accuracy                         0.5825     22106\n",
      "   macro avg     0.6142    0.6753    0.5554     22106\n",
      "weighted avg     0.7988    0.5825    0.6208     22106\n",
      "\n",
      "\n",
      "             ========================================\n",
      "               Confusion Matrix FOR TRAIN DATA\n",
      "             ========================================\n",
      "            \n",
      "[[37156 33410]\n",
      " [ 2806 15049]]\n",
      "\n",
      "             =============================================\n",
      "               Confusion matrix FOR VALIDATION DATA\n",
      "             =============================================\n",
      "            \n",
      "[[9168 8474]\n",
      " [ 755 3709]]\n"
     ]
    },
    {
     "data": {
      "text/html": [
       "<div>\n",
       "<style scoped>\n",
       "    .dataframe tbody tr th:only-of-type {\n",
       "        vertical-align: middle;\n",
       "    }\n",
       "\n",
       "    .dataframe tbody tr th {\n",
       "        vertical-align: top;\n",
       "    }\n",
       "\n",
       "    .dataframe thead th {\n",
       "        text-align: right;\n",
       "    }\n",
       "</style>\n",
       "<table border=\"1\" class=\"dataframe\">\n",
       "  <thead>\n",
       "    <tr style=\"text-align: right;\">\n",
       "      <th></th>\n",
       "      <th>Model</th>\n",
       "      <th>Train_Accuracy</th>\n",
       "      <th>Train_Recall</th>\n",
       "      <th>Train_Precision</th>\n",
       "      <th>Train_F1_Score</th>\n",
       "      <th>Test_Accuracy</th>\n",
       "      <th>Test_Recall</th>\n",
       "      <th>Test_Precision</th>\n",
       "      <th>Test_F1_Score</th>\n",
       "    </tr>\n",
       "  </thead>\n",
       "  <tbody>\n",
       "    <tr>\n",
       "      <th>0</th>\n",
       "      <td>LogisticRegression</td>\n",
       "      <td>0.795422</td>\n",
       "      <td>0.016522</td>\n",
       "      <td>0.358010</td>\n",
       "      <td>0.031586</td>\n",
       "      <td>0.794354</td>\n",
       "      <td>0.014337</td>\n",
       "      <td>0.304762</td>\n",
       "      <td>0.027386</td>\n",
       "    </tr>\n",
       "    <tr>\n",
       "      <th>1</th>\n",
       "      <td>LogisticRegression_Balanced</td>\n",
       "      <td>0.663971</td>\n",
       "      <td>0.597144</td>\n",
       "      <td>0.321328</td>\n",
       "      <td>0.417823</td>\n",
       "      <td>0.659640</td>\n",
       "      <td>0.605287</td>\n",
       "      <td>0.319234</td>\n",
       "      <td>0.418007</td>\n",
       "    </tr>\n",
       "    <tr>\n",
       "      <th>2</th>\n",
       "      <td>DecisionTree</td>\n",
       "      <td>0.857703</td>\n",
       "      <td>0.366956</td>\n",
       "      <td>0.836675</td>\n",
       "      <td>0.510161</td>\n",
       "      <td>0.772053</td>\n",
       "      <td>0.188396</td>\n",
       "      <td>0.372619</td>\n",
       "      <td>0.250260</td>\n",
       "    </tr>\n",
       "    <tr>\n",
       "      <th>3</th>\n",
       "      <td>DecisionTree_BestParameters</td>\n",
       "      <td>0.519345</td>\n",
       "      <td>0.919406</td>\n",
       "      <td>0.285610</td>\n",
       "      <td>0.435831</td>\n",
       "      <td>0.514430</td>\n",
       "      <td>0.919803</td>\n",
       "      <td>0.283524</td>\n",
       "      <td>0.433442</td>\n",
       "    </tr>\n",
       "    <tr>\n",
       "      <th>4</th>\n",
       "      <td>DecisionTree_RandomizedSearch</td>\n",
       "      <td>0.519345</td>\n",
       "      <td>0.919406</td>\n",
       "      <td>0.285610</td>\n",
       "      <td>0.435831</td>\n",
       "      <td>0.514430</td>\n",
       "      <td>0.919803</td>\n",
       "      <td>0.283524</td>\n",
       "      <td>0.433442</td>\n",
       "    </tr>\n",
       "    <tr>\n",
       "      <th>5</th>\n",
       "      <td>Adaboost</td>\n",
       "      <td>0.772780</td>\n",
       "      <td>0.843181</td>\n",
       "      <td>0.465436</td>\n",
       "      <td>0.599789</td>\n",
       "      <td>0.671854</td>\n",
       "      <td>0.518369</td>\n",
       "      <td>0.311944</td>\n",
       "      <td>0.389497</td>\n",
       "    </tr>\n",
       "    <tr>\n",
       "      <th>6</th>\n",
       "      <td>Adaboost_BestParameters</td>\n",
       "      <td>0.857703</td>\n",
       "      <td>0.382078</td>\n",
       "      <td>0.814956</td>\n",
       "      <td>0.520247</td>\n",
       "      <td>0.775219</td>\n",
       "      <td>0.178315</td>\n",
       "      <td>0.379590</td>\n",
       "      <td>0.242646</td>\n",
       "    </tr>\n",
       "    <tr>\n",
       "      <th>7</th>\n",
       "      <td>GBM</td>\n",
       "      <td>0.798973</td>\n",
       "      <td>0.012265</td>\n",
       "      <td>0.611732</td>\n",
       "      <td>0.024049</td>\n",
       "      <td>0.797883</td>\n",
       "      <td>0.008737</td>\n",
       "      <td>0.475610</td>\n",
       "      <td>0.017158</td>\n",
       "    </tr>\n",
       "    <tr>\n",
       "      <th>8</th>\n",
       "      <td>GBM_SMOTe</td>\n",
       "      <td>0.683927</td>\n",
       "      <td>0.883811</td>\n",
       "      <td>0.631398</td>\n",
       "      <td>0.736580</td>\n",
       "      <td>0.554872</td>\n",
       "      <td>0.859095</td>\n",
       "      <td>0.293960</td>\n",
       "      <td>0.438035</td>\n",
       "    </tr>\n",
       "    <tr>\n",
       "      <th>9</th>\n",
       "      <td>XGBoost</td>\n",
       "      <td>0.799030</td>\n",
       "      <td>0.009185</td>\n",
       "      <td>0.674897</td>\n",
       "      <td>0.018124</td>\n",
       "      <td>0.797612</td>\n",
       "      <td>0.004928</td>\n",
       "      <td>0.407407</td>\n",
       "      <td>0.009739</td>\n",
       "    </tr>\n",
       "    <tr>\n",
       "      <th>10</th>\n",
       "      <td>XGBoost_BestParameters</td>\n",
       "      <td>0.590414</td>\n",
       "      <td>0.842845</td>\n",
       "      <td>0.310551</td>\n",
       "      <td>0.453871</td>\n",
       "      <td>0.582512</td>\n",
       "      <td>0.830869</td>\n",
       "      <td>0.304441</td>\n",
       "      <td>0.445606</td>\n",
       "    </tr>\n",
       "  </tbody>\n",
       "</table>\n",
       "</div>"
      ],
      "text/plain": [
       "                            Model  ...  Test_F1_Score\n",
       "0              LogisticRegression  ...       0.027386\n",
       "1     LogisticRegression_Balanced  ...       0.418007\n",
       "2                    DecisionTree  ...       0.250260\n",
       "3     DecisionTree_BestParameters  ...       0.433442\n",
       "4   DecisionTree_RandomizedSearch  ...       0.433442\n",
       "5                        Adaboost  ...       0.389497\n",
       "6         Adaboost_BestParameters  ...       0.242646\n",
       "7                             GBM  ...       0.017158\n",
       "8                       GBM_SMOTe  ...       0.438035\n",
       "9                         XGBoost  ...       0.009739\n",
       "10         XGBoost_BestParameters  ...       0.445606\n",
       "\n",
       "[11 rows x 9 columns]"
      ]
     },
     "execution_count": 197,
     "metadata": {
      "tags": []
     },
     "output_type": "execute_result"
    }
   ],
   "source": [
    "scores = get_metrics(y_train,y_pred_train,y_val,y_pred_val,\"XGBoost_BestParameters\",scores)\n",
    "scores"
   ]
  },
  {
   "cell_type": "code",
   "execution_count": null,
   "metadata": {
    "id": "YyphjYIavHMP"
   },
   "outputs": [],
   "source": [
    "scores.to_csv('Model_scores.csv')"
   ]
  },
  {
   "cell_type": "markdown",
   "metadata": {
    "id": "S_ztKGNpd50G"
   },
   "source": [
    "## Decision Time!!\n",
    "\n",
    "##### What is your final take on models? Which model should we choose?\n"
   ]
  },
  {
   "cell_type": "markdown",
   "metadata": {
    "id": "EEvUT62KvHMP"
   },
   "source": [
    "### References: \n",
    "* https://github.com/scikit-learn-contrib/sklearn-pandas\n",
    "* https://scikit-learn.org/stable/modules/generated/sklearn.linear_model.LogisticRegression.html\n",
    "* https://scikit-learn.org/stable/modules/generated/sklearn.tree.DecisionTreeClassifier.html\n",
    "* https://scikit-learn.org/stable/modules/generated/sklearn.ensemble.AdaBoostClassifier.html\n",
    "* https://scikit-learn.org/stable/modules/generated/sklearn.ensemble.GradientBoostingClassifier.html\n",
    "* https://xgboost.readthedocs.io/en/latest/python/python_api.html"
   ]
  },
  {
   "cell_type": "code",
   "execution_count": null,
   "metadata": {
    "id": "6-x0Y5kMvHMP"
   },
   "outputs": [],
   "source": []
  }
 ],
 "metadata": {
  "accelerator": "GPU",
  "colab": {
   "collapsed_sections": [],
   "name": "20200913_ML_CaseStudy_Prediction_of_Patient_No_show_Solution.ipynb",
   "provenance": []
  },
  "kernelspec": {
   "display_name": "Python 3",
   "language": "python",
   "name": "python3"
  },
  "language_info": {
   "codemirror_mode": {
    "name": "ipython",
    "version": 3
   },
   "file_extension": ".py",
   "mimetype": "text/x-python",
   "name": "python",
   "nbconvert_exporter": "python",
   "pygments_lexer": "ipython3",
   "version": "3.8.5"
  },
  "toc": {
   "base_numbering": 1,
   "nav_menu": {},
   "number_sections": true,
   "sideBar": true,
   "skip_h1_title": false,
   "title_cell": "Table of Contents",
   "title_sidebar": "Contents",
   "toc_cell": true,
   "toc_position": {},
   "toc_section_display": true,
   "toc_window_display": false
  }
 },
 "nbformat": 4,
 "nbformat_minor": 1
}
