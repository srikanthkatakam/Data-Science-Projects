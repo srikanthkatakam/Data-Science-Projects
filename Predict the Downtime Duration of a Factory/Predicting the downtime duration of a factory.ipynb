{
  "nbformat": 4,
  "nbformat_minor": 0,
  "metadata": {
    "colab": {
      "name": "MiTH.ipynb",
      "provenance": [],
      "collapsed_sections": []
    },
    "kernelspec": {
      "name": "python3",
      "display_name": "Python 3"
    }
  },
  "cells": [
    {
      "cell_type": "code",
      "metadata": {
        "colab": {
          "base_uri": "https://localhost:8080/"
        },
        "id": "2ZFkkdMPL300",
        "outputId": "06d37e23-40ba-4c3c-ab3c-506b0aaf2bfb"
      },
      "source": [
        "from google.colab import drive\r\n",
        "drive.mount('/content/drive')"
      ],
      "execution_count": 1,
      "outputs": [
        {
          "output_type": "stream",
          "text": [
            "Drive already mounted at /content/drive; to attempt to forcibly remount, call drive.mount(\"/content/drive\", force_remount=True).\n"
          ],
          "name": "stdout"
        }
      ]
    },
    {
      "cell_type": "code",
      "metadata": {
        "colab": {
          "base_uri": "https://localhost:8080/",
          "height": 35
        },
        "id": "RhozeKGYL9Tp",
        "outputId": "3c7f420a-2bf7-4e0c-b6aa-9ab8938f1d9a"
      },
      "source": [
        "import os\r\n",
        "os.getcwd()"
      ],
      "execution_count": 2,
      "outputs": [
        {
          "output_type": "execute_result",
          "data": {
            "application/vnd.google.colaboratory.intrinsic+json": {
              "type": "string"
            },
            "text/plain": [
              "'/content'"
            ]
          },
          "metadata": {
            "tags": []
          },
          "execution_count": 2
        }
      ]
    },
    {
      "cell_type": "code",
      "metadata": {
        "id": "qtINz9cEMJrr"
      },
      "source": [
        "PATH = os.getcwd()"
      ],
      "execution_count": 3,
      "outputs": []
    },
    {
      "cell_type": "code",
      "metadata": {
        "colab": {
          "base_uri": "https://localhost:8080/"
        },
        "id": "zP4eEl6AMT5F",
        "outputId": "fbebbeaa-7941-45eb-a235-1188c15f1617"
      },
      "source": [
        "PATH = os.path.join(PATH, 'drive', 'My Drive', 'MiTH')\r\n",
        "print(PATH)"
      ],
      "execution_count": 4,
      "outputs": [
        {
          "output_type": "stream",
          "text": [
            "/content/drive/My Drive/MiTH\n"
          ],
          "name": "stdout"
        }
      ]
    },
    {
      "cell_type": "markdown",
      "metadata": {
        "id": "yESUSfwNOEr7"
      },
      "source": [
        "#**Error Metric : F1 Score**"
      ]
    },
    {
      "cell_type": "markdown",
      "metadata": {
        "id": "e6Pp9aWsM-Hl"
      },
      "source": [
        "## **Importing the required libraries and packages**"
      ]
    },
    {
      "cell_type": "code",
      "metadata": {
        "id": "0iDgSuHlMuHA"
      },
      "source": [
        "import numpy as np\r\n",
        "import pandas as pd\r\n",
        "\r\n",
        "from sklearn.model_selection import train_test_split\r\n",
        "from sklearn.impute import SimpleImputer\r\n",
        "from sklearn.preprocessing import StandardScaler, OneHotEncoder\r\n",
        "from sklearn.metrics import accuracy_score,recall_score,precision_score,f1_score \r\n",
        "from sklearn.metrics import classification_report, confusion_matrix\r\n",
        "\r\n",
        "from sklearn.model_selection import GridSearchCV\r\n",
        "from sklearn.tree import DecisionTreeClassifier\r\n",
        "from sklearn.ensemble import RandomForestClassifier,GradientBoostingClassifier\r\n",
        "from sklearn.linear_model import LogisticRegression\r\n",
        "from xgboost import XGBClassifier\r\n",
        "from sklearn.ensemble import AdaBoostClassifier\r\n",
        "\r\n",
        "from scipy.stats import chi2_contingency\r\n",
        "from scipy.stats import chi2\r\n",
        "import statsmodels.api as sm\r\n",
        "\r\n",
        "from sklearn_pandas import DataFrameMapper\r\n",
        "\r\n",
        "import matplotlib.pyplot as plt\r\n",
        "import seaborn as sns\r\n",
        "%matplotlib inline\r\n",
        "\r\n",
        "import warnings\r\n",
        "warnings.filterwarnings(\"ignore\")"
      ],
      "execution_count": 94,
      "outputs": []
    },
    {
      "cell_type": "markdown",
      "metadata": {
        "id": "x2AVYRtEWKU-"
      },
      "source": [
        "## Reading 7 CSV files provided to us and checking type"
      ]
    },
    {
      "cell_type": "code",
      "metadata": {
        "colab": {
          "base_uri": "https://localhost:8080/"
        },
        "id": "TdYJyWECNG3j",
        "outputId": "1f73e3cd-a03e-49cb-cd3b-1d8fc4f578f9"
      },
      "source": [
        "assembly_line_info = pd.read_csv(os.path.join(PATH, 'assembly_line_info.csv'))\r\n",
        "print(type(assembly_line_info))\r\n",
        "\r\n",
        "car_variant_data = pd.read_csv(os.path.join(PATH, 'car_variant_data.csv'))\r\n",
        "print(type(car_variant_data))\r\n",
        "\r\n",
        "issue_info = pd.read_csv(os.path.join(PATH, 'issue_info.csv'))\r\n",
        "print(type(issue_info))\r\n",
        "\r\n",
        "log_report_type_data = pd.read_csv(os.path.join(PATH, 'log_report_type_data.csv'))\r\n",
        "print(type(log_report_type_data))\r\n",
        "\r\n",
        "sample_submission = pd.read_csv(os.path.join(PATH, 'sample_submission.csv'))\r\n",
        "print(type(sample_submission))\r\n",
        "\r\n",
        "test_data = pd.read_csv(os.path.join(PATH, 'test_data.csv'))\r\n",
        "print(type(test_data))\r\n",
        "\r\n",
        "train_data = pd.read_csv(os.path.join(PATH, 'train_data.csv'))\r\n",
        "print(type(train_data))"
      ],
      "execution_count": 6,
      "outputs": [
        {
          "output_type": "stream",
          "text": [
            "<class 'pandas.core.frame.DataFrame'>\n",
            "<class 'pandas.core.frame.DataFrame'>\n",
            "<class 'pandas.core.frame.DataFrame'>\n",
            "<class 'pandas.core.frame.DataFrame'>\n",
            "<class 'pandas.core.frame.DataFrame'>\n",
            "<class 'pandas.core.frame.DataFrame'>\n",
            "<class 'pandas.core.frame.DataFrame'>\n"
          ],
          "name": "stdout"
        }
      ]
    },
    {
      "cell_type": "code",
      "metadata": {
        "id": "MWHXe5QyP3pP"
      },
      "source": [
        "data = pd.merge(assembly_line_info, car_variant_data, on=\"id\")\r\n",
        "data = pd.merge(data, issue_info, on=\"id\")\r\n",
        "data = pd.merge(data, log_report_type_data, on=\"id\")\r\n",
        "data = pd.merge(data, train_data, on=\"id\")"
      ],
      "execution_count": 7,
      "outputs": []
    },
    {
      "cell_type": "code",
      "metadata": {
        "colab": {
          "base_uri": "https://localhost:8080/",
          "height": 204
        },
        "id": "9zi2Ng7BTquo",
        "outputId": "056cb6e3-4b69-48c7-cf37-276fc27f76c6"
      },
      "source": [
        "# print first 5 rows.\r\n",
        "data.head()"
      ],
      "execution_count": 8,
      "outputs": [
        {
          "output_type": "execute_result",
          "data": {
            "text/html": [
              "<div>\n",
              "<style scoped>\n",
              "    .dataframe tbody tr th:only-of-type {\n",
              "        vertical-align: middle;\n",
              "    }\n",
              "\n",
              "    .dataframe tbody tr th {\n",
              "        vertical-align: top;\n",
              "    }\n",
              "\n",
              "    .dataframe thead th {\n",
              "        text-align: right;\n",
              "    }\n",
              "</style>\n",
              "<table border=\"1\" class=\"dataframe\">\n",
              "  <thead>\n",
              "    <tr style=\"text-align: right;\">\n",
              "      <th></th>\n",
              "      <th>id</th>\n",
              "      <th>assembly_line_type</th>\n",
              "      <th>car_variant</th>\n",
              "      <th>issue_type</th>\n",
              "      <th>log_report_type</th>\n",
              "      <th>volume</th>\n",
              "      <th>factory_number</th>\n",
              "      <th>downtime_duration</th>\n",
              "    </tr>\n",
              "  </thead>\n",
              "  <tbody>\n",
              "    <tr>\n",
              "      <th>0</th>\n",
              "      <td>8011</td>\n",
              "      <td>assembly_line_type_8</td>\n",
              "      <td>car_variant_15</td>\n",
              "      <td>issue_type_2</td>\n",
              "      <td>log_report_type_68</td>\n",
              "      <td>7</td>\n",
              "      <td>factory_number_1</td>\n",
              "      <td>0</td>\n",
              "    </tr>\n",
              "    <tr>\n",
              "      <th>1</th>\n",
              "      <td>2588</td>\n",
              "      <td>assembly_line_type_8</td>\n",
              "      <td>car_variant_15</td>\n",
              "      <td>issue_type_1</td>\n",
              "      <td>log_report_type_82</td>\n",
              "      <td>9</td>\n",
              "      <td>factory_number_1</td>\n",
              "      <td>0</td>\n",
              "    </tr>\n",
              "    <tr>\n",
              "      <th>2</th>\n",
              "      <td>2588</td>\n",
              "      <td>assembly_line_type_8</td>\n",
              "      <td>car_variant_15</td>\n",
              "      <td>issue_type_1</td>\n",
              "      <td>log_report_type_201</td>\n",
              "      <td>5</td>\n",
              "      <td>factory_number_1</td>\n",
              "      <td>0</td>\n",
              "    </tr>\n",
              "    <tr>\n",
              "      <th>3</th>\n",
              "      <td>2588</td>\n",
              "      <td>assembly_line_type_8</td>\n",
              "      <td>car_variant_15</td>\n",
              "      <td>issue_type_1</td>\n",
              "      <td>log_report_type_80</td>\n",
              "      <td>15</td>\n",
              "      <td>factory_number_1</td>\n",
              "      <td>0</td>\n",
              "    </tr>\n",
              "    <tr>\n",
              "      <th>4</th>\n",
              "      <td>2588</td>\n",
              "      <td>assembly_line_type_8</td>\n",
              "      <td>car_variant_15</td>\n",
              "      <td>issue_type_1</td>\n",
              "      <td>log_report_type_203</td>\n",
              "      <td>5</td>\n",
              "      <td>factory_number_1</td>\n",
              "      <td>0</td>\n",
              "    </tr>\n",
              "  </tbody>\n",
              "</table>\n",
              "</div>"
            ],
            "text/plain": [
              "     id    assembly_line_type  ...    factory_number downtime_duration\n",
              "0  8011  assembly_line_type_8  ...  factory_number_1                 0\n",
              "1  2588  assembly_line_type_8  ...  factory_number_1                 0\n",
              "2  2588  assembly_line_type_8  ...  factory_number_1                 0\n",
              "3  2588  assembly_line_type_8  ...  factory_number_1                 0\n",
              "4  2588  assembly_line_type_8  ...  factory_number_1                 0\n",
              "\n",
              "[5 rows x 8 columns]"
            ]
          },
          "metadata": {
            "tags": []
          },
          "execution_count": 8
        }
      ]
    },
    {
      "cell_type": "code",
      "metadata": {
        "colab": {
          "base_uri": "https://localhost:8080/",
          "height": 204
        },
        "id": "SVI2OCKXbZaw",
        "outputId": "e8ed2114-18f3-450f-8e73-abbf68167fda"
      },
      "source": [
        "# print last 5 rows.\r\n",
        "data.tail()"
      ],
      "execution_count": 9,
      "outputs": [
        {
          "output_type": "execute_result",
          "data": {
            "text/html": [
              "<div>\n",
              "<style scoped>\n",
              "    .dataframe tbody tr th:only-of-type {\n",
              "        vertical-align: middle;\n",
              "    }\n",
              "\n",
              "    .dataframe tbody tr th {\n",
              "        vertical-align: top;\n",
              "    }\n",
              "\n",
              "    .dataframe thead th {\n",
              "        text-align: right;\n",
              "    }\n",
              "</style>\n",
              "<table border=\"1\" class=\"dataframe\">\n",
              "  <thead>\n",
              "    <tr style=\"text-align: right;\">\n",
              "      <th></th>\n",
              "      <th>id</th>\n",
              "      <th>assembly_line_type</th>\n",
              "      <th>car_variant</th>\n",
              "      <th>issue_type</th>\n",
              "      <th>log_report_type</th>\n",
              "      <th>volume</th>\n",
              "      <th>factory_number</th>\n",
              "      <th>downtime_duration</th>\n",
              "    </tr>\n",
              "  </thead>\n",
              "  <tbody>\n",
              "    <tr>\n",
              "      <th>48968</th>\n",
              "      <td>13296</td>\n",
              "      <td>assembly_line_type_8</td>\n",
              "      <td>car_variant_11</td>\n",
              "      <td>issue_type_1</td>\n",
              "      <td>log_report_type_54</td>\n",
              "      <td>1</td>\n",
              "      <td>factory_number_999</td>\n",
              "      <td>1</td>\n",
              "    </tr>\n",
              "    <tr>\n",
              "      <th>48969</th>\n",
              "      <td>8114</td>\n",
              "      <td>assembly_line_type_8</td>\n",
              "      <td>car_variant_11</td>\n",
              "      <td>issue_type_2</td>\n",
              "      <td>log_report_type_54</td>\n",
              "      <td>1</td>\n",
              "      <td>factory_number_999</td>\n",
              "      <td>0</td>\n",
              "    </tr>\n",
              "    <tr>\n",
              "      <th>48970</th>\n",
              "      <td>8114</td>\n",
              "      <td>assembly_line_type_8</td>\n",
              "      <td>car_variant_11</td>\n",
              "      <td>issue_type_2</td>\n",
              "      <td>log_report_type_87</td>\n",
              "      <td>3</td>\n",
              "      <td>factory_number_999</td>\n",
              "      <td>0</td>\n",
              "    </tr>\n",
              "    <tr>\n",
              "      <th>48971</th>\n",
              "      <td>4464</td>\n",
              "      <td>assembly_line_type_8</td>\n",
              "      <td>car_variant_11</td>\n",
              "      <td>issue_type_1</td>\n",
              "      <td>log_report_type_209</td>\n",
              "      <td>1</td>\n",
              "      <td>factory_number_999</td>\n",
              "      <td>0</td>\n",
              "    </tr>\n",
              "    <tr>\n",
              "      <th>48972</th>\n",
              "      <td>4464</td>\n",
              "      <td>assembly_line_type_8</td>\n",
              "      <td>car_variant_11</td>\n",
              "      <td>issue_type_1</td>\n",
              "      <td>log_report_type_87</td>\n",
              "      <td>2</td>\n",
              "      <td>factory_number_999</td>\n",
              "      <td>0</td>\n",
              "    </tr>\n",
              "  </tbody>\n",
              "</table>\n",
              "</div>"
            ],
            "text/plain": [
              "          id    assembly_line_type  ...      factory_number downtime_duration\n",
              "48968  13296  assembly_line_type_8  ...  factory_number_999                 1\n",
              "48969   8114  assembly_line_type_8  ...  factory_number_999                 0\n",
              "48970   8114  assembly_line_type_8  ...  factory_number_999                 0\n",
              "48971   4464  assembly_line_type_8  ...  factory_number_999                 0\n",
              "48972   4464  assembly_line_type_8  ...  factory_number_999                 0\n",
              "\n",
              "[5 rows x 8 columns]"
            ]
          },
          "metadata": {
            "tags": []
          },
          "execution_count": 9
        }
      ]
    },
    {
      "cell_type": "markdown",
      "metadata": {
        "id": "UqrHWbLmc2zO"
      },
      "source": [
        "## **Exploratory Data Analysis**"
      ]
    },
    {
      "cell_type": "code",
      "metadata": {
        "colab": {
          "base_uri": "https://localhost:8080/"
        },
        "id": "RfYaBRXjUIE2",
        "outputId": "892b6faf-1540-40fc-d7aa-4fd61dd5b8c8"
      },
      "source": [
        "# Dimensions of the data dataframe\r\n",
        "data.shape"
      ],
      "execution_count": 10,
      "outputs": [
        {
          "output_type": "execute_result",
          "data": {
            "text/plain": [
              "(48973, 8)"
            ]
          },
          "metadata": {
            "tags": []
          },
          "execution_count": 10
        }
      ]
    },
    {
      "cell_type": "code",
      "metadata": {
        "colab": {
          "base_uri": "https://localhost:8080/",
          "height": 390
        },
        "id": "7BmmSlLVVt_-",
        "outputId": "ded83e06-9bf3-434a-ac59-65167998f01f"
      },
      "source": [
        "# Summary Statistics\r\n",
        "data.describe(include=\"all\")"
      ],
      "execution_count": 11,
      "outputs": [
        {
          "output_type": "execute_result",
          "data": {
            "text/html": [
              "<div>\n",
              "<style scoped>\n",
              "    .dataframe tbody tr th:only-of-type {\n",
              "        vertical-align: middle;\n",
              "    }\n",
              "\n",
              "    .dataframe tbody tr th {\n",
              "        vertical-align: top;\n",
              "    }\n",
              "\n",
              "    .dataframe thead th {\n",
              "        text-align: right;\n",
              "    }\n",
              "</style>\n",
              "<table border=\"1\" class=\"dataframe\">\n",
              "  <thead>\n",
              "    <tr style=\"text-align: right;\">\n",
              "      <th></th>\n",
              "      <th>id</th>\n",
              "      <th>assembly_line_type</th>\n",
              "      <th>car_variant</th>\n",
              "      <th>issue_type</th>\n",
              "      <th>log_report_type</th>\n",
              "      <th>volume</th>\n",
              "      <th>factory_number</th>\n",
              "      <th>downtime_duration</th>\n",
              "    </tr>\n",
              "  </thead>\n",
              "  <tbody>\n",
              "    <tr>\n",
              "      <th>count</th>\n",
              "      <td>48973.000000</td>\n",
              "      <td>48973</td>\n",
              "      <td>48973</td>\n",
              "      <td>48973</td>\n",
              "      <td>48973</td>\n",
              "      <td>48973.000000</td>\n",
              "      <td>48973</td>\n",
              "      <td>48973.000000</td>\n",
              "    </tr>\n",
              "    <tr>\n",
              "      <th>unique</th>\n",
              "      <td>NaN</td>\n",
              "      <td>10</td>\n",
              "      <td>49</td>\n",
              "      <td>5</td>\n",
              "      <td>310</td>\n",
              "      <td>NaN</td>\n",
              "      <td>876</td>\n",
              "      <td>NaN</td>\n",
              "    </tr>\n",
              "    <tr>\n",
              "      <th>top</th>\n",
              "      <td>NaN</td>\n",
              "      <td>assembly_line_type_2</td>\n",
              "      <td>car_variant_11</td>\n",
              "      <td>issue_type_1</td>\n",
              "      <td>log_report_type_312</td>\n",
              "      <td>NaN</td>\n",
              "      <td>factory_number_794</td>\n",
              "      <td>NaN</td>\n",
              "    </tr>\n",
              "    <tr>\n",
              "      <th>freq</th>\n",
              "      <td>NaN</td>\n",
              "      <td>25074</td>\n",
              "      <td>10494</td>\n",
              "      <td>28702</td>\n",
              "      <td>3645</td>\n",
              "      <td>NaN</td>\n",
              "      <td>1285</td>\n",
              "      <td>NaN</td>\n",
              "    </tr>\n",
              "    <tr>\n",
              "      <th>mean</th>\n",
              "      <td>9141.189084</td>\n",
              "      <td>NaN</td>\n",
              "      <td>NaN</td>\n",
              "      <td>NaN</td>\n",
              "      <td>NaN</td>\n",
              "      <td>8.605742</td>\n",
              "      <td>NaN</td>\n",
              "      <td>0.539889</td>\n",
              "    </tr>\n",
              "    <tr>\n",
              "      <th>std</th>\n",
              "      <td>5390.273600</td>\n",
              "      <td>NaN</td>\n",
              "      <td>NaN</td>\n",
              "      <td>NaN</td>\n",
              "      <td>NaN</td>\n",
              "      <td>23.487812</td>\n",
              "      <td>NaN</td>\n",
              "      <td>0.725738</td>\n",
              "    </tr>\n",
              "    <tr>\n",
              "      <th>min</th>\n",
              "      <td>1.000000</td>\n",
              "      <td>NaN</td>\n",
              "      <td>NaN</td>\n",
              "      <td>NaN</td>\n",
              "      <td>NaN</td>\n",
              "      <td>1.000000</td>\n",
              "      <td>NaN</td>\n",
              "      <td>0.000000</td>\n",
              "    </tr>\n",
              "    <tr>\n",
              "      <th>25%</th>\n",
              "      <td>4493.000000</td>\n",
              "      <td>NaN</td>\n",
              "      <td>NaN</td>\n",
              "      <td>NaN</td>\n",
              "      <td>NaN</td>\n",
              "      <td>1.000000</td>\n",
              "      <td>NaN</td>\n",
              "      <td>0.000000</td>\n",
              "    </tr>\n",
              "    <tr>\n",
              "      <th>50%</th>\n",
              "      <td>9107.000000</td>\n",
              "      <td>NaN</td>\n",
              "      <td>NaN</td>\n",
              "      <td>NaN</td>\n",
              "      <td>NaN</td>\n",
              "      <td>2.000000</td>\n",
              "      <td>NaN</td>\n",
              "      <td>0.000000</td>\n",
              "    </tr>\n",
              "    <tr>\n",
              "      <th>75%</th>\n",
              "      <td>13663.000000</td>\n",
              "      <td>NaN</td>\n",
              "      <td>NaN</td>\n",
              "      <td>NaN</td>\n",
              "      <td>NaN</td>\n",
              "      <td>6.000000</td>\n",
              "      <td>NaN</td>\n",
              "      <td>1.000000</td>\n",
              "    </tr>\n",
              "    <tr>\n",
              "      <th>max</th>\n",
              "      <td>18550.000000</td>\n",
              "      <td>NaN</td>\n",
              "      <td>NaN</td>\n",
              "      <td>NaN</td>\n",
              "      <td>NaN</td>\n",
              "      <td>877.000000</td>\n",
              "      <td>NaN</td>\n",
              "      <td>2.000000</td>\n",
              "    </tr>\n",
              "  </tbody>\n",
              "</table>\n",
              "</div>"
            ],
            "text/plain": [
              "                  id  ... downtime_duration\n",
              "count   48973.000000  ...      48973.000000\n",
              "unique           NaN  ...               NaN\n",
              "top              NaN  ...               NaN\n",
              "freq             NaN  ...               NaN\n",
              "mean     9141.189084  ...          0.539889\n",
              "std      5390.273600  ...          0.725738\n",
              "min         1.000000  ...          0.000000\n",
              "25%      4493.000000  ...          0.000000\n",
              "50%      9107.000000  ...          0.000000\n",
              "75%     13663.000000  ...          1.000000\n",
              "max     18550.000000  ...          2.000000\n",
              "\n",
              "[11 rows x 8 columns]"
            ]
          },
          "metadata": {
            "tags": []
          },
          "execution_count": 11
        }
      ]
    },
    {
      "cell_type": "code",
      "metadata": {
        "colab": {
          "base_uri": "https://localhost:8080/"
        },
        "id": "hrIlnaGTzs2s",
        "outputId": "83a8345f-f1dd-41ca-f74a-ae01e4f07474"
      },
      "source": [
        "data.nunique()"
      ],
      "execution_count": 12,
      "outputs": [
        {
          "output_type": "execute_result",
          "data": {
            "text/plain": [
              "id                    5904\n",
              "assembly_line_type      10\n",
              "car_variant             49\n",
              "issue_type               5\n",
              "log_report_type        310\n",
              "volume                 240\n",
              "factory_number         876\n",
              "downtime_duration        3\n",
              "dtype: int64"
            ]
          },
          "metadata": {
            "tags": []
          },
          "execution_count": 12
        }
      ]
    },
    {
      "cell_type": "code",
      "metadata": {
        "colab": {
          "base_uri": "https://localhost:8080/"
        },
        "id": "sZwW646v0218",
        "outputId": "59e71237-f8ff-45b2-a229-17427286320b"
      },
      "source": [
        "data.isnull().sum()"
      ],
      "execution_count": 13,
      "outputs": [
        {
          "output_type": "execute_result",
          "data": {
            "text/plain": [
              "id                    0\n",
              "assembly_line_type    0\n",
              "car_variant           0\n",
              "issue_type            0\n",
              "log_report_type       0\n",
              "volume                0\n",
              "factory_number        0\n",
              "downtime_duration     0\n",
              "dtype: int64"
            ]
          },
          "metadata": {
            "tags": []
          },
          "execution_count": 13
        }
      ]
    },
    {
      "cell_type": "markdown",
      "metadata": {
        "id": "eJdKdoW4dDxV"
      },
      "source": [
        "### **Checking Datatypes & Typecasting**"
      ]
    },
    {
      "cell_type": "code",
      "metadata": {
        "colab": {
          "base_uri": "https://localhost:8080/"
        },
        "id": "iqkUNcjlcFVG",
        "outputId": "5161efff-ac52-4371-afbd-d4bbf30adb62"
      },
      "source": [
        "data.dtypes"
      ],
      "execution_count": 14,
      "outputs": [
        {
          "output_type": "execute_result",
          "data": {
            "text/plain": [
              "id                     int64\n",
              "assembly_line_type    object\n",
              "car_variant           object\n",
              "issue_type            object\n",
              "log_report_type       object\n",
              "volume                 int64\n",
              "factory_number        object\n",
              "downtime_duration      int64\n",
              "dtype: object"
            ]
          },
          "metadata": {
            "tags": []
          },
          "execution_count": 14
        }
      ]
    },
    {
      "cell_type": "code",
      "metadata": {
        "id": "WBM3rJR8fJ06"
      },
      "source": [
        "data = data.drop([\"id\"], axis=1)"
      ],
      "execution_count": 15,
      "outputs": []
    },
    {
      "cell_type": "code",
      "metadata": {
        "colab": {
          "base_uri": "https://localhost:8080/",
          "height": 204
        },
        "id": "dCgIUfqBfvUr",
        "outputId": "b66fad3f-9e43-4f3c-82f3-eb8b13705bf0"
      },
      "source": [
        "data.head()"
      ],
      "execution_count": 16,
      "outputs": [
        {
          "output_type": "execute_result",
          "data": {
            "text/html": [
              "<div>\n",
              "<style scoped>\n",
              "    .dataframe tbody tr th:only-of-type {\n",
              "        vertical-align: middle;\n",
              "    }\n",
              "\n",
              "    .dataframe tbody tr th {\n",
              "        vertical-align: top;\n",
              "    }\n",
              "\n",
              "    .dataframe thead th {\n",
              "        text-align: right;\n",
              "    }\n",
              "</style>\n",
              "<table border=\"1\" class=\"dataframe\">\n",
              "  <thead>\n",
              "    <tr style=\"text-align: right;\">\n",
              "      <th></th>\n",
              "      <th>assembly_line_type</th>\n",
              "      <th>car_variant</th>\n",
              "      <th>issue_type</th>\n",
              "      <th>log_report_type</th>\n",
              "      <th>volume</th>\n",
              "      <th>factory_number</th>\n",
              "      <th>downtime_duration</th>\n",
              "    </tr>\n",
              "  </thead>\n",
              "  <tbody>\n",
              "    <tr>\n",
              "      <th>0</th>\n",
              "      <td>assembly_line_type_8</td>\n",
              "      <td>car_variant_15</td>\n",
              "      <td>issue_type_2</td>\n",
              "      <td>log_report_type_68</td>\n",
              "      <td>7</td>\n",
              "      <td>factory_number_1</td>\n",
              "      <td>0</td>\n",
              "    </tr>\n",
              "    <tr>\n",
              "      <th>1</th>\n",
              "      <td>assembly_line_type_8</td>\n",
              "      <td>car_variant_15</td>\n",
              "      <td>issue_type_1</td>\n",
              "      <td>log_report_type_82</td>\n",
              "      <td>9</td>\n",
              "      <td>factory_number_1</td>\n",
              "      <td>0</td>\n",
              "    </tr>\n",
              "    <tr>\n",
              "      <th>2</th>\n",
              "      <td>assembly_line_type_8</td>\n",
              "      <td>car_variant_15</td>\n",
              "      <td>issue_type_1</td>\n",
              "      <td>log_report_type_201</td>\n",
              "      <td>5</td>\n",
              "      <td>factory_number_1</td>\n",
              "      <td>0</td>\n",
              "    </tr>\n",
              "    <tr>\n",
              "      <th>3</th>\n",
              "      <td>assembly_line_type_8</td>\n",
              "      <td>car_variant_15</td>\n",
              "      <td>issue_type_1</td>\n",
              "      <td>log_report_type_80</td>\n",
              "      <td>15</td>\n",
              "      <td>factory_number_1</td>\n",
              "      <td>0</td>\n",
              "    </tr>\n",
              "    <tr>\n",
              "      <th>4</th>\n",
              "      <td>assembly_line_type_8</td>\n",
              "      <td>car_variant_15</td>\n",
              "      <td>issue_type_1</td>\n",
              "      <td>log_report_type_203</td>\n",
              "      <td>5</td>\n",
              "      <td>factory_number_1</td>\n",
              "      <td>0</td>\n",
              "    </tr>\n",
              "  </tbody>\n",
              "</table>\n",
              "</div>"
            ],
            "text/plain": [
              "     assembly_line_type     car_variant  ...    factory_number downtime_duration\n",
              "0  assembly_line_type_8  car_variant_15  ...  factory_number_1                 0\n",
              "1  assembly_line_type_8  car_variant_15  ...  factory_number_1                 0\n",
              "2  assembly_line_type_8  car_variant_15  ...  factory_number_1                 0\n",
              "3  assembly_line_type_8  car_variant_15  ...  factory_number_1                 0\n",
              "4  assembly_line_type_8  car_variant_15  ...  factory_number_1                 0\n",
              "\n",
              "[5 rows x 7 columns]"
            ]
          },
          "metadata": {
            "tags": []
          },
          "execution_count": 16
        }
      ]
    },
    {
      "cell_type": "code",
      "metadata": {
        "id": "DNSwUatPdPqJ"
      },
      "source": [
        "col_names=['assembly_line_type','car_variant', 'issue_type', 'log_report_type', 'factory_number','downtime_duration']\r\n",
        "data[col_names] = data[col_names].astype('category')"
      ],
      "execution_count": 17,
      "outputs": []
    },
    {
      "cell_type": "code",
      "metadata": {
        "colab": {
          "base_uri": "https://localhost:8080/"
        },
        "id": "pOIYTd0bdkvf",
        "outputId": "982077ef-b181-4776-9e78-66c11d1d1cd8"
      },
      "source": [
        "data.dtypes"
      ],
      "execution_count": 18,
      "outputs": [
        {
          "output_type": "execute_result",
          "data": {
            "text/plain": [
              "assembly_line_type    category\n",
              "car_variant           category\n",
              "issue_type            category\n",
              "log_report_type       category\n",
              "volume                   int64\n",
              "factory_number        category\n",
              "downtime_duration     category\n",
              "dtype: object"
            ]
          },
          "metadata": {
            "tags": []
          },
          "execution_count": 18
        }
      ]
    },
    {
      "cell_type": "code",
      "metadata": {
        "colab": {
          "base_uri": "https://localhost:8080/",
          "height": 329
        },
        "id": "nhUDqk22dnVW",
        "outputId": "2a249798-b9bd-4570-b271-96a50b743ca8"
      },
      "source": [
        "data['assembly_line_type'].hist(figsize=(22,5))"
      ],
      "execution_count": 19,
      "outputs": [
        {
          "output_type": "execute_result",
          "data": {
            "text/plain": [
              "<matplotlib.axes._subplots.AxesSubplot at 0x7f0d4ba1e5c0>"
            ]
          },
          "metadata": {
            "tags": []
          },
          "execution_count": 19
        },
        {
          "output_type": "display_data",
          "data": {
            "image/png": "[encoded data removed]",
            "text/plain": [
              "<Figure size 1584x360 with 1 Axes>"
            ]
          },
          "metadata": {
            "tags": [],
            "needs_background": "light"
          }
        }
      ]
    },
    {
      "cell_type": "markdown",
      "metadata": {
        "id": "DBOL1x25hzjO"
      },
      "source": [
        "Observation: Age is clearly a right skewed one."
      ]
    },
    {
      "cell_type": "code",
      "metadata": {
        "colab": {
          "base_uri": "https://localhost:8080/",
          "height": 215
        },
        "id": "VUp5P3vyhiHE",
        "outputId": "9fb95fe3-f797-4d69-9cb4-18676ec74f30"
      },
      "source": [
        "data['car_variant'].hist(figsize=(70,10))"
      ],
      "execution_count": 20,
      "outputs": [
        {
          "output_type": "execute_result",
          "data": {
            "text/plain": [
              "<matplotlib.axes._subplots.AxesSubplot at 0x7f0d4b97d550>"
            ]
          },
          "metadata": {
            "tags": []
          },
          "execution_count": 20
        },
        {
          "output_type": "display_data",
          "data": {
            "image/png": "[encoded data removed]",
            "text/plain": [
              "<Figure size 5040x720 with 1 Axes>"
            ]
          },
          "metadata": {
            "tags": [],
            "needs_background": "light"
          }
        }
      ]
    },
    {
      "cell_type": "code",
      "metadata": {
        "colab": {
          "base_uri": "https://localhost:8080/",
          "height": 109
        },
        "id": "1_4HeVU3j0Sa",
        "outputId": "dd51b9ab-14d9-4331-9686-ad795035e02e"
      },
      "source": [
        "data['log_report_type'].hist(figsize=(90,5))"
      ],
      "execution_count": 21,
      "outputs": [
        {
          "output_type": "execute_result",
          "data": {
            "text/plain": [
              "<matplotlib.axes._subplots.AxesSubplot at 0x7f0d4b43f048>"
            ]
          },
          "metadata": {
            "tags": []
          },
          "execution_count": 21
        },
        {
          "output_type": "display_data",
          "data": {
            "image/png": "[encoded data removed]",
            "text/plain": [
              "<Figure size 6480x360 with 1 Axes>"
            ]
          },
          "metadata": {
            "tags": [],
            "needs_background": "light"
          }
        }
      ]
    },
    {
      "cell_type": "code",
      "metadata": {
        "colab": {
          "base_uri": "https://localhost:8080/",
          "height": 150
        },
        "id": "ZL8Gj8Xo0li4",
        "outputId": "56b7acf5-0cf4-49c7-d6d6-7c5e9c2bd91f"
      },
      "source": [
        "data['volume'].hist(figsize=(50, 5));"
      ],
      "execution_count": 22,
      "outputs": [
        {
          "output_type": "display_data",
          "data": {
            "image/png": "[encoded data removed]",
            "text/plain": [
              "<Figure size 3600x360 with 1 Axes>"
            ]
          },
          "metadata": {
            "tags": [],
            "needs_background": "light"
          }
        }
      ]
    },
    {
      "cell_type": "code",
      "metadata": {
        "id": "7jxsDjRYiDc3"
      },
      "source": [
        "def barplot(column,data):\r\n",
        "    bar_plot1 = sns.countplot(x=column, data=data)\r\n",
        "    \r\n",
        "    total = len(data[column])\r\n",
        "    for p in bar_plot1.patches:\r\n",
        "        percentage = '{:.2f}%'.format(100 * p.get_height()/total)\r\n",
        "        height = p.get_height()\r\n",
        "        bar_plot1.text(p.get_x()+ p.get_width()/2, height + 400, percentage, ha=\"center\")"
      ],
      "execution_count": 23,
      "outputs": []
    },
    {
      "cell_type": "code",
      "metadata": {
        "colab": {
          "base_uri": "https://localhost:8080/",
          "height": 284
        },
        "id": "-s-7xbD9i4dA",
        "outputId": "d8d135bd-c904-4e5a-d997-b412d2d49c42"
      },
      "source": [
        "barplot(\"issue_type\",data)"
      ],
      "execution_count": 24,
      "outputs": [
        {
          "output_type": "display_data",
          "data": {
            "image/png": "[encoded data removed]",
            "text/plain": [
              "<Figure size 432x288 with 1 Axes>"
            ]
          },
          "metadata": {
            "tags": [],
            "needs_background": "light"
          }
        }
      ]
    },
    {
      "cell_type": "markdown",
      "metadata": {
        "id": "W74IYdEk5Iw9"
      },
      "source": [
        "## **Checking  target feature distribution**"
      ]
    },
    {
      "cell_type": "code",
      "metadata": {
        "colab": {
          "base_uri": "https://localhost:8080/",
          "height": 281
        },
        "id": "ZrymbmKf5IdC",
        "outputId": "1b1e8ca8-9804-479d-e63d-41b109b273c1"
      },
      "source": [
        "barplot(\"downtime_duration\",data)"
      ],
      "execution_count": 25,
      "outputs": [
        {
          "output_type": "display_data",
          "data": {
            "image/png": "[encoded data removed]",
            "text/plain": [
              "<Figure size 432x288 with 1 Axes>"
            ]
          },
          "metadata": {
            "tags": [],
            "needs_background": "light"
          }
        }
      ]
    },
    {
      "cell_type": "code",
      "metadata": {
        "colab": {
          "base_uri": "https://localhost:8080/"
        },
        "id": "RG-XhgkokW17",
        "outputId": "18835cd0-46a9-4744-d886-06238bae36fd"
      },
      "source": [
        "cat_cols = data.select_dtypes('category').columns\r\n",
        "cat_cols"
      ],
      "execution_count": 26,
      "outputs": [
        {
          "output_type": "execute_result",
          "data": {
            "text/plain": [
              "Index(['assembly_line_type', 'car_variant', 'issue_type', 'log_report_type',\n",
              "       'factory_number', 'downtime_duration'],\n",
              "      dtype='object')"
            ]
          },
          "metadata": {
            "tags": []
          },
          "execution_count": 26
        }
      ]
    },
    {
      "cell_type": "code",
      "metadata": {
        "id": "sYwqrGdXkb1T"
      },
      "source": [
        "def find_chi2_independence(cat_col, target, data, alpha=0.05):\r\n",
        "    data = data[[target, cat_col]]\r\n",
        "    tab = sm.stats.Table.from_data(data)\r\n",
        "    tab = tab.table_orig.to_numpy()\r\n",
        "    print(f\"---------------{target} Vs {cat_col} Chi Square Test of Independence -------------------\")\r\n",
        "    print(f\"\\n Contingency table :\\n\")\r\n",
        "    print(tab)\r\n",
        "    \r\n",
        "    stat, p, dof, expected = chi2_contingency(tab)\r\n",
        "    print(f\"\\n Expected table :\\n\")\r\n",
        "    print(expected)\r\n",
        "    \r\n",
        "    print(f\"The p value returned = {p} and degrees of freedom returned = {dof}\")\r\n",
        "    \r\n",
        "    # interpret p-value\r\n",
        "    print('significance(alpha) = %.3f' % (alpha))\r\n",
        "\r\n",
        "    if p <= alpha:\r\n",
        "        print('Dependent (reject H0)')\r\n",
        "    else:\r\n",
        "        print('Independent (fail to reject H0)') "
      ],
      "execution_count": 27,
      "outputs": []
    },
    {
      "cell_type": "code",
      "metadata": {
        "colab": {
          "base_uri": "https://localhost:8080/"
        },
        "id": "AyA49-4Wkkgv",
        "outputId": "894a07e1-65e8-4172-8176-3ede8a813441"
      },
      "source": [
        "for col in cat_cols:\r\n",
        "    find_chi2_independence(col, 'downtime_duration', data, alpha=0.05)"
      ],
      "execution_count": 28,
      "outputs": [
        {
          "output_type": "stream",
          "text": [
            "---------------downtime_duration Vs assembly_line_type Chi Square Test of Independence -------------------\n",
            "\n",
            " Contingency table :\n",
            "\n",
            "[[  172   201 19003   149   703     0   692  1052  7096   279]\n",
            " [   56   108  4615   286   402     0   848   879  5352   266]\n",
            " [  253    70  1456   126   364   110   498   306  3533    98]]\n",
            "\n",
            " Expected table :\n",
            "\n",
            "[[  288.23856002   227.11520634 15025.55853225   336.17844527\n",
            "    880.29614277    65.91734221  1221.26857656  1340.5190411\n",
            "   9576.59132583   385.31682764]\n",
            " [  125.83611378    99.15153248  6559.69795602   146.76519715\n",
            "    384.31029343    28.77748964   533.16839891   585.2294938\n",
            "   4180.84601719   168.21750761]\n",
            " [   66.9253262     52.73326118  3488.74351173    78.05635758\n",
            "    204.3935638     15.30516815   283.56302452   311.25146509\n",
            "   2223.56265697    89.46566475]]\n",
            "The p value returned = 0.0 and degrees of freedom returned = 18\n",
            "significance(alpha) = 0.050\n",
            "Dependent (reject H0)\n",
            "---------------downtime_duration Vs car_variant Chi Square Test of Independence -------------------\n",
            "\n",
            " Contingency table :\n",
            "\n",
            "[[   6  128 4892   11  669  656 1601  201    0    9 1552  168  466  752\n",
            "    46    8  128   47   61   21    0   39    1   47 7652 8107   96   13\n",
            "     4   10   78    9  358  297  352   66   34   55   15   15   52   61\n",
            "     8    0  351   83   81   20   21]\n",
            " [   0  206 3666    3  833  376 1164  108    0   38  669   93  363  690\n",
            "    38    0   29   33  100   85    6  106    1   30 1399 1440   32    0\n",
            "    18   10   12    0  236  188  234   39    6   17    0    0   19   48\n",
            "     0    0  429   10   30    8    0]\n",
            " [   0  108 1936    0  477  357 1553   56   92   22  386   10  215  161\n",
            "    18    0    0   70   12    0   48    0    4    6    0    0    0    0\n",
            "    18   74    0    0  185  119  185   44   20   39    0   39   96   57\n",
            "     0   39  220   58   58   18   14]]\n",
            "\n",
            " Expected table :\n",
            "\n",
            "[[3.59549139e+00 2.64867866e+02 6.28851445e+03 8.38947992e+00\n",
            "  1.18591291e+03 8.32356258e+02 2.58755531e+03 2.18725726e+02\n",
            "  5.51308680e+01 4.13481510e+01 1.56224101e+03 1.62396361e+02\n",
            "  6.25615502e+02 9.60595451e+02 6.11233537e+01 4.79398852e+00\n",
            "  9.40820248e+01 8.98872848e+01 1.03670002e+02 6.35203479e+01\n",
            "  3.23594225e+01 8.68910420e+01 3.59549139e+00 4.97376309e+01\n",
            "  5.42379877e+03 5.72102606e+03 7.67038164e+01 7.79023135e+00\n",
            "  2.39699426e+01 5.63293652e+01 5.39323709e+01 5.39323709e+00\n",
            "  4.66814633e+02 3.61946134e+02 4.62020644e+02 8.92880363e+01\n",
            "  3.59549139e+01 6.65165908e+01 8.98872848e+00 3.23594225e+01\n",
            "  1.00074510e+02 9.94752619e+01 4.79398852e+00 2.33706941e+01\n",
            "  5.99248566e+02 9.04865334e+01 1.01273008e+02 2.75654340e+01\n",
            "  2.09736998e+01]\n",
            " [1.56968125e+00 1.15633186e+02 2.74537251e+03 3.66258959e+00\n",
            "  5.17733200e+02 3.63381210e+02 1.12964728e+03 9.54889429e+01\n",
            "  2.40684459e+01 1.80513344e+01 6.82026504e+02 7.08972699e+01\n",
            "  2.73124538e+02 4.19366508e+02 2.66845813e+01 2.09290834e+00\n",
            "  4.10733261e+01 3.92420313e+01 4.52591428e+01 2.77310355e+01\n",
            "  1.41271313e+01 3.79339636e+01 1.56968125e+00 2.17139240e+01\n",
            "  2.36786417e+03 2.49762449e+03 3.34865334e+01 3.40097605e+00\n",
            "  1.04645417e+01 2.45916730e+01 2.35452188e+01 2.35452188e+00\n",
            "  2.03796949e+02 1.58014579e+02 2.01704041e+02 3.89804178e+01\n",
            "  1.56968125e+01 2.90391032e+01 3.92420313e+00 1.41271313e+01\n",
            "  4.36894615e+01 4.34278480e+01 2.09290834e+00 1.02029281e+01\n",
            "  2.61613542e+02 3.95036449e+01 4.42126886e+01 1.20342229e+01\n",
            "  9.15647398e+00]\n",
            " [8.34827354e-01 6.14989484e+01 1.46011304e+03 1.94793049e+00\n",
            "  2.75353889e+02 1.93262532e+02 6.00797419e+02 5.07853307e+01\n",
            "  1.28006861e+01 9.60051457e+00 3.62732485e+02 3.77063688e+01\n",
            "  1.45259960e+02 2.23038041e+02 1.41920650e+01 1.11310314e+00\n",
            "  2.18446491e+01 2.08706838e+01 2.40708554e+01 1.47486166e+01\n",
            "  7.51344618e+00 2.01749944e+01 8.34827354e-01 1.15484451e+01\n",
            "  1.25933706e+03 1.32834946e+03 1.78096502e+01 1.80879260e+00\n",
            "  5.56551569e+00 1.30789619e+01 1.25224103e+01 1.25224103e+00\n",
            "  1.08388418e+02 8.40392870e+01 1.07275315e+02 2.07315460e+01\n",
            "  8.34827354e+00 1.54443060e+01 2.08706838e+00 7.51344618e+00\n",
            "  2.32360280e+01 2.30968901e+01 1.11310314e+00 5.42637780e+00\n",
            "  1.39137892e+02 2.10098217e+01 2.35143038e+01 6.40034305e+00\n",
            "  4.86982623e+00]]\n",
            "The p value returned = 0.0 and degrees of freedom returned = 96\n",
            "significance(alpha) = 0.050\n",
            "Dependent (reject H0)\n",
            "---------------downtime_duration Vs issue_type Chi Square Test of Independence -------------------\n",
            "\n",
            " Contingency table :\n",
            "\n",
            "[[13167 15603    33   520    24]\n",
            " [ 9210  3388     0   197    17]\n",
            " [ 6325   489     0     0     0]]\n",
            "\n",
            " Expected table :\n",
            "\n",
            "[[1.71996323e+04 1.16733621e+04 1.97752027e+01 4.29661221e+02\n",
            "  2.45691912e+01]\n",
            " [7.50883189e+03 5.09623180e+03 8.63324689e+00 1.87576910e+02\n",
            "  1.07261552e+01]\n",
            " [3.99353579e+03 2.71040614e+03 4.59155045e+00 9.97618688e+01\n",
            "  5.70465358e+00]]\n",
            "The p value returned = 0.0 and degrees of freedom returned = 8\n",
            "significance(alpha) = 0.050\n",
            "Dependent (reject H0)\n",
            "---------------downtime_duration Vs log_report_type Chi Square Test of Independence -------------------\n",
            "\n",
            " Contingency table :\n",
            "\n",
            "[[   4   34   11    8    5    0    0    2    6   23    9    6   16    0\n",
            "     0   18    6   32   62   13   11    8    3   15   31   30    1    1\n",
            "    15   29  926   97    0    3    0    0   24   12   12    0   13    0\n",
            "     0    0    8    9   15    7   12   47    0    0    3    0    0    4\n",
            "   195    5   26  261    0    0    4   30   18    4    0  409  148   61\n",
            "     1    6    0    0    0  132    3   24  181   28    0    0    3    2\n",
            "     0    4  109    6  408    4  230   33   79   26    4    3    2    0\n",
            "   237   57  323   16    4    8   33    0   19    4    0  111   19   30\n",
            "     8    8    2   17  678   52  159  135  114    6    1    6  551  256\n",
            "   390  222   26 2799 1195  598  804   70   40    1   18    2   31    0\n",
            "     9    4    4    0    0    4   14    9    9    0   18    0    4    4\n",
            "    25    0    4    0    0    8    4    1   12  371    0    0   78   24\n",
            "    24    1    6   37  174   25   36    8   17   32  107  164    4   27\n",
            "     0    0    3   54  430    1   61  111  102  566  924  282  427  242\n",
            "    64 3048 1320  632  947  114    3   27    0    0   13    4    1    4\n",
            "     1   13    0    0    9    0    4    4   25    9    4    4  268    0\n",
            "     3   52   17   24   24    9    9    1   42    1   41    2    6   10\n",
            "     6    0  193    8    3   17    8   37  159  191    4   31   13    0\n",
            "     0    3   51    1    0    6    0  150    0   12  216   20    8    0\n",
            "     5   46   27   14  549  180   76    0   12    0    0    2    2    6\n",
            "     4    2    0  537    2    0  131  517  267   43  174   10    2   17\n",
            "     0   24  347   70  589   13    6   17    0   31    0  139   19    4\n",
            "     6    0]\n",
            " [  12    0    1    3    0    6    3    0    0    0    0    0    6    2\n",
            "     6   10    6   14   14    4    0    0    4    4   22    0    0    0\n",
            "    49   61  375   49   12    6    4    0   16    0    0    4    0    0\n",
            "     0    0    0    0   47   10   37   51    8    9    7    4    0    0\n",
            "   152    6   21   59   25    0    1   25    0   13    1  562   68   36\n",
            "     2    0    5    2    3  127    0    0   46   16   11    6    1    5\n",
            "    14    1    8    0  179    0   28   31  114   20   12   10    1    1\n",
            "   204   42  453    8    7    8   22    4   56    0    0   92   53    0\n",
            "     0    0   31   56  302   31   50  193  194   13   11    0  212   36\n",
            "    20   28    0  580  142   31   70    0   14    0   22    0   19    9\n",
            "     0    0    0    9    0    0    0    0    9    9    0    9    0    0\n",
            "     0    6    0    9    9    0    0    0    4  486    0    2   19   24\n",
            "    24    1    6   21  119    5   10    0   16   14   59  115    0   13\n",
            "     0    0    0    1  178    0    5   30   93  447  284   32   26   22\n",
            "     0  597  146   33   56    0   16   22    0    9    0    0    0    0\n",
            "     0    0    9   18    0    9    0    0    0    9    0    0  288    0\n",
            "     2   19   66   26   26    5    5   10   18    1   18    0    0    0\n",
            "     0    0  130    3    1   11    0   29   99  130    0   19   10    0\n",
            "     0    0   71    5    9    7    4  153    6   25   54   25    0    0\n",
            "     1   24    0    1  552  116   57    2    0    5    1    1   12   11\n",
            "     1    5   22  554    5    0    9  241   23   32  193   10    0   12\n",
            "     1   17  278   42  529    5    5    6   19   60    4  119   29    0\n",
            "     1    1]\n",
            " [   8    0    0    5    0   12    0    0   10    0    0    0    2    0\n",
            "     0    0    0    0   42    0    0    0    0    0    6    0    0    0\n",
            "     0    0  242    6    8    0   18    8   48    0    0    0    0    9\n",
            "     9    9    6    6   12    0   39   42   11    0    1    8    1    0\n",
            "     0    0    0   16   26    1    0    4    0   16    0  262   78   70\n",
            "     0    0    0    0    0   79    0    0    0   34   12    0    0    0\n",
            "     0    0    9    0  283    0    1   26    0   27    0    0    1    3\n",
            "   187   11  734   12    3    2   27    0   51    0    9    0    6    0\n",
            "     0    0    0    0  149    6    0   84   20    0    0    0    0    0\n",
            "     0    0    0    0    0    0    0    0    0    4    8    0   30    0\n",
            "     0    0    0    0   20    0    0    0    0    0    0    0    0    0\n",
            "     0    0    0    0    0    0    0    0    0  200   32    0    0    0\n",
            "     0    6    0    4   99   12   21   25   33    0   45   99    0   15\n",
            "     9   42    0   29    0    0   46   48   50  107    0    0    0    0\n",
            "     0    0    0    0    0    0   10    4   20    0    0    0    0    0\n",
            "     0    0    0    0    0    0    0    0    0    0    0    0  198   32\n",
            "     0    0   16    0    0    0    0    0    0    0    0    0    0    0\n",
            "     0   25   99   12    0   25    0   25   62   99    0   24   51    9\n",
            "    42    0   42    0    0    1    8    1    0    0   16   55    1    8\n",
            "     0    0    0    0  242   93   56    0    0    0    0    1    7   11\n",
            "     0    0    0  235    0    4    6  347    1   27    0   20    0    0\n",
            "     0   48  220   10  748    7    1    1    2   41    0    0    0    0\n",
            "     0    0]]\n",
            "\n",
            " Expected table :\n",
            "\n",
            "[[1.43819656e+01 2.03744512e+01 7.19098279e+00 9.58797705e+00\n",
            "  2.99624283e+00 1.07864742e+01 1.79774570e+00 1.19849713e+00\n",
            "  9.58797705e+00 1.37827170e+01 5.39323709e+00 3.59549139e+00\n",
            "  1.43819656e+01 1.19849713e+00 3.59549139e+00 1.67789598e+01\n",
            "  7.19098279e+00 2.75654340e+01 7.07113307e+01 1.01872256e+01\n",
            "  6.59173422e+00 4.79398852e+00 4.19473996e+00 1.13857227e+01\n",
            "  3.53556654e+01 1.79774570e+01 5.99248566e-01 5.99248566e-01\n",
            "  3.83519082e+01 5.39323709e+01 9.24640537e+02 9.10857820e+01\n",
            "  1.19849713e+01 5.39323709e+00 1.31834684e+01 4.79398852e+00\n",
            "  5.27338738e+01 7.19098279e+00 7.19098279e+00 2.39699426e+00\n",
            "  7.79023135e+00 5.39323709e+00 5.39323709e+00 5.39323709e+00\n",
            "  8.38947992e+00 8.98872848e+00 4.43443938e+01 1.01872256e+01\n",
            "  5.27338738e+01 8.38947992e+01 1.13857227e+01 5.39323709e+00\n",
            "  6.59173422e+00 7.19098279e+00 5.99248566e-01 2.39699426e+00\n",
            "  2.07939252e+02 6.59173422e+00 2.81646826e+01 2.01347518e+02\n",
            "  3.05616768e+01 5.99248566e-01 2.99624283e+00 3.53556654e+01\n",
            "  1.07864742e+01 1.97752027e+01 5.99248566e-01 7.38873481e+02\n",
            "  1.76179078e+02 1.00074510e+02 1.79774570e+00 3.59549139e+00\n",
            "  2.99624283e+00 1.19849713e+00 1.79774570e+00 2.02546015e+02\n",
            "  1.79774570e+00 1.43819656e+01 1.36029424e+02 4.67413881e+01\n",
            "  1.37827170e+01 3.59549139e+00 2.39699426e+00 4.19473996e+00\n",
            "  8.38947992e+00 2.99624283e+00 7.55053193e+01 3.59549139e+00\n",
            "  5.21346252e+02 2.39699426e+00 1.55205378e+02 5.39323709e+01\n",
            "  1.15654973e+02 4.37451453e+01 9.58797705e+00 7.79023135e+00\n",
            "  2.39699426e+00 2.39699426e+00 3.76328099e+02 6.59173422e+01\n",
            "  9.04865334e+02 2.15729484e+01 8.38947992e+00 1.07864742e+01\n",
            "  4.91383824e+01 2.39699426e+00 7.55053193e+01 2.39699426e+00\n",
            "  5.39323709e+00 1.21647459e+02 4.67413881e+01 1.79774570e+01\n",
            "  4.79398852e+00 4.79398852e+00 1.97752027e+01 4.37451453e+01\n",
            "  6.76551630e+02 5.33331223e+01 1.25242950e+02 2.46890409e+02\n",
            "  1.96553529e+02 1.13857227e+01 7.19098279e+00 3.59549139e+00\n",
            "  4.57226656e+02 1.74980581e+02 2.45691912e+02 1.49812141e+02\n",
            "  1.55804627e+01 2.02486090e+03 8.01195332e+02 3.76927348e+02\n",
            "  5.23743246e+02 4.19473996e+01 3.23594225e+01 2.99624283e+00\n",
            "  2.87639311e+01 1.19849713e+00 4.79398852e+01 5.39323709e+00\n",
            "  5.39323709e+00 2.39699426e+00 2.39699426e+00 5.39323709e+00\n",
            "  1.19849713e+01 2.39699426e+00 8.38947992e+00 5.39323709e+00\n",
            "  1.07864742e+01 5.39323709e+00 1.07864742e+01 5.39323709e+00\n",
            "  2.39699426e+00 2.39699426e+00 1.49812141e+01 3.59549139e+00\n",
            "  2.39699426e+00 5.39323709e+00 5.39323709e+00 4.79398852e+00\n",
            "  2.39699426e+00 5.99248566e-01 9.58797705e+00 6.33405734e+02\n",
            "  1.91759541e+01 1.19849713e+00 5.81271109e+01 2.87639311e+01\n",
            "  2.87639311e+01 4.79398852e+00 7.19098279e+00 3.71534111e+01\n",
            "  2.34905438e+02 2.51684398e+01 4.01496539e+01 1.97752027e+01\n",
            "  3.95504053e+01 2.75654340e+01 1.26441447e+02 2.26515958e+02\n",
            "  2.39699426e+00 3.29586711e+01 5.39323709e+00 2.51684398e+01\n",
            "  1.79774570e+00 5.03368795e+01 3.64343128e+02 5.99248566e-01\n",
            "  6.71158393e+01 1.13257979e+02 1.46815899e+02 6.71158393e+02\n",
            "  7.23892267e+02 1.88164050e+02 2.71459600e+02 1.58201621e+02\n",
            "  3.83519082e+01 2.18426102e+03 8.78498397e+02 3.98500296e+02\n",
            "  6.01046311e+02 6.83143365e+01 1.73782084e+01 3.17601740e+01\n",
            "  1.19849713e+01 5.39323709e+00 7.79023135e+00 2.39699426e+00\n",
            "  5.99248566e-01 2.39699426e+00 5.99248566e-01 7.79023135e+00\n",
            "  5.39323709e+00 1.07864742e+01 5.39323709e+00 5.39323709e+00\n",
            "  2.39699426e+00 2.39699426e+00 1.49812141e+01 1.07864742e+01\n",
            "  2.39699426e+00 2.39699426e+00 4.51833418e+02 1.91759541e+01\n",
            "  2.99624283e+00 4.25466482e+01 5.93256080e+01 2.99624283e+01\n",
            "  2.99624283e+01 8.38947992e+00 8.38947992e+00 6.59173422e+00\n",
            "  3.59549139e+01 1.19849713e+00 3.53556654e+01 1.19849713e+00\n",
            "  3.59549139e+00 5.99248566e+00 3.59549139e+00 1.49812141e+01\n",
            "  2.52882895e+02 1.37827170e+01 2.39699426e+00 3.17601740e+01\n",
            "  4.79398852e+00 5.45316195e+01 1.91759541e+02 2.51684398e+02\n",
            "  2.39699426e+00 4.43443938e+01 4.43443938e+01 5.39323709e+00\n",
            "  2.51684398e+01 1.79774570e+00 9.82767647e+01 3.59549139e+00\n",
            "  5.39323709e+00 8.38947992e+00 7.19098279e+00 1.82171564e+02\n",
            "  3.59549139e+00 2.21721969e+01 1.71385090e+02 5.99248566e+01\n",
            "  5.39323709e+00 4.79398852e+00 3.59549139e+00 4.19473996e+01\n",
            "  1.61797113e+01 8.98872848e+00 8.04790824e+02 2.33107692e+02\n",
            "  1.13257979e+02 1.19849713e+00 7.19098279e+00 2.99624283e+00\n",
            "  5.99248566e-01 2.39699426e+00 1.25842199e+01 1.67789598e+01\n",
            "  2.99624283e+00 4.19473996e+00 1.31834684e+01 7.94603598e+02\n",
            "  4.19473996e+00 2.39699426e+00 8.74902906e+01 6.62169665e+02\n",
            "  1.74381333e+02 6.11233537e+01 2.19924224e+02 2.39699426e+01\n",
            "  1.19849713e+00 1.73782084e+01 5.99248566e-01 5.33331223e+01\n",
            "  5.06365038e+02 7.31083250e+01 1.11819782e+03 1.49812141e+01\n",
            "  7.19098279e+00 1.43819656e+01 1.25842199e+01 7.91008107e+01\n",
            "  2.39699426e+00 1.54606130e+02 2.87639311e+01 2.39699426e+00\n",
            "  4.19473996e+00 5.99248566e-01]\n",
            " [6.27872501e+00 8.89486043e+00 3.13936251e+00 4.18581667e+00\n",
            "  1.30806771e+00 4.70904376e+00 7.84840626e-01 5.23227084e-01\n",
            "  4.18581667e+00 6.01711147e+00 2.35452188e+00 1.56968125e+00\n",
            "  6.27872501e+00 5.23227084e-01 1.56968125e+00 7.32517918e+00\n",
            "  3.13936251e+00 1.20342229e+01 3.08703980e+01 4.44743022e+00\n",
            "  2.87774896e+00 2.09290834e+00 1.83129480e+00 4.97065730e+00\n",
            "  1.54351990e+01 7.84840626e+00 2.61613542e-01 2.61613542e-01\n",
            "  1.67432667e+01 2.35452188e+01 4.03669696e+02 3.97652584e+01\n",
            "  5.23227084e+00 2.35452188e+00 5.75549793e+00 2.09290834e+00\n",
            "  2.30219917e+01 3.13936251e+00 3.13936251e+00 1.04645417e+00\n",
            "  3.40097605e+00 2.35452188e+00 2.35452188e+00 2.35452188e+00\n",
            "  3.66258959e+00 3.92420313e+00 1.93594021e+01 4.44743022e+00\n",
            "  2.30219917e+01 3.66258959e+01 4.97065730e+00 2.35452188e+00\n",
            "  2.87774896e+00 3.13936251e+00 2.61613542e-01 1.04645417e+00\n",
            "  9.07798991e+01 2.87774896e+00 1.22958365e+01 8.79021502e+01\n",
            "  1.33422906e+01 2.61613542e-01 1.30806771e+00 1.54351990e+01\n",
            "  4.70904376e+00 8.63324689e+00 2.61613542e-01 3.22569497e+02\n",
            "  7.69143814e+01 4.36894615e+01 7.84840626e-01 1.56968125e+00\n",
            "  1.30806771e+00 5.23227084e-01 7.84840626e-01 8.84253772e+01\n",
            "  7.84840626e-01 6.27872501e+00 5.93862741e+01 2.04058563e+01\n",
            "  6.01711147e+00 1.56968125e+00 1.04645417e+00 1.83129480e+00\n",
            "  3.66258959e+00 1.30806771e+00 3.29633063e+01 1.56968125e+00\n",
            "  2.27603782e+02 1.04645417e+00 6.77579074e+01 2.35452188e+01\n",
            "  5.04914136e+01 1.90977886e+01 4.18581667e+00 3.40097605e+00\n",
            "  1.04645417e+00 1.04645417e+00 1.64293304e+02 2.87774896e+01\n",
            "  3.95036449e+02 9.41808752e+00 3.66258959e+00 4.70904376e+00\n",
            "  2.14523105e+01 1.04645417e+00 3.29633063e+01 1.04645417e+00\n",
            "  2.35452188e+00 5.31075491e+01 2.04058563e+01 7.84840626e+00\n",
            "  2.09290834e+00 2.09290834e+00 8.63324689e+00 1.90977886e+01\n",
            "  2.95361689e+02 2.32836053e+01 5.46772303e+01 1.07784779e+02\n",
            "  8.58092418e+01 4.97065730e+00 3.13936251e+00 1.56968125e+00\n",
            "  1.99611133e+02 7.63911543e+01 1.07261552e+02 6.54033855e+01\n",
            "  6.80195210e+00 8.83992159e+02 3.49777306e+02 1.64554918e+02\n",
            "  2.28650236e+02 1.83129480e+01 1.41271313e+01 1.30806771e+00\n",
            "  1.25574500e+01 5.23227084e-01 2.09290834e+01 2.35452188e+00\n",
            "  2.35452188e+00 1.04645417e+00 1.04645417e+00 2.35452188e+00\n",
            "  5.23227084e+00 1.04645417e+00 3.66258959e+00 2.35452188e+00\n",
            "  4.70904376e+00 2.35452188e+00 4.70904376e+00 2.35452188e+00\n",
            "  1.04645417e+00 1.04645417e+00 6.54033855e+00 1.56968125e+00\n",
            "  1.04645417e+00 2.35452188e+00 2.35452188e+00 2.09290834e+00\n",
            "  1.04645417e+00 2.61613542e-01 4.18581667e+00 2.76525514e+02\n",
            "  8.37163335e+00 5.23227084e-01 2.53765136e+01 1.25574500e+01\n",
            "  1.25574500e+01 2.09290834e+00 3.13936251e+00 1.62200396e+01\n",
            "  1.02552509e+02 1.09877688e+01 1.75281073e+01 8.63324689e+00\n",
            "  1.72664938e+01 1.20342229e+01 5.52004574e+01 9.88899189e+01\n",
            "  1.04645417e+00 1.43887448e+01 2.35452188e+00 1.09877688e+01\n",
            "  7.84840626e-01 2.19755375e+01 1.59061034e+02 2.61613542e-01\n",
            "  2.93007167e+01 4.94449595e+01 6.40953178e+01 2.93007167e+02\n",
            "  3.16029159e+02 8.21466522e+01 1.18510935e+02 6.90659751e+01\n",
            "  1.67432667e+01 9.53581361e+02 3.83525453e+02 1.73973006e+02\n",
            "  2.62398383e+02 2.98239438e+01 7.58679272e+00 1.38655177e+01\n",
            "  5.23227084e+00 2.35452188e+00 3.40097605e+00 1.04645417e+00\n",
            "  2.61613542e-01 1.04645417e+00 2.61613542e-01 3.40097605e+00\n",
            "  2.35452188e+00 4.70904376e+00 2.35452188e+00 2.35452188e+00\n",
            "  1.04645417e+00 1.04645417e+00 6.54033855e+00 4.70904376e+00\n",
            "  1.04645417e+00 1.04645417e+00 1.97256611e+02 8.37163335e+00\n",
            "  1.30806771e+00 1.85745615e+01 2.58997407e+01 1.30806771e+01\n",
            "  1.30806771e+01 3.66258959e+00 3.66258959e+00 2.87774896e+00\n",
            "  1.56968125e+01 5.23227084e-01 1.54351990e+01 5.23227084e-01\n",
            "  1.56968125e+00 2.61613542e+00 1.56968125e+00 6.54033855e+00\n",
            "  1.10400915e+02 6.01711147e+00 1.04645417e+00 1.38655177e+01\n",
            "  2.09290834e+00 2.38068323e+01 8.37163335e+01 1.09877688e+02\n",
            "  1.04645417e+00 1.93594021e+01 1.93594021e+01 2.35452188e+00\n",
            "  1.09877688e+01 7.84840626e-01 4.29046209e+01 1.56968125e+00\n",
            "  2.35452188e+00 3.66258959e+00 3.13936251e+00 7.95305168e+01\n",
            "  1.56968125e+00 9.67970106e+00 7.48214731e+01 2.61613542e+01\n",
            "  2.35452188e+00 2.09290834e+00 1.56968125e+00 1.83129480e+01\n",
            "  7.06356564e+00 3.92420313e+00 3.51346987e+02 1.01767668e+02\n",
            "  4.94449595e+01 5.23227084e-01 3.13936251e+00 1.30806771e+00\n",
            "  2.61613542e-01 1.04645417e+00 5.49388439e+00 7.32517918e+00\n",
            "  1.30806771e+00 1.83129480e+00 5.75549793e+00 3.46899557e+02\n",
            "  1.83129480e+00 1.04645417e+00 3.81955772e+01 2.89082964e+02\n",
            "  7.61295408e+01 2.66845813e+01 9.60121700e+01 1.04645417e+01\n",
            "  5.23227084e-01 7.58679272e+00 2.61613542e-01 2.32836053e+01\n",
            "  2.21063443e+02 3.19168521e+01 4.88170870e+02 6.54033855e+00\n",
            "  3.13936251e+00 6.27872501e+00 5.49388439e+00 3.45329876e+01\n",
            "  1.04645417e+00 6.74962939e+01 1.25574500e+01 1.04645417e+00\n",
            "  1.83129480e+00 2.61613542e-01]\n",
            " [3.33930942e+00 4.73068834e+00 1.66965471e+00 2.22620628e+00\n",
            "  6.95689462e-01 2.50448206e+00 4.17413677e-01 2.78275785e-01\n",
            "  2.22620628e+00 3.20017152e+00 1.25224103e+00 8.34827354e-01\n",
            "  3.33930942e+00 2.78275785e-01 8.34827354e-01 3.89586098e+00\n",
            "  1.66965471e+00 6.40034305e+00 1.64182713e+01 2.36534417e+00\n",
            "  1.53051682e+00 1.11310314e+00 9.73965246e-01 2.64361995e+00\n",
            "  8.20913565e+00 4.17413677e+00 1.39137892e-01 1.39137892e-01\n",
            "  8.90482511e+00 1.25224103e+01 2.14689768e+02 2.11489596e+01\n",
            "  2.78275785e+00 1.25224103e+00 3.06103363e+00 1.11310314e+00\n",
            "  1.22441345e+01 1.66965471e+00 1.66965471e+00 5.56551569e-01\n",
            "  1.80879260e+00 1.25224103e+00 1.25224103e+00 1.25224103e+00\n",
            "  1.94793049e+00 2.08706838e+00 1.02962040e+01 2.36534417e+00\n",
            "  1.22441345e+01 1.94793049e+01 2.64361995e+00 1.25224103e+00\n",
            "  1.53051682e+00 1.66965471e+00 1.39137892e-01 5.56551569e-01\n",
            "  4.82808486e+01 1.53051682e+00 6.53948094e+00 4.67503318e+01\n",
            "  7.09603251e+00 1.39137892e-01 6.95689462e-01 8.20913565e+00\n",
            "  2.50448206e+00 4.59155045e+00 1.39137892e-01 1.71557021e+02\n",
            "  4.09065403e+01 2.32360280e+01 4.17413677e-01 8.34827354e-01\n",
            "  6.95689462e-01 2.78275785e-01 4.17413677e-01 4.70286076e+01\n",
            "  4.17413677e-01 3.33930942e+00 3.15843016e+01 1.08527556e+01\n",
            "  3.20017152e+00 8.34827354e-01 5.56551569e-01 9.73965246e-01\n",
            "  1.94793049e+00 6.95689462e-01 1.75313744e+01 8.34827354e-01\n",
            "  1.21049966e+02 5.56551569e-01 3.60367141e+01 1.25224103e+01\n",
            "  2.68536132e+01 1.01570661e+01 2.22620628e+00 1.80879260e+00\n",
            "  5.56551569e-01 5.56551569e-01 8.73785964e+01 1.53051682e+01\n",
            "  2.10098217e+02 5.00896412e+00 1.94793049e+00 2.50448206e+00\n",
            "  1.14093072e+01 5.56551569e-01 1.75313744e+01 5.56551569e-01\n",
            "  1.25224103e+00 2.82449921e+01 1.08527556e+01 4.17413677e+00\n",
            "  1.11310314e+00 1.11310314e+00 4.59155045e+00 1.01570661e+01\n",
            "  1.57086680e+02 1.23832724e+01 2.90798195e+01 5.73248116e+01\n",
            "  4.56372287e+01 2.64361995e+00 1.66965471e+00 8.34827354e-01\n",
            "  1.06162212e+02 4.06282646e+01 5.70465358e+01 3.47844731e+01\n",
            "  3.61758520e+00 4.70146938e+02 1.86027362e+02 8.75177343e+01\n",
            "  1.21606518e+02 9.73965246e+00 7.51344618e+00 6.95689462e-01\n",
            "  6.67861883e+00 2.78275785e-01 1.11310314e+01 1.25224103e+00\n",
            "  1.25224103e+00 5.56551569e-01 5.56551569e-01 1.25224103e+00\n",
            "  2.78275785e+00 5.56551569e-01 1.94793049e+00 1.25224103e+00\n",
            "  2.50448206e+00 1.25224103e+00 2.50448206e+00 1.25224103e+00\n",
            "  5.56551569e-01 5.56551569e-01 3.47844731e+00 8.34827354e-01\n",
            "  5.56551569e-01 1.25224103e+00 1.25224103e+00 1.11310314e+00\n",
            "  5.56551569e-01 1.39137892e-01 2.22620628e+00 1.47068752e+02\n",
            "  4.45241255e+00 2.78275785e-01 1.34963756e+01 6.67861883e+00\n",
            "  6.67861883e+00 1.11310314e+00 1.66965471e+00 8.62654932e+00\n",
            "  5.45420538e+01 5.84379148e+00 9.32223878e+00 4.59155045e+00\n",
            "  9.18310089e+00 6.40034305e+00 2.93580953e+01 5.25941233e+01\n",
            "  5.56551569e-01 7.65258408e+00 1.25224103e+00 5.84379148e+00\n",
            "  4.17413677e-01 1.16875830e+01 8.45958385e+01 1.39137892e-01\n",
            "  1.55834439e+01 2.62970616e+01 3.40887836e+01 1.55834439e+02\n",
            "  1.68078574e+02 4.36892982e+01 6.30294652e+01 3.67324036e+01\n",
            "  8.90482511e+00 5.07157617e+02 2.03976150e+02 9.25266984e+01\n",
            "  1.39555306e+02 1.58617197e+01 4.03499888e+00 7.37430829e+00\n",
            "  2.78275785e+00 1.25224103e+00 1.80879260e+00 5.56551569e-01\n",
            "  1.39137892e-01 5.56551569e-01 1.39137892e-01 1.80879260e+00\n",
            "  1.25224103e+00 2.50448206e+00 1.25224103e+00 1.25224103e+00\n",
            "  5.56551569e-01 5.56551569e-01 3.47844731e+00 2.50448206e+00\n",
            "  5.56551569e-01 5.56551569e-01 1.04909971e+02 4.45241255e+00\n",
            "  6.95689462e-01 9.87879035e+00 1.37746513e+01 6.95689462e+00\n",
            "  6.95689462e+00 1.94793049e+00 1.94793049e+00 1.53051682e+00\n",
            "  8.34827354e+00 2.78275785e-01 8.20913565e+00 2.78275785e-01\n",
            "  8.34827354e-01 1.39137892e+00 8.34827354e-01 3.47844731e+00\n",
            "  5.87161906e+01 3.20017152e+00 5.56551569e-01 7.37430829e+00\n",
            "  1.11310314e+00 1.26615482e+01 4.45241255e+01 5.84379148e+01\n",
            "  5.56551569e-01 1.02962040e+01 1.02962040e+01 1.25224103e+00\n",
            "  5.84379148e+00 4.17413677e-01 2.28186143e+01 8.34827354e-01\n",
            "  1.25224103e+00 1.94793049e+00 1.66965471e+00 4.22979193e+01\n",
            "  8.34827354e-01 5.14810202e+00 3.97934372e+01 1.39137892e+01\n",
            "  1.25224103e+00 1.11310314e+00 8.34827354e-01 9.73965246e+00\n",
            "  3.75672309e+00 2.08706838e+00 1.86862189e+02 5.41246401e+01\n",
            "  2.62970616e+01 2.78275785e-01 1.66965471e+00 6.95689462e-01\n",
            "  1.39137892e-01 5.56551569e-01 2.92189574e+00 3.89586098e+00\n",
            "  6.95689462e-01 9.73965246e-01 3.06103363e+00 1.84496845e+02\n",
            "  9.73965246e-01 5.56551569e-01 2.03141323e+01 1.53747371e+02\n",
            "  4.04891267e+01 1.41920650e+01 5.10636065e+01 5.56551569e+00\n",
            "  2.78275785e-01 4.03499888e+00 1.39137892e-01 1.23832724e+01\n",
            "  1.17571519e+02 1.69748229e+01 2.59631307e+02 3.47844731e+00\n",
            "  1.66965471e+00 3.33930942e+00 2.92189574e+00 1.83662018e+01\n",
            "  5.56551569e-01 3.58975762e+01 6.67861883e+00 5.56551569e-01\n",
            "  9.73965246e-01 1.39137892e-01]]\n",
            "The p value returned = 0.0 and degrees of freedom returned = 618\n",
            "significance(alpha) = 0.050\n",
            "Dependent (reject H0)\n",
            "---------------downtime_duration Vs factory_number Chi Square Test of Independence -------------------\n",
            "\n",
            " Contingency table :\n",
            "\n",
            "[[79  2 63 ...  0  8  4]\n",
            " [56  0  0 ...  5 11  4]\n",
            " [14  0  0 ...  0  1  0]]\n",
            "\n",
            " Expected table :\n",
            "\n",
            "[[89.28803626  1.19849713 37.75265963 ...  2.99624283 11.98497131\n",
            "   4.79398852]\n",
            " [38.98041778  0.52322708 16.48165316 ...  1.30806771  5.23227084\n",
            "   2.09290834]\n",
            " [20.73154595  0.27827578  8.76568722 ...  0.69568946  2.78275785\n",
            "   1.11310314]]\n",
            "The p value returned = 0.0 and degrees of freedom returned = 1750\n",
            "significance(alpha) = 0.050\n",
            "Dependent (reject H0)\n",
            "---------------downtime_duration Vs downtime_duration Chi Square Test of Independence -------------------\n",
            "\n",
            " Contingency table :\n",
            "\n",
            "[[29347     0     0]\n",
            " [    0 12812     0]\n",
            " [    0     0  6814]]\n",
            "\n",
            " Expected table :\n",
            "\n",
            "[[17586.14765279  7677.57262165  4083.27972556]\n",
            " [ 7677.57262165  3351.7927021   1782.63467625]\n",
            " [ 4083.27972556  1782.63467625   948.08559819]]\n",
            "The p value returned = 0.0 and degrees of freedom returned = 4\n",
            "significance(alpha) = 0.050\n",
            "Dependent (reject H0)\n"
          ],
          "name": "stdout"
        }
      ]
    },
    {
      "cell_type": "markdown",
      "metadata": {
        "id": "YlGn_NBLna_1"
      },
      "source": [
        "**Observation:**\r\n",
        "\r\n",
        "assembly_line_type, car_variant, issue_type, log_report_type, factory_number,  attributes tend to influence the target\r\n"
      ]
    },
    {
      "cell_type": "markdown",
      "metadata": {
        "id": "C4HhpRXloY4E"
      },
      "source": [
        "## **Feature Engineering**"
      ]
    },
    {
      "cell_type": "code",
      "metadata": {
        "colab": {
          "base_uri": "https://localhost:8080/"
        },
        "id": "0Sa_Wjccoaqh",
        "outputId": "384feaa7-4d0b-47cf-a624-9dbd331bde75"
      },
      "source": [
        "data['downtime_duration'].value_counts()"
      ],
      "execution_count": 29,
      "outputs": [
        {
          "output_type": "execute_result",
          "data": {
            "text/plain": [
              "0    29347\n",
              "1    12812\n",
              "2     6814\n",
              "Name: downtime_duration, dtype: int64"
            ]
          },
          "metadata": {
            "tags": []
          },
          "execution_count": 29
        }
      ]
    },
    {
      "cell_type": "markdown",
      "metadata": {
        "id": "dQUo2Y7HqazR"
      },
      "source": [
        "# **Split the data into train and test**"
      ]
    },
    {
      "cell_type": "code",
      "metadata": {
        "id": "YWs-f6g1qQaH"
      },
      "source": [
        "y=data[\"downtime_duration\"]\r\n",
        "X=data.drop('downtime_duration', axis=1)\r\n",
        "X_train, X_val, y_train, y_val = train_test_split(X, y, test_size=0.20,random_state=123, stratify=y)"
      ],
      "execution_count": 30,
      "outputs": []
    },
    {
      "cell_type": "code",
      "metadata": {
        "colab": {
          "base_uri": "https://localhost:8080/"
        },
        "id": "zM3raK3sq098",
        "outputId": "d6c8cc18-8d98-40b3-c17a-b9c91307e713"
      },
      "source": [
        "print(X_train.shape)\r\n",
        "print(X_val.shape)\r\n",
        "print(y_train.shape)\r\n",
        "print(y_val.shape)"
      ],
      "execution_count": 31,
      "outputs": [
        {
          "output_type": "stream",
          "text": [
            "(39178, 6)\n",
            "(9795, 6)\n",
            "(39178,)\n",
            "(9795,)\n"
          ],
          "name": "stdout"
        }
      ]
    },
    {
      "cell_type": "markdown",
      "metadata": {
        "id": "0lnywGoJrJ8i"
      },
      "source": [
        "## **Split the attributes into numerical and categorical types**"
      ]
    },
    {
      "cell_type": "code",
      "metadata": {
        "colab": {
          "base_uri": "https://localhost:8080/"
        },
        "id": "yRt80QoDrCZi",
        "outputId": "d188dd42-f902-4dc1-b2f9-c7fb5dfe7d17"
      },
      "source": [
        "num_attr=X_train.select_dtypes(['int64']).columns\r\n",
        "num_attr"
      ],
      "execution_count": 32,
      "outputs": [
        {
          "output_type": "execute_result",
          "data": {
            "text/plain": [
              "Index(['volume'], dtype='object')"
            ]
          },
          "metadata": {
            "tags": []
          },
          "execution_count": 32
        }
      ]
    },
    {
      "cell_type": "code",
      "metadata": {
        "colab": {
          "base_uri": "https://localhost:8080/"
        },
        "id": "X_j1-DyErPpD",
        "outputId": "5ac2102b-aaaf-4159-8884-f64cfc64257f"
      },
      "source": [
        "cat_attr = X_train.select_dtypes('category').columns\r\n",
        "cat_attr"
      ],
      "execution_count": 33,
      "outputs": [
        {
          "output_type": "execute_result",
          "data": {
            "text/plain": [
              "Index(['assembly_line_type', 'car_variant', 'issue_type', 'log_report_type',\n",
              "       'factory_number'],\n",
              "      dtype='object')"
            ]
          },
          "metadata": {
            "tags": []
          },
          "execution_count": 33
        }
      ]
    },
    {
      "cell_type": "markdown",
      "metadata": {
        "id": "aszCgQBBrgja"
      },
      "source": [
        "# **Preparation for Model buillding**\r\n",
        "\r\n",
        "## Imputing missing values with median for numerical attributes"
      ]
    },
    {
      "cell_type": "code",
      "metadata": {
        "id": "FgLYrP9RrXjG"
      },
      "source": [
        "imputer = SimpleImputer(strategy='median')\r\n",
        "\r\n",
        "imputer = imputer.fit(X_train[num_attr])\r\n",
        "\r\n",
        "X_train[num_attr] = imputer.transform(X_train[num_attr])\r\n",
        "X_val[num_attr] = imputer.transform(X_val[num_attr])"
      ],
      "execution_count": 34,
      "outputs": []
    },
    {
      "cell_type": "code",
      "metadata": {
        "colab": {
          "base_uri": "https://localhost:8080/"
        },
        "id": "1-JHLbhxrqps",
        "outputId": "4ca12273-8f59-4b23-8330-58a4547e3718"
      },
      "source": [
        "print(X_train.isnull().sum())\r\n",
        "print(X_val.isnull().sum())"
      ],
      "execution_count": 35,
      "outputs": [
        {
          "output_type": "stream",
          "text": [
            "assembly_line_type    0\n",
            "car_variant           0\n",
            "issue_type            0\n",
            "log_report_type       0\n",
            "volume                0\n",
            "factory_number        0\n",
            "dtype: int64\n",
            "assembly_line_type    0\n",
            "car_variant           0\n",
            "issue_type            0\n",
            "log_report_type       0\n",
            "volume                0\n",
            "factory_number        0\n",
            "dtype: int64\n"
          ],
          "name": "stdout"
        }
      ]
    },
    {
      "cell_type": "markdown",
      "metadata": {
        "id": "xnY4T-EvstrD"
      },
      "source": [
        "## **Imputing missing values with mode for categorical attributes**"
      ]
    },
    {
      "cell_type": "code",
      "metadata": {
        "id": "INJUvcYTrtgQ"
      },
      "source": [
        "imputer = SimpleImputer(strategy='most_frequent')\r\n",
        "\r\n",
        "imputer = imputer.fit(X_train[cat_attr])\r\n",
        "\r\n",
        "X_train[cat_attr] = imputer.transform(X_train[cat_attr])\r\n",
        "X_val[cat_attr] = imputer.transform(X_val[cat_attr])"
      ],
      "execution_count": 36,
      "outputs": []
    },
    {
      "cell_type": "code",
      "metadata": {
        "id": "9IqxEU7KsyXS"
      },
      "source": [
        "# DataFrameMapper, a class for mapping pandas data frame columns to different sklearn transformations\r\n",
        "mapper = DataFrameMapper(\r\n",
        "  [([continuous_col], StandardScaler()) for continuous_col in num_attr] +\r\n",
        "  [([categorical_col], OneHotEncoder(handle_unknown=\"ignore\", sparse=False)) for categorical_col in cat_attr]\r\n",
        ", df_out=True)"
      ],
      "execution_count": 37,
      "outputs": []
    },
    {
      "cell_type": "code",
      "metadata": {
        "colab": {
          "base_uri": "https://localhost:8080/"
        },
        "id": "rG61EfjpBMGB",
        "outputId": "c12be78f-a325-4318-caf6-09d605452786"
      },
      "source": [
        "print(type(mapper))"
      ],
      "execution_count": 38,
      "outputs": [
        {
          "output_type": "stream",
          "text": [
            "<class 'sklearn_pandas.dataframe_mapper.DataFrameMapper'>\n"
          ],
          "name": "stdout"
        }
      ]
    },
    {
      "cell_type": "code",
      "metadata": {
        "colab": {
          "base_uri": "https://localhost:8080/"
        },
        "id": "VVHMQ4YjBO4v",
        "outputId": "2431cb5a-006d-4b06-fe51-c4e17eea5c32"
      },
      "source": [
        "mapper.fit(X_train)"
      ],
      "execution_count": 39,
      "outputs": [
        {
          "output_type": "execute_result",
          "data": {
            "text/plain": [
              "DataFrameMapper(default=False, df_out=True,\n",
              "                features=[(['volume'],\n",
              "                           StandardScaler(copy=True, with_mean=True,\n",
              "                                          with_std=True)),\n",
              "                          (['assembly_line_type'],\n",
              "                           OneHotEncoder(categories='auto', drop=None,\n",
              "                                         dtype=<class 'numpy.float64'>,\n",
              "                                         handle_unknown='ignore',\n",
              "                                         sparse=False)),\n",
              "                          (['car_variant'],\n",
              "                           OneHotEncoder(categories='auto', drop=None,\n",
              "                                         dtype=<class 'numpy.float64'>,\n",
              "                                         handle_u...\n",
              "                                         dtype=<class 'numpy.float64'>,\n",
              "                                         handle_unknown='ignore',\n",
              "                                         sparse=False)),\n",
              "                          (['log_report_type'],\n",
              "                           OneHotEncoder(categories='auto', drop=None,\n",
              "                                         dtype=<class 'numpy.float64'>,\n",
              "                                         handle_unknown='ignore',\n",
              "                                         sparse=False)),\n",
              "                          (['factory_number'],\n",
              "                           OneHotEncoder(categories='auto', drop=None,\n",
              "                                         dtype=<class 'numpy.float64'>,\n",
              "                                         handle_unknown='ignore',\n",
              "                                         sparse=False))],\n",
              "                input_df=False, sparse=False)"
            ]
          },
          "metadata": {
            "tags": []
          },
          "execution_count": 39
        }
      ]
    },
    {
      "cell_type": "code",
      "metadata": {
        "id": "6bSSS1cmtYdo"
      },
      "source": [
        "X_train_final = mapper.transform(X_train)\r\n",
        "X_val_final = mapper.transform(X_val)"
      ],
      "execution_count": 40,
      "outputs": []
    },
    {
      "cell_type": "code",
      "metadata": {
        "colab": {
          "base_uri": "https://localhost:8080/",
          "height": 253
        },
        "id": "DnWynuaAvFy-",
        "outputId": "19886ffd-6fcf-4f51-cf29-3f3cf7332999"
      },
      "source": [
        "X_train_final.head()"
      ],
      "execution_count": 41,
      "outputs": [
        {
          "output_type": "execute_result",
          "data": {
            "text/html": [
              "<div>\n",
              "<style scoped>\n",
              "    .dataframe tbody tr th:only-of-type {\n",
              "        vertical-align: middle;\n",
              "    }\n",
              "\n",
              "    .dataframe tbody tr th {\n",
              "        vertical-align: top;\n",
              "    }\n",
              "\n",
              "    .dataframe thead th {\n",
              "        text-align: right;\n",
              "    }\n",
              "</style>\n",
              "<table border=\"1\" class=\"dataframe\">\n",
              "  <thead>\n",
              "    <tr style=\"text-align: right;\">\n",
              "      <th></th>\n",
              "      <th>volume</th>\n",
              "      <th>assembly_line_type_x0_assembly_line_type_1</th>\n",
              "      <th>assembly_line_type_x0_assembly_line_type_10</th>\n",
              "      <th>assembly_line_type_x0_assembly_line_type_2</th>\n",
              "      <th>assembly_line_type_x0_assembly_line_type_3</th>\n",
              "      <th>assembly_line_type_x0_assembly_line_type_4</th>\n",
              "      <th>assembly_line_type_x0_assembly_line_type_5</th>\n",
              "      <th>assembly_line_type_x0_assembly_line_type_6</th>\n",
              "      <th>assembly_line_type_x0_assembly_line_type_7</th>\n",
              "      <th>assembly_line_type_x0_assembly_line_type_8</th>\n",
              "      <th>assembly_line_type_x0_assembly_line_type_9</th>\n",
              "      <th>car_variant_x0_car_variant_1</th>\n",
              "      <th>car_variant_x0_car_variant_10</th>\n",
              "      <th>car_variant_x0_car_variant_11</th>\n",
              "      <th>car_variant_x0_car_variant_12</th>\n",
              "      <th>car_variant_x0_car_variant_13</th>\n",
              "      <th>car_variant_x0_car_variant_14</th>\n",
              "      <th>car_variant_x0_car_variant_15</th>\n",
              "      <th>car_variant_x0_car_variant_18</th>\n",
              "      <th>car_variant_x0_car_variant_19</th>\n",
              "      <th>car_variant_x0_car_variant_2</th>\n",
              "      <th>car_variant_x0_car_variant_20</th>\n",
              "      <th>car_variant_x0_car_variant_21</th>\n",
              "      <th>car_variant_x0_car_variant_22</th>\n",
              "      <th>car_variant_x0_car_variant_23</th>\n",
              "      <th>car_variant_x0_car_variant_24</th>\n",
              "      <th>car_variant_x0_car_variant_25</th>\n",
              "      <th>car_variant_x0_car_variant_26</th>\n",
              "      <th>car_variant_x0_car_variant_27</th>\n",
              "      <th>car_variant_x0_car_variant_28</th>\n",
              "      <th>car_variant_x0_car_variant_29</th>\n",
              "      <th>car_variant_x0_car_variant_3</th>\n",
              "      <th>car_variant_x0_car_variant_30</th>\n",
              "      <th>car_variant_x0_car_variant_31</th>\n",
              "      <th>car_variant_x0_car_variant_32</th>\n",
              "      <th>car_variant_x0_car_variant_34</th>\n",
              "      <th>car_variant_x0_car_variant_35</th>\n",
              "      <th>car_variant_x0_car_variant_36</th>\n",
              "      <th>car_variant_x0_car_variant_37</th>\n",
              "      <th>car_variant_x0_car_variant_38</th>\n",
              "      <th>...</th>\n",
              "      <th>factory_number_x0_factory_number_949</th>\n",
              "      <th>factory_number_x0_factory_number_95</th>\n",
              "      <th>factory_number_x0_factory_number_950</th>\n",
              "      <th>factory_number_x0_factory_number_951</th>\n",
              "      <th>factory_number_x0_factory_number_953</th>\n",
              "      <th>factory_number_x0_factory_number_955</th>\n",
              "      <th>factory_number_x0_factory_number_956</th>\n",
              "      <th>factory_number_x0_factory_number_957</th>\n",
              "      <th>factory_number_x0_factory_number_958</th>\n",
              "      <th>factory_number_x0_factory_number_960</th>\n",
              "      <th>factory_number_x0_factory_number_961</th>\n",
              "      <th>factory_number_x0_factory_number_962</th>\n",
              "      <th>factory_number_x0_factory_number_963</th>\n",
              "      <th>factory_number_x0_factory_number_964</th>\n",
              "      <th>factory_number_x0_factory_number_967</th>\n",
              "      <th>factory_number_x0_factory_number_968</th>\n",
              "      <th>factory_number_x0_factory_number_97</th>\n",
              "      <th>factory_number_x0_factory_number_971</th>\n",
              "      <th>factory_number_x0_factory_number_972</th>\n",
              "      <th>factory_number_x0_factory_number_973</th>\n",
              "      <th>factory_number_x0_factory_number_974</th>\n",
              "      <th>factory_number_x0_factory_number_975</th>\n",
              "      <th>factory_number_x0_factory_number_976</th>\n",
              "      <th>factory_number_x0_factory_number_977</th>\n",
              "      <th>factory_number_x0_factory_number_978</th>\n",
              "      <th>factory_number_x0_factory_number_979</th>\n",
              "      <th>factory_number_x0_factory_number_980</th>\n",
              "      <th>factory_number_x0_factory_number_981</th>\n",
              "      <th>factory_number_x0_factory_number_983</th>\n",
              "      <th>factory_number_x0_factory_number_984</th>\n",
              "      <th>factory_number_x0_factory_number_987</th>\n",
              "      <th>factory_number_x0_factory_number_989</th>\n",
              "      <th>factory_number_x0_factory_number_99</th>\n",
              "      <th>factory_number_x0_factory_number_990</th>\n",
              "      <th>factory_number_x0_factory_number_991</th>\n",
              "      <th>factory_number_x0_factory_number_994</th>\n",
              "      <th>factory_number_x0_factory_number_995</th>\n",
              "      <th>factory_number_x0_factory_number_996</th>\n",
              "      <th>factory_number_x0_factory_number_998</th>\n",
              "      <th>factory_number_x0_factory_number_999</th>\n",
              "    </tr>\n",
              "  </thead>\n",
              "  <tbody>\n",
              "    <tr>\n",
              "      <th>15236</th>\n",
              "      <td>-0.322948</td>\n",
              "      <td>0.0</td>\n",
              "      <td>0.0</td>\n",
              "      <td>1.0</td>\n",
              "      <td>0.0</td>\n",
              "      <td>0.0</td>\n",
              "      <td>0.0</td>\n",
              "      <td>0.0</td>\n",
              "      <td>0.0</td>\n",
              "      <td>0.0</td>\n",
              "      <td>0.0</td>\n",
              "      <td>0.0</td>\n",
              "      <td>0.0</td>\n",
              "      <td>0.0</td>\n",
              "      <td>0.0</td>\n",
              "      <td>0.0</td>\n",
              "      <td>0.0</td>\n",
              "      <td>0.0</td>\n",
              "      <td>0.0</td>\n",
              "      <td>0.0</td>\n",
              "      <td>0.0</td>\n",
              "      <td>0.0</td>\n",
              "      <td>0.0</td>\n",
              "      <td>0.0</td>\n",
              "      <td>0.0</td>\n",
              "      <td>0.0</td>\n",
              "      <td>0.0</td>\n",
              "      <td>0.0</td>\n",
              "      <td>0.0</td>\n",
              "      <td>0.0</td>\n",
              "      <td>0.0</td>\n",
              "      <td>0.0</td>\n",
              "      <td>0.0</td>\n",
              "      <td>0.0</td>\n",
              "      <td>0.0</td>\n",
              "      <td>1.0</td>\n",
              "      <td>0.0</td>\n",
              "      <td>0.0</td>\n",
              "      <td>0.0</td>\n",
              "      <td>0.0</td>\n",
              "      <td>...</td>\n",
              "      <td>0.0</td>\n",
              "      <td>0.0</td>\n",
              "      <td>0.0</td>\n",
              "      <td>0.0</td>\n",
              "      <td>0.0</td>\n",
              "      <td>0.0</td>\n",
              "      <td>0.0</td>\n",
              "      <td>0.0</td>\n",
              "      <td>0.0</td>\n",
              "      <td>0.0</td>\n",
              "      <td>0.0</td>\n",
              "      <td>0.0</td>\n",
              "      <td>0.0</td>\n",
              "      <td>0.0</td>\n",
              "      <td>0.0</td>\n",
              "      <td>0.0</td>\n",
              "      <td>0.0</td>\n",
              "      <td>0.0</td>\n",
              "      <td>0.0</td>\n",
              "      <td>0.0</td>\n",
              "      <td>0.0</td>\n",
              "      <td>0.0</td>\n",
              "      <td>0.0</td>\n",
              "      <td>0.0</td>\n",
              "      <td>0.0</td>\n",
              "      <td>0.0</td>\n",
              "      <td>0.0</td>\n",
              "      <td>0.0</td>\n",
              "      <td>0.0</td>\n",
              "      <td>0.0</td>\n",
              "      <td>0.0</td>\n",
              "      <td>0.0</td>\n",
              "      <td>0.0</td>\n",
              "      <td>0.0</td>\n",
              "      <td>0.0</td>\n",
              "      <td>0.0</td>\n",
              "      <td>0.0</td>\n",
              "      <td>0.0</td>\n",
              "      <td>0.0</td>\n",
              "      <td>0.0</td>\n",
              "    </tr>\n",
              "    <tr>\n",
              "      <th>13733</th>\n",
              "      <td>-0.322948</td>\n",
              "      <td>0.0</td>\n",
              "      <td>0.0</td>\n",
              "      <td>1.0</td>\n",
              "      <td>0.0</td>\n",
              "      <td>0.0</td>\n",
              "      <td>0.0</td>\n",
              "      <td>0.0</td>\n",
              "      <td>0.0</td>\n",
              "      <td>0.0</td>\n",
              "      <td>0.0</td>\n",
              "      <td>0.0</td>\n",
              "      <td>0.0</td>\n",
              "      <td>0.0</td>\n",
              "      <td>0.0</td>\n",
              "      <td>0.0</td>\n",
              "      <td>0.0</td>\n",
              "      <td>0.0</td>\n",
              "      <td>0.0</td>\n",
              "      <td>0.0</td>\n",
              "      <td>0.0</td>\n",
              "      <td>0.0</td>\n",
              "      <td>0.0</td>\n",
              "      <td>0.0</td>\n",
              "      <td>0.0</td>\n",
              "      <td>0.0</td>\n",
              "      <td>0.0</td>\n",
              "      <td>0.0</td>\n",
              "      <td>0.0</td>\n",
              "      <td>0.0</td>\n",
              "      <td>0.0</td>\n",
              "      <td>0.0</td>\n",
              "      <td>0.0</td>\n",
              "      <td>0.0</td>\n",
              "      <td>0.0</td>\n",
              "      <td>1.0</td>\n",
              "      <td>0.0</td>\n",
              "      <td>0.0</td>\n",
              "      <td>0.0</td>\n",
              "      <td>0.0</td>\n",
              "      <td>...</td>\n",
              "      <td>0.0</td>\n",
              "      <td>0.0</td>\n",
              "      <td>0.0</td>\n",
              "      <td>0.0</td>\n",
              "      <td>0.0</td>\n",
              "      <td>0.0</td>\n",
              "      <td>0.0</td>\n",
              "      <td>0.0</td>\n",
              "      <td>0.0</td>\n",
              "      <td>0.0</td>\n",
              "      <td>0.0</td>\n",
              "      <td>0.0</td>\n",
              "      <td>0.0</td>\n",
              "      <td>0.0</td>\n",
              "      <td>0.0</td>\n",
              "      <td>0.0</td>\n",
              "      <td>0.0</td>\n",
              "      <td>0.0</td>\n",
              "      <td>0.0</td>\n",
              "      <td>0.0</td>\n",
              "      <td>0.0</td>\n",
              "      <td>0.0</td>\n",
              "      <td>0.0</td>\n",
              "      <td>0.0</td>\n",
              "      <td>0.0</td>\n",
              "      <td>0.0</td>\n",
              "      <td>0.0</td>\n",
              "      <td>0.0</td>\n",
              "      <td>0.0</td>\n",
              "      <td>0.0</td>\n",
              "      <td>0.0</td>\n",
              "      <td>0.0</td>\n",
              "      <td>0.0</td>\n",
              "      <td>0.0</td>\n",
              "      <td>0.0</td>\n",
              "      <td>0.0</td>\n",
              "      <td>0.0</td>\n",
              "      <td>0.0</td>\n",
              "      <td>0.0</td>\n",
              "      <td>0.0</td>\n",
              "    </tr>\n",
              "    <tr>\n",
              "      <th>25348</th>\n",
              "      <td>0.778364</td>\n",
              "      <td>0.0</td>\n",
              "      <td>0.0</td>\n",
              "      <td>1.0</td>\n",
              "      <td>0.0</td>\n",
              "      <td>0.0</td>\n",
              "      <td>0.0</td>\n",
              "      <td>0.0</td>\n",
              "      <td>0.0</td>\n",
              "      <td>0.0</td>\n",
              "      <td>0.0</td>\n",
              "      <td>0.0</td>\n",
              "      <td>0.0</td>\n",
              "      <td>0.0</td>\n",
              "      <td>0.0</td>\n",
              "      <td>0.0</td>\n",
              "      <td>0.0</td>\n",
              "      <td>0.0</td>\n",
              "      <td>0.0</td>\n",
              "      <td>0.0</td>\n",
              "      <td>0.0</td>\n",
              "      <td>0.0</td>\n",
              "      <td>0.0</td>\n",
              "      <td>0.0</td>\n",
              "      <td>0.0</td>\n",
              "      <td>0.0</td>\n",
              "      <td>0.0</td>\n",
              "      <td>0.0</td>\n",
              "      <td>0.0</td>\n",
              "      <td>0.0</td>\n",
              "      <td>0.0</td>\n",
              "      <td>0.0</td>\n",
              "      <td>0.0</td>\n",
              "      <td>0.0</td>\n",
              "      <td>0.0</td>\n",
              "      <td>1.0</td>\n",
              "      <td>0.0</td>\n",
              "      <td>0.0</td>\n",
              "      <td>0.0</td>\n",
              "      <td>0.0</td>\n",
              "      <td>...</td>\n",
              "      <td>0.0</td>\n",
              "      <td>0.0</td>\n",
              "      <td>0.0</td>\n",
              "      <td>0.0</td>\n",
              "      <td>0.0</td>\n",
              "      <td>0.0</td>\n",
              "      <td>0.0</td>\n",
              "      <td>0.0</td>\n",
              "      <td>0.0</td>\n",
              "      <td>0.0</td>\n",
              "      <td>0.0</td>\n",
              "      <td>0.0</td>\n",
              "      <td>0.0</td>\n",
              "      <td>0.0</td>\n",
              "      <td>0.0</td>\n",
              "      <td>0.0</td>\n",
              "      <td>0.0</td>\n",
              "      <td>0.0</td>\n",
              "      <td>0.0</td>\n",
              "      <td>0.0</td>\n",
              "      <td>0.0</td>\n",
              "      <td>0.0</td>\n",
              "      <td>0.0</td>\n",
              "      <td>0.0</td>\n",
              "      <td>0.0</td>\n",
              "      <td>0.0</td>\n",
              "      <td>0.0</td>\n",
              "      <td>0.0</td>\n",
              "      <td>0.0</td>\n",
              "      <td>0.0</td>\n",
              "      <td>0.0</td>\n",
              "      <td>0.0</td>\n",
              "      <td>0.0</td>\n",
              "      <td>0.0</td>\n",
              "      <td>0.0</td>\n",
              "      <td>0.0</td>\n",
              "      <td>0.0</td>\n",
              "      <td>0.0</td>\n",
              "      <td>0.0</td>\n",
              "      <td>0.0</td>\n",
              "    </tr>\n",
              "    <tr>\n",
              "      <th>32692</th>\n",
              "      <td>-0.322948</td>\n",
              "      <td>0.0</td>\n",
              "      <td>0.0</td>\n",
              "      <td>0.0</td>\n",
              "      <td>0.0</td>\n",
              "      <td>0.0</td>\n",
              "      <td>0.0</td>\n",
              "      <td>0.0</td>\n",
              "      <td>0.0</td>\n",
              "      <td>1.0</td>\n",
              "      <td>0.0</td>\n",
              "      <td>0.0</td>\n",
              "      <td>0.0</td>\n",
              "      <td>0.0</td>\n",
              "      <td>0.0</td>\n",
              "      <td>0.0</td>\n",
              "      <td>0.0</td>\n",
              "      <td>0.0</td>\n",
              "      <td>0.0</td>\n",
              "      <td>0.0</td>\n",
              "      <td>0.0</td>\n",
              "      <td>0.0</td>\n",
              "      <td>0.0</td>\n",
              "      <td>0.0</td>\n",
              "      <td>0.0</td>\n",
              "      <td>0.0</td>\n",
              "      <td>0.0</td>\n",
              "      <td>1.0</td>\n",
              "      <td>0.0</td>\n",
              "      <td>0.0</td>\n",
              "      <td>0.0</td>\n",
              "      <td>0.0</td>\n",
              "      <td>0.0</td>\n",
              "      <td>0.0</td>\n",
              "      <td>0.0</td>\n",
              "      <td>0.0</td>\n",
              "      <td>0.0</td>\n",
              "      <td>0.0</td>\n",
              "      <td>0.0</td>\n",
              "      <td>0.0</td>\n",
              "      <td>...</td>\n",
              "      <td>0.0</td>\n",
              "      <td>0.0</td>\n",
              "      <td>0.0</td>\n",
              "      <td>0.0</td>\n",
              "      <td>0.0</td>\n",
              "      <td>0.0</td>\n",
              "      <td>0.0</td>\n",
              "      <td>0.0</td>\n",
              "      <td>0.0</td>\n",
              "      <td>0.0</td>\n",
              "      <td>0.0</td>\n",
              "      <td>0.0</td>\n",
              "      <td>0.0</td>\n",
              "      <td>0.0</td>\n",
              "      <td>0.0</td>\n",
              "      <td>0.0</td>\n",
              "      <td>0.0</td>\n",
              "      <td>0.0</td>\n",
              "      <td>0.0</td>\n",
              "      <td>0.0</td>\n",
              "      <td>0.0</td>\n",
              "      <td>0.0</td>\n",
              "      <td>0.0</td>\n",
              "      <td>0.0</td>\n",
              "      <td>0.0</td>\n",
              "      <td>0.0</td>\n",
              "      <td>0.0</td>\n",
              "      <td>0.0</td>\n",
              "      <td>0.0</td>\n",
              "      <td>0.0</td>\n",
              "      <td>0.0</td>\n",
              "      <td>0.0</td>\n",
              "      <td>0.0</td>\n",
              "      <td>0.0</td>\n",
              "      <td>0.0</td>\n",
              "      <td>0.0</td>\n",
              "      <td>0.0</td>\n",
              "      <td>0.0</td>\n",
              "      <td>0.0</td>\n",
              "      <td>0.0</td>\n",
              "    </tr>\n",
              "    <tr>\n",
              "      <th>18603</th>\n",
              "      <td>-0.322948</td>\n",
              "      <td>0.0</td>\n",
              "      <td>0.0</td>\n",
              "      <td>0.0</td>\n",
              "      <td>0.0</td>\n",
              "      <td>0.0</td>\n",
              "      <td>0.0</td>\n",
              "      <td>0.0</td>\n",
              "      <td>0.0</td>\n",
              "      <td>1.0</td>\n",
              "      <td>0.0</td>\n",
              "      <td>0.0</td>\n",
              "      <td>0.0</td>\n",
              "      <td>0.0</td>\n",
              "      <td>0.0</td>\n",
              "      <td>0.0</td>\n",
              "      <td>0.0</td>\n",
              "      <td>0.0</td>\n",
              "      <td>0.0</td>\n",
              "      <td>0.0</td>\n",
              "      <td>0.0</td>\n",
              "      <td>0.0</td>\n",
              "      <td>0.0</td>\n",
              "      <td>0.0</td>\n",
              "      <td>0.0</td>\n",
              "      <td>0.0</td>\n",
              "      <td>0.0</td>\n",
              "      <td>0.0</td>\n",
              "      <td>0.0</td>\n",
              "      <td>0.0</td>\n",
              "      <td>0.0</td>\n",
              "      <td>0.0</td>\n",
              "      <td>0.0</td>\n",
              "      <td>0.0</td>\n",
              "      <td>0.0</td>\n",
              "      <td>0.0</td>\n",
              "      <td>1.0</td>\n",
              "      <td>0.0</td>\n",
              "      <td>0.0</td>\n",
              "      <td>0.0</td>\n",
              "      <td>...</td>\n",
              "      <td>0.0</td>\n",
              "      <td>0.0</td>\n",
              "      <td>0.0</td>\n",
              "      <td>0.0</td>\n",
              "      <td>0.0</td>\n",
              "      <td>0.0</td>\n",
              "      <td>0.0</td>\n",
              "      <td>0.0</td>\n",
              "      <td>0.0</td>\n",
              "      <td>0.0</td>\n",
              "      <td>0.0</td>\n",
              "      <td>0.0</td>\n",
              "      <td>0.0</td>\n",
              "      <td>0.0</td>\n",
              "      <td>0.0</td>\n",
              "      <td>0.0</td>\n",
              "      <td>0.0</td>\n",
              "      <td>0.0</td>\n",
              "      <td>0.0</td>\n",
              "      <td>0.0</td>\n",
              "      <td>0.0</td>\n",
              "      <td>0.0</td>\n",
              "      <td>0.0</td>\n",
              "      <td>0.0</td>\n",
              "      <td>0.0</td>\n",
              "      <td>0.0</td>\n",
              "      <td>0.0</td>\n",
              "      <td>0.0</td>\n",
              "      <td>0.0</td>\n",
              "      <td>0.0</td>\n",
              "      <td>0.0</td>\n",
              "      <td>0.0</td>\n",
              "      <td>0.0</td>\n",
              "      <td>0.0</td>\n",
              "      <td>0.0</td>\n",
              "      <td>0.0</td>\n",
              "      <td>0.0</td>\n",
              "      <td>0.0</td>\n",
              "      <td>0.0</td>\n",
              "      <td>0.0</td>\n",
              "    </tr>\n",
              "  </tbody>\n",
              "</table>\n",
              "<p>5 rows × 1234 columns</p>\n",
              "</div>"
            ],
            "text/plain": [
              "         volume  ...  factory_number_x0_factory_number_999\n",
              "15236 -0.322948  ...                                   0.0\n",
              "13733 -0.322948  ...                                   0.0\n",
              "25348  0.778364  ...                                   0.0\n",
              "32692 -0.322948  ...                                   0.0\n",
              "18603 -0.322948  ...                                   0.0\n",
              "\n",
              "[5 rows x 1234 columns]"
            ]
          },
          "metadata": {
            "tags": []
          },
          "execution_count": 41
        }
      ]
    },
    {
      "cell_type": "code",
      "metadata": {
        "colab": {
          "base_uri": "https://localhost:8080/",
          "height": 253
        },
        "id": "mG3PKWT5vJHY",
        "outputId": "efe33fda-38c3-475e-dddb-2a65f34c96be"
      },
      "source": [
        "X_val_final.head()"
      ],
      "execution_count": 42,
      "outputs": [
        {
          "output_type": "execute_result",
          "data": {
            "text/html": [
              "<div>\n",
              "<style scoped>\n",
              "    .dataframe tbody tr th:only-of-type {\n",
              "        vertical-align: middle;\n",
              "    }\n",
              "\n",
              "    .dataframe tbody tr th {\n",
              "        vertical-align: top;\n",
              "    }\n",
              "\n",
              "    .dataframe thead th {\n",
              "        text-align: right;\n",
              "    }\n",
              "</style>\n",
              "<table border=\"1\" class=\"dataframe\">\n",
              "  <thead>\n",
              "    <tr style=\"text-align: right;\">\n",
              "      <th></th>\n",
              "      <th>volume</th>\n",
              "      <th>assembly_line_type_x0_assembly_line_type_1</th>\n",
              "      <th>assembly_line_type_x0_assembly_line_type_10</th>\n",
              "      <th>assembly_line_type_x0_assembly_line_type_2</th>\n",
              "      <th>assembly_line_type_x0_assembly_line_type_3</th>\n",
              "      <th>assembly_line_type_x0_assembly_line_type_4</th>\n",
              "      <th>assembly_line_type_x0_assembly_line_type_5</th>\n",
              "      <th>assembly_line_type_x0_assembly_line_type_6</th>\n",
              "      <th>assembly_line_type_x0_assembly_line_type_7</th>\n",
              "      <th>assembly_line_type_x0_assembly_line_type_8</th>\n",
              "      <th>assembly_line_type_x0_assembly_line_type_9</th>\n",
              "      <th>car_variant_x0_car_variant_1</th>\n",
              "      <th>car_variant_x0_car_variant_10</th>\n",
              "      <th>car_variant_x0_car_variant_11</th>\n",
              "      <th>car_variant_x0_car_variant_12</th>\n",
              "      <th>car_variant_x0_car_variant_13</th>\n",
              "      <th>car_variant_x0_car_variant_14</th>\n",
              "      <th>car_variant_x0_car_variant_15</th>\n",
              "      <th>car_variant_x0_car_variant_18</th>\n",
              "      <th>car_variant_x0_car_variant_19</th>\n",
              "      <th>car_variant_x0_car_variant_2</th>\n",
              "      <th>car_variant_x0_car_variant_20</th>\n",
              "      <th>car_variant_x0_car_variant_21</th>\n",
              "      <th>car_variant_x0_car_variant_22</th>\n",
              "      <th>car_variant_x0_car_variant_23</th>\n",
              "      <th>car_variant_x0_car_variant_24</th>\n",
              "      <th>car_variant_x0_car_variant_25</th>\n",
              "      <th>car_variant_x0_car_variant_26</th>\n",
              "      <th>car_variant_x0_car_variant_27</th>\n",
              "      <th>car_variant_x0_car_variant_28</th>\n",
              "      <th>car_variant_x0_car_variant_29</th>\n",
              "      <th>car_variant_x0_car_variant_3</th>\n",
              "      <th>car_variant_x0_car_variant_30</th>\n",
              "      <th>car_variant_x0_car_variant_31</th>\n",
              "      <th>car_variant_x0_car_variant_32</th>\n",
              "      <th>car_variant_x0_car_variant_34</th>\n",
              "      <th>car_variant_x0_car_variant_35</th>\n",
              "      <th>car_variant_x0_car_variant_36</th>\n",
              "      <th>car_variant_x0_car_variant_37</th>\n",
              "      <th>car_variant_x0_car_variant_38</th>\n",
              "      <th>...</th>\n",
              "      <th>factory_number_x0_factory_number_949</th>\n",
              "      <th>factory_number_x0_factory_number_95</th>\n",
              "      <th>factory_number_x0_factory_number_950</th>\n",
              "      <th>factory_number_x0_factory_number_951</th>\n",
              "      <th>factory_number_x0_factory_number_953</th>\n",
              "      <th>factory_number_x0_factory_number_955</th>\n",
              "      <th>factory_number_x0_factory_number_956</th>\n",
              "      <th>factory_number_x0_factory_number_957</th>\n",
              "      <th>factory_number_x0_factory_number_958</th>\n",
              "      <th>factory_number_x0_factory_number_960</th>\n",
              "      <th>factory_number_x0_factory_number_961</th>\n",
              "      <th>factory_number_x0_factory_number_962</th>\n",
              "      <th>factory_number_x0_factory_number_963</th>\n",
              "      <th>factory_number_x0_factory_number_964</th>\n",
              "      <th>factory_number_x0_factory_number_967</th>\n",
              "      <th>factory_number_x0_factory_number_968</th>\n",
              "      <th>factory_number_x0_factory_number_97</th>\n",
              "      <th>factory_number_x0_factory_number_971</th>\n",
              "      <th>factory_number_x0_factory_number_972</th>\n",
              "      <th>factory_number_x0_factory_number_973</th>\n",
              "      <th>factory_number_x0_factory_number_974</th>\n",
              "      <th>factory_number_x0_factory_number_975</th>\n",
              "      <th>factory_number_x0_factory_number_976</th>\n",
              "      <th>factory_number_x0_factory_number_977</th>\n",
              "      <th>factory_number_x0_factory_number_978</th>\n",
              "      <th>factory_number_x0_factory_number_979</th>\n",
              "      <th>factory_number_x0_factory_number_980</th>\n",
              "      <th>factory_number_x0_factory_number_981</th>\n",
              "      <th>factory_number_x0_factory_number_983</th>\n",
              "      <th>factory_number_x0_factory_number_984</th>\n",
              "      <th>factory_number_x0_factory_number_987</th>\n",
              "      <th>factory_number_x0_factory_number_989</th>\n",
              "      <th>factory_number_x0_factory_number_99</th>\n",
              "      <th>factory_number_x0_factory_number_990</th>\n",
              "      <th>factory_number_x0_factory_number_991</th>\n",
              "      <th>factory_number_x0_factory_number_994</th>\n",
              "      <th>factory_number_x0_factory_number_995</th>\n",
              "      <th>factory_number_x0_factory_number_996</th>\n",
              "      <th>factory_number_x0_factory_number_998</th>\n",
              "      <th>factory_number_x0_factory_number_999</th>\n",
              "    </tr>\n",
              "  </thead>\n",
              "  <tbody>\n",
              "    <tr>\n",
              "      <th>35282</th>\n",
              "      <td>-0.111158</td>\n",
              "      <td>0.0</td>\n",
              "      <td>0.0</td>\n",
              "      <td>0.0</td>\n",
              "      <td>0.0</td>\n",
              "      <td>0.0</td>\n",
              "      <td>0.0</td>\n",
              "      <td>0.0</td>\n",
              "      <td>0.0</td>\n",
              "      <td>1.0</td>\n",
              "      <td>0.0</td>\n",
              "      <td>0.0</td>\n",
              "      <td>0.0</td>\n",
              "      <td>1.0</td>\n",
              "      <td>0.0</td>\n",
              "      <td>0.0</td>\n",
              "      <td>0.0</td>\n",
              "      <td>0.0</td>\n",
              "      <td>0.0</td>\n",
              "      <td>0.0</td>\n",
              "      <td>0.0</td>\n",
              "      <td>0.0</td>\n",
              "      <td>0.0</td>\n",
              "      <td>0.0</td>\n",
              "      <td>0.0</td>\n",
              "      <td>0.0</td>\n",
              "      <td>0.0</td>\n",
              "      <td>0.0</td>\n",
              "      <td>0.0</td>\n",
              "      <td>0.0</td>\n",
              "      <td>0.0</td>\n",
              "      <td>0.0</td>\n",
              "      <td>0.0</td>\n",
              "      <td>0.0</td>\n",
              "      <td>0.0</td>\n",
              "      <td>0.0</td>\n",
              "      <td>0.0</td>\n",
              "      <td>0.0</td>\n",
              "      <td>0.0</td>\n",
              "      <td>0.0</td>\n",
              "      <td>...</td>\n",
              "      <td>0.0</td>\n",
              "      <td>0.0</td>\n",
              "      <td>0.0</td>\n",
              "      <td>0.0</td>\n",
              "      <td>0.0</td>\n",
              "      <td>0.0</td>\n",
              "      <td>0.0</td>\n",
              "      <td>0.0</td>\n",
              "      <td>0.0</td>\n",
              "      <td>0.0</td>\n",
              "      <td>0.0</td>\n",
              "      <td>0.0</td>\n",
              "      <td>0.0</td>\n",
              "      <td>0.0</td>\n",
              "      <td>0.0</td>\n",
              "      <td>0.0</td>\n",
              "      <td>0.0</td>\n",
              "      <td>0.0</td>\n",
              "      <td>0.0</td>\n",
              "      <td>0.0</td>\n",
              "      <td>0.0</td>\n",
              "      <td>0.0</td>\n",
              "      <td>0.0</td>\n",
              "      <td>0.0</td>\n",
              "      <td>0.0</td>\n",
              "      <td>0.0</td>\n",
              "      <td>0.0</td>\n",
              "      <td>0.0</td>\n",
              "      <td>0.0</td>\n",
              "      <td>0.0</td>\n",
              "      <td>0.0</td>\n",
              "      <td>0.0</td>\n",
              "      <td>0.0</td>\n",
              "      <td>0.0</td>\n",
              "      <td>0.0</td>\n",
              "      <td>0.0</td>\n",
              "      <td>0.0</td>\n",
              "      <td>0.0</td>\n",
              "      <td>0.0</td>\n",
              "      <td>0.0</td>\n",
              "    </tr>\n",
              "    <tr>\n",
              "      <th>46531</th>\n",
              "      <td>-0.068799</td>\n",
              "      <td>0.0</td>\n",
              "      <td>0.0</td>\n",
              "      <td>0.0</td>\n",
              "      <td>0.0</td>\n",
              "      <td>0.0</td>\n",
              "      <td>0.0</td>\n",
              "      <td>0.0</td>\n",
              "      <td>0.0</td>\n",
              "      <td>1.0</td>\n",
              "      <td>0.0</td>\n",
              "      <td>0.0</td>\n",
              "      <td>0.0</td>\n",
              "      <td>1.0</td>\n",
              "      <td>0.0</td>\n",
              "      <td>0.0</td>\n",
              "      <td>0.0</td>\n",
              "      <td>0.0</td>\n",
              "      <td>0.0</td>\n",
              "      <td>0.0</td>\n",
              "      <td>0.0</td>\n",
              "      <td>0.0</td>\n",
              "      <td>0.0</td>\n",
              "      <td>0.0</td>\n",
              "      <td>0.0</td>\n",
              "      <td>0.0</td>\n",
              "      <td>0.0</td>\n",
              "      <td>0.0</td>\n",
              "      <td>0.0</td>\n",
              "      <td>0.0</td>\n",
              "      <td>0.0</td>\n",
              "      <td>0.0</td>\n",
              "      <td>0.0</td>\n",
              "      <td>0.0</td>\n",
              "      <td>0.0</td>\n",
              "      <td>0.0</td>\n",
              "      <td>0.0</td>\n",
              "      <td>0.0</td>\n",
              "      <td>0.0</td>\n",
              "      <td>0.0</td>\n",
              "      <td>...</td>\n",
              "      <td>0.0</td>\n",
              "      <td>0.0</td>\n",
              "      <td>0.0</td>\n",
              "      <td>0.0</td>\n",
              "      <td>0.0</td>\n",
              "      <td>0.0</td>\n",
              "      <td>0.0</td>\n",
              "      <td>0.0</td>\n",
              "      <td>0.0</td>\n",
              "      <td>0.0</td>\n",
              "      <td>0.0</td>\n",
              "      <td>0.0</td>\n",
              "      <td>0.0</td>\n",
              "      <td>0.0</td>\n",
              "      <td>0.0</td>\n",
              "      <td>0.0</td>\n",
              "      <td>0.0</td>\n",
              "      <td>0.0</td>\n",
              "      <td>0.0</td>\n",
              "      <td>0.0</td>\n",
              "      <td>0.0</td>\n",
              "      <td>0.0</td>\n",
              "      <td>0.0</td>\n",
              "      <td>0.0</td>\n",
              "      <td>0.0</td>\n",
              "      <td>0.0</td>\n",
              "      <td>0.0</td>\n",
              "      <td>0.0</td>\n",
              "      <td>0.0</td>\n",
              "      <td>0.0</td>\n",
              "      <td>0.0</td>\n",
              "      <td>0.0</td>\n",
              "      <td>0.0</td>\n",
              "      <td>0.0</td>\n",
              "      <td>0.0</td>\n",
              "      <td>0.0</td>\n",
              "      <td>0.0</td>\n",
              "      <td>0.0</td>\n",
              "      <td>0.0</td>\n",
              "      <td>0.0</td>\n",
              "    </tr>\n",
              "    <tr>\n",
              "      <th>41404</th>\n",
              "      <td>-0.322948</td>\n",
              "      <td>0.0</td>\n",
              "      <td>0.0</td>\n",
              "      <td>1.0</td>\n",
              "      <td>0.0</td>\n",
              "      <td>0.0</td>\n",
              "      <td>0.0</td>\n",
              "      <td>0.0</td>\n",
              "      <td>0.0</td>\n",
              "      <td>0.0</td>\n",
              "      <td>0.0</td>\n",
              "      <td>0.0</td>\n",
              "      <td>0.0</td>\n",
              "      <td>0.0</td>\n",
              "      <td>0.0</td>\n",
              "      <td>0.0</td>\n",
              "      <td>0.0</td>\n",
              "      <td>0.0</td>\n",
              "      <td>0.0</td>\n",
              "      <td>0.0</td>\n",
              "      <td>0.0</td>\n",
              "      <td>1.0</td>\n",
              "      <td>0.0</td>\n",
              "      <td>0.0</td>\n",
              "      <td>0.0</td>\n",
              "      <td>0.0</td>\n",
              "      <td>0.0</td>\n",
              "      <td>0.0</td>\n",
              "      <td>0.0</td>\n",
              "      <td>0.0</td>\n",
              "      <td>0.0</td>\n",
              "      <td>0.0</td>\n",
              "      <td>0.0</td>\n",
              "      <td>0.0</td>\n",
              "      <td>0.0</td>\n",
              "      <td>0.0</td>\n",
              "      <td>0.0</td>\n",
              "      <td>0.0</td>\n",
              "      <td>0.0</td>\n",
              "      <td>0.0</td>\n",
              "      <td>...</td>\n",
              "      <td>0.0</td>\n",
              "      <td>0.0</td>\n",
              "      <td>0.0</td>\n",
              "      <td>0.0</td>\n",
              "      <td>0.0</td>\n",
              "      <td>0.0</td>\n",
              "      <td>0.0</td>\n",
              "      <td>0.0</td>\n",
              "      <td>0.0</td>\n",
              "      <td>0.0</td>\n",
              "      <td>0.0</td>\n",
              "      <td>0.0</td>\n",
              "      <td>0.0</td>\n",
              "      <td>0.0</td>\n",
              "      <td>0.0</td>\n",
              "      <td>0.0</td>\n",
              "      <td>0.0</td>\n",
              "      <td>0.0</td>\n",
              "      <td>0.0</td>\n",
              "      <td>0.0</td>\n",
              "      <td>0.0</td>\n",
              "      <td>0.0</td>\n",
              "      <td>0.0</td>\n",
              "      <td>0.0</td>\n",
              "      <td>0.0</td>\n",
              "      <td>0.0</td>\n",
              "      <td>0.0</td>\n",
              "      <td>0.0</td>\n",
              "      <td>0.0</td>\n",
              "      <td>0.0</td>\n",
              "      <td>0.0</td>\n",
              "      <td>0.0</td>\n",
              "      <td>0.0</td>\n",
              "      <td>0.0</td>\n",
              "      <td>0.0</td>\n",
              "      <td>0.0</td>\n",
              "      <td>0.0</td>\n",
              "      <td>0.0</td>\n",
              "      <td>0.0</td>\n",
              "      <td>0.0</td>\n",
              "    </tr>\n",
              "    <tr>\n",
              "      <th>35824</th>\n",
              "      <td>-0.322948</td>\n",
              "      <td>0.0</td>\n",
              "      <td>0.0</td>\n",
              "      <td>1.0</td>\n",
              "      <td>0.0</td>\n",
              "      <td>0.0</td>\n",
              "      <td>0.0</td>\n",
              "      <td>0.0</td>\n",
              "      <td>0.0</td>\n",
              "      <td>0.0</td>\n",
              "      <td>0.0</td>\n",
              "      <td>0.0</td>\n",
              "      <td>0.0</td>\n",
              "      <td>0.0</td>\n",
              "      <td>0.0</td>\n",
              "      <td>0.0</td>\n",
              "      <td>0.0</td>\n",
              "      <td>0.0</td>\n",
              "      <td>0.0</td>\n",
              "      <td>0.0</td>\n",
              "      <td>0.0</td>\n",
              "      <td>0.0</td>\n",
              "      <td>0.0</td>\n",
              "      <td>0.0</td>\n",
              "      <td>0.0</td>\n",
              "      <td>0.0</td>\n",
              "      <td>0.0</td>\n",
              "      <td>0.0</td>\n",
              "      <td>0.0</td>\n",
              "      <td>0.0</td>\n",
              "      <td>0.0</td>\n",
              "      <td>0.0</td>\n",
              "      <td>0.0</td>\n",
              "      <td>0.0</td>\n",
              "      <td>0.0</td>\n",
              "      <td>0.0</td>\n",
              "      <td>0.0</td>\n",
              "      <td>0.0</td>\n",
              "      <td>0.0</td>\n",
              "      <td>0.0</td>\n",
              "      <td>...</td>\n",
              "      <td>0.0</td>\n",
              "      <td>0.0</td>\n",
              "      <td>0.0</td>\n",
              "      <td>0.0</td>\n",
              "      <td>0.0</td>\n",
              "      <td>0.0</td>\n",
              "      <td>0.0</td>\n",
              "      <td>0.0</td>\n",
              "      <td>0.0</td>\n",
              "      <td>0.0</td>\n",
              "      <td>0.0</td>\n",
              "      <td>0.0</td>\n",
              "      <td>0.0</td>\n",
              "      <td>0.0</td>\n",
              "      <td>0.0</td>\n",
              "      <td>0.0</td>\n",
              "      <td>0.0</td>\n",
              "      <td>0.0</td>\n",
              "      <td>0.0</td>\n",
              "      <td>0.0</td>\n",
              "      <td>0.0</td>\n",
              "      <td>0.0</td>\n",
              "      <td>0.0</td>\n",
              "      <td>0.0</td>\n",
              "      <td>0.0</td>\n",
              "      <td>0.0</td>\n",
              "      <td>0.0</td>\n",
              "      <td>0.0</td>\n",
              "      <td>0.0</td>\n",
              "      <td>0.0</td>\n",
              "      <td>0.0</td>\n",
              "      <td>0.0</td>\n",
              "      <td>0.0</td>\n",
              "      <td>0.0</td>\n",
              "      <td>0.0</td>\n",
              "      <td>0.0</td>\n",
              "      <td>0.0</td>\n",
              "      <td>0.0</td>\n",
              "      <td>0.0</td>\n",
              "      <td>0.0</td>\n",
              "    </tr>\n",
              "    <tr>\n",
              "      <th>38048</th>\n",
              "      <td>-0.280590</td>\n",
              "      <td>0.0</td>\n",
              "      <td>0.0</td>\n",
              "      <td>0.0</td>\n",
              "      <td>0.0</td>\n",
              "      <td>0.0</td>\n",
              "      <td>0.0</td>\n",
              "      <td>1.0</td>\n",
              "      <td>0.0</td>\n",
              "      <td>0.0</td>\n",
              "      <td>0.0</td>\n",
              "      <td>0.0</td>\n",
              "      <td>0.0</td>\n",
              "      <td>0.0</td>\n",
              "      <td>0.0</td>\n",
              "      <td>1.0</td>\n",
              "      <td>0.0</td>\n",
              "      <td>0.0</td>\n",
              "      <td>0.0</td>\n",
              "      <td>0.0</td>\n",
              "      <td>0.0</td>\n",
              "      <td>0.0</td>\n",
              "      <td>0.0</td>\n",
              "      <td>0.0</td>\n",
              "      <td>0.0</td>\n",
              "      <td>0.0</td>\n",
              "      <td>0.0</td>\n",
              "      <td>0.0</td>\n",
              "      <td>0.0</td>\n",
              "      <td>0.0</td>\n",
              "      <td>0.0</td>\n",
              "      <td>0.0</td>\n",
              "      <td>0.0</td>\n",
              "      <td>0.0</td>\n",
              "      <td>0.0</td>\n",
              "      <td>0.0</td>\n",
              "      <td>0.0</td>\n",
              "      <td>0.0</td>\n",
              "      <td>0.0</td>\n",
              "      <td>0.0</td>\n",
              "      <td>...</td>\n",
              "      <td>0.0</td>\n",
              "      <td>0.0</td>\n",
              "      <td>0.0</td>\n",
              "      <td>0.0</td>\n",
              "      <td>0.0</td>\n",
              "      <td>0.0</td>\n",
              "      <td>0.0</td>\n",
              "      <td>0.0</td>\n",
              "      <td>0.0</td>\n",
              "      <td>0.0</td>\n",
              "      <td>0.0</td>\n",
              "      <td>0.0</td>\n",
              "      <td>0.0</td>\n",
              "      <td>0.0</td>\n",
              "      <td>0.0</td>\n",
              "      <td>0.0</td>\n",
              "      <td>0.0</td>\n",
              "      <td>0.0</td>\n",
              "      <td>0.0</td>\n",
              "      <td>0.0</td>\n",
              "      <td>0.0</td>\n",
              "      <td>0.0</td>\n",
              "      <td>0.0</td>\n",
              "      <td>0.0</td>\n",
              "      <td>0.0</td>\n",
              "      <td>0.0</td>\n",
              "      <td>0.0</td>\n",
              "      <td>0.0</td>\n",
              "      <td>0.0</td>\n",
              "      <td>0.0</td>\n",
              "      <td>0.0</td>\n",
              "      <td>0.0</td>\n",
              "      <td>0.0</td>\n",
              "      <td>0.0</td>\n",
              "      <td>0.0</td>\n",
              "      <td>0.0</td>\n",
              "      <td>0.0</td>\n",
              "      <td>0.0</td>\n",
              "      <td>0.0</td>\n",
              "      <td>0.0</td>\n",
              "    </tr>\n",
              "  </tbody>\n",
              "</table>\n",
              "<p>5 rows × 1234 columns</p>\n",
              "</div>"
            ],
            "text/plain": [
              "         volume  ...  factory_number_x0_factory_number_999\n",
              "35282 -0.111158  ...                                   0.0\n",
              "46531 -0.068799  ...                                   0.0\n",
              "41404 -0.322948  ...                                   0.0\n",
              "35824 -0.322948  ...                                   0.0\n",
              "38048 -0.280590  ...                                   0.0\n",
              "\n",
              "[5 rows x 1234 columns]"
            ]
          },
          "metadata": {
            "tags": []
          },
          "execution_count": 42
        }
      ]
    },
    {
      "cell_type": "markdown",
      "metadata": {
        "id": "GJhhpMv8vTEv"
      },
      "source": [
        "### **Defining Error Metrics**"
      ]
    },
    {
      "cell_type": "code",
      "metadata": {
        "id": "NM5qohxQvOxO"
      },
      "source": [
        "def get_CR_CM(train_actual,train_predicted,test_actual,test_predicted):\r\n",
        "    print('''\r\n",
        "         ========================================\r\n",
        "           CLASSIFICATION REPORT FOR TRAIN DATA\r\n",
        "         ========================================\r\n",
        "        ''')\r\n",
        "    print(classification_report(train_actual, train_predicted, digits=4))\r\n",
        "\r\n",
        "    print('''\r\n",
        "             =============================================\r\n",
        "               CLASSIFICATION REPORT FOR VALIDATION DATA\r\n",
        "             =============================================\r\n",
        "            ''')\r\n",
        "    print(classification_report(test_actual, test_predicted, digits=4))\r\n",
        "\r\n",
        "    print('''\r\n",
        "             ========================================\r\n",
        "               Confusion Matrix FOR TRAIN DATA\r\n",
        "             ========================================\r\n",
        "            ''')\r\n",
        "    print(confusion_matrix(train_actual, train_predicted))\r\n",
        "\r\n",
        "    print('''\r\n",
        "             =============================================\r\n",
        "               Confusion matrix FOR VALIDATION DATA\r\n",
        "             =============================================\r\n",
        "            ''')\r\n",
        "    print(confusion_matrix(test_actual, test_predicted))"
      ],
      "execution_count": 43,
      "outputs": []
    },
    {
      "cell_type": "code",
      "metadata": {
        "id": "yihpP8L4vX8T"
      },
      "source": [
        "scores = pd.DataFrame(columns=['Model','Train_Accuracy','Train_Recall','Train_Precision','Train_F1_Score','Test_Accuracy','Test_Recall','Test_Precision','Test_F1_Score'])\r\n",
        "\r\n",
        "def get_metrics(train_actual,train_predicted,test_actual,test_predicted,model_description,dataframe):\r\n",
        "    get_CR_CM(train_actual,train_predicted,test_actual,test_predicted)\r\n",
        "    train_accuracy = accuracy_score(train_actual,train_predicted)\r\n",
        "    train_recall   = recall_score(train_actual,train_predicted,average='micro')\r\n",
        "    train_precision= precision_score(train_actual,train_predicted,average='micro')\r\n",
        "    train_f1score  = f1_score(train_actual,train_predicted,average='micro')\r\n",
        "    test_accuracy = accuracy_score(test_actual,test_predicted)\r\n",
        "    test_recall   = recall_score(test_actual,test_predicted,average='micro')\r\n",
        "    test_precision= precision_score(test_actual,test_predicted,average='micro')\r\n",
        "    test_f1score  = f1_score(test_actual,test_predicted,average='micro')\r\n",
        "    dataframe = dataframe.append(pd.Series([model_description, train_accuracy,train_recall,train_precision,train_f1score,\r\n",
        "                                            test_accuracy,test_recall,test_precision,test_f1score],\r\n",
        "                                           index=scores.columns ), ignore_index=True)\r\n",
        "    return(dataframe)"
      ],
      "execution_count": 44,
      "outputs": []
    },
    {
      "cell_type": "markdown",
      "metadata": {
        "id": "mvbP3OiJMVos"
      },
      "source": [
        "# **MODEL BUILDING**"
      ]
    },
    {
      "cell_type": "markdown",
      "metadata": {
        "id": "ffvcKq5ejNIz"
      },
      "source": [
        "**1. Logistic Regression**"
      ]
    },
    {
      "cell_type": "code",
      "metadata": {
        "id": "1ZFI1byJjQGL"
      },
      "source": [
        "log_mod = LogisticRegression(random_state=123)"
      ],
      "execution_count": 45,
      "outputs": []
    },
    {
      "cell_type": "code",
      "metadata": {
        "colab": {
          "base_uri": "https://localhost:8080/"
        },
        "id": "XRv6zEHKjLyg",
        "outputId": "c6c27f60-ff10-45e5-e57b-5559112187fe"
      },
      "source": [
        "log_mod.fit(X_train_final, y_train)"
      ],
      "execution_count": 46,
      "outputs": [
        {
          "output_type": "execute_result",
          "data": {
            "text/plain": [
              "LogisticRegression(C=1.0, class_weight=None, dual=False, fit_intercept=True,\n",
              "                   intercept_scaling=1, l1_ratio=None, max_iter=100,\n",
              "                   multi_class='auto', n_jobs=None, penalty='l2',\n",
              "                   random_state=123, solver='lbfgs', tol=0.0001, verbose=0,\n",
              "                   warm_start=False)"
            ]
          },
          "metadata": {
            "tags": []
          },
          "execution_count": 46
        }
      ]
    },
    {
      "cell_type": "code",
      "metadata": {
        "id": "6-B4VQFyjp3O"
      },
      "source": [
        "y_pred_train = log_mod.predict(X_train_final)\r\n",
        "y_pred_val = log_mod.predict(X_val_final)"
      ],
      "execution_count": 47,
      "outputs": []
    },
    {
      "cell_type": "code",
      "metadata": {
        "colab": {
          "base_uri": "https://localhost:8080/",
          "height": 862
        },
        "id": "Z7-8bra3jpmS",
        "outputId": "eb615908-d979-4f53-ac2c-421c54c735d1"
      },
      "source": [
        "scores = get_metrics(y_train,y_pred_train,y_val,y_pred_val,\"LogisticRegression\",scores)\r\n",
        "scores"
      ],
      "execution_count": 48,
      "outputs": [
        {
          "output_type": "stream",
          "text": [
            "\n",
            "         ========================================\n",
            "           CLASSIFICATION REPORT FOR TRAIN DATA\n",
            "         ========================================\n",
            "        \n",
            "              precision    recall  f1-score   support\n",
            "\n",
            "           0     0.8575    0.8735    0.8654     23477\n",
            "           1     0.7060    0.6559    0.6800     10250\n",
            "           2     0.6833    0.7193    0.7009      5451\n",
            "\n",
            "    accuracy                         0.7951     39178\n",
            "   macro avg     0.7489    0.7496    0.7488     39178\n",
            "weighted avg     0.7936    0.7951    0.7940     39178\n",
            "\n",
            "\n",
            "             =============================================\n",
            "               CLASSIFICATION REPORT FOR VALIDATION DATA\n",
            "             =============================================\n",
            "            \n",
            "              precision    recall  f1-score   support\n",
            "\n",
            "           0     0.8412    0.8705    0.8556      5870\n",
            "           1     0.7012    0.6237    0.6602      2562\n",
            "           2     0.6655    0.7036    0.6840      1363\n",
            "\n",
            "    accuracy                         0.7827      9795\n",
            "   macro avg     0.7359    0.7326    0.7333      9795\n",
            "weighted avg     0.7801    0.7827    0.7806      9795\n",
            "\n",
            "\n",
            "             ========================================\n",
            "               Confusion Matrix FOR TRAIN DATA\n",
            "             ========================================\n",
            "            \n",
            "[[20508  2040   929]\n",
            " [ 2639  6723   888]\n",
            " [  770   760  3921]]\n",
            "\n",
            "             =============================================\n",
            "               Confusion matrix FOR VALIDATION DATA\n",
            "             =============================================\n",
            "            \n",
            "[[5110  509  251]\n",
            " [ 733 1598  231]\n",
            " [ 232  172  959]]\n"
          ],
          "name": "stdout"
        },
        {
          "output_type": "execute_result",
          "data": {
            "text/html": [
              "<div>\n",
              "<style scoped>\n",
              "    .dataframe tbody tr th:only-of-type {\n",
              "        vertical-align: middle;\n",
              "    }\n",
              "\n",
              "    .dataframe tbody tr th {\n",
              "        vertical-align: top;\n",
              "    }\n",
              "\n",
              "    .dataframe thead th {\n",
              "        text-align: right;\n",
              "    }\n",
              "</style>\n",
              "<table border=\"1\" class=\"dataframe\">\n",
              "  <thead>\n",
              "    <tr style=\"text-align: right;\">\n",
              "      <th></th>\n",
              "      <th>Model</th>\n",
              "      <th>Train_Accuracy</th>\n",
              "      <th>Train_Recall</th>\n",
              "      <th>Train_Precision</th>\n",
              "      <th>Train_F1_Score</th>\n",
              "      <th>Test_Accuracy</th>\n",
              "      <th>Test_Recall</th>\n",
              "      <th>Test_Precision</th>\n",
              "      <th>Test_F1_Score</th>\n",
              "    </tr>\n",
              "  </thead>\n",
              "  <tbody>\n",
              "    <tr>\n",
              "      <th>0</th>\n",
              "      <td>LogisticRegression</td>\n",
              "      <td>0.79514</td>\n",
              "      <td>0.79514</td>\n",
              "      <td>0.79514</td>\n",
              "      <td>0.79514</td>\n",
              "      <td>0.782746</td>\n",
              "      <td>0.782746</td>\n",
              "      <td>0.782746</td>\n",
              "      <td>0.782746</td>\n",
              "    </tr>\n",
              "  </tbody>\n",
              "</table>\n",
              "</div>"
            ],
            "text/plain": [
              "                Model  Train_Accuracy  ...  Test_Precision  Test_F1_Score\n",
              "0  LogisticRegression         0.79514  ...        0.782746       0.782746\n",
              "\n",
              "[1 rows x 9 columns]"
            ]
          },
          "metadata": {
            "tags": []
          },
          "execution_count": 48
        }
      ]
    },
    {
      "cell_type": "markdown",
      "metadata": {
        "id": "Tef0tZZHQg6B"
      },
      "source": [
        "### **2. Decision Tree Classifier**"
      ]
    },
    {
      "cell_type": "code",
      "metadata": {
        "id": "VVtDytdQvbsH",
        "colab": {
          "base_uri": "https://localhost:8080/"
        },
        "outputId": "3ca59a80-963e-408a-83ab-6532f65c5acd"
      },
      "source": [
        "# Create Decision Tree classifer object\r\n",
        "clf_dt = DecisionTreeClassifier(random_state=123)\r\n",
        "\r\n",
        "# Train Decision Tree Classifer\r\n",
        "clf_dt.fit(X_train_final,y_train)"
      ],
      "execution_count": 49,
      "outputs": [
        {
          "output_type": "execute_result",
          "data": {
            "text/plain": [
              "DecisionTreeClassifier(ccp_alpha=0.0, class_weight=None, criterion='gini',\n",
              "                       max_depth=None, max_features=None, max_leaf_nodes=None,\n",
              "                       min_impurity_decrease=0.0, min_impurity_split=None,\n",
              "                       min_samples_leaf=1, min_samples_split=2,\n",
              "                       min_weight_fraction_leaf=0.0, presort='deprecated',\n",
              "                       random_state=123, splitter='best')"
            ]
          },
          "metadata": {
            "tags": []
          },
          "execution_count": 49
        }
      ]
    },
    {
      "cell_type": "code",
      "metadata": {
        "id": "Owez-ix2QpJw"
      },
      "source": [
        "y_pred_train = clf_dt.predict(X_train_final)\r\n",
        "y_pred_val = clf_dt.predict(X_val_final)"
      ],
      "execution_count": 50,
      "outputs": []
    },
    {
      "cell_type": "code",
      "metadata": {
        "id": "CCnIIEmDQyjs",
        "colab": {
          "base_uri": "https://localhost:8080/",
          "height": 893
        },
        "outputId": "f4260e55-8ae1-466d-e79a-08df35cbba48"
      },
      "source": [
        "scores = get_metrics(y_train,y_pred_train,y_val,y_pred_val,\"DecisionTree\",scores)\r\n",
        "scores"
      ],
      "execution_count": 51,
      "outputs": [
        {
          "output_type": "stream",
          "text": [
            "\n",
            "         ========================================\n",
            "           CLASSIFICATION REPORT FOR TRAIN DATA\n",
            "         ========================================\n",
            "        \n",
            "              precision    recall  f1-score   support\n",
            "\n",
            "           0     0.9386    0.9885    0.9629     23477\n",
            "           1     0.9409    0.8792    0.9090     10250\n",
            "           2     0.9750    0.8721    0.9207      5451\n",
            "\n",
            "    accuracy                         0.9437     39178\n",
            "   macro avg     0.9515    0.9133    0.9309     39178\n",
            "weighted avg     0.9443    0.9437    0.9429     39178\n",
            "\n",
            "\n",
            "             =============================================\n",
            "               CLASSIFICATION REPORT FOR VALIDATION DATA\n",
            "             =============================================\n",
            "            \n",
            "              precision    recall  f1-score   support\n",
            "\n",
            "           0     0.8737    0.9078    0.8905      5870\n",
            "           1     0.7613    0.7307    0.7457      2562\n",
            "           2     0.8108    0.7359    0.7715      1363\n",
            "\n",
            "    accuracy                         0.8376      9795\n",
            "   macro avg     0.8153    0.7915    0.8026      9795\n",
            "weighted avg     0.8356    0.8376    0.8360      9795\n",
            "\n",
            "\n",
            "             ========================================\n",
            "               Confusion Matrix FOR TRAIN DATA\n",
            "             ========================================\n",
            "            \n",
            "[[23206   219    52]\n",
            " [ 1168  9012    70]\n",
            " [  350   347  4754]]\n",
            "\n",
            "             =============================================\n",
            "               Confusion matrix FOR VALIDATION DATA\n",
            "             =============================================\n",
            "            \n",
            "[[5329  421  120]\n",
            " [ 576 1872  114]\n",
            " [ 194  166 1003]]\n"
          ],
          "name": "stdout"
        },
        {
          "output_type": "execute_result",
          "data": {
            "text/html": [
              "<div>\n",
              "<style scoped>\n",
              "    .dataframe tbody tr th:only-of-type {\n",
              "        vertical-align: middle;\n",
              "    }\n",
              "\n",
              "    .dataframe tbody tr th {\n",
              "        vertical-align: top;\n",
              "    }\n",
              "\n",
              "    .dataframe thead th {\n",
              "        text-align: right;\n",
              "    }\n",
              "</style>\n",
              "<table border=\"1\" class=\"dataframe\">\n",
              "  <thead>\n",
              "    <tr style=\"text-align: right;\">\n",
              "      <th></th>\n",
              "      <th>Model</th>\n",
              "      <th>Train_Accuracy</th>\n",
              "      <th>Train_Recall</th>\n",
              "      <th>Train_Precision</th>\n",
              "      <th>Train_F1_Score</th>\n",
              "      <th>Test_Accuracy</th>\n",
              "      <th>Test_Recall</th>\n",
              "      <th>Test_Precision</th>\n",
              "      <th>Test_F1_Score</th>\n",
              "    </tr>\n",
              "  </thead>\n",
              "  <tbody>\n",
              "    <tr>\n",
              "      <th>0</th>\n",
              "      <td>LogisticRegression</td>\n",
              "      <td>0.795140</td>\n",
              "      <td>0.795140</td>\n",
              "      <td>0.795140</td>\n",
              "      <td>0.795140</td>\n",
              "      <td>0.782746</td>\n",
              "      <td>0.782746</td>\n",
              "      <td>0.782746</td>\n",
              "      <td>0.782746</td>\n",
              "    </tr>\n",
              "    <tr>\n",
              "      <th>1</th>\n",
              "      <td>DecisionTree</td>\n",
              "      <td>0.943693</td>\n",
              "      <td>0.943693</td>\n",
              "      <td>0.943693</td>\n",
              "      <td>0.943693</td>\n",
              "      <td>0.837570</td>\n",
              "      <td>0.837570</td>\n",
              "      <td>0.837570</td>\n",
              "      <td>0.837570</td>\n",
              "    </tr>\n",
              "  </tbody>\n",
              "</table>\n",
              "</div>"
            ],
            "text/plain": [
              "                Model  Train_Accuracy  ...  Test_Precision  Test_F1_Score\n",
              "0  LogisticRegression        0.795140  ...        0.782746       0.782746\n",
              "1        DecisionTree        0.943693  ...        0.837570       0.837570\n",
              "\n",
              "[2 rows x 9 columns]"
            ]
          },
          "metadata": {
            "tags": []
          },
          "execution_count": 51
        }
      ]
    },
    {
      "cell_type": "markdown",
      "metadata": {
        "id": "f7zvjjo741PN"
      },
      "source": [
        "### 3. Adaboost Classifier"
      ]
    },
    {
      "cell_type": "code",
      "metadata": {
        "colab": {
          "base_uri": "https://localhost:8080/"
        },
        "id": "onfMWTkm40NJ",
        "outputId": "4125fe79-21bb-496f-e10b-f4fdff966d2a"
      },
      "source": [
        "clf_ada = AdaBoostClassifier(DecisionTreeClassifier(criterion=\"gini\",class_weight='balanced'),n_estimators=100,learning_rate = 0.4,random_state=123)\r\n",
        "clf_ada.fit(X_train_final, y_train)"
      ],
      "execution_count": 96,
      "outputs": [
        {
          "output_type": "execute_result",
          "data": {
            "text/plain": [
              "AdaBoostClassifier(algorithm='SAMME.R',\n",
              "                   base_estimator=DecisionTreeClassifier(ccp_alpha=0.0,\n",
              "                                                         class_weight='balanced',\n",
              "                                                         criterion='gini',\n",
              "                                                         max_depth=None,\n",
              "                                                         max_features=None,\n",
              "                                                         max_leaf_nodes=None,\n",
              "                                                         min_impurity_decrease=0.0,\n",
              "                                                         min_impurity_split=None,\n",
              "                                                         min_samples_leaf=1,\n",
              "                                                         min_samples_split=2,\n",
              "                                                         min_weight_fraction_leaf=0.0,\n",
              "                                                         presort='deprecated',\n",
              "                                                         random_state=None,\n",
              "                                                         splitter='best'),\n",
              "                   learning_rate=0.4, n_estimators=100, random_state=123)"
            ]
          },
          "metadata": {
            "tags": []
          },
          "execution_count": 96
        }
      ]
    },
    {
      "cell_type": "code",
      "metadata": {
        "id": "F_IHmv5n40C6"
      },
      "source": [
        "y_pred_train = clf_ada.predict(X_train_final)\r\n",
        "y_pred_val = clf_ada.predict(X_val_final)"
      ],
      "execution_count": 97,
      "outputs": []
    },
    {
      "cell_type": "code",
      "metadata": {
        "colab": {
          "base_uri": "https://localhost:8080/",
          "height": 924
        },
        "id": "DuiWbzrK4z3B",
        "outputId": "d2af2241-a17a-4236-dcfa-6e06c5f65175"
      },
      "source": [
        "scores = get_metrics(y_train,y_pred_train,y_val,y_pred_val,\"Adaboost\",scores)\r\n",
        "scores"
      ],
      "execution_count": 98,
      "outputs": [
        {
          "output_type": "stream",
          "text": [
            "\n",
            "         ========================================\n",
            "           CLASSIFICATION REPORT FOR TRAIN DATA\n",
            "         ========================================\n",
            "        \n",
            "              precision    recall  f1-score   support\n",
            "\n",
            "           0     0.9897    0.9267    0.9572     23477\n",
            "           1     0.8663    0.9523    0.9073     10250\n",
            "           2     0.8740    0.9507    0.9107      5451\n",
            "\n",
            "    accuracy                         0.9367     39178\n",
            "   macro avg     0.9100    0.9432    0.9251     39178\n",
            "weighted avg     0.9413    0.9367    0.9377     39178\n",
            "\n",
            "\n",
            "             =============================================\n",
            "               CLASSIFICATION REPORT FOR VALIDATION DATA\n",
            "             =============================================\n",
            "            \n",
            "              precision    recall  f1-score   support\n",
            "\n",
            "           0     0.8817    0.8683    0.8749      5870\n",
            "           1     0.7160    0.7123    0.7141      2562\n",
            "           2     0.7078    0.7608    0.7334      1363\n",
            "\n",
            "    accuracy                         0.8126      9795\n",
            "   macro avg     0.7685    0.7805    0.7742      9795\n",
            "weighted avg     0.8141    0.8126    0.8132      9795\n",
            "\n",
            "\n",
            "             ========================================\n",
            "               Confusion Matrix FOR TRAIN DATA\n",
            "             ========================================\n",
            "            \n",
            "[[21756  1300   421]\n",
            " [  163  9761   326]\n",
            " [   63   206  5182]]\n",
            "\n",
            "             =============================================\n",
            "               Confusion matrix FOR VALIDATION DATA\n",
            "             =============================================\n",
            "            \n",
            "[[5097  558  215]\n",
            " [ 524 1825  213]\n",
            " [ 160  166 1037]]\n"
          ],
          "name": "stdout"
        },
        {
          "output_type": "execute_result",
          "data": {
            "text/html": [
              "<div>\n",
              "<style scoped>\n",
              "    .dataframe tbody tr th:only-of-type {\n",
              "        vertical-align: middle;\n",
              "    }\n",
              "\n",
              "    .dataframe tbody tr th {\n",
              "        vertical-align: top;\n",
              "    }\n",
              "\n",
              "    .dataframe thead th {\n",
              "        text-align: right;\n",
              "    }\n",
              "</style>\n",
              "<table border=\"1\" class=\"dataframe\">\n",
              "  <thead>\n",
              "    <tr style=\"text-align: right;\">\n",
              "      <th></th>\n",
              "      <th>Model</th>\n",
              "      <th>Train_Accuracy</th>\n",
              "      <th>Train_Recall</th>\n",
              "      <th>Train_Precision</th>\n",
              "      <th>Train_F1_Score</th>\n",
              "      <th>Test_Accuracy</th>\n",
              "      <th>Test_Recall</th>\n",
              "      <th>Test_Precision</th>\n",
              "      <th>Test_F1_Score</th>\n",
              "    </tr>\n",
              "  </thead>\n",
              "  <tbody>\n",
              "    <tr>\n",
              "      <th>0</th>\n",
              "      <td>LogisticRegression</td>\n",
              "      <td>0.795140</td>\n",
              "      <td>0.795140</td>\n",
              "      <td>0.795140</td>\n",
              "      <td>0.795140</td>\n",
              "      <td>0.782746</td>\n",
              "      <td>0.782746</td>\n",
              "      <td>0.782746</td>\n",
              "      <td>0.782746</td>\n",
              "    </tr>\n",
              "    <tr>\n",
              "      <th>1</th>\n",
              "      <td>DecisionTree</td>\n",
              "      <td>0.943693</td>\n",
              "      <td>0.943693</td>\n",
              "      <td>0.943693</td>\n",
              "      <td>0.943693</td>\n",
              "      <td>0.837570</td>\n",
              "      <td>0.837570</td>\n",
              "      <td>0.837570</td>\n",
              "      <td>0.837570</td>\n",
              "    </tr>\n",
              "    <tr>\n",
              "      <th>2</th>\n",
              "      <td>Adaboost</td>\n",
              "      <td>0.936725</td>\n",
              "      <td>0.936725</td>\n",
              "      <td>0.936725</td>\n",
              "      <td>0.936725</td>\n",
              "      <td>0.812557</td>\n",
              "      <td>0.812557</td>\n",
              "      <td>0.812557</td>\n",
              "      <td>0.812557</td>\n",
              "    </tr>\n",
              "  </tbody>\n",
              "</table>\n",
              "</div>"
            ],
            "text/plain": [
              "                Model  Train_Accuracy  ...  Test_Precision  Test_F1_Score\n",
              "0  LogisticRegression        0.795140  ...        0.782746       0.782746\n",
              "1        DecisionTree        0.943693  ...        0.837570       0.837570\n",
              "2            Adaboost        0.936725  ...        0.812557       0.812557\n",
              "\n",
              "[3 rows x 9 columns]"
            ]
          },
          "metadata": {
            "tags": []
          },
          "execution_count": 98
        }
      ]
    },
    {
      "cell_type": "markdown",
      "metadata": {
        "id": "W6nLy_JW8iaI"
      },
      "source": [
        "### **4. Decision Tree with Grid-Search CV - Hyper-parameter Tuning**"
      ]
    },
    {
      "cell_type": "code",
      "metadata": {
        "id": "aIcRGYb0-m8Q"
      },
      "source": [
        "# set of parameters to test\r\n",
        "param_grid = {\"class_weight\":['balanced', None],\r\n",
        "              \"criterion\": [\"gini\", \"entropy\"],\r\n",
        "              \"max_depth\": [3, 5, 6],\r\n",
        "              \"min_samples_leaf\": [2, 5, 10],\r\n",
        "               \"max_leaf_nodes\": [None, 5, 10, 20]\r\n",
        "              }"
      ],
      "execution_count": 99,
      "outputs": []
    },
    {
      "cell_type": "code",
      "metadata": {
        "colab": {
          "base_uri": "https://localhost:8080/",
          "height": 340
        },
        "id": "js1FqPTE-mvA",
        "outputId": "719f219a-f27e-40c4-e88e-b31a4d8b72d1"
      },
      "source": [
        "dt = DecisionTreeClassifier(random_state=123)\r\n",
        "clf_dt_grid = GridSearchCV(dt, param_grid,cv=5)\r\n",
        "clf_dt_grid.fit(X_train_final, y_train)"
      ],
      "execution_count": 103,
      "outputs": [
        {
          "output_type": "error",
          "ename": "KeyboardInterrupt",
          "evalue": "ignored",
          "traceback": [
            "\u001b[0;31m---------------------------------------------------------------------------\u001b[0m",
            "\u001b[0;31mKeyboardInterrupt\u001b[0m                         Traceback (most recent call last)",
            "\u001b[0;32m<ipython-input-103-4ce2da29c1f5>\u001b[0m in \u001b[0;36m<module>\u001b[0;34m()\u001b[0m\n\u001b[1;32m      1\u001b[0m \u001b[0mdt\u001b[0m \u001b[0;34m=\u001b[0m \u001b[0mDecisionTreeClassifier\u001b[0m\u001b[0;34m(\u001b[0m\u001b[0mrandom_state\u001b[0m\u001b[0;34m=\u001b[0m\u001b[0;36m123\u001b[0m\u001b[0;34m)\u001b[0m\u001b[0;34m\u001b[0m\u001b[0;34m\u001b[0m\u001b[0m\n\u001b[1;32m      2\u001b[0m \u001b[0mclf_dt_grid\u001b[0m \u001b[0;34m=\u001b[0m \u001b[0mGridSearchCV\u001b[0m\u001b[0;34m(\u001b[0m\u001b[0mdt\u001b[0m\u001b[0;34m,\u001b[0m \u001b[0mparam_grid\u001b[0m\u001b[0;34m,\u001b[0m\u001b[0mcv\u001b[0m\u001b[0;34m=\u001b[0m\u001b[0;36m5\u001b[0m\u001b[0;34m)\u001b[0m\u001b[0;34m\u001b[0m\u001b[0;34m\u001b[0m\u001b[0m\n\u001b[0;32m----> 3\u001b[0;31m \u001b[0mclf_dt_grid\u001b[0m\u001b[0;34m.\u001b[0m\u001b[0mfit\u001b[0m\u001b[0;34m(\u001b[0m\u001b[0mX_train_final\u001b[0m\u001b[0;34m,\u001b[0m \u001b[0my_train\u001b[0m\u001b[0;34m)\u001b[0m\u001b[0;34m\u001b[0m\u001b[0;34m\u001b[0m\u001b[0m\n\u001b[0m",
            "\u001b[0;32m/usr/local/lib/python3.6/dist-packages/sklearn/model_selection/_search.py\u001b[0m in \u001b[0;36mfit\u001b[0;34m(self, X, y, groups, **fit_params)\u001b[0m\n\u001b[1;32m    708\u001b[0m                 \u001b[0;32mreturn\u001b[0m \u001b[0mresults\u001b[0m\u001b[0;34m\u001b[0m\u001b[0;34m\u001b[0m\u001b[0m\n\u001b[1;32m    709\u001b[0m \u001b[0;34m\u001b[0m\u001b[0m\n\u001b[0;32m--> 710\u001b[0;31m             \u001b[0mself\u001b[0m\u001b[0;34m.\u001b[0m\u001b[0m_run_search\u001b[0m\u001b[0;34m(\u001b[0m\u001b[0mevaluate_candidates\u001b[0m\u001b[0;34m)\u001b[0m\u001b[0;34m\u001b[0m\u001b[0;34m\u001b[0m\u001b[0m\n\u001b[0m\u001b[1;32m    711\u001b[0m \u001b[0;34m\u001b[0m\u001b[0m\n\u001b[1;32m    712\u001b[0m         \u001b[0;31m# For multi-metric evaluation, store the best_index_, best_params_ and\u001b[0m\u001b[0;34m\u001b[0m\u001b[0;34m\u001b[0m\u001b[0;34m\u001b[0m\u001b[0m\n",
            "\u001b[0;32m/usr/local/lib/python3.6/dist-packages/sklearn/model_selection/_search.py\u001b[0m in \u001b[0;36m_run_search\u001b[0;34m(self, evaluate_candidates)\u001b[0m\n\u001b[1;32m   1149\u001b[0m     \u001b[0;32mdef\u001b[0m \u001b[0m_run_search\u001b[0m\u001b[0;34m(\u001b[0m\u001b[0mself\u001b[0m\u001b[0;34m,\u001b[0m \u001b[0mevaluate_candidates\u001b[0m\u001b[0;34m)\u001b[0m\u001b[0;34m:\u001b[0m\u001b[0;34m\u001b[0m\u001b[0;34m\u001b[0m\u001b[0m\n\u001b[1;32m   1150\u001b[0m         \u001b[0;34m\"\"\"Search all candidates in param_grid\"\"\"\u001b[0m\u001b[0;34m\u001b[0m\u001b[0;34m\u001b[0m\u001b[0m\n\u001b[0;32m-> 1151\u001b[0;31m         \u001b[0mevaluate_candidates\u001b[0m\u001b[0;34m(\u001b[0m\u001b[0mParameterGrid\u001b[0m\u001b[0;34m(\u001b[0m\u001b[0mself\u001b[0m\u001b[0;34m.\u001b[0m\u001b[0mparam_grid\u001b[0m\u001b[0;34m)\u001b[0m\u001b[0;34m)\u001b[0m\u001b[0;34m\u001b[0m\u001b[0;34m\u001b[0m\u001b[0m\n\u001b[0m\u001b[1;32m   1152\u001b[0m \u001b[0;34m\u001b[0m\u001b[0m\n\u001b[1;32m   1153\u001b[0m \u001b[0;34m\u001b[0m\u001b[0m\n",
            "\u001b[0;32m/usr/local/lib/python3.6/dist-packages/sklearn/model_selection/_search.py\u001b[0m in \u001b[0;36mevaluate_candidates\u001b[0;34m(candidate_params)\u001b[0m\n\u001b[1;32m    687\u001b[0m                                \u001b[0;32mfor\u001b[0m \u001b[0mparameters\u001b[0m\u001b[0;34m,\u001b[0m \u001b[0;34m(\u001b[0m\u001b[0mtrain\u001b[0m\u001b[0;34m,\u001b[0m \u001b[0mtest\u001b[0m\u001b[0;34m)\u001b[0m\u001b[0;34m\u001b[0m\u001b[0;34m\u001b[0m\u001b[0m\n\u001b[1;32m    688\u001b[0m                                in product(candidate_params,\n\u001b[0;32m--> 689\u001b[0;31m                                           cv.split(X, y, groups)))\n\u001b[0m\u001b[1;32m    690\u001b[0m \u001b[0;34m\u001b[0m\u001b[0m\n\u001b[1;32m    691\u001b[0m                 \u001b[0;32mif\u001b[0m \u001b[0mlen\u001b[0m\u001b[0;34m(\u001b[0m\u001b[0mout\u001b[0m\u001b[0;34m)\u001b[0m \u001b[0;34m<\u001b[0m \u001b[0;36m1\u001b[0m\u001b[0;34m:\u001b[0m\u001b[0;34m\u001b[0m\u001b[0;34m\u001b[0m\u001b[0m\n",
            "\u001b[0;32m/usr/local/lib/python3.6/dist-packages/joblib/parallel.py\u001b[0m in \u001b[0;36m__call__\u001b[0;34m(self, iterable)\u001b[0m\n\u001b[1;32m   1042\u001b[0m                 \u001b[0mself\u001b[0m\u001b[0;34m.\u001b[0m\u001b[0m_iterating\u001b[0m \u001b[0;34m=\u001b[0m \u001b[0mself\u001b[0m\u001b[0;34m.\u001b[0m\u001b[0m_original_iterator\u001b[0m \u001b[0;32mis\u001b[0m \u001b[0;32mnot\u001b[0m \u001b[0;32mNone\u001b[0m\u001b[0;34m\u001b[0m\u001b[0;34m\u001b[0m\u001b[0m\n\u001b[1;32m   1043\u001b[0m \u001b[0;34m\u001b[0m\u001b[0m\n\u001b[0;32m-> 1044\u001b[0;31m             \u001b[0;32mwhile\u001b[0m \u001b[0mself\u001b[0m\u001b[0;34m.\u001b[0m\u001b[0mdispatch_one_batch\u001b[0m\u001b[0;34m(\u001b[0m\u001b[0miterator\u001b[0m\u001b[0;34m)\u001b[0m\u001b[0;34m:\u001b[0m\u001b[0;34m\u001b[0m\u001b[0;34m\u001b[0m\u001b[0m\n\u001b[0m\u001b[1;32m   1045\u001b[0m                 \u001b[0;32mpass\u001b[0m\u001b[0;34m\u001b[0m\u001b[0;34m\u001b[0m\u001b[0m\n\u001b[1;32m   1046\u001b[0m \u001b[0;34m\u001b[0m\u001b[0m\n",
            "\u001b[0;32m/usr/local/lib/python3.6/dist-packages/joblib/parallel.py\u001b[0m in \u001b[0;36mdispatch_one_batch\u001b[0;34m(self, iterator)\u001b[0m\n\u001b[1;32m    857\u001b[0m                 \u001b[0;32mreturn\u001b[0m \u001b[0;32mFalse\u001b[0m\u001b[0;34m\u001b[0m\u001b[0;34m\u001b[0m\u001b[0m\n\u001b[1;32m    858\u001b[0m             \u001b[0;32melse\u001b[0m\u001b[0;34m:\u001b[0m\u001b[0;34m\u001b[0m\u001b[0;34m\u001b[0m\u001b[0m\n\u001b[0;32m--> 859\u001b[0;31m                 \u001b[0mself\u001b[0m\u001b[0;34m.\u001b[0m\u001b[0m_dispatch\u001b[0m\u001b[0;34m(\u001b[0m\u001b[0mtasks\u001b[0m\u001b[0;34m)\u001b[0m\u001b[0;34m\u001b[0m\u001b[0;34m\u001b[0m\u001b[0m\n\u001b[0m\u001b[1;32m    860\u001b[0m                 \u001b[0;32mreturn\u001b[0m \u001b[0;32mTrue\u001b[0m\u001b[0;34m\u001b[0m\u001b[0;34m\u001b[0m\u001b[0m\n\u001b[1;32m    861\u001b[0m \u001b[0;34m\u001b[0m\u001b[0m\n",
            "\u001b[0;32m/usr/local/lib/python3.6/dist-packages/joblib/parallel.py\u001b[0m in \u001b[0;36m_dispatch\u001b[0;34m(self, batch)\u001b[0m\n\u001b[1;32m    775\u001b[0m         \u001b[0;32mwith\u001b[0m \u001b[0mself\u001b[0m\u001b[0;34m.\u001b[0m\u001b[0m_lock\u001b[0m\u001b[0;34m:\u001b[0m\u001b[0;34m\u001b[0m\u001b[0;34m\u001b[0m\u001b[0m\n\u001b[1;32m    776\u001b[0m             \u001b[0mjob_idx\u001b[0m \u001b[0;34m=\u001b[0m \u001b[0mlen\u001b[0m\u001b[0;34m(\u001b[0m\u001b[0mself\u001b[0m\u001b[0;34m.\u001b[0m\u001b[0m_jobs\u001b[0m\u001b[0;34m)\u001b[0m\u001b[0;34m\u001b[0m\u001b[0;34m\u001b[0m\u001b[0m\n\u001b[0;32m--> 777\u001b[0;31m             \u001b[0mjob\u001b[0m \u001b[0;34m=\u001b[0m \u001b[0mself\u001b[0m\u001b[0;34m.\u001b[0m\u001b[0m_backend\u001b[0m\u001b[0;34m.\u001b[0m\u001b[0mapply_async\u001b[0m\u001b[0;34m(\u001b[0m\u001b[0mbatch\u001b[0m\u001b[0;34m,\u001b[0m \u001b[0mcallback\u001b[0m\u001b[0;34m=\u001b[0m\u001b[0mcb\u001b[0m\u001b[0;34m)\u001b[0m\u001b[0;34m\u001b[0m\u001b[0;34m\u001b[0m\u001b[0m\n\u001b[0m\u001b[1;32m    778\u001b[0m             \u001b[0;31m# A job can complete so quickly than its callback is\u001b[0m\u001b[0;34m\u001b[0m\u001b[0;34m\u001b[0m\u001b[0;34m\u001b[0m\u001b[0m\n\u001b[1;32m    779\u001b[0m             \u001b[0;31m# called before we get here, causing self._jobs to\u001b[0m\u001b[0;34m\u001b[0m\u001b[0;34m\u001b[0m\u001b[0;34m\u001b[0m\u001b[0m\n",
            "\u001b[0;32m/usr/local/lib/python3.6/dist-packages/joblib/_parallel_backends.py\u001b[0m in \u001b[0;36mapply_async\u001b[0;34m(self, func, callback)\u001b[0m\n\u001b[1;32m    206\u001b[0m     \u001b[0;32mdef\u001b[0m \u001b[0mapply_async\u001b[0m\u001b[0;34m(\u001b[0m\u001b[0mself\u001b[0m\u001b[0;34m,\u001b[0m \u001b[0mfunc\u001b[0m\u001b[0;34m,\u001b[0m \u001b[0mcallback\u001b[0m\u001b[0;34m=\u001b[0m\u001b[0;32mNone\u001b[0m\u001b[0;34m)\u001b[0m\u001b[0;34m:\u001b[0m\u001b[0;34m\u001b[0m\u001b[0;34m\u001b[0m\u001b[0m\n\u001b[1;32m    207\u001b[0m         \u001b[0;34m\"\"\"Schedule a func to be run\"\"\"\u001b[0m\u001b[0;34m\u001b[0m\u001b[0;34m\u001b[0m\u001b[0m\n\u001b[0;32m--> 208\u001b[0;31m         \u001b[0mresult\u001b[0m \u001b[0;34m=\u001b[0m \u001b[0mImmediateResult\u001b[0m\u001b[0;34m(\u001b[0m\u001b[0mfunc\u001b[0m\u001b[0;34m)\u001b[0m\u001b[0;34m\u001b[0m\u001b[0;34m\u001b[0m\u001b[0m\n\u001b[0m\u001b[1;32m    209\u001b[0m         \u001b[0;32mif\u001b[0m \u001b[0mcallback\u001b[0m\u001b[0;34m:\u001b[0m\u001b[0;34m\u001b[0m\u001b[0;34m\u001b[0m\u001b[0m\n\u001b[1;32m    210\u001b[0m             \u001b[0mcallback\u001b[0m\u001b[0;34m(\u001b[0m\u001b[0mresult\u001b[0m\u001b[0;34m)\u001b[0m\u001b[0;34m\u001b[0m\u001b[0;34m\u001b[0m\u001b[0m\n",
            "\u001b[0;32m/usr/local/lib/python3.6/dist-packages/joblib/_parallel_backends.py\u001b[0m in \u001b[0;36m__init__\u001b[0;34m(self, batch)\u001b[0m\n\u001b[1;32m    570\u001b[0m         \u001b[0;31m# Don't delay the application, to avoid keeping the input\u001b[0m\u001b[0;34m\u001b[0m\u001b[0;34m\u001b[0m\u001b[0;34m\u001b[0m\u001b[0m\n\u001b[1;32m    571\u001b[0m         \u001b[0;31m# arguments in memory\u001b[0m\u001b[0;34m\u001b[0m\u001b[0;34m\u001b[0m\u001b[0;34m\u001b[0m\u001b[0m\n\u001b[0;32m--> 572\u001b[0;31m         \u001b[0mself\u001b[0m\u001b[0;34m.\u001b[0m\u001b[0mresults\u001b[0m \u001b[0;34m=\u001b[0m \u001b[0mbatch\u001b[0m\u001b[0;34m(\u001b[0m\u001b[0;34m)\u001b[0m\u001b[0;34m\u001b[0m\u001b[0;34m\u001b[0m\u001b[0m\n\u001b[0m\u001b[1;32m    573\u001b[0m \u001b[0;34m\u001b[0m\u001b[0m\n\u001b[1;32m    574\u001b[0m     \u001b[0;32mdef\u001b[0m \u001b[0mget\u001b[0m\u001b[0;34m(\u001b[0m\u001b[0mself\u001b[0m\u001b[0;34m)\u001b[0m\u001b[0;34m:\u001b[0m\u001b[0;34m\u001b[0m\u001b[0;34m\u001b[0m\u001b[0m\n",
            "\u001b[0;32m/usr/local/lib/python3.6/dist-packages/joblib/parallel.py\u001b[0m in \u001b[0;36m__call__\u001b[0;34m(self)\u001b[0m\n\u001b[1;32m    261\u001b[0m         \u001b[0;32mwith\u001b[0m \u001b[0mparallel_backend\u001b[0m\u001b[0;34m(\u001b[0m\u001b[0mself\u001b[0m\u001b[0;34m.\u001b[0m\u001b[0m_backend\u001b[0m\u001b[0;34m,\u001b[0m \u001b[0mn_jobs\u001b[0m\u001b[0;34m=\u001b[0m\u001b[0mself\u001b[0m\u001b[0;34m.\u001b[0m\u001b[0m_n_jobs\u001b[0m\u001b[0;34m)\u001b[0m\u001b[0;34m:\u001b[0m\u001b[0;34m\u001b[0m\u001b[0;34m\u001b[0m\u001b[0m\n\u001b[1;32m    262\u001b[0m             return [func(*args, **kwargs)\n\u001b[0;32m--> 263\u001b[0;31m                     for func, args, kwargs in self.items]\n\u001b[0m\u001b[1;32m    264\u001b[0m \u001b[0;34m\u001b[0m\u001b[0m\n\u001b[1;32m    265\u001b[0m     \u001b[0;32mdef\u001b[0m \u001b[0m__reduce__\u001b[0m\u001b[0;34m(\u001b[0m\u001b[0mself\u001b[0m\u001b[0;34m)\u001b[0m\u001b[0;34m:\u001b[0m\u001b[0;34m\u001b[0m\u001b[0;34m\u001b[0m\u001b[0m\n",
            "\u001b[0;32m/usr/local/lib/python3.6/dist-packages/joblib/parallel.py\u001b[0m in \u001b[0;36m<listcomp>\u001b[0;34m(.0)\u001b[0m\n\u001b[1;32m    261\u001b[0m         \u001b[0;32mwith\u001b[0m \u001b[0mparallel_backend\u001b[0m\u001b[0;34m(\u001b[0m\u001b[0mself\u001b[0m\u001b[0;34m.\u001b[0m\u001b[0m_backend\u001b[0m\u001b[0;34m,\u001b[0m \u001b[0mn_jobs\u001b[0m\u001b[0;34m=\u001b[0m\u001b[0mself\u001b[0m\u001b[0;34m.\u001b[0m\u001b[0m_n_jobs\u001b[0m\u001b[0;34m)\u001b[0m\u001b[0;34m:\u001b[0m\u001b[0;34m\u001b[0m\u001b[0;34m\u001b[0m\u001b[0m\n\u001b[1;32m    262\u001b[0m             return [func(*args, **kwargs)\n\u001b[0;32m--> 263\u001b[0;31m                     for func, args, kwargs in self.items]\n\u001b[0m\u001b[1;32m    264\u001b[0m \u001b[0;34m\u001b[0m\u001b[0m\n\u001b[1;32m    265\u001b[0m     \u001b[0;32mdef\u001b[0m \u001b[0m__reduce__\u001b[0m\u001b[0;34m(\u001b[0m\u001b[0mself\u001b[0m\u001b[0;34m)\u001b[0m\u001b[0;34m:\u001b[0m\u001b[0;34m\u001b[0m\u001b[0;34m\u001b[0m\u001b[0m\n",
            "\u001b[0;32m/usr/local/lib/python3.6/dist-packages/sklearn/model_selection/_validation.py\u001b[0m in \u001b[0;36m_fit_and_score\u001b[0;34m(estimator, X, y, scorer, train, test, verbose, parameters, fit_params, return_train_score, return_parameters, return_n_test_samples, return_times, return_estimator, error_score)\u001b[0m\n\u001b[1;32m    513\u001b[0m             \u001b[0mestimator\u001b[0m\u001b[0;34m.\u001b[0m\u001b[0mfit\u001b[0m\u001b[0;34m(\u001b[0m\u001b[0mX_train\u001b[0m\u001b[0;34m,\u001b[0m \u001b[0;34m**\u001b[0m\u001b[0mfit_params\u001b[0m\u001b[0;34m)\u001b[0m\u001b[0;34m\u001b[0m\u001b[0;34m\u001b[0m\u001b[0m\n\u001b[1;32m    514\u001b[0m         \u001b[0;32melse\u001b[0m\u001b[0;34m:\u001b[0m\u001b[0;34m\u001b[0m\u001b[0;34m\u001b[0m\u001b[0m\n\u001b[0;32m--> 515\u001b[0;31m             \u001b[0mestimator\u001b[0m\u001b[0;34m.\u001b[0m\u001b[0mfit\u001b[0m\u001b[0;34m(\u001b[0m\u001b[0mX_train\u001b[0m\u001b[0;34m,\u001b[0m \u001b[0my_train\u001b[0m\u001b[0;34m,\u001b[0m \u001b[0;34m**\u001b[0m\u001b[0mfit_params\u001b[0m\u001b[0;34m)\u001b[0m\u001b[0;34m\u001b[0m\u001b[0;34m\u001b[0m\u001b[0m\n\u001b[0m\u001b[1;32m    516\u001b[0m \u001b[0;34m\u001b[0m\u001b[0m\n\u001b[1;32m    517\u001b[0m     \u001b[0;32mexcept\u001b[0m \u001b[0mException\u001b[0m \u001b[0;32mas\u001b[0m \u001b[0me\u001b[0m\u001b[0;34m:\u001b[0m\u001b[0;34m\u001b[0m\u001b[0;34m\u001b[0m\u001b[0m\n",
            "\u001b[0;32m/usr/local/lib/python3.6/dist-packages/sklearn/tree/_classes.py\u001b[0m in \u001b[0;36mfit\u001b[0;34m(self, X, y, sample_weight, check_input, X_idx_sorted)\u001b[0m\n\u001b[1;32m    875\u001b[0m             \u001b[0msample_weight\u001b[0m\u001b[0;34m=\u001b[0m\u001b[0msample_weight\u001b[0m\u001b[0;34m,\u001b[0m\u001b[0;34m\u001b[0m\u001b[0;34m\u001b[0m\u001b[0m\n\u001b[1;32m    876\u001b[0m             \u001b[0mcheck_input\u001b[0m\u001b[0;34m=\u001b[0m\u001b[0mcheck_input\u001b[0m\u001b[0;34m,\u001b[0m\u001b[0;34m\u001b[0m\u001b[0;34m\u001b[0m\u001b[0m\n\u001b[0;32m--> 877\u001b[0;31m             X_idx_sorted=X_idx_sorted)\n\u001b[0m\u001b[1;32m    878\u001b[0m         \u001b[0;32mreturn\u001b[0m \u001b[0mself\u001b[0m\u001b[0;34m\u001b[0m\u001b[0;34m\u001b[0m\u001b[0m\n\u001b[1;32m    879\u001b[0m \u001b[0;34m\u001b[0m\u001b[0m\n",
            "\u001b[0;32m/usr/local/lib/python3.6/dist-packages/sklearn/tree/_classes.py\u001b[0m in \u001b[0;36mfit\u001b[0;34m(self, X, y, sample_weight, check_input, X_idx_sorted)\u001b[0m\n\u001b[1;32m    365\u001b[0m                                            min_impurity_split)\n\u001b[1;32m    366\u001b[0m \u001b[0;34m\u001b[0m\u001b[0m\n\u001b[0;32m--> 367\u001b[0;31m         \u001b[0mbuilder\u001b[0m\u001b[0;34m.\u001b[0m\u001b[0mbuild\u001b[0m\u001b[0;34m(\u001b[0m\u001b[0mself\u001b[0m\u001b[0;34m.\u001b[0m\u001b[0mtree_\u001b[0m\u001b[0;34m,\u001b[0m \u001b[0mX\u001b[0m\u001b[0;34m,\u001b[0m \u001b[0my\u001b[0m\u001b[0;34m,\u001b[0m \u001b[0msample_weight\u001b[0m\u001b[0;34m,\u001b[0m \u001b[0mX_idx_sorted\u001b[0m\u001b[0;34m)\u001b[0m\u001b[0;34m\u001b[0m\u001b[0;34m\u001b[0m\u001b[0m\n\u001b[0m\u001b[1;32m    368\u001b[0m \u001b[0;34m\u001b[0m\u001b[0m\n\u001b[1;32m    369\u001b[0m         \u001b[0;32mif\u001b[0m \u001b[0mself\u001b[0m\u001b[0;34m.\u001b[0m\u001b[0mn_outputs_\u001b[0m \u001b[0;34m==\u001b[0m \u001b[0;36m1\u001b[0m \u001b[0;32mand\u001b[0m \u001b[0mis_classifier\u001b[0m\u001b[0;34m(\u001b[0m\u001b[0mself\u001b[0m\u001b[0;34m)\u001b[0m\u001b[0;34m:\u001b[0m\u001b[0;34m\u001b[0m\u001b[0;34m\u001b[0m\u001b[0m\n",
            "\u001b[0;31mKeyboardInterrupt\u001b[0m: "
          ]
        }
      ]
    },
    {
      "cell_type": "code",
      "metadata": {
        "colab": {
          "base_uri": "https://localhost:8080/",
          "height": 163
        },
        "id": "mjU5NBhf-mf8",
        "outputId": "8dc9c12e-4bd6-4b41-d505-f620a4fc48aa"
      },
      "source": [
        "clf_dt_grid.best_params_"
      ],
      "execution_count": 102,
      "outputs": [
        {
          "output_type": "error",
          "ename": "AttributeError",
          "evalue": "ignored",
          "traceback": [
            "\u001b[0;31m---------------------------------------------------------------------------\u001b[0m",
            "\u001b[0;31mAttributeError\u001b[0m                            Traceback (most recent call last)",
            "\u001b[0;32m<ipython-input-102-c8859ba9d9f1>\u001b[0m in \u001b[0;36m<module>\u001b[0;34m()\u001b[0m\n\u001b[0;32m----> 1\u001b[0;31m \u001b[0mclf_dt_grid\u001b[0m\u001b[0;34m.\u001b[0m\u001b[0mbest_params_\u001b[0m\u001b[0;34m\u001b[0m\u001b[0;34m\u001b[0m\u001b[0m\n\u001b[0m",
            "\u001b[0;31mAttributeError\u001b[0m: 'GridSearchCV' object has no attribute 'best_params_'"
          ]
        }
      ]
    },
    {
      "cell_type": "code",
      "metadata": {
        "id": "fuihdeaIlkSY"
      },
      "source": [
        "y_pred_train = clf_dt_grid.predict(X_train_final)\r\n",
        "y_pred_val = clf_dt_grid.predict(X_val_final)"
      ],
      "execution_count": null,
      "outputs": []
    },
    {
      "cell_type": "code",
      "metadata": {
        "id": "bsJ3_b3T_AnI"
      },
      "source": [
        "scores = get_metrics(y_train,y_pred_train,y_val,y_pred_val,\"DecisionTree_BestParameters\",scores)\r\n",
        "scores"
      ],
      "execution_count": null,
      "outputs": []
    },
    {
      "cell_type": "markdown",
      "metadata": {
        "id": "ANzJjEr0_G_6"
      },
      "source": [
        "### 5. Decision Tree with RandomizedSearchCV - Hyper-parameter Tuning"
      ]
    },
    {
      "cell_type": "code",
      "metadata": {
        "id": "JkffLSbd_GtN"
      },
      "source": [
        "from sklearn.model_selection import RandomizedSearchCV\r\n",
        "from scipy.stats import uniform, truncnorm, randint\r\n",
        "\r\n",
        "clf3_dt = DecisionTreeClassifier(random_state=123, class_weight='balanced') "
      ],
      "execution_count": null,
      "outputs": []
    },
    {
      "cell_type": "code",
      "metadata": {
        "id": "STNhNH6z_GhP"
      },
      "source": [
        "max_leaf_nodes = np.random.normal(loc=5, scale=1, size=5).astype(int)\r\n",
        "max_leaf_nodes[max_leaf_nodes <1] = 1\r\n",
        "print(max_leaf_nodes)\r\n",
        "max_depth = np.random.uniform(2,5,4).astype(int)\r\n",
        "print(max_depth)\r\n",
        "min_samples_split = np.random.uniform(2, 6, 5).astype(int)\r\n",
        "print(min_samples_split)"
      ],
      "execution_count": null,
      "outputs": []
    },
    {
      "cell_type": "code",
      "metadata": {
        "id": "u_hi-EMq_GS9"
      },
      "source": [
        "## Set Up Hyperparameter Distributions\r\n",
        "\r\n",
        "# normally distributed max_leaf_nodes, with mean 5 stddev 1\r\n",
        "max_leaf_nodes = np.random.normal(loc=5, scale=1, size=5).astype(int)\r\n",
        "\r\n",
        "# uniform distribution from 2 to 5 \r\n",
        "max_depth = np.random.uniform(2,5,4).astype(int)\r\n",
        "\r\n",
        "# uniform distribution from 2 to 6\r\n",
        "min_samples_split = np.random.uniform(2, 6, 5).astype(int)\r\n",
        "\r\n",
        "model_params = {\r\n",
        "    'max_depth': list(max_depth),\r\n",
        "    'max_leaf_nodes': list(max_leaf_nodes),\r\n",
        "    'min_samples_split': list(min_samples_split)\r\n",
        "}"
      ],
      "execution_count": null,
      "outputs": []
    },
    {
      "cell_type": "code",
      "metadata": {
        "id": "FVvfS80k_Se3"
      },
      "source": [
        "clf_random = RandomizedSearchCV(estimator=clf3_dt, param_distributions=model_params, n_iter=600, cv=5, scoring='recall', n_jobs=-1)\r\n",
        "clf_random.fit(X_train_final, y_train)"
      ],
      "execution_count": null,
      "outputs": []
    },
    {
      "cell_type": "code",
      "metadata": {
        "id": "PImpxsl7_WKv"
      },
      "source": [
        "print(clf_random.best_score_, clf_random.best_params_)"
      ],
      "execution_count": null,
      "outputs": []
    },
    {
      "cell_type": "code",
      "metadata": {
        "id": "5kLOj4WP_Yls"
      },
      "source": [
        "clf_dt_random = clf_random.best_estimator_\r\n",
        "print(clf_dt_random)"
      ],
      "execution_count": null,
      "outputs": []
    },
    {
      "cell_type": "code",
      "metadata": {
        "id": "E5E4J4Uh_az7"
      },
      "source": [
        "y_pred_train = clf_dt_random.predict(X_train_final)\r\n",
        "y_pred_val = clf_dt_random.predict(X_val_final)"
      ],
      "execution_count": null,
      "outputs": []
    },
    {
      "cell_type": "code",
      "metadata": {
        "id": "Fwu49hx9_c2F"
      },
      "source": [
        "scores = get_metrics(y_train,y_pred_train,y_val,y_pred_val,\"DecisionTree_RandomizedSearch\",scores)\r\n",
        "scores"
      ],
      "execution_count": null,
      "outputs": []
    },
    {
      "cell_type": "markdown",
      "metadata": {
        "id": "95D1xSf2AMqo"
      },
      "source": [
        "### **6. Adaboost Classifier with Grid Search CV**"
      ]
    },
    {
      "cell_type": "code",
      "metadata": {
        "id": "zOgxrC3WAMeV"
      },
      "source": [
        "# GridSearchCV\r\n",
        "param_grid = {'n_estimators' : [100, 200, 300],\r\n",
        "              'learning_rate' : [0.2, 0.3, 0.4]}\r\n",
        "\r\n",
        "clf_grid_ada = GridSearchCV(AdaBoostClassifier(DecisionTreeClassifier()), param_grid, scoring='recall',n_jobs=-1)"
      ],
      "execution_count": null,
      "outputs": []
    },
    {
      "cell_type": "code",
      "metadata": {
        "id": "1RkSbPvbAMVs"
      },
      "source": [
        "clf_grid_ada.fit(X_train_final, y_train)"
      ],
      "execution_count": null,
      "outputs": []
    },
    {
      "cell_type": "code",
      "metadata": {
        "id": "FQM4AtRcAMLq"
      },
      "source": [
        "best_ada_model = clf_grid_ada.best_estimator_\r\n",
        "print(best_ada_model)\r\n",
        "print (clf_grid_ada.best_score_, clf_grid_ada.best_params_) "
      ],
      "execution_count": null,
      "outputs": []
    },
    {
      "cell_type": "code",
      "metadata": {
        "id": "_v2JB4DhAL32"
      },
      "source": [
        "y_pred_train = best_ada_model.predict(X_train_final)\r\n",
        "y_pred_val = best_ada_model.predict(X_val_final)"
      ],
      "execution_count": null,
      "outputs": []
    },
    {
      "cell_type": "code",
      "metadata": {
        "id": "nbk69O97AYmP"
      },
      "source": [
        "scores = get_metrics(y_train,y_pred_train,y_val,y_pred_val,\"Adaboost_BestParameters\",scores)\r\n",
        "scores"
      ],
      "execution_count": null,
      "outputs": []
    },
    {
      "cell_type": "code",
      "metadata": {
        "id": "jdZprXyu_Aa3"
      },
      "source": [
        ""
      ],
      "execution_count": null,
      "outputs": []
    },
    {
      "cell_type": "code",
      "metadata": {
        "id": "0-dd8tX1pH9F"
      },
      "source": [
        "from google.colab import files"
      ],
      "execution_count": 81,
      "outputs": []
    },
    {
      "cell_type": "code",
      "metadata": {
        "id": "YrUBgamDp3wu",
        "colab": {
          "base_uri": "https://localhost:8080/",
          "height": 17
        },
        "outputId": "5ef48afb-3448-4747-d6de-047da24873f1"
      },
      "source": [
        "scores.to_csv(\"/mith_Solution1.csv\")\r\n",
        "scores.to_csv(\"mith_Solution1.csv\")\r\n",
        "files.download(\"mith_Solution1.csv\")"
      ],
      "execution_count": 82,
      "outputs": [
        {
          "output_type": "display_data",
          "data": {
            "application/javascript": [
              "\n",
              "    async function download(id, filename, size) {\n",
              "      if (!google.colab.kernel.accessAllowed) {\n",
              "        return;\n",
              "      }\n",
              "      const div = document.createElement('div');\n",
              "      const label = document.createElement('label');\n",
              "      label.textContent = `Downloading \"${filename}\": `;\n",
              "      div.appendChild(label);\n",
              "      const progress = document.createElement('progress');\n",
              "      progress.max = size;\n",
              "      div.appendChild(progress);\n",
              "      document.body.appendChild(div);\n",
              "\n",
              "      const buffers = [];\n",
              "      let downloaded = 0;\n",
              "\n",
              "      const channel = await google.colab.kernel.comms.open(id);\n",
              "      // Send a message to notify the kernel that we're ready.\n",
              "      channel.send({})\n",
              "\n",
              "      for await (const message of channel.messages) {\n",
              "        // Send a message to notify the kernel that we're ready.\n",
              "        channel.send({})\n",
              "        if (message.buffers) {\n",
              "          for (const buffer of message.buffers) {\n",
              "            buffers.push(buffer);\n",
              "            downloaded += buffer.byteLength;\n",
              "            progress.value = downloaded;\n",
              "          }\n",
              "        }\n",
              "      }\n",
              "      const blob = new Blob(buffers, {type: 'application/binary'});\n",
              "      const a = document.createElement('a');\n",
              "      a.href = window.URL.createObjectURL(blob);\n",
              "      a.download = filename;\n",
              "      div.appendChild(a);\n",
              "      a.click();\n",
              "      div.remove();\n",
              "    }\n",
              "  "
            ],
            "text/plain": [
              "<IPython.core.display.Javascript object>"
            ]
          },
          "metadata": {
            "tags": []
          }
        },
        {
          "output_type": "display_data",
          "data": {
            "application/javascript": [
              "download(\"download_35764cf8-57ee-45d4-bb49-5ee6b4aa97dd\", \"mith_Solution1.csv\", 461)"
            ],
            "text/plain": [
              "<IPython.core.display.Javascript object>"
            ]
          },
          "metadata": {
            "tags": []
          }
        }
      ]
    },
    {
      "cell_type": "markdown",
      "metadata": {
        "id": "ErKERLyTCr0x"
      },
      "source": [
        "**Observations:**\r\n",
        "\r\n",
        "\r\n",
        "1.   Is there no overfitting or underfitting problem in this problem statement\r\n",
        "2.   Which assembly line types are suspect of long downtime durations? - assembly_line_type_2\r\n",
        "\r\n"
      ]
    },
    {
      "cell_type": "code",
      "metadata": {
        "id": "vr70DGbCCrbu"
      },
      "source": [
        ""
      ],
      "execution_count": null,
      "outputs": []
    },
    {
      "cell_type": "code",
      "metadata": {
        "id": "cwyw3UvFqCR0",
        "colab": {
          "base_uri": "https://localhost:8080/",
          "height": 148
        },
        "outputId": "8b1cef95-88be-4ccb-81fe-80deb2c56829"
      },
      "source": [
        "\r\n",
        "from google.colab import data_table\r\n",
        "data_table.DataTable(scores)"
      ],
      "execution_count": 63,
      "outputs": [
        {
          "output_type": "execute_result",
          "data": {
            "application/vnd.google.colaboratory.module+javascript": "\n      import \"https://ssl.gstatic.com/colaboratory/data_table/a6224c040fa35dcf/data_table.js\";\n\n      window.createDataTable({\n        data: [[{\n            'v': 0,\n            'f': \"0\",\n        },\n\"LogisticRegression\",\n{\n            'v': 0.7951401296646077,\n            'f': \"0.7951401296646077\",\n        },\n{\n            'v': 0.7951401296646077,\n            'f': \"0.7951401296646077\",\n        },\n{\n            'v': 0.7951401296646077,\n            'f': \"0.7951401296646077\",\n        },\n{\n            'v': 0.7951401296646076,\n            'f': \"0.7951401296646076\",\n        },\n{\n            'v': 0.7827462991322103,\n            'f': \"0.7827462991322103\",\n        },\n{\n            'v': 0.7827462991322103,\n            'f': \"0.7827462991322103\",\n        },\n{\n            'v': 0.7827462991322103,\n            'f': \"0.7827462991322103\",\n        },\n{\n            'v': 0.7827462991322103,\n            'f': \"0.7827462991322103\",\n        }],\n [{\n            'v': 1,\n            'f': \"1\",\n        },\n\"DecisionTree\",\n{\n            'v': 0.9436928888662004,\n            'f': \"0.9436928888662004\",\n        },\n{\n            'v': 0.9436928888662004,\n            'f': \"0.9436928888662004\",\n        },\n{\n            'v': 0.9436928888662004,\n            'f': \"0.9436928888662004\",\n        },\n{\n            'v': 0.9436928888662004,\n            'f': \"0.9436928888662004\",\n        },\n{\n            'v': 0.8375701888718734,\n            'f': \"0.8375701888718734\",\n        },\n{\n            'v': 0.8375701888718734,\n            'f': \"0.8375701888718734\",\n        },\n{\n            'v': 0.8375701888718734,\n            'f': \"0.8375701888718734\",\n        },\n{\n            'v': 0.8375701888718734,\n            'f': \"0.8375701888718734\",\n        }]],\n        columns: [[\"number\", \"index\"], [\"string\", \"Model\"], [\"number\", \"Train_Accuracy\"], [\"number\", \"Train_Recall\"], [\"number\", \"Train_Precision\"], [\"number\", \"Train_F1_Score\"], [\"number\", \"Test_Accuracy\"], [\"number\", \"Test_Recall\"], [\"number\", \"Test_Precision\"], [\"number\", \"Test_F1_Score\"]],\n        columnOptions: [{\"width\": \"1px\", \"className\": \"index_column\"}],\n        rowsPerPage: 25,\n        helpUrl: \"https://colab.research.google.com/notebooks/data_table.ipynb\",\n        suppressOutputScrolling: true,\n        minimumWidth: undefined,\n      });\n    ",
            "text/plain": [
              "<google.colab.data_table.DataTable object>"
            ],
            "text/html": [
              "<div>\n",
              "<style scoped>\n",
              "    .dataframe tbody tr th:only-of-type {\n",
              "        vertical-align: middle;\n",
              "    }\n",
              "\n",
              "    .dataframe tbody tr th {\n",
              "        vertical-align: top;\n",
              "    }\n",
              "\n",
              "    .dataframe thead th {\n",
              "        text-align: right;\n",
              "    }\n",
              "</style>\n",
              "<table border=\"1\" class=\"dataframe\">\n",
              "  <thead>\n",
              "    <tr style=\"text-align: right;\">\n",
              "      <th></th>\n",
              "      <th>Model</th>\n",
              "      <th>Train_Accuracy</th>\n",
              "      <th>Train_Recall</th>\n",
              "      <th>Train_Precision</th>\n",
              "      <th>Train_F1_Score</th>\n",
              "      <th>Test_Accuracy</th>\n",
              "      <th>Test_Recall</th>\n",
              "      <th>Test_Precision</th>\n",
              "      <th>Test_F1_Score</th>\n",
              "    </tr>\n",
              "  </thead>\n",
              "  <tbody>\n",
              "    <tr>\n",
              "      <th>0</th>\n",
              "      <td>LogisticRegression</td>\n",
              "      <td>0.795140</td>\n",
              "      <td>0.795140</td>\n",
              "      <td>0.795140</td>\n",
              "      <td>0.795140</td>\n",
              "      <td>0.782746</td>\n",
              "      <td>0.782746</td>\n",
              "      <td>0.782746</td>\n",
              "      <td>0.782746</td>\n",
              "    </tr>\n",
              "    <tr>\n",
              "      <th>1</th>\n",
              "      <td>DecisionTree</td>\n",
              "      <td>0.943693</td>\n",
              "      <td>0.943693</td>\n",
              "      <td>0.943693</td>\n",
              "      <td>0.943693</td>\n",
              "      <td>0.837570</td>\n",
              "      <td>0.837570</td>\n",
              "      <td>0.837570</td>\n",
              "      <td>0.837570</td>\n",
              "    </tr>\n",
              "  </tbody>\n",
              "</table>\n",
              "</div>"
            ]
          },
          "metadata": {
            "tags": []
          },
          "execution_count": 63
        }
      ]
    },
    {
      "cell_type": "code",
      "metadata": {
        "id": "I_HfHmLGvvZk"
      },
      "source": [
        ""
      ],
      "execution_count": null,
      "outputs": []
    }
  ]
}